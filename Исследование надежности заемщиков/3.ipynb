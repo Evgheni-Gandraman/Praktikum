{
 "cells": [
  {
   "cell_type": "markdown",
   "id": "38586f80",
   "metadata": {
    "deletable": false,
    "editable": false,
    "id": "c81daeeb"
   },
   "source": [
    "# Исследование надежности заемщиков\n"
   ]
  },
  {
   "cell_type": "markdown",
   "id": "8fffaab4",
   "metadata": {},
   "source": [
    " <div class=\"alert alert-info\">\n",
    "    <h1> Исследование надежности заемщиков</h1>\n",
    "    <br>\n",
    "    <h3>Описание проекта<a class=\"tocSkip\"></h3>\n",
    "    <br>\n",
    "    Для построения модели кредитного скоринга необходимо понять, какие данные необходимо учитывать при вычислении способности потенциального заёмщика вернуть кредит банку.\n",
    "    <br>\n",
    "    <h3>Цель<a class=\"tocSkip\"></h3>\n",
    "    <br>\n",
    "    Разобраться, влияет ли семейное положение и количество детей клиента на факт погашения кредита в срок.\n",
    "    <br>\n",
    "    <h3>Входные данные от банка<a class=\"tocSkip\"></h3>\n",
    "    <br>\n",
    "    Статистика о платёжеспособности клиентов.\n",
    "    <br>\n",
    "    <h3>План работы<a class=\"tocSkip\"></h3>\n",
    "   \n",
    "- изучить общую информацию о данных\n",
    "- обработать, если есть, аномальные значения и пропуски данных\n",
    "- удалить дубликаты\n",
    "- разбить данные на категории по уровню дохода и по цели кредита\n",
    "- определить зависимость между количеством детей и возвратом кредита в срок\n",
    "- определить зависимость между семейным положением и возвратом кредита в срок\n",
    "- определить зависимость между уровнем дохода и возвратом кредита в срок\n",
    "- определить зависимость между целью кредита и его возвратом в срок</div>"
   ]
  },
  {
   "cell_type": "markdown",
   "id": "f1b327e9",
   "metadata": {
    "deletable": false,
    "editable": false,
    "id": "827c20bf"
   },
   "source": [
    "Во второй части проекта вы выполните шаги 3 и 4. Их вручную проверит ревьюер.\n",
    "Чтобы вам не пришлось писать код заново для шагов 1 и 2, мы добавили авторские решения в ячейки с кодом. \n",
    "\n"
   ]
  },
  {
   "cell_type": "markdown",
   "id": "95b3ee33",
   "metadata": {
    "deletable": false,
    "editable": false,
    "id": "744d7639"
   },
   "source": [
    "## Откройте таблицу и изучите общую информацию о данных"
   ]
  },
  {
   "cell_type": "markdown",
   "id": "690227cf",
   "metadata": {
    "deletable": false,
    "editable": false,
    "id": "e7a14c31"
   },
   "source": [
    "**Задание 1. Импортируйте библиотеку pandas. Считайте данные из csv-файла в датафрейм и сохраните в переменную `data`. Путь к файлу:**\n",
    "\n",
    "`/datasets/data.csv`"
   ]
  },
  {
   "cell_type": "code",
   "execution_count": 16,
   "id": "5a85e231",
   "metadata": {
    "deletable": false,
    "id": "7bcf75c9"
   },
   "outputs": [],
   "source": [
    "import pandas as pd\n",
    "\n",
    "try:\n",
    "    data = pd.read_csv('/datasets/data.csv')\n",
    "except:\n",
    "    data = pd.read_csv('https://code.s3.yandex.net/datasets/data.csv')"
   ]
  },
  {
   "cell_type": "markdown",
   "id": "7487c245",
   "metadata": {
    "deletable": false,
    "editable": false,
    "id": "b8038fe3"
   },
   "source": [
    "**Задание 2. Выведите первые 20 строчек датафрейма `data` на экран.**"
   ]
  },
  {
   "cell_type": "code",
   "execution_count": 17,
   "id": "2f6df38f",
   "metadata": {
    "deletable": false,
    "id": "2a7cab99",
    "outputId": "1a8f3ef2-d323-4ec2-ddf7-89670b5944c4"
   },
   "outputs": [
    {
     "data": {
      "text/html": [
       "<div>\n",
       "<style scoped>\n",
       "    .dataframe tbody tr th:only-of-type {\n",
       "        vertical-align: middle;\n",
       "    }\n",
       "\n",
       "    .dataframe tbody tr th {\n",
       "        vertical-align: top;\n",
       "    }\n",
       "\n",
       "    .dataframe thead th {\n",
       "        text-align: right;\n",
       "    }\n",
       "</style>\n",
       "<table border=\"1\" class=\"dataframe\">\n",
       "  <thead>\n",
       "    <tr style=\"text-align: right;\">\n",
       "      <th></th>\n",
       "      <th>children</th>\n",
       "      <th>days_employed</th>\n",
       "      <th>dob_years</th>\n",
       "      <th>education</th>\n",
       "      <th>education_id</th>\n",
       "      <th>family_status</th>\n",
       "      <th>family_status_id</th>\n",
       "      <th>gender</th>\n",
       "      <th>income_type</th>\n",
       "      <th>debt</th>\n",
       "      <th>total_income</th>\n",
       "      <th>purpose</th>\n",
       "    </tr>\n",
       "  </thead>\n",
       "  <tbody>\n",
       "    <tr>\n",
       "      <th>0</th>\n",
       "      <td>1</td>\n",
       "      <td>-8437.673028</td>\n",
       "      <td>42</td>\n",
       "      <td>высшее</td>\n",
       "      <td>0</td>\n",
       "      <td>женат / замужем</td>\n",
       "      <td>0</td>\n",
       "      <td>F</td>\n",
       "      <td>сотрудник</td>\n",
       "      <td>0</td>\n",
       "      <td>253875.639453</td>\n",
       "      <td>покупка жилья</td>\n",
       "    </tr>\n",
       "    <tr>\n",
       "      <th>1</th>\n",
       "      <td>1</td>\n",
       "      <td>-4024.803754</td>\n",
       "      <td>36</td>\n",
       "      <td>среднее</td>\n",
       "      <td>1</td>\n",
       "      <td>женат / замужем</td>\n",
       "      <td>0</td>\n",
       "      <td>F</td>\n",
       "      <td>сотрудник</td>\n",
       "      <td>0</td>\n",
       "      <td>112080.014102</td>\n",
       "      <td>приобретение автомобиля</td>\n",
       "    </tr>\n",
       "    <tr>\n",
       "      <th>2</th>\n",
       "      <td>0</td>\n",
       "      <td>-5623.422610</td>\n",
       "      <td>33</td>\n",
       "      <td>Среднее</td>\n",
       "      <td>1</td>\n",
       "      <td>женат / замужем</td>\n",
       "      <td>0</td>\n",
       "      <td>M</td>\n",
       "      <td>сотрудник</td>\n",
       "      <td>0</td>\n",
       "      <td>145885.952297</td>\n",
       "      <td>покупка жилья</td>\n",
       "    </tr>\n",
       "    <tr>\n",
       "      <th>3</th>\n",
       "      <td>3</td>\n",
       "      <td>-4124.747207</td>\n",
       "      <td>32</td>\n",
       "      <td>среднее</td>\n",
       "      <td>1</td>\n",
       "      <td>женат / замужем</td>\n",
       "      <td>0</td>\n",
       "      <td>M</td>\n",
       "      <td>сотрудник</td>\n",
       "      <td>0</td>\n",
       "      <td>267628.550329</td>\n",
       "      <td>дополнительное образование</td>\n",
       "    </tr>\n",
       "    <tr>\n",
       "      <th>4</th>\n",
       "      <td>0</td>\n",
       "      <td>340266.072047</td>\n",
       "      <td>53</td>\n",
       "      <td>среднее</td>\n",
       "      <td>1</td>\n",
       "      <td>гражданский брак</td>\n",
       "      <td>1</td>\n",
       "      <td>F</td>\n",
       "      <td>пенсионер</td>\n",
       "      <td>0</td>\n",
       "      <td>158616.077870</td>\n",
       "      <td>сыграть свадьбу</td>\n",
       "    </tr>\n",
       "    <tr>\n",
       "      <th>5</th>\n",
       "      <td>0</td>\n",
       "      <td>-926.185831</td>\n",
       "      <td>27</td>\n",
       "      <td>высшее</td>\n",
       "      <td>0</td>\n",
       "      <td>гражданский брак</td>\n",
       "      <td>1</td>\n",
       "      <td>M</td>\n",
       "      <td>компаньон</td>\n",
       "      <td>0</td>\n",
       "      <td>255763.565419</td>\n",
       "      <td>покупка жилья</td>\n",
       "    </tr>\n",
       "    <tr>\n",
       "      <th>6</th>\n",
       "      <td>0</td>\n",
       "      <td>-2879.202052</td>\n",
       "      <td>43</td>\n",
       "      <td>высшее</td>\n",
       "      <td>0</td>\n",
       "      <td>женат / замужем</td>\n",
       "      <td>0</td>\n",
       "      <td>F</td>\n",
       "      <td>компаньон</td>\n",
       "      <td>0</td>\n",
       "      <td>240525.971920</td>\n",
       "      <td>операции с жильем</td>\n",
       "    </tr>\n",
       "    <tr>\n",
       "      <th>7</th>\n",
       "      <td>0</td>\n",
       "      <td>-152.779569</td>\n",
       "      <td>50</td>\n",
       "      <td>СРЕДНЕЕ</td>\n",
       "      <td>1</td>\n",
       "      <td>женат / замужем</td>\n",
       "      <td>0</td>\n",
       "      <td>M</td>\n",
       "      <td>сотрудник</td>\n",
       "      <td>0</td>\n",
       "      <td>135823.934197</td>\n",
       "      <td>образование</td>\n",
       "    </tr>\n",
       "    <tr>\n",
       "      <th>8</th>\n",
       "      <td>2</td>\n",
       "      <td>-6929.865299</td>\n",
       "      <td>35</td>\n",
       "      <td>ВЫСШЕЕ</td>\n",
       "      <td>0</td>\n",
       "      <td>гражданский брак</td>\n",
       "      <td>1</td>\n",
       "      <td>F</td>\n",
       "      <td>сотрудник</td>\n",
       "      <td>0</td>\n",
       "      <td>95856.832424</td>\n",
       "      <td>на проведение свадьбы</td>\n",
       "    </tr>\n",
       "    <tr>\n",
       "      <th>9</th>\n",
       "      <td>0</td>\n",
       "      <td>-2188.756445</td>\n",
       "      <td>41</td>\n",
       "      <td>среднее</td>\n",
       "      <td>1</td>\n",
       "      <td>женат / замужем</td>\n",
       "      <td>0</td>\n",
       "      <td>M</td>\n",
       "      <td>сотрудник</td>\n",
       "      <td>0</td>\n",
       "      <td>144425.938277</td>\n",
       "      <td>покупка жилья для семьи</td>\n",
       "    </tr>\n",
       "    <tr>\n",
       "      <th>10</th>\n",
       "      <td>2</td>\n",
       "      <td>-4171.483647</td>\n",
       "      <td>36</td>\n",
       "      <td>высшее</td>\n",
       "      <td>0</td>\n",
       "      <td>женат / замужем</td>\n",
       "      <td>0</td>\n",
       "      <td>M</td>\n",
       "      <td>компаньон</td>\n",
       "      <td>0</td>\n",
       "      <td>113943.491460</td>\n",
       "      <td>покупка недвижимости</td>\n",
       "    </tr>\n",
       "    <tr>\n",
       "      <th>11</th>\n",
       "      <td>0</td>\n",
       "      <td>-792.701887</td>\n",
       "      <td>40</td>\n",
       "      <td>среднее</td>\n",
       "      <td>1</td>\n",
       "      <td>женат / замужем</td>\n",
       "      <td>0</td>\n",
       "      <td>F</td>\n",
       "      <td>сотрудник</td>\n",
       "      <td>0</td>\n",
       "      <td>77069.234271</td>\n",
       "      <td>покупка коммерческой недвижимости</td>\n",
       "    </tr>\n",
       "    <tr>\n",
       "      <th>12</th>\n",
       "      <td>0</td>\n",
       "      <td>NaN</td>\n",
       "      <td>65</td>\n",
       "      <td>среднее</td>\n",
       "      <td>1</td>\n",
       "      <td>гражданский брак</td>\n",
       "      <td>1</td>\n",
       "      <td>M</td>\n",
       "      <td>пенсионер</td>\n",
       "      <td>0</td>\n",
       "      <td>NaN</td>\n",
       "      <td>сыграть свадьбу</td>\n",
       "    </tr>\n",
       "    <tr>\n",
       "      <th>13</th>\n",
       "      <td>0</td>\n",
       "      <td>-1846.641941</td>\n",
       "      <td>54</td>\n",
       "      <td>неоконченное высшее</td>\n",
       "      <td>2</td>\n",
       "      <td>женат / замужем</td>\n",
       "      <td>0</td>\n",
       "      <td>F</td>\n",
       "      <td>сотрудник</td>\n",
       "      <td>0</td>\n",
       "      <td>130458.228857</td>\n",
       "      <td>приобретение автомобиля</td>\n",
       "    </tr>\n",
       "    <tr>\n",
       "      <th>14</th>\n",
       "      <td>0</td>\n",
       "      <td>-1844.956182</td>\n",
       "      <td>56</td>\n",
       "      <td>высшее</td>\n",
       "      <td>0</td>\n",
       "      <td>гражданский брак</td>\n",
       "      <td>1</td>\n",
       "      <td>F</td>\n",
       "      <td>компаньон</td>\n",
       "      <td>1</td>\n",
       "      <td>165127.911772</td>\n",
       "      <td>покупка жилой недвижимости</td>\n",
       "    </tr>\n",
       "    <tr>\n",
       "      <th>15</th>\n",
       "      <td>1</td>\n",
       "      <td>-972.364419</td>\n",
       "      <td>26</td>\n",
       "      <td>среднее</td>\n",
       "      <td>1</td>\n",
       "      <td>женат / замужем</td>\n",
       "      <td>0</td>\n",
       "      <td>F</td>\n",
       "      <td>сотрудник</td>\n",
       "      <td>0</td>\n",
       "      <td>116820.904450</td>\n",
       "      <td>строительство собственной недвижимости</td>\n",
       "    </tr>\n",
       "    <tr>\n",
       "      <th>16</th>\n",
       "      <td>0</td>\n",
       "      <td>-1719.934226</td>\n",
       "      <td>35</td>\n",
       "      <td>среднее</td>\n",
       "      <td>1</td>\n",
       "      <td>женат / замужем</td>\n",
       "      <td>0</td>\n",
       "      <td>F</td>\n",
       "      <td>сотрудник</td>\n",
       "      <td>0</td>\n",
       "      <td>289202.704229</td>\n",
       "      <td>недвижимость</td>\n",
       "    </tr>\n",
       "    <tr>\n",
       "      <th>17</th>\n",
       "      <td>0</td>\n",
       "      <td>-2369.999720</td>\n",
       "      <td>33</td>\n",
       "      <td>высшее</td>\n",
       "      <td>0</td>\n",
       "      <td>гражданский брак</td>\n",
       "      <td>1</td>\n",
       "      <td>M</td>\n",
       "      <td>сотрудник</td>\n",
       "      <td>0</td>\n",
       "      <td>90410.586745</td>\n",
       "      <td>строительство недвижимости</td>\n",
       "    </tr>\n",
       "    <tr>\n",
       "      <th>18</th>\n",
       "      <td>0</td>\n",
       "      <td>400281.136913</td>\n",
       "      <td>53</td>\n",
       "      <td>среднее</td>\n",
       "      <td>1</td>\n",
       "      <td>вдовец / вдова</td>\n",
       "      <td>2</td>\n",
       "      <td>F</td>\n",
       "      <td>пенсионер</td>\n",
       "      <td>0</td>\n",
       "      <td>56823.777243</td>\n",
       "      <td>на покупку подержанного автомобиля</td>\n",
       "    </tr>\n",
       "    <tr>\n",
       "      <th>19</th>\n",
       "      <td>0</td>\n",
       "      <td>-10038.818549</td>\n",
       "      <td>48</td>\n",
       "      <td>СРЕДНЕЕ</td>\n",
       "      <td>1</td>\n",
       "      <td>в разводе</td>\n",
       "      <td>3</td>\n",
       "      <td>F</td>\n",
       "      <td>сотрудник</td>\n",
       "      <td>0</td>\n",
       "      <td>242831.107982</td>\n",
       "      <td>на покупку своего автомобиля</td>\n",
       "    </tr>\n",
       "  </tbody>\n",
       "</table>\n",
       "</div>"
      ],
      "text/plain": [
       "    children  days_employed  dob_years            education  education_id  \\\n",
       "0          1   -8437.673028         42               высшее             0   \n",
       "1          1   -4024.803754         36              среднее             1   \n",
       "2          0   -5623.422610         33              Среднее             1   \n",
       "3          3   -4124.747207         32              среднее             1   \n",
       "4          0  340266.072047         53              среднее             1   \n",
       "5          0    -926.185831         27               высшее             0   \n",
       "6          0   -2879.202052         43               высшее             0   \n",
       "7          0    -152.779569         50              СРЕДНЕЕ             1   \n",
       "8          2   -6929.865299         35               ВЫСШЕЕ             0   \n",
       "9          0   -2188.756445         41              среднее             1   \n",
       "10         2   -4171.483647         36               высшее             0   \n",
       "11         0    -792.701887         40              среднее             1   \n",
       "12         0            NaN         65              среднее             1   \n",
       "13         0   -1846.641941         54  неоконченное высшее             2   \n",
       "14         0   -1844.956182         56               высшее             0   \n",
       "15         1    -972.364419         26              среднее             1   \n",
       "16         0   -1719.934226         35              среднее             1   \n",
       "17         0   -2369.999720         33               высшее             0   \n",
       "18         0  400281.136913         53              среднее             1   \n",
       "19         0  -10038.818549         48              СРЕДНЕЕ             1   \n",
       "\n",
       "       family_status  family_status_id gender income_type  debt  \\\n",
       "0    женат / замужем                 0      F   сотрудник     0   \n",
       "1    женат / замужем                 0      F   сотрудник     0   \n",
       "2    женат / замужем                 0      M   сотрудник     0   \n",
       "3    женат / замужем                 0      M   сотрудник     0   \n",
       "4   гражданский брак                 1      F   пенсионер     0   \n",
       "5   гражданский брак                 1      M   компаньон     0   \n",
       "6    женат / замужем                 0      F   компаньон     0   \n",
       "7    женат / замужем                 0      M   сотрудник     0   \n",
       "8   гражданский брак                 1      F   сотрудник     0   \n",
       "9    женат / замужем                 0      M   сотрудник     0   \n",
       "10   женат / замужем                 0      M   компаньон     0   \n",
       "11   женат / замужем                 0      F   сотрудник     0   \n",
       "12  гражданский брак                 1      M   пенсионер     0   \n",
       "13   женат / замужем                 0      F   сотрудник     0   \n",
       "14  гражданский брак                 1      F   компаньон     1   \n",
       "15   женат / замужем                 0      F   сотрудник     0   \n",
       "16   женат / замужем                 0      F   сотрудник     0   \n",
       "17  гражданский брак                 1      M   сотрудник     0   \n",
       "18    вдовец / вдова                 2      F   пенсионер     0   \n",
       "19         в разводе                 3      F   сотрудник     0   \n",
       "\n",
       "     total_income                                 purpose  \n",
       "0   253875.639453                           покупка жилья  \n",
       "1   112080.014102                 приобретение автомобиля  \n",
       "2   145885.952297                           покупка жилья  \n",
       "3   267628.550329              дополнительное образование  \n",
       "4   158616.077870                         сыграть свадьбу  \n",
       "5   255763.565419                           покупка жилья  \n",
       "6   240525.971920                       операции с жильем  \n",
       "7   135823.934197                             образование  \n",
       "8    95856.832424                   на проведение свадьбы  \n",
       "9   144425.938277                 покупка жилья для семьи  \n",
       "10  113943.491460                    покупка недвижимости  \n",
       "11   77069.234271       покупка коммерческой недвижимости  \n",
       "12            NaN                         сыграть свадьбу  \n",
       "13  130458.228857                 приобретение автомобиля  \n",
       "14  165127.911772              покупка жилой недвижимости  \n",
       "15  116820.904450  строительство собственной недвижимости  \n",
       "16  289202.704229                            недвижимость  \n",
       "17   90410.586745              строительство недвижимости  \n",
       "18   56823.777243      на покупку подержанного автомобиля  \n",
       "19  242831.107982            на покупку своего автомобиля  "
      ]
     },
     "execution_count": 17,
     "metadata": {},
     "output_type": "execute_result"
    }
   ],
   "source": [
    "data.head(20)"
   ]
  },
  {
   "cell_type": "markdown",
   "id": "057a04f9",
   "metadata": {
    "deletable": false,
    "editable": false,
    "id": "1c12e233"
   },
   "source": [
    "**Задание 3. Выведите основную информацию о датафрейме с помощью метода `info()`.**"
   ]
  },
  {
   "cell_type": "code",
   "execution_count": 18,
   "id": "2ac1022b",
   "metadata": {
    "deletable": false,
    "id": "2b757bca",
    "outputId": "15376089-8dad-46c9-b520-c05248d43158"
   },
   "outputs": [
    {
     "name": "stdout",
     "output_type": "stream",
     "text": [
      "<class 'pandas.core.frame.DataFrame'>\n",
      "RangeIndex: 21525 entries, 0 to 21524\n",
      "Data columns (total 12 columns):\n",
      " #   Column            Non-Null Count  Dtype  \n",
      "---  ------            --------------  -----  \n",
      " 0   children          21525 non-null  int64  \n",
      " 1   days_employed     19351 non-null  float64\n",
      " 2   dob_years         21525 non-null  int64  \n",
      " 3   education         21525 non-null  object \n",
      " 4   education_id      21525 non-null  int64  \n",
      " 5   family_status     21525 non-null  object \n",
      " 6   family_status_id  21525 non-null  int64  \n",
      " 7   gender            21525 non-null  object \n",
      " 8   income_type       21525 non-null  object \n",
      " 9   debt              21525 non-null  int64  \n",
      " 10  total_income      19351 non-null  float64\n",
      " 11  purpose           21525 non-null  object \n",
      "dtypes: float64(2), int64(5), object(5)\n",
      "memory usage: 2.0+ MB\n"
     ]
    }
   ],
   "source": [
    "data.info()"
   ]
  },
  {
   "cell_type": "markdown",
   "id": "70829817",
   "metadata": {
    "deletable": false,
    "editable": false,
    "id": "333ec665"
   },
   "source": [
    "## Предобработка данных"
   ]
  },
  {
   "cell_type": "markdown",
   "id": "c5c81bbc",
   "metadata": {
    "deletable": false,
    "editable": false,
    "id": "02d92d53"
   },
   "source": [
    "### Удаление пропусков"
   ]
  },
  {
   "cell_type": "markdown",
   "id": "0edf8a42",
   "metadata": {
    "deletable": false,
    "editable": false,
    "id": "cd84967c"
   },
   "source": [
    "**Задание 4. Выведите количество пропущенных значений для каждого столбца. Используйте комбинацию двух методов.**"
   ]
  },
  {
   "cell_type": "code",
   "execution_count": 19,
   "id": "e52fc92c",
   "metadata": {
    "deletable": false,
    "id": "7f9b2309",
    "outputId": "81f4d817-781c-465c-ed15-91ce4446810d"
   },
   "outputs": [
    {
     "data": {
      "text/plain": [
       "children               0\n",
       "days_employed       2174\n",
       "dob_years              0\n",
       "education              0\n",
       "education_id           0\n",
       "family_status          0\n",
       "family_status_id       0\n",
       "gender                 0\n",
       "income_type            0\n",
       "debt                   0\n",
       "total_income        2174\n",
       "purpose                0\n",
       "dtype: int64"
      ]
     },
     "execution_count": 19,
     "metadata": {},
     "output_type": "execute_result"
    }
   ],
   "source": [
    "data.isna().sum()"
   ]
  },
  {
   "cell_type": "markdown",
   "id": "37ccdd56",
   "metadata": {
    "deletable": false,
    "editable": false,
    "id": "db86e27b"
   },
   "source": [
    "**Задание 5. В двух столбцах есть пропущенные значения. Один из них — `days_employed`. Пропуски в этом столбце вы обработаете на следующем этапе. Другой столбец с пропущенными значениями — `total_income` — хранит данные о доходах. На сумму дохода сильнее всего влияет тип занятости, поэтому заполнить пропуски в этом столбце нужно медианным значением по каждому типу из столбца `income_type`. Например, у человека с типом занятости `сотрудник` пропуск в столбце `total_income` должен быть заполнен медианным доходом среди всех записей с тем же типом.**"
   ]
  },
  {
   "cell_type": "code",
   "execution_count": 20,
   "id": "cc0bbe00",
   "metadata": {
    "deletable": false,
    "id": "42006a93"
   },
   "outputs": [],
   "source": [
    "for t in data['income_type'].unique():\n",
    "    data.loc[(data['income_type'] == t) & (data['total_income'].isna()), 'total_income'] = \\\n",
    "    data.loc[(data['income_type'] == t), 'total_income'].median()"
   ]
  },
  {
   "cell_type": "markdown",
   "id": "03c109db",
   "metadata": {
    "deletable": false,
    "editable": false,
    "id": "89da5ece"
   },
   "source": [
    "### Обработка аномальных значений"
   ]
  },
  {
   "cell_type": "markdown",
   "id": "759d7c8c",
   "metadata": {
    "deletable": false,
    "editable": false,
    "id": "57964554"
   },
   "source": [
    "**Задание 6. В данных могут встречаться артефакты (аномалии) — значения, которые не отражают действительность и появились по какой-то ошибке. таким артефактом будет отрицательное количество дней трудового стажа в столбце `days_employed`. Для реальных данных это нормально. Обработайте значения в этом столбце: замените все отрицательные значения положительными с помощью метода `abs()`.**"
   ]
  },
  {
   "cell_type": "code",
   "execution_count": 21,
   "id": "50342973",
   "metadata": {
    "deletable": false,
    "id": "f6f055bf"
   },
   "outputs": [],
   "source": [
    "data['days_employed'] = data['days_employed'].abs()"
   ]
  },
  {
   "cell_type": "markdown",
   "id": "3921175c",
   "metadata": {
    "deletable": false,
    "editable": false,
    "id": "6107dd2f"
   },
   "source": [
    "**Задание 7. Для каждого типа занятости выведите медианное значение трудового стажа `days_employed` в днях.**"
   ]
  },
  {
   "cell_type": "code",
   "execution_count": 22,
   "id": "ddd399be",
   "metadata": {
    "deletable": false,
    "id": "85a5faf6",
    "outputId": "801ef80e-522b-4668-f34e-565af7432bcf"
   },
   "outputs": [
    {
     "data": {
      "text/plain": [
       "income_type\n",
       "безработный        366413.652744\n",
       "в декрете            3296.759962\n",
       "госслужащий          2689.368353\n",
       "компаньон            1547.382223\n",
       "пенсионер          365213.306266\n",
       "предприниматель       520.848083\n",
       "сотрудник            1574.202821\n",
       "студент               578.751554\n",
       "Name: days_employed, dtype: float64"
      ]
     },
     "execution_count": 22,
     "metadata": {},
     "output_type": "execute_result"
    }
   ],
   "source": [
    "data.groupby('income_type')['days_employed'].agg('median')"
   ]
  },
  {
   "cell_type": "markdown",
   "id": "5b4eb6cb",
   "metadata": {
    "deletable": false,
    "editable": false,
    "id": "38d1a030"
   },
   "source": [
    "У двух типов (безработные и пенсионеры) получатся аномально большие значения. Исправить такие значения сложно, поэтому оставьте их как есть. Тем более этот столбец не понадобится вам для исследования."
   ]
  },
  {
   "cell_type": "markdown",
   "id": "0ad6dda8",
   "metadata": {
    "deletable": false,
    "editable": false,
    "id": "d8a9f147"
   },
   "source": [
    "**Задание 8. Выведите перечень уникальных значений столбца `children`.**"
   ]
  },
  {
   "cell_type": "code",
   "execution_count": 27,
   "id": "f573d224",
   "metadata": {
    "deletable": false,
    "id": "ef5056eb",
    "outputId": "6975b15c-7f95-4697-d16d-a0c79b657b03"
   },
   "outputs": [
    {
     "data": {
      "text/plain": [
       "array([ 1,  0,  3,  2, -1,  4, 20,  5])"
      ]
     },
     "execution_count": 27,
     "metadata": {},
     "output_type": "execute_result"
    }
   ],
   "source": [
    "data['children'].unique()"
   ]
  },
  {
   "cell_type": "markdown",
   "id": "5e980974",
   "metadata": {
    "deletable": false,
    "editable": false,
    "id": "40b9ebf2"
   },
   "source": [
    "**Задание 9. В столбце `children` есть два аномальных значения. Удалите строки, в которых встречаются такие аномальные значения из датафрейма `data`.**"
   ]
  },
  {
   "cell_type": "code",
   "execution_count": 9,
   "id": "692867d8",
   "metadata": {
    "deletable": false,
    "id": "3ff9801d"
   },
   "outputs": [],
   "source": [
    "data = data[(data['children'] != -1) & (data['children'] != 20)]"
   ]
  },
  {
   "cell_type": "markdown",
   "id": "81039bb6",
   "metadata": {
    "deletable": false,
    "editable": false,
    "id": "bbc4d0ce"
   },
   "source": [
    "**Задание 10. Ещё раз выведите перечень уникальных значений столбца `children`, чтобы убедиться, что артефакты удалены.**"
   ]
  },
  {
   "cell_type": "code",
   "execution_count": 10,
   "id": "88dc5772",
   "metadata": {
    "deletable": false,
    "id": "ad4fa8b7",
    "outputId": "b2097101-d49d-44d9-901b-32a65c9463d1"
   },
   "outputs": [
    {
     "data": {
      "text/plain": [
       "array([1, 0, 3, 2, 4, 5])"
      ]
     },
     "execution_count": 10,
     "metadata": {},
     "output_type": "execute_result"
    }
   ],
   "source": [
    "data['children'].unique()"
   ]
  },
  {
   "cell_type": "markdown",
   "id": "23967cfd",
   "metadata": {
    "deletable": false,
    "editable": false,
    "id": "75440b63"
   },
   "source": [
    "### Удаление пропусков (продолжение)"
   ]
  },
  {
   "cell_type": "markdown",
   "id": "77cd5fe8",
   "metadata": {
    "deletable": false,
    "editable": false,
    "id": "f4ea573f"
   },
   "source": [
    "**Задание 11. Заполните пропуски в столбце `days_employed` медианными значениями по каждого типа занятости `income_type`.**"
   ]
  },
  {
   "cell_type": "code",
   "execution_count": 11,
   "id": "e4a7dd62",
   "metadata": {
    "deletable": false,
    "id": "af6b1a7e"
   },
   "outputs": [],
   "source": [
    "for t in data['income_type'].unique():\n",
    "    data.loc[(data['income_type'] == t) & (data['days_employed'].isna()), 'days_employed'] = \\\n",
    "    data.loc[(data['income_type'] == t), 'days_employed'].median()"
   ]
  },
  {
   "cell_type": "markdown",
   "id": "92f916f8",
   "metadata": {
    "deletable": false,
    "editable": false,
    "id": "2753f40d"
   },
   "source": [
    "**Задание 12. Убедитесь, что все пропуски заполнены. Проверьте себя и ещё раз выведите количество пропущенных значений для каждого столбца с помощью двух методов.**"
   ]
  },
  {
   "cell_type": "code",
   "execution_count": 12,
   "id": "2f38eb70",
   "metadata": {
    "deletable": false,
    "id": "55f78bc2",
    "outputId": "8da1e4e1-358e-4e87-98c9-f261bce0a7b2"
   },
   "outputs": [
    {
     "data": {
      "text/plain": [
       "children            0\n",
       "days_employed       0\n",
       "dob_years           0\n",
       "education           0\n",
       "education_id        0\n",
       "family_status       0\n",
       "family_status_id    0\n",
       "gender              0\n",
       "income_type         0\n",
       "debt                0\n",
       "total_income        0\n",
       "purpose             0\n",
       "dtype: int64"
      ]
     },
     "execution_count": 12,
     "metadata": {},
     "output_type": "execute_result"
    }
   ],
   "source": [
    "data.isna().sum()"
   ]
  },
  {
   "cell_type": "markdown",
   "id": "39044b6d",
   "metadata": {
    "deletable": false,
    "editable": false,
    "id": "ddc81e43"
   },
   "source": [
    "### Изменение типов данных"
   ]
  },
  {
   "cell_type": "markdown",
   "id": "8d20774a",
   "metadata": {
    "deletable": false,
    "editable": false,
    "id": "42d19d24"
   },
   "source": [
    "**Задание 13. Замените вещественный тип данных в столбце `total_income` на целочисленный с помощью метода `astype()`.**"
   ]
  },
  {
   "cell_type": "code",
   "execution_count": 13,
   "id": "24a1280d",
   "metadata": {
    "deletable": false,
    "id": "920b65ad"
   },
   "outputs": [],
   "source": [
    "data['total_income'] = data['total_income'].astype(int)"
   ]
  },
  {
   "cell_type": "markdown",
   "id": "d6429c26",
   "metadata": {
    "deletable": false,
    "editable": false,
    "id": "80c420ba"
   },
   "source": [
    "### Обработка дубликатов"
   ]
  },
  {
   "cell_type": "markdown",
   "id": "c1163c3e",
   "metadata": {
    "deletable": false,
    "editable": false
   },
   "source": [
    "**Задание 14. Обработайте неявные дубликаты в столбце `education`. В этом столбце есть одни и те же значения, но записанные по-разному: с использованием заглавных и строчных букв. Приведите их к нижнему регистру. Проверьте остальные столбцы.**"
   ]
  },
  {
   "cell_type": "code",
   "execution_count": 14,
   "id": "753f1a02",
   "metadata": {
    "deletable": false
   },
   "outputs": [],
   "source": [
    "data['education'] = data['education'].str.lower()"
   ]
  },
  {
   "cell_type": "markdown",
   "id": "d064d580",
   "metadata": {
    "deletable": false,
    "editable": false,
    "id": "dc587695"
   },
   "source": [
    "**Задание 15. Выведите на экран количество строк-дубликатов в данных. Если такие строки присутствуют, удалите их.**"
   ]
  },
  {
   "cell_type": "code",
   "execution_count": 15,
   "id": "d0779ac4",
   "metadata": {
    "deletable": false,
    "id": "3ee445e4",
    "outputId": "9684deba-1934-42d1-99e1-cda61740f822"
   },
   "outputs": [
    {
     "data": {
      "text/plain": [
       "71"
      ]
     },
     "execution_count": 15,
     "metadata": {},
     "output_type": "execute_result"
    }
   ],
   "source": [
    "data.duplicated().sum()"
   ]
  },
  {
   "cell_type": "code",
   "execution_count": 16,
   "id": "bd9e04ae",
   "metadata": {
    "deletable": false,
    "id": "8575fe05"
   },
   "outputs": [],
   "source": [
    "data = data.drop_duplicates()"
   ]
  },
  {
   "cell_type": "markdown",
   "id": "a5fa0fdd",
   "metadata": {
    "deletable": false,
    "editable": false,
    "id": "9904cf55"
   },
   "source": [
    "### Категоризация данных"
   ]
  },
  {
   "cell_type": "markdown",
   "id": "12553167",
   "metadata": {
    "deletable": false,
    "editable": false,
    "id": "72fcc8a2"
   },
   "source": [
    "**Задание 16. На основании диапазонов, указанных ниже, создайте в датафрейме `data` столбец `total_income_category` с категориями:**\n",
    "\n",
    "- 0–30000 — `'E'`;\n",
    "- 30001–50000 — `'D'`;\n",
    "- 50001–200000 — `'C'`;\n",
    "- 200001–1000000 — `'B'`;\n",
    "- 1000001 и выше — `'A'`.\n",
    "\n",
    "\n",
    "**Например, кредитополучателю с доходом 25000 нужно назначить категорию `'E'`, а клиенту, получающему 235000, — `'B'`. Используйте собственную функцию с именем `categorize_income()` и метод `apply()`.**"
   ]
  },
  {
   "cell_type": "code",
   "execution_count": 17,
   "id": "f3501706",
   "metadata": {
    "deletable": false,
    "id": "e1771346"
   },
   "outputs": [],
   "source": [
    "def categorize_income(income):\n",
    "    try:\n",
    "        if 0 <= income <= 30000:\n",
    "            return 'E'\n",
    "        elif 30001 <= income <= 50000:\n",
    "            return 'D'\n",
    "        elif 50001 <= income <= 200000:\n",
    "            return 'C'\n",
    "        elif 200001 <= income <= 1000000:\n",
    "            return 'B'\n",
    "        elif income >= 1000001:\n",
    "            return 'A'\n",
    "    except:\n",
    "        pass"
   ]
  },
  {
   "cell_type": "code",
   "execution_count": 18,
   "id": "ed8d429d",
   "metadata": {
    "deletable": false,
    "id": "d5f3586d"
   },
   "outputs": [],
   "source": [
    "data['total_income_category'] = data['total_income'].apply(categorize_income)"
   ]
  },
  {
   "cell_type": "markdown",
   "id": "b7f14d80",
   "metadata": {
    "deletable": false,
    "editable": false,
    "id": "dde49b5c"
   },
   "source": [
    "**Задание 17. Выведите на экран перечень уникальных целей взятия кредита из столбца `purpose`.**"
   ]
  },
  {
   "cell_type": "code",
   "execution_count": 19,
   "id": "c376de32",
   "metadata": {
    "deletable": false,
    "id": "f67ce9b3",
    "outputId": "673c12d9-7d7e-4ae0-9812-c622c89dd244"
   },
   "outputs": [
    {
     "data": {
      "text/plain": [
       "array(['покупка жилья', 'приобретение автомобиля',\n",
       "       'дополнительное образование', 'сыграть свадьбу',\n",
       "       'операции с жильем', 'образование', 'на проведение свадьбы',\n",
       "       'покупка жилья для семьи', 'покупка недвижимости',\n",
       "       'покупка коммерческой недвижимости', 'покупка жилой недвижимости',\n",
       "       'строительство собственной недвижимости', 'недвижимость',\n",
       "       'строительство недвижимости', 'на покупку подержанного автомобиля',\n",
       "       'на покупку своего автомобиля',\n",
       "       'операции с коммерческой недвижимостью',\n",
       "       'строительство жилой недвижимости', 'жилье',\n",
       "       'операции со своей недвижимостью', 'автомобили',\n",
       "       'заняться образованием', 'сделка с подержанным автомобилем',\n",
       "       'получение образования', 'автомобиль', 'свадьба',\n",
       "       'получение дополнительного образования', 'покупка своего жилья',\n",
       "       'операции с недвижимостью', 'получение высшего образования',\n",
       "       'свой автомобиль', 'сделка с автомобилем',\n",
       "       'профильное образование', 'высшее образование',\n",
       "       'покупка жилья для сдачи', 'на покупку автомобиля', 'ремонт жилью',\n",
       "       'заняться высшим образованием'], dtype=object)"
      ]
     },
     "execution_count": 19,
     "metadata": {},
     "output_type": "execute_result"
    }
   ],
   "source": [
    "data['purpose'].unique()"
   ]
  },
  {
   "cell_type": "markdown",
   "id": "1ad8fbb2",
   "metadata": {
    "deletable": false,
    "editable": false,
    "id": "85d0aef0"
   },
   "source": [
    "**Задание 18. Создайте функцию, которая на основании данных из столбца `purpose` сформирует новый столбец `purpose_category`, в который войдут следующие категории:**\n",
    "\n",
    "- `'операции с автомобилем'`,\n",
    "- `'операции с недвижимостью'`,\n",
    "- `'проведение свадьбы'`,\n",
    "- `'получение образования'`.\n",
    "\n",
    "**Например, если в столбце `purpose` находится подстрока `'на покупку автомобиля'`, то в столбце `purpose_category` должна появиться строка `'операции с автомобилем'`.**\n",
    "\n",
    "**Используйте собственную функцию с именем `categorize_purpose()` и метод `apply()`. Изучите данные в столбце `purpose` и определите, какие подстроки помогут вам правильно определить категорию.**"
   ]
  },
  {
   "cell_type": "code",
   "execution_count": 20,
   "id": "a8218fa5",
   "metadata": {
    "deletable": false,
    "id": "e149fab4"
   },
   "outputs": [],
   "source": [
    "def categorize_purpose(row):\n",
    "    try:\n",
    "        if 'автом' in row:\n",
    "            return 'операции с автомобилем'\n",
    "        elif 'жил' in row or 'недвиж' in row:\n",
    "            return 'операции с недвижимостью'\n",
    "        elif 'свад' in row:\n",
    "            return 'проведение свадьбы'\n",
    "        elif 'образов' in row:\n",
    "            return 'получение образования'\n",
    "    except:\n",
    "        return 'нет категории'"
   ]
  },
  {
   "cell_type": "code",
   "execution_count": 21,
   "id": "c9635c13",
   "metadata": {
    "deletable": false,
    "id": "bf36e69b"
   },
   "outputs": [],
   "source": [
    "data['purpose_category'] = data['purpose'].apply(categorize_purpose)"
   ]
  },
  {
   "cell_type": "markdown",
   "id": "a7b44354",
   "metadata": {
    "deletable": false,
    "editable": false,
    "id": "09b242bf"
   },
   "source": [
    "### Шаг 3. Исследуйте данные и ответьте на вопросы"
   ]
  },
  {
   "cell_type": "markdown",
   "id": "1bf2c92e",
   "metadata": {
    "deletable": false,
    "editable": false,
    "id": "c5d66278"
   },
   "source": [
    "#### 3.1 Есть ли зависимость между количеством детей и возвратом кредита в срок?"
   ]
  },
  {
   "cell_type": "markdown",
   "id": "6ebab87f",
   "metadata": {},
   "source": [
    "Сформируем сводную таблицу, в которой колонке с количеством детей будут соответствовать строки \n",
    "с количеством задолженностей, общим количеством кредитов по категории и % просрочек по платежам."
   ]
  },
  {
   "cell_type": "code",
   "execution_count": 22,
   "id": "0e3f14c1",
   "metadata": {
    "deletable": false,
    "id": "2cacfc4a",
    "scrolled": true
   },
   "outputs": [
    {
     "data": {
      "text/html": [
       "<style  type=\"text/css\" >\n",
       "</style><table id=\"T_7674a_\" ><thead>    <tr>        <th class=\"blank level0\" ></th>        <th class=\"col_heading level0 col0\" >Задолженность</th>        <th class=\"col_heading level0 col1\" >Количество кредитов</th>        <th class=\"col_heading level0 col2\" >% просрочек</th>    </tr>    <tr>        <th class=\"index_name level0\" >Количество детей</th>        <th class=\"blank\" ></th>        <th class=\"blank\" ></th>        <th class=\"blank\" ></th>    </tr></thead><tbody>\n",
       "                <tr>\n",
       "                        <th id=\"T_7674a_level0_row0\" class=\"row_heading level0 row0\" >0</th>\n",
       "                        <td id=\"T_7674a_row0_col0\" class=\"data row0 col0\" >1063</td>\n",
       "                        <td id=\"T_7674a_row0_col1\" class=\"data row0 col1\" >14091</td>\n",
       "                        <td id=\"T_7674a_row0_col2\" class=\"data row0 col2\" >7.54%</td>\n",
       "            </tr>\n",
       "            <tr>\n",
       "                        <th id=\"T_7674a_level0_row1\" class=\"row_heading level0 row1\" >1</th>\n",
       "                        <td id=\"T_7674a_row1_col0\" class=\"data row1 col0\" >444</td>\n",
       "                        <td id=\"T_7674a_row1_col1\" class=\"data row1 col1\" >4808</td>\n",
       "                        <td id=\"T_7674a_row1_col2\" class=\"data row1 col2\" >9.23%</td>\n",
       "            </tr>\n",
       "            <tr>\n",
       "                        <th id=\"T_7674a_level0_row2\" class=\"row_heading level0 row2\" >2</th>\n",
       "                        <td id=\"T_7674a_row2_col0\" class=\"data row2 col0\" >194</td>\n",
       "                        <td id=\"T_7674a_row2_col1\" class=\"data row2 col1\" >2052</td>\n",
       "                        <td id=\"T_7674a_row2_col2\" class=\"data row2 col2\" >9.45%</td>\n",
       "            </tr>\n",
       "            <tr>\n",
       "                        <th id=\"T_7674a_level0_row3\" class=\"row_heading level0 row3\" >3</th>\n",
       "                        <td id=\"T_7674a_row3_col0\" class=\"data row3 col0\" >27</td>\n",
       "                        <td id=\"T_7674a_row3_col1\" class=\"data row3 col1\" >330</td>\n",
       "                        <td id=\"T_7674a_row3_col2\" class=\"data row3 col2\" >8.18%</td>\n",
       "            </tr>\n",
       "            <tr>\n",
       "                        <th id=\"T_7674a_level0_row4\" class=\"row_heading level0 row4\" >4</th>\n",
       "                        <td id=\"T_7674a_row4_col0\" class=\"data row4 col0\" >4</td>\n",
       "                        <td id=\"T_7674a_row4_col1\" class=\"data row4 col1\" >41</td>\n",
       "                        <td id=\"T_7674a_row4_col2\" class=\"data row4 col2\" >9.76%</td>\n",
       "            </tr>\n",
       "            <tr>\n",
       "                        <th id=\"T_7674a_level0_row5\" class=\"row_heading level0 row5\" >5</th>\n",
       "                        <td id=\"T_7674a_row5_col0\" class=\"data row5 col0\" >0</td>\n",
       "                        <td id=\"T_7674a_row5_col1\" class=\"data row5 col1\" >9</td>\n",
       "                        <td id=\"T_7674a_row5_col2\" class=\"data row5 col2\" >0.00%</td>\n",
       "            </tr>\n",
       "    </tbody></table>"
      ],
      "text/plain": [
       "<pandas.io.formats.style.Styler at 0x7fa63b1ccf70>"
      ]
     },
     "execution_count": 22,
     "metadata": {},
     "output_type": "execute_result"
    }
   ],
   "source": [
    "children_pivot = data.pivot_table(index=['children'], values='debt', aggfunc=['sum', 'count', 'mean']).fillna(0)\n",
    "children_pivot.columns = ['Задолженность', 'Количество кредитов', '% просрочек']\n",
    "children_pivot.index.names = ['Количество детей']\n",
    "children_pivot.style.format({'% просрочек': '{:.2%}'})"
   ]
  },
  {
   "cell_type": "markdown",
   "id": "a0f259f2",
   "metadata": {
    "deletable": false,
    "id": "3a6b99ec"
   },
   "source": [
    "**Вывод:** Зависимость между количеством детей и возвратом кредита в срок, несомненно, есть. \n",
    "\n",
    "Можно выделить несколько зависимостей:\n",
    "1. люди без детей берут гораздо больше кредитов, чем люди с детьми,\n",
    "2. люди без детей - самые обязательные плательщики по займам,\n",
    "3. родители с 1 или 2 детьми - самые проблемные заёмщики,\n",
    "4. те, у кого 3 детей - более дисциплинированные заёмщики, чем те, у кого 1 или 2 ребёнка,\n",
    "5. по категориям с 4 и 5 детьми точные выводы сделать нельзя ввиду малого количества данных по этим категориям."
   ]
  },
  {
   "cell_type": "markdown",
   "id": "fa4d323a",
   "metadata": {
    "deletable": false,
    "editable": false,
    "id": "97be82ca"
   },
   "source": [
    "#### 3.2 Есть ли зависимость между семейным положением и возвратом кредита в срок?"
   ]
  },
  {
   "cell_type": "markdown",
   "id": "7a93e6f8",
   "metadata": {},
   "source": [
    "Таким же образом посчитаем задолженности в зависимости от семейного положения:"
   ]
  },
  {
   "cell_type": "code",
   "execution_count": 23,
   "id": "15988d90",
   "metadata": {
    "deletable": false,
    "id": "dc3f7ee8"
   },
   "outputs": [
    {
     "data": {
      "text/html": [
       "<style  type=\"text/css\" >\n",
       "</style><table id=\"T_bd972_\" ><thead>    <tr>        <th class=\"blank level0\" ></th>        <th class=\"col_heading level0 col0\" >Задолженность</th>        <th class=\"col_heading level0 col1\" >Количество кредитов</th>        <th class=\"col_heading level0 col2\" >% просрочек</th>    </tr>    <tr>        <th class=\"index_name level0\" >Семейное положение</th>        <th class=\"blank\" ></th>        <th class=\"blank\" ></th>        <th class=\"blank\" ></th>    </tr></thead><tbody>\n",
       "                <tr>\n",
       "                        <th id=\"T_bd972_level0_row0\" class=\"row_heading level0 row0\" >вдовец / вдова</th>\n",
       "                        <td id=\"T_bd972_row0_col0\" class=\"data row0 col0\" >63</td>\n",
       "                        <td id=\"T_bd972_row0_col1\" class=\"data row0 col1\" >951</td>\n",
       "                        <td id=\"T_bd972_row0_col2\" class=\"data row0 col2\" >6.62%</td>\n",
       "            </tr>\n",
       "            <tr>\n",
       "                        <th id=\"T_bd972_level0_row1\" class=\"row_heading level0 row1\" >в разводе</th>\n",
       "                        <td id=\"T_bd972_row1_col0\" class=\"data row1 col0\" >84</td>\n",
       "                        <td id=\"T_bd972_row1_col1\" class=\"data row1 col1\" >1189</td>\n",
       "                        <td id=\"T_bd972_row1_col2\" class=\"data row1 col2\" >7.06%</td>\n",
       "            </tr>\n",
       "            <tr>\n",
       "                        <th id=\"T_bd972_level0_row2\" class=\"row_heading level0 row2\" >женат / замужем</th>\n",
       "                        <td id=\"T_bd972_row2_col0\" class=\"data row2 col0\" >927</td>\n",
       "                        <td id=\"T_bd972_row2_col1\" class=\"data row2 col1\" >12261</td>\n",
       "                        <td id=\"T_bd972_row2_col2\" class=\"data row2 col2\" >7.56%</td>\n",
       "            </tr>\n",
       "            <tr>\n",
       "                        <th id=\"T_bd972_level0_row3\" class=\"row_heading level0 row3\" >гражданский брак</th>\n",
       "                        <td id=\"T_bd972_row3_col0\" class=\"data row3 col0\" >385</td>\n",
       "                        <td id=\"T_bd972_row3_col1\" class=\"data row3 col1\" >4134</td>\n",
       "                        <td id=\"T_bd972_row3_col2\" class=\"data row3 col2\" >9.31%</td>\n",
       "            </tr>\n",
       "            <tr>\n",
       "                        <th id=\"T_bd972_level0_row4\" class=\"row_heading level0 row4\" >Не женат / не замужем</th>\n",
       "                        <td id=\"T_bd972_row4_col0\" class=\"data row4 col0\" >273</td>\n",
       "                        <td id=\"T_bd972_row4_col1\" class=\"data row4 col1\" >2796</td>\n",
       "                        <td id=\"T_bd972_row4_col2\" class=\"data row4 col2\" >9.76%</td>\n",
       "            </tr>\n",
       "    </tbody></table>"
      ],
      "text/plain": [
       "<pandas.io.formats.style.Styler at 0x7fa5ce980880>"
      ]
     },
     "metadata": {},
     "output_type": "display_data"
    }
   ],
   "source": [
    "family_status_pivot = data.pivot_table(index=['family_status'], values='debt', aggfunc=['sum', 'count', 'mean']).fillna(0)\n",
    "family_status_pivot.columns = ['Задолженность', 'Количество кредитов', '% просрочек']\n",
    "family_status_pivot = family_status_pivot.sort_values(by=['% просрочек'])\n",
    "family_status_pivot.index.names = ['Семейное положение']\n",
    "display(family_status_pivot.style.format({'% просрочек': '{:.2%}'}))"
   ]
  },
  {
   "cell_type": "markdown",
   "id": "c553fccb",
   "metadata": {
    "deletable": false,
    "id": "1cef7837"
   },
   "source": [
    "**Вывод:** Люди, которые состоят либо были в браке, относятся к оплате кредита более ответственно, чем те, кто в браке либо не был, либо живет гражданским браком."
   ]
  },
  {
   "cell_type": "markdown",
   "id": "c4a6c482",
   "metadata": {
    "deletable": false,
    "editable": false,
    "id": "1e8b2fca"
   },
   "source": [
    "#### 3.3 Есть ли зависимость между уровнем дохода и возвратом кредита в срок?"
   ]
  },
  {
   "cell_type": "markdown",
   "id": "5ca114e1",
   "metadata": {},
   "source": [
    "Аналогичным образом посчитаем зависимость просрочек от ежемесячного дохода.\n",
    "\n",
    "Сначала создадим сводную таблицу, основываясь на категориях дохода, а затем создадим столбец, \n",
    "в котором цифрами будет прописан доход заёмщиков в месяц."
   ]
  },
  {
   "cell_type": "code",
   "execution_count": 24,
   "id": "7255a7d3",
   "metadata": {
    "deletable": false,
    "id": "cd7e3720"
   },
   "outputs": [
    {
     "data": {
      "text/html": [
       "<style  type=\"text/css\" >\n",
       "</style><table id=\"T_57e92_\" ><thead>    <tr>        <th class=\"blank level0\" ></th>        <th class=\"col_heading level0 col0\" >Категория заёмщиков</th>        <th class=\"col_heading level0 col1\" >Задолженность</th>        <th class=\"col_heading level0 col2\" >Количество кредитов</th>        <th class=\"col_heading level0 col3\" >% просрочек</th>        <th class=\"col_heading level0 col4\" >Доход заёмщиков в месяц</th>    </tr></thead><tbody>\n",
       "                <tr>\n",
       "                        <th id=\"T_57e92_level0_row0\" class=\"row_heading level0 row0\" >4</th>\n",
       "                        <td id=\"T_57e92_row0_col0\" class=\"data row0 col0\" >E</td>\n",
       "                        <td id=\"T_57e92_row0_col1\" class=\"data row0 col1\" >2</td>\n",
       "                        <td id=\"T_57e92_row0_col2\" class=\"data row0 col2\" >22</td>\n",
       "                        <td id=\"T_57e92_row0_col3\" class=\"data row0 col3\" >9.09%</td>\n",
       "                        <td id=\"T_57e92_row0_col4\" class=\"data row0 col4\" >0 - 30 000</td>\n",
       "            </tr>\n",
       "            <tr>\n",
       "                        <th id=\"T_57e92_level0_row1\" class=\"row_heading level0 row1\" >3</th>\n",
       "                        <td id=\"T_57e92_row1_col0\" class=\"data row1 col0\" >D</td>\n",
       "                        <td id=\"T_57e92_row1_col1\" class=\"data row1 col1\" >21</td>\n",
       "                        <td id=\"T_57e92_row1_col2\" class=\"data row1 col2\" >349</td>\n",
       "                        <td id=\"T_57e92_row1_col3\" class=\"data row1 col3\" >6.02%</td>\n",
       "                        <td id=\"T_57e92_row1_col4\" class=\"data row1 col4\" >30 001 - 50 000</td>\n",
       "            </tr>\n",
       "            <tr>\n",
       "                        <th id=\"T_57e92_level0_row2\" class=\"row_heading level0 row2\" >2</th>\n",
       "                        <td id=\"T_57e92_row2_col0\" class=\"data row2 col0\" >C</td>\n",
       "                        <td id=\"T_57e92_row2_col1\" class=\"data row2 col1\" >1353</td>\n",
       "                        <td id=\"T_57e92_row2_col2\" class=\"data row2 col2\" >15921</td>\n",
       "                        <td id=\"T_57e92_row2_col3\" class=\"data row2 col3\" >8.50%</td>\n",
       "                        <td id=\"T_57e92_row2_col4\" class=\"data row2 col4\" >50 001 - 200 000</td>\n",
       "            </tr>\n",
       "            <tr>\n",
       "                        <th id=\"T_57e92_level0_row3\" class=\"row_heading level0 row3\" >1</th>\n",
       "                        <td id=\"T_57e92_row3_col0\" class=\"data row3 col0\" >B</td>\n",
       "                        <td id=\"T_57e92_row3_col1\" class=\"data row3 col1\" >354</td>\n",
       "                        <td id=\"T_57e92_row3_col2\" class=\"data row3 col2\" >5014</td>\n",
       "                        <td id=\"T_57e92_row3_col3\" class=\"data row3 col3\" >7.06%</td>\n",
       "                        <td id=\"T_57e92_row3_col4\" class=\"data row3 col4\" >200 001 - 1 000 000</td>\n",
       "            </tr>\n",
       "            <tr>\n",
       "                        <th id=\"T_57e92_level0_row4\" class=\"row_heading level0 row4\" >0</th>\n",
       "                        <td id=\"T_57e92_row4_col0\" class=\"data row4 col0\" >A</td>\n",
       "                        <td id=\"T_57e92_row4_col1\" class=\"data row4 col1\" >2</td>\n",
       "                        <td id=\"T_57e92_row4_col2\" class=\"data row4 col2\" >25</td>\n",
       "                        <td id=\"T_57e92_row4_col3\" class=\"data row4 col3\" >8.00%</td>\n",
       "                        <td id=\"T_57e92_row4_col4\" class=\"data row4 col4\" >более 1 000 000</td>\n",
       "            </tr>\n",
       "    </tbody></table>"
      ],
      "text/plain": [
       "<pandas.io.formats.style.Styler at 0x7fa5ce9b4280>"
      ]
     },
     "execution_count": 24,
     "metadata": {},
     "output_type": "execute_result"
    }
   ],
   "source": [
    "total_income_pivot = data.pivot_table(index=['total_income_category'], values='debt', aggfunc=['sum', 'count', 'mean']).fillna(0)\n",
    "total_income_pivot.columns = ['Задолженность', 'Количество кредитов', '% просрочек']\n",
    "total_income_pivot.index.names = ['Категория заёмщиков']\n",
    "\n",
    "def total_income_cat(category):\n",
    "    try:\n",
    "        if category == 'E':\n",
    "            return '0 - 30 000'\n",
    "        elif category == 'D':\n",
    "            return '30 001 - 50 000'\n",
    "        elif category == 'C':\n",
    "            return '50 001 - 200 000'\n",
    "        elif category == 'B':\n",
    "            return '200 001 - 1 000 000'\n",
    "        elif category == 'A':\n",
    "            return 'более 1 000 000'\n",
    "    except:\n",
    "        pass\n",
    "\n",
    "total_income_pivot = total_income_pivot.reset_index()\n",
    "total_income_pivot['Доход заёмщиков в месяц'] = total_income_pivot['Категория заёмщиков'].apply(total_income_cat)\n",
    "total_income_pivot = total_income_pivot.sort_values(by=['Категория заёмщиков'], ascending=False)\n",
    "total_income_pivot.style.format({'% просрочек': '{:.2%}'})"
   ]
  },
  {
   "cell_type": "markdown",
   "id": "f8a63f77",
   "metadata": {
    "deletable": false,
    "id": "e8593def"
   },
   "source": [
    "**Вывод:** \n",
    "1. Самые дисциплинированные заёмщики - люди, чей доход составляет от 30 до 50 тысяч. \n",
    "2. Самые недисциплинированные - те, кто получает от 50 до 200 тысяч. \n",
    "\n",
    "НО! Разница между нижней и высшей границей дохода в категории \"С\" слишком большая, необходимо разбить категорию на несколько подкатегорий и уточнить результаты. То же самое можно сделать с категорией \"В\".\n",
    "\n",
    "3. Заёмщиков категории А и Е в нашей выборке очень мало, поэтому корректные выводы об их надёжности сделать нельзя."
   ]
  },
  {
   "cell_type": "markdown",
   "id": "33eb9d70",
   "metadata": {
    "deletable": false,
    "editable": false,
    "id": "99ecbd1f"
   },
   "source": [
    "#### 3.4 Как разные цели кредита влияют на его возврат в срок?"
   ]
  },
  {
   "cell_type": "code",
   "execution_count": 25,
   "id": "d2235e86",
   "metadata": {
    "deletable": false,
    "id": "2b687290"
   },
   "outputs": [
    {
     "data": {
      "text/html": [
       "<style  type=\"text/css\" >\n",
       "</style><table id=\"T_b5e01_\" ><thead>    <tr>        <th class=\"blank level0\" ></th>        <th class=\"col_heading level0 col0\" >Задолженность</th>        <th class=\"col_heading level0 col1\" >Количество кредитов</th>        <th class=\"col_heading level0 col2\" >% просрочек</th>    </tr>    <tr>        <th class=\"index_name level0\" >Цель кредита</th>        <th class=\"blank\" ></th>        <th class=\"blank\" ></th>        <th class=\"blank\" ></th>    </tr></thead><tbody>\n",
       "                <tr>\n",
       "                        <th id=\"T_b5e01_level0_row0\" class=\"row_heading level0 row0\" >операции с недвижимостью</th>\n",
       "                        <td id=\"T_b5e01_row0_col0\" class=\"data row0 col0\" >780</td>\n",
       "                        <td id=\"T_b5e01_row0_col1\" class=\"data row0 col1\" >10751</td>\n",
       "                        <td id=\"T_b5e01_row0_col2\" class=\"data row0 col2\" >7.26%</td>\n",
       "            </tr>\n",
       "            <tr>\n",
       "                        <th id=\"T_b5e01_level0_row1\" class=\"row_heading level0 row1\" >проведение свадьбы</th>\n",
       "                        <td id=\"T_b5e01_row1_col0\" class=\"data row1 col0\" >183</td>\n",
       "                        <td id=\"T_b5e01_row1_col1\" class=\"data row1 col1\" >2313</td>\n",
       "                        <td id=\"T_b5e01_row1_col2\" class=\"data row1 col2\" >7.91%</td>\n",
       "            </tr>\n",
       "            <tr>\n",
       "                        <th id=\"T_b5e01_level0_row2\" class=\"row_heading level0 row2\" >получение образования</th>\n",
       "                        <td id=\"T_b5e01_row2_col0\" class=\"data row2 col0\" >369</td>\n",
       "                        <td id=\"T_b5e01_row2_col1\" class=\"data row2 col1\" >3988</td>\n",
       "                        <td id=\"T_b5e01_row2_col2\" class=\"data row2 col2\" >9.25%</td>\n",
       "            </tr>\n",
       "            <tr>\n",
       "                        <th id=\"T_b5e01_level0_row3\" class=\"row_heading level0 row3\" >операции с автомобилем</th>\n",
       "                        <td id=\"T_b5e01_row3_col0\" class=\"data row3 col0\" >400</td>\n",
       "                        <td id=\"T_b5e01_row3_col1\" class=\"data row3 col1\" >4279</td>\n",
       "                        <td id=\"T_b5e01_row3_col2\" class=\"data row3 col2\" >9.35%</td>\n",
       "            </tr>\n",
       "    </tbody></table>"
      ],
      "text/plain": [
       "<pandas.io.formats.style.Styler at 0x7fa5ce9b4bb0>"
      ]
     },
     "execution_count": 25,
     "metadata": {},
     "output_type": "execute_result"
    }
   ],
   "source": [
    "purpose_pivot = data.pivot_table(index=['purpose_category'], values='debt', aggfunc=['sum', 'count', 'mean']).fillna(0)\n",
    "purpose_pivot.columns = ['Задолженность', 'Количество кредитов', '% просрочек']\n",
    "purpose_pivot.index.names = ['Цель кредита']\n",
    "purpose_pivot = purpose_pivot.sort_values(by=['% просрочек'])\n",
    "purpose_pivot.style.format({'% просрочек': '{:.2%}'})"
   ]
  },
  {
   "cell_type": "markdown",
   "id": "6ff2d0e8",
   "metadata": {
    "deletable": false,
    "id": "b4bb2ce6"
   },
   "source": [
    "**Вывод:** Самые пунктуальные клиенты - те, кто берут кредиты на операции с недвижимостью и на проведение свадьбы. Количество задолженностей по кредитам на получение образования и операции с автомобилем между собой практически равны и на 2% больше, чем первые 2 пункта. "
   ]
  },
  {
   "cell_type": "markdown",
   "id": "33e2d751",
   "metadata": {
    "deletable": false,
    "editable": false,
    "id": "09c3ac4c"
   },
   "source": [
    "#### 3.5 Приведите возможные причины появления пропусков в исходных данных."
   ]
  },
  {
   "cell_type": "markdown",
   "id": "6cac8914",
   "metadata": {
    "deletable": false,
    "id": "9da2ceda"
   },
   "source": [
    "*Ответ:* ошибки в заполнении данных, ошибки при выгрузке данных"
   ]
  },
  {
   "cell_type": "markdown",
   "id": "81c11c69",
   "metadata": {
    "deletable": false,
    "editable": false,
    "id": "7b0487d6"
   },
   "source": [
    "#### 3.6 Объясните, почему заполнить пропуски медианным значением — лучшее решение для количественных переменных."
   ]
  },
  {
   "cell_type": "markdown",
   "id": "c852b2d6",
   "metadata": {
    "deletable": false,
    "id": "7ecf2b8e"
   },
   "source": [
    "*Ответ:* Т.к. количественные переменные могут принимать любое значение, а в выборке присутствуют выдающиеся значения (1000000 и больше), лучше использовать медиану, а не среднее арифметическое.\n"
   ]
  },
  {
   "cell_type": "markdown",
   "id": "b4a3a0d7",
   "metadata": {
    "deletable": false,
    "editable": false,
    "id": "6db5255a"
   },
   "source": [
    "### Шаг 4: общий вывод."
   ]
  },
  {
   "cell_type": "markdown",
   "id": "ba606747",
   "metadata": {
    "deletable": false,
    "id": "bad65432"
   },
   "source": [
    "Проведенное исследование показывает, что и семейное положение, и количество детей влияют на погашение кредита в срок. Самые добросовестные плательщики те, кто состоит или состоял в браке и не имеет детей. \n",
    "\n",
    "Тем не менее, для того, чтобы точнее понять надёжность заёмщика, необходимо дополнительное исследование, которое будет учитывать и семейное положение, и количество детей, и цель кредита, и ежемесячный доход."
   ]
  },
  {
   "cell_type": "markdown",
   "id": "bb724b05",
   "metadata": {},
   "source": [
    "<div class=\"alert alert-info\">\n",
    "<h1>Общий вывод<a class=\"tocSkip\"></h1>\n",
    "<br>\n",
    "    Предоставленный файл с данными от банка был исследован на дубликаты, пропуски и наличие аномальных значений. Дубликаты и аномальные значения были удалены из файла, пропуски были заполнены медианными значениями.\n",
    "<br>\n",
    "<h3>В результате анализа были выявлены следующие зависимости:<a class=\"tocSkip\"></h3>\n",
    "<h4>Зависимость между количеством детей и возвратом кредита в срок:<a class=\"tocSkip\"></h4>\n",
    "\n",
    "- люди без детей берут гораздо больше кредитов, чем люди с детьми,\n",
    "- люди без детей - самые обязательные плательщики по займам,\n",
    "- родители с 1 или 2 детьми - самые проблемные заёмщики,\n",
    "- те, у кого 3 детей - более дисциплинированные заёмщики, чем те, у кого 1 или 2 ребёнка,\n",
    "- по категориям с 4 и 5 детьми точные выводы сделать нельзя ввиду малого количества данных по этим категориям.\n",
    "\n",
    "<h4>Зависимость между семейным положением и возвратом кредита в срок:<a class=\"tocSkip\"></h4>\n",
    "\n",
    "- люди, которые состоят либо были в браке, относятся к оплате кредита более ответственно, чем те, кто в браке либо не был, либо живет гражданским браком.\n",
    "\n",
    "<h4>Зависимость между уровнем дохода и возвратом кредита в срок:<a class=\"tocSkip\"></h4>\n",
    "    \n",
    "- самые дисциплинированные заёмщики - люди, чей доход составляет от 30 до 50 тысяч,\n",
    "- самые недисциплинированные - те, кто получает от 50 до 200 тысяч.\n",
    "      \n",
    "НО! Разница между нижней и высшей границей дохода в категории \"С\" слишком большая, необходимо разбить категорию на несколько подкатегорий и уточнить результаты. То же самое можно сделать с категорией \"В\".\n",
    "\n",
    "- заёмщиков категории А и Е в нашей выборке очень мало, поэтому корректные выводы об их надёжности сделать нельзя.\n",
    "\n",
    "<h4>Зависимость между целью кредита и его возвратом в срок:<a class=\"tocSkip\"></h4>\n",
    "\n",
    "- самые пунктуальные клиенты - те, кто берут кредиты на операции с недвижимостью и на проведение свадьбы. \n",
    "- количество задолженностей по кредитам на получение образования и операции с автомобилем между собой практически равны и на 2% больше, чем первые 2 пункта.\n",
    "        \n",
    "<h3>Рекомендации<a class=\"tocSkip\"></h3>\n",
    "    \n",
    "Для получения более точных результатов анализа, рекомендую: \n",
    "- сделать выборку по большему количеству заёмщиков, \n",
    "- сделать больше категорий по ежемесячном доходу(разбить категории В и С на более мелкие, допустим, с шагом в 50 000)\n",
    "- провести сравнительный анализ по 2 и более категориям \"в связке\" (например, заёмщики без детей с целью кредита на операции с жильём и заёмщики без детей с целью кредита на операции с автомобилем).\n",
    "    \n",
    "</div>\n",
    "       "
   ]
  }
 ],
 "metadata": {
  "ExecuteTimeLog": [
   {
    "duration": 440,
    "start_time": "2022-11-02T22:35:42.063Z"
   },
   {
    "duration": 22,
    "start_time": "2022-11-02T22:35:49.823Z"
   },
   {
    "duration": 5,
    "start_time": "2022-11-03T00:40:45.156Z"
   },
   {
    "duration": 7,
    "start_time": "2022-11-03T00:41:14.712Z"
   },
   {
    "duration": 73,
    "start_time": "2022-11-03T00:41:30.928Z"
   },
   {
    "duration": 15,
    "start_time": "2022-11-03T00:41:31.003Z"
   },
   {
    "duration": 45,
    "start_time": "2022-11-03T00:41:31.020Z"
   },
   {
    "duration": 21,
    "start_time": "2022-11-03T00:41:31.068Z"
   },
   {
    "duration": 48,
    "start_time": "2022-11-03T00:41:31.090Z"
   },
   {
    "duration": 4,
    "start_time": "2022-11-03T00:41:31.139Z"
   },
   {
    "duration": 43,
    "start_time": "2022-11-03T00:41:31.144Z"
   },
   {
    "duration": 30,
    "start_time": "2022-11-03T00:41:31.189Z"
   },
   {
    "duration": 15,
    "start_time": "2022-11-03T00:41:31.221Z"
   },
   {
    "duration": 8,
    "start_time": "2022-11-03T00:41:31.239Z"
   },
   {
    "duration": 39,
    "start_time": "2022-11-03T00:41:31.248Z"
   },
   {
    "duration": 11,
    "start_time": "2022-11-03T00:41:31.288Z"
   },
   {
    "duration": 7,
    "start_time": "2022-11-03T00:41:31.300Z"
   },
   {
    "duration": 13,
    "start_time": "2022-11-03T00:41:31.308Z"
   },
   {
    "duration": 31,
    "start_time": "2022-11-03T00:41:31.322Z"
   },
   {
    "duration": 17,
    "start_time": "2022-11-03T00:41:31.354Z"
   },
   {
    "duration": 4,
    "start_time": "2022-11-03T00:41:31.373Z"
   },
   {
    "duration": 15,
    "start_time": "2022-11-03T00:41:31.378Z"
   },
   {
    "duration": 11,
    "start_time": "2022-11-03T00:41:31.394Z"
   },
   {
    "duration": 7,
    "start_time": "2022-11-03T00:41:31.407Z"
   },
   {
    "duration": 28,
    "start_time": "2022-11-03T00:41:31.415Z"
   },
   {
    "duration": 23,
    "start_time": "2022-11-03T00:41:31.445Z"
   },
   {
    "duration": 4,
    "start_time": "2022-11-03T00:41:31.470Z"
   },
   {
    "duration": 6,
    "start_time": "2022-11-03T00:41:31.475Z"
   },
   {
    "duration": 12,
    "start_time": "2022-11-03T00:41:31.482Z"
   },
   {
    "duration": 8,
    "start_time": "2022-11-03T00:43:18.371Z"
   },
   {
    "duration": 8,
    "start_time": "2022-11-03T00:48:50.922Z"
   },
   {
    "duration": 24,
    "start_time": "2022-11-03T00:52:16.563Z"
   },
   {
    "duration": 8,
    "start_time": "2022-11-03T00:52:45.171Z"
   },
   {
    "duration": 7,
    "start_time": "2022-11-03T00:54:37.214Z"
   },
   {
    "duration": 7,
    "start_time": "2022-11-03T00:56:41.539Z"
   },
   {
    "duration": 2,
    "start_time": "2022-11-03T00:57:22.042Z"
   },
   {
    "duration": 4,
    "start_time": "2022-11-03T00:57:26.608Z"
   },
   {
    "duration": 70,
    "start_time": "2022-11-03T00:57:34.874Z"
   },
   {
    "duration": 14,
    "start_time": "2022-11-03T00:57:34.945Z"
   },
   {
    "duration": 15,
    "start_time": "2022-11-03T00:57:34.960Z"
   },
   {
    "duration": 9,
    "start_time": "2022-11-03T00:57:34.977Z"
   },
   {
    "duration": 51,
    "start_time": "2022-11-03T00:57:34.988Z"
   },
   {
    "duration": 4,
    "start_time": "2022-11-03T00:57:35.040Z"
   },
   {
    "duration": 12,
    "start_time": "2022-11-03T00:57:35.045Z"
   },
   {
    "duration": 5,
    "start_time": "2022-11-03T00:57:35.059Z"
   },
   {
    "duration": 4,
    "start_time": "2022-11-03T00:57:35.065Z"
   },
   {
    "duration": 6,
    "start_time": "2022-11-03T00:57:35.070Z"
   },
   {
    "duration": 8,
    "start_time": "2022-11-03T00:57:44.392Z"
   },
   {
    "duration": 70,
    "start_time": "2022-11-03T00:58:59.953Z"
   },
   {
    "duration": 13,
    "start_time": "2022-11-03T00:59:00.025Z"
   },
   {
    "duration": 18,
    "start_time": "2022-11-03T00:59:00.040Z"
   },
   {
    "duration": 11,
    "start_time": "2022-11-03T00:59:00.059Z"
   },
   {
    "duration": 34,
    "start_time": "2022-11-03T00:59:00.072Z"
   },
   {
    "duration": 4,
    "start_time": "2022-11-03T00:59:00.107Z"
   },
   {
    "duration": 27,
    "start_time": "2022-11-03T00:59:00.113Z"
   },
   {
    "duration": 4,
    "start_time": "2022-11-03T00:59:00.142Z"
   },
   {
    "duration": 6,
    "start_time": "2022-11-03T00:59:07.294Z"
   },
   {
    "duration": 5,
    "start_time": "2022-11-03T00:59:10.084Z"
   },
   {
    "duration": 8,
    "start_time": "2022-11-03T00:59:17.373Z"
   },
   {
    "duration": 6,
    "start_time": "2022-11-03T01:01:10.171Z"
   },
   {
    "duration": 60,
    "start_time": "2022-11-03T01:04:48.067Z"
   },
   {
    "duration": 60,
    "start_time": "2022-11-03T01:05:02.914Z"
   },
   {
    "duration": 2,
    "start_time": "2022-11-03T01:05:37.505Z"
   },
   {
    "duration": 7,
    "start_time": "2022-11-03T01:07:46.414Z"
   },
   {
    "duration": 7,
    "start_time": "2022-11-03T01:09:21.475Z"
   },
   {
    "duration": 8,
    "start_time": "2022-11-03T01:09:31.261Z"
   },
   {
    "duration": 8,
    "start_time": "2022-11-03T01:09:43.818Z"
   },
   {
    "duration": 8,
    "start_time": "2022-11-03T01:10:08.001Z"
   },
   {
    "duration": 9,
    "start_time": "2022-11-03T01:10:12.280Z"
   },
   {
    "duration": 11163,
    "start_time": "2022-11-03T01:12:14.032Z"
   },
   {
    "duration": 13,
    "start_time": "2022-11-03T01:12:57.171Z"
   },
   {
    "duration": 9,
    "start_time": "2022-11-03T01:14:15.754Z"
   },
   {
    "duration": 10,
    "start_time": "2022-11-03T01:15:08.015Z"
   },
   {
    "duration": 3,
    "start_time": "2022-11-03T01:22:18.049Z"
   },
   {
    "duration": 15,
    "start_time": "2022-11-03T01:23:36.423Z"
   },
   {
    "duration": 20,
    "start_time": "2022-11-03T01:24:57.166Z"
   },
   {
    "duration": 12,
    "start_time": "2022-11-03T01:30:38.545Z"
   },
   {
    "duration": 17,
    "start_time": "2022-11-03T01:30:51.633Z"
   },
   {
    "duration": 18,
    "start_time": "2022-11-03T01:31:03.049Z"
   },
   {
    "duration": 19,
    "start_time": "2022-11-03T01:31:38.464Z"
   },
   {
    "duration": 84,
    "start_time": "2022-11-03T01:39:38.019Z"
   },
   {
    "duration": 15,
    "start_time": "2022-11-03T01:39:38.105Z"
   },
   {
    "duration": 23,
    "start_time": "2022-11-03T01:39:38.121Z"
   },
   {
    "duration": 10,
    "start_time": "2022-11-03T01:39:38.146Z"
   },
   {
    "duration": 33,
    "start_time": "2022-11-03T01:39:38.157Z"
   },
   {
    "duration": 3,
    "start_time": "2022-11-03T01:39:38.192Z"
   },
   {
    "duration": 21,
    "start_time": "2022-11-03T01:39:38.196Z"
   },
   {
    "duration": 24,
    "start_time": "2022-11-03T01:39:38.218Z"
   },
   {
    "duration": 10,
    "start_time": "2022-11-03T01:39:38.243Z"
   },
   {
    "duration": 9,
    "start_time": "2022-11-03T01:39:38.255Z"
   },
   {
    "duration": 33,
    "start_time": "2022-11-03T01:39:38.266Z"
   },
   {
    "duration": 9,
    "start_time": "2022-11-03T01:39:38.300Z"
   },
   {
    "duration": 6,
    "start_time": "2022-11-03T01:39:38.311Z"
   },
   {
    "duration": 10,
    "start_time": "2022-11-03T01:39:38.339Z"
   },
   {
    "duration": 21,
    "start_time": "2022-11-03T01:39:38.351Z"
   },
   {
    "duration": 16,
    "start_time": "2022-11-03T01:39:38.373Z"
   },
   {
    "duration": 4,
    "start_time": "2022-11-03T01:39:38.390Z"
   },
   {
    "duration": 19,
    "start_time": "2022-11-03T01:39:38.395Z"
   },
   {
    "duration": 23,
    "start_time": "2022-11-03T01:39:38.416Z"
   },
   {
    "duration": 3,
    "start_time": "2022-11-03T01:39:38.441Z"
   },
   {
    "duration": 10,
    "start_time": "2022-11-03T01:39:38.445Z"
   },
   {
    "duration": 8,
    "start_time": "2022-11-03T01:39:38.457Z"
   },
   {
    "duration": 69,
    "start_time": "2022-11-03T01:41:15.391Z"
   },
   {
    "duration": 14,
    "start_time": "2022-11-03T01:41:15.462Z"
   },
   {
    "duration": 18,
    "start_time": "2022-11-03T01:41:15.477Z"
   },
   {
    "duration": 10,
    "start_time": "2022-11-03T01:41:15.497Z"
   },
   {
    "duration": 50,
    "start_time": "2022-11-03T01:41:15.508Z"
   },
   {
    "duration": 4,
    "start_time": "2022-11-03T01:41:15.560Z"
   },
   {
    "duration": 19,
    "start_time": "2022-11-03T01:41:15.566Z"
   },
   {
    "duration": 11,
    "start_time": "2022-11-03T01:41:15.587Z"
   },
   {
    "duration": 18,
    "start_time": "2022-11-03T01:41:15.600Z"
   },
   {
    "duration": 15,
    "start_time": "2022-11-03T01:41:15.621Z"
   },
   {
    "duration": 45,
    "start_time": "2022-11-03T01:41:15.638Z"
   },
   {
    "duration": 10,
    "start_time": "2022-11-03T01:41:15.684Z"
   },
   {
    "duration": 7,
    "start_time": "2022-11-03T01:41:15.696Z"
   },
   {
    "duration": 14,
    "start_time": "2022-11-03T01:41:15.705Z"
   },
   {
    "duration": 21,
    "start_time": "2022-11-03T01:41:15.721Z"
   },
   {
    "duration": 18,
    "start_time": "2022-11-03T01:41:15.743Z"
   },
   {
    "duration": 3,
    "start_time": "2022-11-03T01:41:15.763Z"
   },
   {
    "duration": 19,
    "start_time": "2022-11-03T01:41:15.768Z"
   },
   {
    "duration": 16,
    "start_time": "2022-11-03T01:41:15.788Z"
   },
   {
    "duration": 10,
    "start_time": "2022-11-03T01:41:15.806Z"
   },
   {
    "duration": 31,
    "start_time": "2022-11-03T01:41:15.817Z"
   },
   {
    "duration": 22,
    "start_time": "2022-11-03T01:41:15.850Z"
   },
   {
    "duration": 43,
    "start_time": "2022-11-03T01:41:15.874Z"
   },
   {
    "duration": 27,
    "start_time": "2022-11-03T01:41:15.919Z"
   },
   {
    "duration": 19,
    "start_time": "2022-11-03T01:43:07.764Z"
   },
   {
    "duration": 13,
    "start_time": "2022-11-03T01:43:52.876Z"
   },
   {
    "duration": 18,
    "start_time": "2022-11-03T01:44:30.786Z"
   },
   {
    "duration": 14,
    "start_time": "2022-11-03T01:44:51.464Z"
   },
   {
    "duration": 15,
    "start_time": "2022-11-03T01:44:54.650Z"
   },
   {
    "duration": 15,
    "start_time": "2022-11-03T01:45:14.568Z"
   },
   {
    "duration": 19,
    "start_time": "2022-11-03T01:45:27.560Z"
   },
   {
    "duration": 42,
    "start_time": "2022-11-03T18:03:54.267Z"
   },
   {
    "duration": 465,
    "start_time": "2022-11-03T18:05:02.768Z"
   },
   {
    "duration": 19,
    "start_time": "2022-11-03T18:05:03.235Z"
   },
   {
    "duration": 12,
    "start_time": "2022-11-03T18:05:03.256Z"
   },
   {
    "duration": 7,
    "start_time": "2022-11-03T18:05:03.270Z"
   },
   {
    "duration": 30,
    "start_time": "2022-11-03T18:05:03.279Z"
   },
   {
    "duration": 11,
    "start_time": "2022-11-03T18:05:03.311Z"
   },
   {
    "duration": 17,
    "start_time": "2022-11-03T18:05:03.324Z"
   },
   {
    "duration": 11,
    "start_time": "2022-11-03T18:05:03.342Z"
   },
   {
    "duration": 19,
    "start_time": "2022-11-03T18:05:03.355Z"
   },
   {
    "duration": 9,
    "start_time": "2022-11-03T18:05:03.377Z"
   },
   {
    "duration": 34,
    "start_time": "2022-11-03T18:05:03.388Z"
   },
   {
    "duration": 8,
    "start_time": "2022-11-03T18:05:03.423Z"
   },
   {
    "duration": 9,
    "start_time": "2022-11-03T18:05:03.433Z"
   },
   {
    "duration": 14,
    "start_time": "2022-11-03T18:05:03.444Z"
   },
   {
    "duration": 19,
    "start_time": "2022-11-03T18:05:03.460Z"
   },
   {
    "duration": 13,
    "start_time": "2022-11-03T18:05:03.481Z"
   },
   {
    "duration": 3,
    "start_time": "2022-11-03T18:05:03.496Z"
   },
   {
    "duration": 22,
    "start_time": "2022-11-03T18:05:03.500Z"
   },
   {
    "duration": 6,
    "start_time": "2022-11-03T18:05:03.523Z"
   },
   {
    "duration": 9,
    "start_time": "2022-11-03T18:05:03.530Z"
   },
   {
    "duration": 12,
    "start_time": "2022-11-03T18:05:03.540Z"
   },
   {
    "duration": 8,
    "start_time": "2022-11-03T18:05:03.553Z"
   },
   {
    "duration": 58,
    "start_time": "2022-11-03T18:05:03.563Z"
   },
   {
    "duration": 19,
    "start_time": "2022-11-03T18:05:33.838Z"
   },
   {
    "duration": 18,
    "start_time": "2022-11-03T18:08:44.662Z"
   },
   {
    "duration": 173,
    "start_time": "2022-11-03T18:14:23.515Z"
   },
   {
    "duration": 171,
    "start_time": "2022-11-03T18:14:33.410Z"
   },
   {
    "duration": 192,
    "start_time": "2022-11-03T18:14:49.090Z"
   },
   {
    "duration": 19,
    "start_time": "2022-11-03T18:18:53.802Z"
   },
   {
    "duration": 17,
    "start_time": "2022-11-03T18:19:10.498Z"
   },
   {
    "duration": 18,
    "start_time": "2022-11-03T18:19:23.770Z"
   },
   {
    "duration": 17,
    "start_time": "2022-11-03T18:20:00.720Z"
   },
   {
    "duration": 58,
    "start_time": "2022-11-06T09:45:38.241Z"
   },
   {
    "duration": 691,
    "start_time": "2022-11-06T09:45:46.507Z"
   },
   {
    "duration": 22,
    "start_time": "2022-11-06T09:45:47.200Z"
   },
   {
    "duration": 13,
    "start_time": "2022-11-06T09:45:47.224Z"
   },
   {
    "duration": 8,
    "start_time": "2022-11-06T09:45:47.239Z"
   },
   {
    "duration": 32,
    "start_time": "2022-11-06T09:45:47.250Z"
   },
   {
    "duration": 4,
    "start_time": "2022-11-06T09:45:47.283Z"
   },
   {
    "duration": 27,
    "start_time": "2022-11-06T09:45:47.289Z"
   },
   {
    "duration": 4,
    "start_time": "2022-11-06T09:45:47.318Z"
   },
   {
    "duration": 8,
    "start_time": "2022-11-06T09:45:47.323Z"
   },
   {
    "duration": 4,
    "start_time": "2022-11-06T09:45:47.333Z"
   },
   {
    "duration": 33,
    "start_time": "2022-11-06T09:45:47.338Z"
   },
   {
    "duration": 36,
    "start_time": "2022-11-06T09:45:47.373Z"
   },
   {
    "duration": 3,
    "start_time": "2022-11-06T09:45:47.411Z"
   },
   {
    "duration": 11,
    "start_time": "2022-11-06T09:45:47.416Z"
   },
   {
    "duration": 19,
    "start_time": "2022-11-06T09:45:47.428Z"
   },
   {
    "duration": 17,
    "start_time": "2022-11-06T09:45:47.448Z"
   },
   {
    "duration": 3,
    "start_time": "2022-11-06T09:45:47.466Z"
   },
   {
    "duration": 11,
    "start_time": "2022-11-06T09:45:47.471Z"
   },
   {
    "duration": 6,
    "start_time": "2022-11-06T09:45:47.509Z"
   },
   {
    "duration": 4,
    "start_time": "2022-11-06T09:45:47.517Z"
   },
   {
    "duration": 12,
    "start_time": "2022-11-06T09:45:47.522Z"
   },
   {
    "duration": 8,
    "start_time": "2022-11-06T09:45:47.535Z"
   },
   {
    "duration": 31,
    "start_time": "2022-11-06T09:45:47.544Z"
   },
   {
    "duration": 6,
    "start_time": "2022-11-06T09:46:10.802Z"
   },
   {
    "duration": 7,
    "start_time": "2022-11-06T09:46:19.649Z"
   },
   {
    "duration": 3,
    "start_time": "2022-11-06T09:46:49.443Z"
   },
   {
    "duration": 4,
    "start_time": "2022-11-06T09:46:57.599Z"
   },
   {
    "duration": 4,
    "start_time": "2022-11-06T09:47:01.333Z"
   },
   {
    "duration": 4,
    "start_time": "2022-11-06T09:47:10.751Z"
   },
   {
    "duration": 5,
    "start_time": "2022-11-06T09:47:26.551Z"
   },
   {
    "duration": 5,
    "start_time": "2022-11-06T09:49:22.659Z"
   },
   {
    "duration": 5,
    "start_time": "2022-11-06T09:49:36.230Z"
   },
   {
    "duration": 7,
    "start_time": "2022-11-06T09:49:46.494Z"
   },
   {
    "duration": 8,
    "start_time": "2022-11-06T09:50:53.353Z"
   },
   {
    "duration": 4,
    "start_time": "2022-11-06T09:53:47.858Z"
   },
   {
    "duration": 6,
    "start_time": "2022-11-06T09:53:56.721Z"
   },
   {
    "duration": 8,
    "start_time": "2022-11-06T10:07:00.035Z"
   },
   {
    "duration": 201,
    "start_time": "2022-11-06T10:07:21.195Z"
   },
   {
    "duration": 20,
    "start_time": "2022-11-06T10:07:50.472Z"
   },
   {
    "duration": 19,
    "start_time": "2022-11-06T10:08:06.488Z"
   },
   {
    "duration": 19,
    "start_time": "2022-11-06T10:29:09.192Z"
   },
   {
    "duration": 866,
    "start_time": "2022-11-06T10:30:42.517Z"
   },
   {
    "duration": 31,
    "start_time": "2022-11-06T10:30:59.366Z"
   },
   {
    "duration": 23,
    "start_time": "2022-11-06T10:32:07.995Z"
   },
   {
    "duration": 23,
    "start_time": "2022-11-06T10:32:17.547Z"
   },
   {
    "duration": 21,
    "start_time": "2022-11-06T10:32:30.800Z"
   },
   {
    "duration": 25,
    "start_time": "2022-11-06T10:36:18.262Z"
   },
   {
    "duration": 24,
    "start_time": "2022-11-06T10:44:47.267Z"
   },
   {
    "duration": 35,
    "start_time": "2022-11-06T10:46:41.590Z"
   },
   {
    "duration": 459,
    "start_time": "2022-11-06T10:49:02.033Z"
   },
   {
    "duration": 25,
    "start_time": "2022-11-06T10:52:25.595Z"
   },
   {
    "duration": 19,
    "start_time": "2022-11-06T10:52:46.202Z"
   },
   {
    "duration": 24,
    "start_time": "2022-11-06T10:53:33.786Z"
   },
   {
    "duration": 17,
    "start_time": "2022-11-06T10:54:44.374Z"
   },
   {
    "duration": 30,
    "start_time": "2022-11-06T10:55:53.597Z"
   },
   {
    "duration": 20,
    "start_time": "2022-11-06T10:56:08.734Z"
   },
   {
    "duration": 18,
    "start_time": "2022-11-06T10:56:46.579Z"
   },
   {
    "duration": 15,
    "start_time": "2022-11-06T10:57:10.482Z"
   },
   {
    "duration": 18,
    "start_time": "2022-11-06T10:57:39.420Z"
   },
   {
    "duration": 115,
    "start_time": "2022-11-06T11:02:48.037Z"
   },
   {
    "duration": 46,
    "start_time": "2022-11-06T11:03:31.326Z"
   },
   {
    "duration": 17,
    "start_time": "2022-11-06T11:04:18.580Z"
   },
   {
    "duration": 20,
    "start_time": "2022-11-06T11:05:05.643Z"
   },
   {
    "duration": 17,
    "start_time": "2022-11-06T11:05:40.971Z"
   },
   {
    "duration": 55,
    "start_time": "2022-11-06T11:05:51.402Z"
   },
   {
    "duration": 16,
    "start_time": "2022-11-06T11:06:14.777Z"
   },
   {
    "duration": 17,
    "start_time": "2022-11-06T11:07:00.757Z"
   },
   {
    "duration": 17,
    "start_time": "2022-11-06T11:07:12.147Z"
   },
   {
    "duration": 18,
    "start_time": "2022-11-06T11:07:18.009Z"
   },
   {
    "duration": 16,
    "start_time": "2022-11-06T11:07:28.215Z"
   },
   {
    "duration": 24,
    "start_time": "2022-11-06T11:11:56.415Z"
   },
   {
    "duration": 22,
    "start_time": "2022-11-06T11:15:27.285Z"
   },
   {
    "duration": 32,
    "start_time": "2022-11-06T11:16:37.422Z"
   },
   {
    "duration": 29,
    "start_time": "2022-11-06T11:16:51.782Z"
   },
   {
    "duration": 27,
    "start_time": "2022-11-06T12:42:50.502Z"
   },
   {
    "duration": 28,
    "start_time": "2022-11-06T12:43:18.366Z"
   },
   {
    "duration": 28,
    "start_time": "2022-11-06T12:47:42.300Z"
   },
   {
    "duration": 27,
    "start_time": "2022-11-06T12:48:04.719Z"
   },
   {
    "duration": 28,
    "start_time": "2022-11-06T12:48:38.605Z"
   },
   {
    "duration": 37,
    "start_time": "2022-11-06T12:48:42.723Z"
   },
   {
    "duration": 32,
    "start_time": "2022-11-06T12:49:16.681Z"
   },
   {
    "duration": 29,
    "start_time": "2022-11-06T12:49:36.050Z"
   },
   {
    "duration": 27,
    "start_time": "2022-11-06T12:49:55.151Z"
   },
   {
    "duration": 28,
    "start_time": "2022-11-06T12:51:20.942Z"
   },
   {
    "duration": 39,
    "start_time": "2022-11-06T12:51:29.853Z"
   },
   {
    "duration": 2944,
    "start_time": "2022-11-06T12:57:07.038Z"
   },
   {
    "duration": 36,
    "start_time": "2022-11-06T12:57:43.250Z"
   },
   {
    "duration": 35,
    "start_time": "2022-11-06T12:59:35.623Z"
   },
   {
    "duration": 16,
    "start_time": "2022-11-06T12:59:56.878Z"
   },
   {
    "duration": 36,
    "start_time": "2022-11-06T13:00:26.645Z"
   },
   {
    "duration": 82,
    "start_time": "2022-11-06T13:00:36.037Z"
   },
   {
    "duration": 16,
    "start_time": "2022-11-06T13:00:36.123Z"
   },
   {
    "duration": 16,
    "start_time": "2022-11-06T13:00:36.141Z"
   },
   {
    "duration": 9,
    "start_time": "2022-11-06T13:00:36.159Z"
   },
   {
    "duration": 51,
    "start_time": "2022-11-06T13:00:36.169Z"
   },
   {
    "duration": 4,
    "start_time": "2022-11-06T13:00:36.222Z"
   },
   {
    "duration": 14,
    "start_time": "2022-11-06T13:00:36.228Z"
   },
   {
    "duration": 6,
    "start_time": "2022-11-06T13:00:36.243Z"
   },
   {
    "duration": 7,
    "start_time": "2022-11-06T13:00:36.251Z"
   },
   {
    "duration": 4,
    "start_time": "2022-11-06T13:00:36.260Z"
   },
   {
    "duration": 62,
    "start_time": "2022-11-06T13:00:36.266Z"
   },
   {
    "duration": 11,
    "start_time": "2022-11-06T13:00:36.330Z"
   },
   {
    "duration": 4,
    "start_time": "2022-11-06T13:00:36.343Z"
   },
   {
    "duration": 10,
    "start_time": "2022-11-06T13:00:36.349Z"
   },
   {
    "duration": 19,
    "start_time": "2022-11-06T13:00:36.361Z"
   },
   {
    "duration": 48,
    "start_time": "2022-11-06T13:00:36.382Z"
   },
   {
    "duration": 13,
    "start_time": "2022-11-06T13:00:36.432Z"
   },
   {
    "duration": 29,
    "start_time": "2022-11-06T13:00:36.446Z"
   },
   {
    "duration": 15,
    "start_time": "2022-11-06T13:00:36.477Z"
   },
   {
    "duration": 5,
    "start_time": "2022-11-06T13:00:36.494Z"
   },
   {
    "duration": 33,
    "start_time": "2022-11-06T13:00:36.501Z"
   },
   {
    "duration": 26,
    "start_time": "2022-11-06T13:00:36.536Z"
   },
   {
    "duration": 29,
    "start_time": "2022-11-06T13:00:36.564Z"
   },
   {
    "duration": 17,
    "start_time": "2022-11-06T13:00:36.594Z"
   },
   {
    "duration": 50,
    "start_time": "2022-11-06T13:00:36.613Z"
   },
   {
    "duration": 45,
    "start_time": "2022-11-06T13:00:39.997Z"
   },
   {
    "duration": 24,
    "start_time": "2022-11-06T13:00:58.051Z"
   },
   {
    "duration": 22,
    "start_time": "2022-11-06T13:01:28.523Z"
   },
   {
    "duration": 3143,
    "start_time": "2022-11-06T13:01:48.134Z"
   },
   {
    "duration": 36,
    "start_time": "2022-11-06T13:02:43.647Z"
   },
   {
    "duration": 34,
    "start_time": "2022-11-06T13:05:01.301Z"
   },
   {
    "duration": 29,
    "start_time": "2022-11-06T13:05:39.707Z"
   },
   {
    "duration": 29,
    "start_time": "2022-11-06T13:07:14.393Z"
   },
   {
    "duration": 30,
    "start_time": "2022-11-06T13:08:01.607Z"
   },
   {
    "duration": 25,
    "start_time": "2022-11-06T13:09:41.412Z"
   },
   {
    "duration": 24,
    "start_time": "2022-11-06T13:16:38.937Z"
   },
   {
    "duration": 24,
    "start_time": "2022-11-06T13:18:24.989Z"
   },
   {
    "duration": 26,
    "start_time": "2022-11-06T13:18:34.267Z"
   },
   {
    "duration": 29,
    "start_time": "2022-11-06T13:19:11.634Z"
   },
   {
    "duration": 26,
    "start_time": "2022-11-06T13:21:09.328Z"
   },
   {
    "duration": 910,
    "start_time": "2022-11-06T13:30:00.128Z"
   },
   {
    "duration": 37,
    "start_time": "2022-11-06T13:31:41.310Z"
   },
   {
    "duration": 23,
    "start_time": "2022-11-06T13:36:27.291Z"
   },
   {
    "duration": 31,
    "start_time": "2022-11-06T13:36:53.498Z"
   },
   {
    "duration": 25,
    "start_time": "2022-11-06T13:37:03.449Z"
   },
   {
    "duration": 21,
    "start_time": "2022-11-06T13:37:14.470Z"
   },
   {
    "duration": 38,
    "start_time": "2022-11-06T13:37:29.867Z"
   },
   {
    "duration": 29,
    "start_time": "2022-11-06T13:38:06.439Z"
   },
   {
    "duration": 35,
    "start_time": "2022-11-06T13:40:36.916Z"
   },
   {
    "duration": 33,
    "start_time": "2022-11-06T14:00:00.961Z"
   },
   {
    "duration": 30,
    "start_time": "2022-11-06T14:01:39.837Z"
   },
   {
    "duration": 45,
    "start_time": "2022-11-06T14:02:10.902Z"
   },
   {
    "duration": 37,
    "start_time": "2022-11-06T14:02:15.340Z"
   },
   {
    "duration": 33,
    "start_time": "2022-11-06T14:03:15.682Z"
   },
   {
    "duration": 35,
    "start_time": "2022-11-06T14:33:50.977Z"
   },
   {
    "duration": 69,
    "start_time": "2022-11-06T15:22:23.580Z"
   },
   {
    "duration": 14,
    "start_time": "2022-11-06T15:22:23.651Z"
   },
   {
    "duration": 29,
    "start_time": "2022-11-06T15:22:23.667Z"
   },
   {
    "duration": 11,
    "start_time": "2022-11-06T15:22:23.698Z"
   },
   {
    "duration": 39,
    "start_time": "2022-11-06T15:22:23.710Z"
   },
   {
    "duration": 3,
    "start_time": "2022-11-06T15:22:23.751Z"
   },
   {
    "duration": 19,
    "start_time": "2022-11-06T15:22:23.756Z"
   },
   {
    "duration": 6,
    "start_time": "2022-11-06T15:22:23.776Z"
   },
   {
    "duration": 6,
    "start_time": "2022-11-06T15:22:23.783Z"
   },
   {
    "duration": 11,
    "start_time": "2022-11-06T15:22:23.792Z"
   },
   {
    "duration": 37,
    "start_time": "2022-11-06T15:22:23.809Z"
   },
   {
    "duration": 11,
    "start_time": "2022-11-06T15:22:23.848Z"
   },
   {
    "duration": 9,
    "start_time": "2022-11-06T15:22:23.861Z"
   },
   {
    "duration": 22,
    "start_time": "2022-11-06T15:22:23.872Z"
   },
   {
    "duration": 22,
    "start_time": "2022-11-06T15:22:23.895Z"
   },
   {
    "duration": 17,
    "start_time": "2022-11-06T15:22:23.919Z"
   },
   {
    "duration": 5,
    "start_time": "2022-11-06T15:22:23.937Z"
   },
   {
    "duration": 25,
    "start_time": "2022-11-06T15:22:23.943Z"
   },
   {
    "duration": 11,
    "start_time": "2022-11-06T15:22:23.969Z"
   },
   {
    "duration": 4,
    "start_time": "2022-11-06T15:22:23.982Z"
   },
   {
    "duration": 23,
    "start_time": "2022-11-06T15:22:23.988Z"
   },
   {
    "duration": 26,
    "start_time": "2022-11-06T15:22:24.013Z"
   },
   {
    "duration": 30,
    "start_time": "2022-11-06T15:22:24.040Z"
   },
   {
    "duration": 52,
    "start_time": "2022-11-06T15:22:24.072Z"
   },
   {
    "duration": 30,
    "start_time": "2022-11-06T15:22:24.125Z"
   },
   {
    "duration": 707,
    "start_time": "2022-11-06T15:40:55.455Z"
   },
   {
    "duration": 21,
    "start_time": "2022-11-06T15:40:56.163Z"
   },
   {
    "duration": 14,
    "start_time": "2022-11-06T15:40:56.186Z"
   },
   {
    "duration": 9,
    "start_time": "2022-11-06T15:40:56.202Z"
   },
   {
    "duration": 41,
    "start_time": "2022-11-06T15:40:56.213Z"
   },
   {
    "duration": 4,
    "start_time": "2022-11-06T15:40:56.255Z"
   },
   {
    "duration": 11,
    "start_time": "2022-11-06T15:40:56.260Z"
   },
   {
    "duration": 4,
    "start_time": "2022-11-06T15:40:56.272Z"
   },
   {
    "duration": 8,
    "start_time": "2022-11-06T15:40:56.278Z"
   },
   {
    "duration": 4,
    "start_time": "2022-11-06T15:40:56.288Z"
   },
   {
    "duration": 58,
    "start_time": "2022-11-06T15:40:56.293Z"
   },
   {
    "duration": 9,
    "start_time": "2022-11-06T15:40:56.353Z"
   },
   {
    "duration": 5,
    "start_time": "2022-11-06T15:40:56.363Z"
   },
   {
    "duration": 11,
    "start_time": "2022-11-06T15:40:56.369Z"
   },
   {
    "duration": 20,
    "start_time": "2022-11-06T15:40:56.382Z"
   },
   {
    "duration": 41,
    "start_time": "2022-11-06T15:40:56.403Z"
   },
   {
    "duration": 3,
    "start_time": "2022-11-06T15:40:56.446Z"
   },
   {
    "duration": 14,
    "start_time": "2022-11-06T15:40:56.450Z"
   },
   {
    "duration": 5,
    "start_time": "2022-11-06T15:40:56.466Z"
   },
   {
    "duration": 3,
    "start_time": "2022-11-06T15:40:56.472Z"
   },
   {
    "duration": 9,
    "start_time": "2022-11-06T15:40:56.477Z"
   },
   {
    "duration": 293,
    "start_time": "2022-11-06T15:40:56.488Z"
   },
   {
    "duration": 33,
    "start_time": "2022-11-06T15:40:56.783Z"
   },
   {
    "duration": 44,
    "start_time": "2022-11-06T15:40:56.818Z"
   },
   {
    "duration": 28,
    "start_time": "2022-11-06T15:40:56.864Z"
   },
   {
    "duration": 82,
    "start_time": "2022-11-06T18:17:52.808Z"
   },
   {
    "duration": 57,
    "start_time": "2022-11-06T18:18:58.419Z"
   },
   {
    "duration": 45,
    "start_time": "2022-11-06T18:19:34.241Z"
   },
   {
    "duration": 42,
    "start_time": "2022-11-06T18:19:54.090Z"
   },
   {
    "duration": 46,
    "start_time": "2022-11-06T18:19:58.992Z"
   },
   {
    "duration": 40,
    "start_time": "2022-11-06T18:20:49.906Z"
   },
   {
    "duration": 51,
    "start_time": "2022-11-06T18:22:17.150Z"
   },
   {
    "duration": 3,
    "start_time": "2022-11-06T18:24:40.055Z"
   },
   {
    "duration": 3,
    "start_time": "2022-11-06T18:25:10.295Z"
   },
   {
    "duration": 44,
    "start_time": "2022-11-06T18:26:50.542Z"
   },
   {
    "duration": 3,
    "start_time": "2022-11-06T18:33:07.400Z"
   },
   {
    "duration": 2,
    "start_time": "2022-11-06T18:33:43.908Z"
   },
   {
    "duration": 2,
    "start_time": "2022-11-06T18:35:52.236Z"
   },
   {
    "duration": 37,
    "start_time": "2022-11-06T18:58:15.592Z"
   },
   {
    "duration": 46,
    "start_time": "2022-11-06T19:01:04.180Z"
   },
   {
    "duration": 757,
    "start_time": "2022-11-06T19:01:10.441Z"
   },
   {
    "duration": 23,
    "start_time": "2022-11-06T19:01:11.200Z"
   },
   {
    "duration": 19,
    "start_time": "2022-11-06T19:01:11.225Z"
   },
   {
    "duration": 13,
    "start_time": "2022-11-06T19:01:11.246Z"
   },
   {
    "duration": 53,
    "start_time": "2022-11-06T19:01:11.265Z"
   },
   {
    "duration": 4,
    "start_time": "2022-11-06T19:01:11.320Z"
   },
   {
    "duration": 13,
    "start_time": "2022-11-06T19:01:11.326Z"
   },
   {
    "duration": 6,
    "start_time": "2022-11-06T19:01:13.353Z"
   },
   {
    "duration": 37,
    "start_time": "2022-11-06T19:01:34.535Z"
   },
   {
    "duration": 16,
    "start_time": "2022-11-06T19:01:51.443Z"
   },
   {
    "duration": 15,
    "start_time": "2022-11-06T19:02:17.154Z"
   },
   {
    "duration": 5,
    "start_time": "2022-11-06T19:02:58.536Z"
   },
   {
    "duration": 74,
    "start_time": "2022-11-06T19:07:34.671Z"
   }
  ],
  "colab": {
   "name": "dpp_template_part2.ipynb",
   "provenance": []
  },
  "kernelspec": {
   "display_name": "Python 3 (ipykernel)",
   "language": "python",
   "name": "python3"
  },
  "language_info": {
   "codemirror_mode": {
    "name": "ipython",
    "version": 3
   },
   "file_extension": ".py",
   "mimetype": "text/x-python",
   "name": "python",
   "nbconvert_exporter": "python",
   "pygments_lexer": "ipython3",
   "version": "3.9.5"
  },
  "toc": {
   "base_numbering": 1,
   "nav_menu": {},
   "number_sections": true,
   "sideBar": true,
   "skip_h1_title": true,
   "title_cell": "Table of Contents",
   "title_sidebar": "Contents",
   "toc_cell": false,
   "toc_position": {},
   "toc_section_display": true,
   "toc_window_display": false
  }
 },
 "nbformat": 4,
 "nbformat_minor": 5
}
