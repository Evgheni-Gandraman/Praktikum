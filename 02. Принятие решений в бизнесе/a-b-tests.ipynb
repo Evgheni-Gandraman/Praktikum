{
 "cells": [
  {
   "cell_type": "markdown",
   "metadata": {},
   "source": [
    "Отдел аналитики вместе с отделом маркетинга крупного интернет-магазина подготовили список гипотез для увеличения выручки. Необходимо провести приоритезацию гипотез, запустить и проанализировать А/В тест.\n",
    "\n",
    "План работы:\n",
    "1. предобработка данных\n",
    "\n",
    "2. приоритезация гипотез:\n",
    "- по фреймоворку ICE\n",
    "- по фреймворку RICE\n",
    "- выделение лидирующей гипотезы\n",
    "\n",
    "3. Анализ А/В теста:\n",
    "- Построим график кумулятивной выручки по группам\n",
    "- Построим график кумулятивного среднего чека по группам\n",
    "- Построим график относительного изменения кумулятивного среднего чека группы B к группе A\n",
    "- Построим график кумулятивного среднего количества заказов на посетителя по группам\n",
    "- Построим график относительного изменения кумулятивного среднего количества заказов на посетителя группы B к группе A\n",
    "- Построим точечный график количества заказов по пользователям\n",
    "- Посчитаем 95-й и 99-й перцентили количества заказов на пользователя \n",
    "- Выберем границу для определения аномальных пользователей\n",
    "- Построим точечный график стоимостей заказов\n",
    "- Посчитаем 95-й и 99-й перцентили стоимости заказов \n",
    "- Выберем границу для определения аномальных заказов\n",
    "- Посчитаем статистическую значимость различий в среднем количестве заказов на посетителя между группами по «сырым» данным\n",
    "- Посчитаем статистическую значимость различий в среднем чеке заказа между группами по «сырым» данным\n",
    "- Посчитаем статистическую значимость различий в среднем количестве заказов на посетителя между группами по «очищенным» данным\n",
    "- Посчитаем статистическую значимость различий в среднем чеке заказа между группами по «очищенным» данным\n",
    "\n",
    "4. Примем решение по результатам теста. Варианты решений:\n",
    " - Остановить тест, зафиксировать победу одной из групп\n",
    " - Остановить тест, зафиксировать отсутствие различий между группами\n",
    " - Продолжить тест"
   ]
  },
  {
   "cell_type": "code",
   "execution_count": 1,
   "metadata": {},
   "outputs": [],
   "source": [
    "import pandas as pd\n",
    "import datetime as dt\n",
    "import numpy as np\n",
    "import matplotlib.pyplot as plt\n",
    "from pandas.plotting import register_matplotlib_converters\n",
    "import scipy.stats as stats\n",
    "pd.set_option('display.max_colwidth', None) # отображения полного содержания ячеек"
   ]
  },
  {
   "cell_type": "code",
   "execution_count": 2,
   "metadata": {},
   "outputs": [],
   "source": [
    "# сохраним данные в таблицы\n",
    "hypothesis = pd.read_csv('/datasets/hypothesis.csv')\n",
    "orders = pd.read_csv('/datasets/orders.csv')\n",
    "visitors = pd.read_csv('/datasets/visitors.csv')\n"
   ]
  },
  {
   "cell_type": "code",
   "execution_count": 3,
   "metadata": {},
   "outputs": [],
   "source": [
    "# напишем функцию для получения информации о датафрейме\n",
    "\n",
    "def df_info (data):\n",
    "    print('\\n Первые 10 строк')\n",
    "    display(data.head(10))\n",
    "    print('\\n Последние 10 строк')\n",
    "    display(data.tail(10))\n",
    "    print('\\n Типы данных \\n')\n",
    "    display(data.info())\n",
    "    print('\\n Статистическая сводка')\n",
    "    display(data.describe())\n",
    "    print('\\n Пропуски')\n",
    "    display(data.isna().sum())\n",
    "    print('\\n Процент пропусков от всего датасета')\n",
    "    display(data.isna().mean().sort_values(ascending=False)*100)\n",
    "    print('\\n Дубликаты')\n",
    "    if data.duplicated().sum() > 0:\n",
    "        print('Дубликатов: ', data.duplicated().sum())\n",
    "    else:\n",
    "        print('Дубликатов НЕТ')"
   ]
  },
  {
   "cell_type": "code",
   "execution_count": 4,
   "metadata": {},
   "outputs": [
    {
     "name": "stdout",
     "output_type": "stream",
     "text": [
      "\n",
      " Первые 10 строк\n"
     ]
    },
    {
     "data": {
      "text/html": [
       "<div>\n",
       "<style scoped>\n",
       "    .dataframe tbody tr th:only-of-type {\n",
       "        vertical-align: middle;\n",
       "    }\n",
       "\n",
       "    .dataframe tbody tr th {\n",
       "        vertical-align: top;\n",
       "    }\n",
       "\n",
       "    .dataframe thead th {\n",
       "        text-align: right;\n",
       "    }\n",
       "</style>\n",
       "<table border=\"1\" class=\"dataframe\">\n",
       "  <thead>\n",
       "    <tr style=\"text-align: right;\">\n",
       "      <th></th>\n",
       "      <th>Hypothesis</th>\n",
       "      <th>Reach</th>\n",
       "      <th>Impact</th>\n",
       "      <th>Confidence</th>\n",
       "      <th>Efforts</th>\n",
       "    </tr>\n",
       "  </thead>\n",
       "  <tbody>\n",
       "    <tr>\n",
       "      <th>0</th>\n",
       "      <td>Добавить два новых канала привлечения трафика, что позволит привлекать на 30% больше пользователей</td>\n",
       "      <td>3</td>\n",
       "      <td>10</td>\n",
       "      <td>8</td>\n",
       "      <td>6</td>\n",
       "    </tr>\n",
       "    <tr>\n",
       "      <th>1</th>\n",
       "      <td>Запустить собственную службу доставки, что сократит срок доставки заказов</td>\n",
       "      <td>2</td>\n",
       "      <td>5</td>\n",
       "      <td>4</td>\n",
       "      <td>10</td>\n",
       "    </tr>\n",
       "    <tr>\n",
       "      <th>2</th>\n",
       "      <td>Добавить блоки рекомендаций товаров на сайт интернет магазина, чтобы повысить конверсию и средний чек заказа</td>\n",
       "      <td>8</td>\n",
       "      <td>3</td>\n",
       "      <td>7</td>\n",
       "      <td>3</td>\n",
       "    </tr>\n",
       "    <tr>\n",
       "      <th>3</th>\n",
       "      <td>Изменить структура категорий, что увеличит конверсию, т.к. пользователи быстрее найдут нужный товар</td>\n",
       "      <td>8</td>\n",
       "      <td>3</td>\n",
       "      <td>3</td>\n",
       "      <td>8</td>\n",
       "    </tr>\n",
       "    <tr>\n",
       "      <th>4</th>\n",
       "      <td>Изменить цвет фона главной страницы, чтобы увеличить вовлеченность пользователей</td>\n",
       "      <td>3</td>\n",
       "      <td>1</td>\n",
       "      <td>1</td>\n",
       "      <td>1</td>\n",
       "    </tr>\n",
       "    <tr>\n",
       "      <th>5</th>\n",
       "      <td>Добавить страницу отзывов клиентов о магазине, что позволит увеличить количество заказов</td>\n",
       "      <td>3</td>\n",
       "      <td>2</td>\n",
       "      <td>2</td>\n",
       "      <td>3</td>\n",
       "    </tr>\n",
       "    <tr>\n",
       "      <th>6</th>\n",
       "      <td>Показать на главной странице баннеры с актуальными акциями и распродажами, чтобы увеличить конверсию</td>\n",
       "      <td>5</td>\n",
       "      <td>3</td>\n",
       "      <td>8</td>\n",
       "      <td>3</td>\n",
       "    </tr>\n",
       "    <tr>\n",
       "      <th>7</th>\n",
       "      <td>Добавить форму подписки на все основные страницы, чтобы собрать базу клиентов для email-рассылок</td>\n",
       "      <td>10</td>\n",
       "      <td>7</td>\n",
       "      <td>8</td>\n",
       "      <td>5</td>\n",
       "    </tr>\n",
       "    <tr>\n",
       "      <th>8</th>\n",
       "      <td>Запустить акцию, дающую скидку на товар в день рождения</td>\n",
       "      <td>1</td>\n",
       "      <td>9</td>\n",
       "      <td>9</td>\n",
       "      <td>5</td>\n",
       "    </tr>\n",
       "  </tbody>\n",
       "</table>\n",
       "</div>"
      ],
      "text/plain": [
       "                                                                                                     Hypothesis  \\\n",
       "0            Добавить два новых канала привлечения трафика, что позволит привлекать на 30% больше пользователей   \n",
       "1                                     Запустить собственную службу доставки, что сократит срок доставки заказов   \n",
       "2  Добавить блоки рекомендаций товаров на сайт интернет магазина, чтобы повысить конверсию и средний чек заказа   \n",
       "3           Изменить структура категорий, что увеличит конверсию, т.к. пользователи быстрее найдут нужный товар   \n",
       "4                              Изменить цвет фона главной страницы, чтобы увеличить вовлеченность пользователей   \n",
       "5                      Добавить страницу отзывов клиентов о магазине, что позволит увеличить количество заказов   \n",
       "6          Показать на главной странице баннеры с актуальными акциями и распродажами, чтобы увеличить конверсию   \n",
       "7              Добавить форму подписки на все основные страницы, чтобы собрать базу клиентов для email-рассылок   \n",
       "8                                                       Запустить акцию, дающую скидку на товар в день рождения   \n",
       "\n",
       "   Reach  Impact  Confidence  Efforts  \n",
       "0      3      10           8        6  \n",
       "1      2       5           4       10  \n",
       "2      8       3           7        3  \n",
       "3      8       3           3        8  \n",
       "4      3       1           1        1  \n",
       "5      3       2           2        3  \n",
       "6      5       3           8        3  \n",
       "7     10       7           8        5  \n",
       "8      1       9           9        5  "
      ]
     },
     "metadata": {},
     "output_type": "display_data"
    },
    {
     "name": "stdout",
     "output_type": "stream",
     "text": [
      "\n",
      " Последние 10 строк\n"
     ]
    },
    {
     "data": {
      "text/html": [
       "<div>\n",
       "<style scoped>\n",
       "    .dataframe tbody tr th:only-of-type {\n",
       "        vertical-align: middle;\n",
       "    }\n",
       "\n",
       "    .dataframe tbody tr th {\n",
       "        vertical-align: top;\n",
       "    }\n",
       "\n",
       "    .dataframe thead th {\n",
       "        text-align: right;\n",
       "    }\n",
       "</style>\n",
       "<table border=\"1\" class=\"dataframe\">\n",
       "  <thead>\n",
       "    <tr style=\"text-align: right;\">\n",
       "      <th></th>\n",
       "      <th>Hypothesis</th>\n",
       "      <th>Reach</th>\n",
       "      <th>Impact</th>\n",
       "      <th>Confidence</th>\n",
       "      <th>Efforts</th>\n",
       "    </tr>\n",
       "  </thead>\n",
       "  <tbody>\n",
       "    <tr>\n",
       "      <th>0</th>\n",
       "      <td>Добавить два новых канала привлечения трафика, что позволит привлекать на 30% больше пользователей</td>\n",
       "      <td>3</td>\n",
       "      <td>10</td>\n",
       "      <td>8</td>\n",
       "      <td>6</td>\n",
       "    </tr>\n",
       "    <tr>\n",
       "      <th>1</th>\n",
       "      <td>Запустить собственную службу доставки, что сократит срок доставки заказов</td>\n",
       "      <td>2</td>\n",
       "      <td>5</td>\n",
       "      <td>4</td>\n",
       "      <td>10</td>\n",
       "    </tr>\n",
       "    <tr>\n",
       "      <th>2</th>\n",
       "      <td>Добавить блоки рекомендаций товаров на сайт интернет магазина, чтобы повысить конверсию и средний чек заказа</td>\n",
       "      <td>8</td>\n",
       "      <td>3</td>\n",
       "      <td>7</td>\n",
       "      <td>3</td>\n",
       "    </tr>\n",
       "    <tr>\n",
       "      <th>3</th>\n",
       "      <td>Изменить структура категорий, что увеличит конверсию, т.к. пользователи быстрее найдут нужный товар</td>\n",
       "      <td>8</td>\n",
       "      <td>3</td>\n",
       "      <td>3</td>\n",
       "      <td>8</td>\n",
       "    </tr>\n",
       "    <tr>\n",
       "      <th>4</th>\n",
       "      <td>Изменить цвет фона главной страницы, чтобы увеличить вовлеченность пользователей</td>\n",
       "      <td>3</td>\n",
       "      <td>1</td>\n",
       "      <td>1</td>\n",
       "      <td>1</td>\n",
       "    </tr>\n",
       "    <tr>\n",
       "      <th>5</th>\n",
       "      <td>Добавить страницу отзывов клиентов о магазине, что позволит увеличить количество заказов</td>\n",
       "      <td>3</td>\n",
       "      <td>2</td>\n",
       "      <td>2</td>\n",
       "      <td>3</td>\n",
       "    </tr>\n",
       "    <tr>\n",
       "      <th>6</th>\n",
       "      <td>Показать на главной странице баннеры с актуальными акциями и распродажами, чтобы увеличить конверсию</td>\n",
       "      <td>5</td>\n",
       "      <td>3</td>\n",
       "      <td>8</td>\n",
       "      <td>3</td>\n",
       "    </tr>\n",
       "    <tr>\n",
       "      <th>7</th>\n",
       "      <td>Добавить форму подписки на все основные страницы, чтобы собрать базу клиентов для email-рассылок</td>\n",
       "      <td>10</td>\n",
       "      <td>7</td>\n",
       "      <td>8</td>\n",
       "      <td>5</td>\n",
       "    </tr>\n",
       "    <tr>\n",
       "      <th>8</th>\n",
       "      <td>Запустить акцию, дающую скидку на товар в день рождения</td>\n",
       "      <td>1</td>\n",
       "      <td>9</td>\n",
       "      <td>9</td>\n",
       "      <td>5</td>\n",
       "    </tr>\n",
       "  </tbody>\n",
       "</table>\n",
       "</div>"
      ],
      "text/plain": [
       "                                                                                                     Hypothesis  \\\n",
       "0            Добавить два новых канала привлечения трафика, что позволит привлекать на 30% больше пользователей   \n",
       "1                                     Запустить собственную службу доставки, что сократит срок доставки заказов   \n",
       "2  Добавить блоки рекомендаций товаров на сайт интернет магазина, чтобы повысить конверсию и средний чек заказа   \n",
       "3           Изменить структура категорий, что увеличит конверсию, т.к. пользователи быстрее найдут нужный товар   \n",
       "4                              Изменить цвет фона главной страницы, чтобы увеличить вовлеченность пользователей   \n",
       "5                      Добавить страницу отзывов клиентов о магазине, что позволит увеличить количество заказов   \n",
       "6          Показать на главной странице баннеры с актуальными акциями и распродажами, чтобы увеличить конверсию   \n",
       "7              Добавить форму подписки на все основные страницы, чтобы собрать базу клиентов для email-рассылок   \n",
       "8                                                       Запустить акцию, дающую скидку на товар в день рождения   \n",
       "\n",
       "   Reach  Impact  Confidence  Efforts  \n",
       "0      3      10           8        6  \n",
       "1      2       5           4       10  \n",
       "2      8       3           7        3  \n",
       "3      8       3           3        8  \n",
       "4      3       1           1        1  \n",
       "5      3       2           2        3  \n",
       "6      5       3           8        3  \n",
       "7     10       7           8        5  \n",
       "8      1       9           9        5  "
      ]
     },
     "metadata": {},
     "output_type": "display_data"
    },
    {
     "name": "stdout",
     "output_type": "stream",
     "text": [
      "\n",
      " Типы данных \n",
      "\n",
      "<class 'pandas.core.frame.DataFrame'>\n",
      "RangeIndex: 9 entries, 0 to 8\n",
      "Data columns (total 5 columns):\n",
      " #   Column      Non-Null Count  Dtype \n",
      "---  ------      --------------  ----- \n",
      " 0   Hypothesis  9 non-null      object\n",
      " 1   Reach       9 non-null      int64 \n",
      " 2   Impact      9 non-null      int64 \n",
      " 3   Confidence  9 non-null      int64 \n",
      " 4   Efforts     9 non-null      int64 \n",
      "dtypes: int64(4), object(1)\n",
      "memory usage: 488.0+ bytes\n"
     ]
    },
    {
     "data": {
      "text/plain": [
       "None"
      ]
     },
     "metadata": {},
     "output_type": "display_data"
    },
    {
     "name": "stdout",
     "output_type": "stream",
     "text": [
      "\n",
      " Статистическая сводка\n"
     ]
    },
    {
     "data": {
      "text/html": [
       "<div>\n",
       "<style scoped>\n",
       "    .dataframe tbody tr th:only-of-type {\n",
       "        vertical-align: middle;\n",
       "    }\n",
       "\n",
       "    .dataframe tbody tr th {\n",
       "        vertical-align: top;\n",
       "    }\n",
       "\n",
       "    .dataframe thead th {\n",
       "        text-align: right;\n",
       "    }\n",
       "</style>\n",
       "<table border=\"1\" class=\"dataframe\">\n",
       "  <thead>\n",
       "    <tr style=\"text-align: right;\">\n",
       "      <th></th>\n",
       "      <th>Reach</th>\n",
       "      <th>Impact</th>\n",
       "      <th>Confidence</th>\n",
       "      <th>Efforts</th>\n",
       "    </tr>\n",
       "  </thead>\n",
       "  <tbody>\n",
       "    <tr>\n",
       "      <th>count</th>\n",
       "      <td>9.000000</td>\n",
       "      <td>9.000000</td>\n",
       "      <td>9.000000</td>\n",
       "      <td>9.000000</td>\n",
       "    </tr>\n",
       "    <tr>\n",
       "      <th>mean</th>\n",
       "      <td>4.777778</td>\n",
       "      <td>4.777778</td>\n",
       "      <td>5.555556</td>\n",
       "      <td>4.888889</td>\n",
       "    </tr>\n",
       "    <tr>\n",
       "      <th>std</th>\n",
       "      <td>3.153481</td>\n",
       "      <td>3.192874</td>\n",
       "      <td>3.045944</td>\n",
       "      <td>2.803767</td>\n",
       "    </tr>\n",
       "    <tr>\n",
       "      <th>min</th>\n",
       "      <td>1.000000</td>\n",
       "      <td>1.000000</td>\n",
       "      <td>1.000000</td>\n",
       "      <td>1.000000</td>\n",
       "    </tr>\n",
       "    <tr>\n",
       "      <th>25%</th>\n",
       "      <td>3.000000</td>\n",
       "      <td>3.000000</td>\n",
       "      <td>3.000000</td>\n",
       "      <td>3.000000</td>\n",
       "    </tr>\n",
       "    <tr>\n",
       "      <th>50%</th>\n",
       "      <td>3.000000</td>\n",
       "      <td>3.000000</td>\n",
       "      <td>7.000000</td>\n",
       "      <td>5.000000</td>\n",
       "    </tr>\n",
       "    <tr>\n",
       "      <th>75%</th>\n",
       "      <td>8.000000</td>\n",
       "      <td>7.000000</td>\n",
       "      <td>8.000000</td>\n",
       "      <td>6.000000</td>\n",
       "    </tr>\n",
       "    <tr>\n",
       "      <th>max</th>\n",
       "      <td>10.000000</td>\n",
       "      <td>10.000000</td>\n",
       "      <td>9.000000</td>\n",
       "      <td>10.000000</td>\n",
       "    </tr>\n",
       "  </tbody>\n",
       "</table>\n",
       "</div>"
      ],
      "text/plain": [
       "           Reach     Impact  Confidence    Efforts\n",
       "count   9.000000   9.000000    9.000000   9.000000\n",
       "mean    4.777778   4.777778    5.555556   4.888889\n",
       "std     3.153481   3.192874    3.045944   2.803767\n",
       "min     1.000000   1.000000    1.000000   1.000000\n",
       "25%     3.000000   3.000000    3.000000   3.000000\n",
       "50%     3.000000   3.000000    7.000000   5.000000\n",
       "75%     8.000000   7.000000    8.000000   6.000000\n",
       "max    10.000000  10.000000    9.000000  10.000000"
      ]
     },
     "metadata": {},
     "output_type": "display_data"
    },
    {
     "name": "stdout",
     "output_type": "stream",
     "text": [
      "\n",
      " Пропуски\n"
     ]
    },
    {
     "data": {
      "text/plain": [
       "Hypothesis    0\n",
       "Reach         0\n",
       "Impact        0\n",
       "Confidence    0\n",
       "Efforts       0\n",
       "dtype: int64"
      ]
     },
     "metadata": {},
     "output_type": "display_data"
    },
    {
     "name": "stdout",
     "output_type": "stream",
     "text": [
      "\n",
      " Процент пропусков от всего датасета\n"
     ]
    },
    {
     "data": {
      "text/plain": [
       "Hypothesis    0.0\n",
       "Reach         0.0\n",
       "Impact        0.0\n",
       "Confidence    0.0\n",
       "Efforts       0.0\n",
       "dtype: float64"
      ]
     },
     "metadata": {},
     "output_type": "display_data"
    },
    {
     "name": "stdout",
     "output_type": "stream",
     "text": [
      "\n",
      " Дубликаты\n",
      "Дубликатов НЕТ\n"
     ]
    }
   ],
   "source": [
    "# проверим на ошибки датасет hypothesis\n",
    "df_info(hypothesis)"
   ]
  },
  {
   "cell_type": "markdown",
   "metadata": {},
   "source": [
    "Как видим, дубликатов и пропусков нет, типы данных корректные. Приведём названия столбцов к общепринятому формату:"
   ]
  },
  {
   "cell_type": "code",
   "execution_count": 5,
   "metadata": {},
   "outputs": [
    {
     "data": {
      "text/html": [
       "<div>\n",
       "<style scoped>\n",
       "    .dataframe tbody tr th:only-of-type {\n",
       "        vertical-align: middle;\n",
       "    }\n",
       "\n",
       "    .dataframe tbody tr th {\n",
       "        vertical-align: top;\n",
       "    }\n",
       "\n",
       "    .dataframe thead th {\n",
       "        text-align: right;\n",
       "    }\n",
       "</style>\n",
       "<table border=\"1\" class=\"dataframe\">\n",
       "  <thead>\n",
       "    <tr style=\"text-align: right;\">\n",
       "      <th></th>\n",
       "      <th>hypothesis</th>\n",
       "      <th>reach</th>\n",
       "      <th>impact</th>\n",
       "      <th>confidence</th>\n",
       "      <th>efforts</th>\n",
       "    </tr>\n",
       "  </thead>\n",
       "  <tbody>\n",
       "    <tr>\n",
       "      <th>0</th>\n",
       "      <td>Добавить два новых канала привлечения трафика, что позволит привлекать на 30% больше пользователей</td>\n",
       "      <td>3</td>\n",
       "      <td>10</td>\n",
       "      <td>8</td>\n",
       "      <td>6</td>\n",
       "    </tr>\n",
       "    <tr>\n",
       "      <th>1</th>\n",
       "      <td>Запустить собственную службу доставки, что сократит срок доставки заказов</td>\n",
       "      <td>2</td>\n",
       "      <td>5</td>\n",
       "      <td>4</td>\n",
       "      <td>10</td>\n",
       "    </tr>\n",
       "    <tr>\n",
       "      <th>2</th>\n",
       "      <td>Добавить блоки рекомендаций товаров на сайт интернет магазина, чтобы повысить конверсию и средний чек заказа</td>\n",
       "      <td>8</td>\n",
       "      <td>3</td>\n",
       "      <td>7</td>\n",
       "      <td>3</td>\n",
       "    </tr>\n",
       "    <tr>\n",
       "      <th>3</th>\n",
       "      <td>Изменить структура категорий, что увеличит конверсию, т.к. пользователи быстрее найдут нужный товар</td>\n",
       "      <td>8</td>\n",
       "      <td>3</td>\n",
       "      <td>3</td>\n",
       "      <td>8</td>\n",
       "    </tr>\n",
       "    <tr>\n",
       "      <th>4</th>\n",
       "      <td>Изменить цвет фона главной страницы, чтобы увеличить вовлеченность пользователей</td>\n",
       "      <td>3</td>\n",
       "      <td>1</td>\n",
       "      <td>1</td>\n",
       "      <td>1</td>\n",
       "    </tr>\n",
       "  </tbody>\n",
       "</table>\n",
       "</div>"
      ],
      "text/plain": [
       "                                                                                                     hypothesis  \\\n",
       "0            Добавить два новых канала привлечения трафика, что позволит привлекать на 30% больше пользователей   \n",
       "1                                     Запустить собственную службу доставки, что сократит срок доставки заказов   \n",
       "2  Добавить блоки рекомендаций товаров на сайт интернет магазина, чтобы повысить конверсию и средний чек заказа   \n",
       "3           Изменить структура категорий, что увеличит конверсию, т.к. пользователи быстрее найдут нужный товар   \n",
       "4                              Изменить цвет фона главной страницы, чтобы увеличить вовлеченность пользователей   \n",
       "\n",
       "   reach  impact  confidence  efforts  \n",
       "0      3      10           8        6  \n",
       "1      2       5           4       10  \n",
       "2      8       3           7        3  \n",
       "3      8       3           3        8  \n",
       "4      3       1           1        1  "
      ]
     },
     "execution_count": 5,
     "metadata": {},
     "output_type": "execute_result"
    }
   ],
   "source": [
    "hypothesis.columns = hypothesis.columns.str.lower() \n",
    "hypothesis.head()"
   ]
  },
  {
   "cell_type": "markdown",
   "metadata": {},
   "source": [
    " \n",
    " "
   ]
  },
  {
   "cell_type": "markdown",
   "metadata": {},
   "source": [
    "Проверим остальные 2 датасета на ошибки"
   ]
  },
  {
   "cell_type": "code",
   "execution_count": 6,
   "metadata": {},
   "outputs": [
    {
     "name": "stdout",
     "output_type": "stream",
     "text": [
      "\n",
      " Первые 10 строк\n"
     ]
    },
    {
     "data": {
      "text/html": [
       "<div>\n",
       "<style scoped>\n",
       "    .dataframe tbody tr th:only-of-type {\n",
       "        vertical-align: middle;\n",
       "    }\n",
       "\n",
       "    .dataframe tbody tr th {\n",
       "        vertical-align: top;\n",
       "    }\n",
       "\n",
       "    .dataframe thead th {\n",
       "        text-align: right;\n",
       "    }\n",
       "</style>\n",
       "<table border=\"1\" class=\"dataframe\">\n",
       "  <thead>\n",
       "    <tr style=\"text-align: right;\">\n",
       "      <th></th>\n",
       "      <th>transactionId</th>\n",
       "      <th>visitorId</th>\n",
       "      <th>date</th>\n",
       "      <th>revenue</th>\n",
       "      <th>group</th>\n",
       "    </tr>\n",
       "  </thead>\n",
       "  <tbody>\n",
       "    <tr>\n",
       "      <th>0</th>\n",
       "      <td>3667963787</td>\n",
       "      <td>3312258926</td>\n",
       "      <td>2019-08-15</td>\n",
       "      <td>1650</td>\n",
       "      <td>B</td>\n",
       "    </tr>\n",
       "    <tr>\n",
       "      <th>1</th>\n",
       "      <td>2804400009</td>\n",
       "      <td>3642806036</td>\n",
       "      <td>2019-08-15</td>\n",
       "      <td>730</td>\n",
       "      <td>B</td>\n",
       "    </tr>\n",
       "    <tr>\n",
       "      <th>2</th>\n",
       "      <td>2961555356</td>\n",
       "      <td>4069496402</td>\n",
       "      <td>2019-08-15</td>\n",
       "      <td>400</td>\n",
       "      <td>A</td>\n",
       "    </tr>\n",
       "    <tr>\n",
       "      <th>3</th>\n",
       "      <td>3797467345</td>\n",
       "      <td>1196621759</td>\n",
       "      <td>2019-08-15</td>\n",
       "      <td>9759</td>\n",
       "      <td>B</td>\n",
       "    </tr>\n",
       "    <tr>\n",
       "      <th>4</th>\n",
       "      <td>2282983706</td>\n",
       "      <td>2322279887</td>\n",
       "      <td>2019-08-15</td>\n",
       "      <td>2308</td>\n",
       "      <td>B</td>\n",
       "    </tr>\n",
       "    <tr>\n",
       "      <th>5</th>\n",
       "      <td>182168103</td>\n",
       "      <td>935554773</td>\n",
       "      <td>2019-08-15</td>\n",
       "      <td>2210</td>\n",
       "      <td>B</td>\n",
       "    </tr>\n",
       "    <tr>\n",
       "      <th>6</th>\n",
       "      <td>398296753</td>\n",
       "      <td>2900797465</td>\n",
       "      <td>2019-08-15</td>\n",
       "      <td>1860</td>\n",
       "      <td>B</td>\n",
       "    </tr>\n",
       "    <tr>\n",
       "      <th>7</th>\n",
       "      <td>2626614568</td>\n",
       "      <td>78758296</td>\n",
       "      <td>2019-08-15</td>\n",
       "      <td>1044</td>\n",
       "      <td>A</td>\n",
       "    </tr>\n",
       "    <tr>\n",
       "      <th>8</th>\n",
       "      <td>1576988021</td>\n",
       "      <td>295230930</td>\n",
       "      <td>2019-08-15</td>\n",
       "      <td>13710</td>\n",
       "      <td>A</td>\n",
       "    </tr>\n",
       "    <tr>\n",
       "      <th>9</th>\n",
       "      <td>1506739906</td>\n",
       "      <td>1882260405</td>\n",
       "      <td>2019-08-15</td>\n",
       "      <td>1855</td>\n",
       "      <td>B</td>\n",
       "    </tr>\n",
       "  </tbody>\n",
       "</table>\n",
       "</div>"
      ],
      "text/plain": [
       "   transactionId   visitorId        date  revenue group\n",
       "0     3667963787  3312258926  2019-08-15     1650     B\n",
       "1     2804400009  3642806036  2019-08-15      730     B\n",
       "2     2961555356  4069496402  2019-08-15      400     A\n",
       "3     3797467345  1196621759  2019-08-15     9759     B\n",
       "4     2282983706  2322279887  2019-08-15     2308     B\n",
       "5      182168103   935554773  2019-08-15     2210     B\n",
       "6      398296753  2900797465  2019-08-15     1860     B\n",
       "7     2626614568    78758296  2019-08-15     1044     A\n",
       "8     1576988021   295230930  2019-08-15    13710     A\n",
       "9     1506739906  1882260405  2019-08-15     1855     B"
      ]
     },
     "metadata": {},
     "output_type": "display_data"
    },
    {
     "name": "stdout",
     "output_type": "stream",
     "text": [
      "\n",
      " Последние 10 строк\n"
     ]
    },
    {
     "data": {
      "text/html": [
       "<div>\n",
       "<style scoped>\n",
       "    .dataframe tbody tr th:only-of-type {\n",
       "        vertical-align: middle;\n",
       "    }\n",
       "\n",
       "    .dataframe tbody tr th {\n",
       "        vertical-align: top;\n",
       "    }\n",
       "\n",
       "    .dataframe thead th {\n",
       "        text-align: right;\n",
       "    }\n",
       "</style>\n",
       "<table border=\"1\" class=\"dataframe\">\n",
       "  <thead>\n",
       "    <tr style=\"text-align: right;\">\n",
       "      <th></th>\n",
       "      <th>transactionId</th>\n",
       "      <th>visitorId</th>\n",
       "      <th>date</th>\n",
       "      <th>revenue</th>\n",
       "      <th>group</th>\n",
       "    </tr>\n",
       "  </thead>\n",
       "  <tbody>\n",
       "    <tr>\n",
       "      <th>1187</th>\n",
       "      <td>2274188238</td>\n",
       "      <td>132143192</td>\n",
       "      <td>2019-08-14</td>\n",
       "      <td>750</td>\n",
       "      <td>A</td>\n",
       "    </tr>\n",
       "    <tr>\n",
       "      <th>1188</th>\n",
       "      <td>1692103379</td>\n",
       "      <td>1022829655</td>\n",
       "      <td>2019-08-14</td>\n",
       "      <td>112</td>\n",
       "      <td>A</td>\n",
       "    </tr>\n",
       "    <tr>\n",
       "      <th>1189</th>\n",
       "      <td>4082620617</td>\n",
       "      <td>393266494</td>\n",
       "      <td>2019-08-14</td>\n",
       "      <td>31550</td>\n",
       "      <td>B</td>\n",
       "    </tr>\n",
       "    <tr>\n",
       "      <th>1190</th>\n",
       "      <td>38478481</td>\n",
       "      <td>1197745035</td>\n",
       "      <td>2019-08-14</td>\n",
       "      <td>8600</td>\n",
       "      <td>B</td>\n",
       "    </tr>\n",
       "    <tr>\n",
       "      <th>1191</th>\n",
       "      <td>3592955527</td>\n",
       "      <td>608641596</td>\n",
       "      <td>2019-08-14</td>\n",
       "      <td>16490</td>\n",
       "      <td>B</td>\n",
       "    </tr>\n",
       "    <tr>\n",
       "      <th>1192</th>\n",
       "      <td>2662137336</td>\n",
       "      <td>3733762160</td>\n",
       "      <td>2019-08-14</td>\n",
       "      <td>6490</td>\n",
       "      <td>B</td>\n",
       "    </tr>\n",
       "    <tr>\n",
       "      <th>1193</th>\n",
       "      <td>2203539145</td>\n",
       "      <td>370388673</td>\n",
       "      <td>2019-08-14</td>\n",
       "      <td>3190</td>\n",
       "      <td>A</td>\n",
       "    </tr>\n",
       "    <tr>\n",
       "      <th>1194</th>\n",
       "      <td>1807773912</td>\n",
       "      <td>573423106</td>\n",
       "      <td>2019-08-14</td>\n",
       "      <td>10550</td>\n",
       "      <td>A</td>\n",
       "    </tr>\n",
       "    <tr>\n",
       "      <th>1195</th>\n",
       "      <td>1947021204</td>\n",
       "      <td>1614305549</td>\n",
       "      <td>2019-08-14</td>\n",
       "      <td>100</td>\n",
       "      <td>A</td>\n",
       "    </tr>\n",
       "    <tr>\n",
       "      <th>1196</th>\n",
       "      <td>3936777065</td>\n",
       "      <td>2108080724</td>\n",
       "      <td>2019-08-15</td>\n",
       "      <td>202740</td>\n",
       "      <td>B</td>\n",
       "    </tr>\n",
       "  </tbody>\n",
       "</table>\n",
       "</div>"
      ],
      "text/plain": [
       "      transactionId   visitorId        date  revenue group\n",
       "1187     2274188238   132143192  2019-08-14      750     A\n",
       "1188     1692103379  1022829655  2019-08-14      112     A\n",
       "1189     4082620617   393266494  2019-08-14    31550     B\n",
       "1190       38478481  1197745035  2019-08-14     8600     B\n",
       "1191     3592955527   608641596  2019-08-14    16490     B\n",
       "1192     2662137336  3733762160  2019-08-14     6490     B\n",
       "1193     2203539145   370388673  2019-08-14     3190     A\n",
       "1194     1807773912   573423106  2019-08-14    10550     A\n",
       "1195     1947021204  1614305549  2019-08-14      100     A\n",
       "1196     3936777065  2108080724  2019-08-15   202740     B"
      ]
     },
     "metadata": {},
     "output_type": "display_data"
    },
    {
     "name": "stdout",
     "output_type": "stream",
     "text": [
      "\n",
      " Типы данных \n",
      "\n",
      "<class 'pandas.core.frame.DataFrame'>\n",
      "RangeIndex: 1197 entries, 0 to 1196\n",
      "Data columns (total 5 columns):\n",
      " #   Column         Non-Null Count  Dtype \n",
      "---  ------         --------------  ----- \n",
      " 0   transactionId  1197 non-null   int64 \n",
      " 1   visitorId      1197 non-null   int64 \n",
      " 2   date           1197 non-null   object\n",
      " 3   revenue        1197 non-null   int64 \n",
      " 4   group          1197 non-null   object\n",
      "dtypes: int64(3), object(2)\n",
      "memory usage: 46.9+ KB\n"
     ]
    },
    {
     "data": {
      "text/plain": [
       "None"
      ]
     },
     "metadata": {},
     "output_type": "display_data"
    },
    {
     "name": "stdout",
     "output_type": "stream",
     "text": [
      "\n",
      " Статистическая сводка\n"
     ]
    },
    {
     "data": {
      "text/html": [
       "<div>\n",
       "<style scoped>\n",
       "    .dataframe tbody tr th:only-of-type {\n",
       "        vertical-align: middle;\n",
       "    }\n",
       "\n",
       "    .dataframe tbody tr th {\n",
       "        vertical-align: top;\n",
       "    }\n",
       "\n",
       "    .dataframe thead th {\n",
       "        text-align: right;\n",
       "    }\n",
       "</style>\n",
       "<table border=\"1\" class=\"dataframe\">\n",
       "  <thead>\n",
       "    <tr style=\"text-align: right;\">\n",
       "      <th></th>\n",
       "      <th>transactionId</th>\n",
       "      <th>visitorId</th>\n",
       "      <th>revenue</th>\n",
       "    </tr>\n",
       "  </thead>\n",
       "  <tbody>\n",
       "    <tr>\n",
       "      <th>count</th>\n",
       "      <td>1.197000e+03</td>\n",
       "      <td>1.197000e+03</td>\n",
       "      <td>1.197000e+03</td>\n",
       "    </tr>\n",
       "    <tr>\n",
       "      <th>mean</th>\n",
       "      <td>2.155621e+09</td>\n",
       "      <td>2.165960e+09</td>\n",
       "      <td>8.348006e+03</td>\n",
       "    </tr>\n",
       "    <tr>\n",
       "      <th>std</th>\n",
       "      <td>1.229085e+09</td>\n",
       "      <td>1.236014e+09</td>\n",
       "      <td>3.919113e+04</td>\n",
       "    </tr>\n",
       "    <tr>\n",
       "      <th>min</th>\n",
       "      <td>1.062393e+06</td>\n",
       "      <td>5.114589e+06</td>\n",
       "      <td>5.000000e+01</td>\n",
       "    </tr>\n",
       "    <tr>\n",
       "      <th>25%</th>\n",
       "      <td>1.166776e+09</td>\n",
       "      <td>1.111826e+09</td>\n",
       "      <td>1.220000e+03</td>\n",
       "    </tr>\n",
       "    <tr>\n",
       "      <th>50%</th>\n",
       "      <td>2.145194e+09</td>\n",
       "      <td>2.217985e+09</td>\n",
       "      <td>2.978000e+03</td>\n",
       "    </tr>\n",
       "    <tr>\n",
       "      <th>75%</th>\n",
       "      <td>3.237740e+09</td>\n",
       "      <td>3.177606e+09</td>\n",
       "      <td>8.290000e+03</td>\n",
       "    </tr>\n",
       "    <tr>\n",
       "      <th>max</th>\n",
       "      <td>4.293856e+09</td>\n",
       "      <td>4.283872e+09</td>\n",
       "      <td>1.294500e+06</td>\n",
       "    </tr>\n",
       "  </tbody>\n",
       "</table>\n",
       "</div>"
      ],
      "text/plain": [
       "       transactionId     visitorId       revenue\n",
       "count   1.197000e+03  1.197000e+03  1.197000e+03\n",
       "mean    2.155621e+09  2.165960e+09  8.348006e+03\n",
       "std     1.229085e+09  1.236014e+09  3.919113e+04\n",
       "min     1.062393e+06  5.114589e+06  5.000000e+01\n",
       "25%     1.166776e+09  1.111826e+09  1.220000e+03\n",
       "50%     2.145194e+09  2.217985e+09  2.978000e+03\n",
       "75%     3.237740e+09  3.177606e+09  8.290000e+03\n",
       "max     4.293856e+09  4.283872e+09  1.294500e+06"
      ]
     },
     "metadata": {},
     "output_type": "display_data"
    },
    {
     "name": "stdout",
     "output_type": "stream",
     "text": [
      "\n",
      " Пропуски\n"
     ]
    },
    {
     "data": {
      "text/plain": [
       "transactionId    0\n",
       "visitorId        0\n",
       "date             0\n",
       "revenue          0\n",
       "group            0\n",
       "dtype: int64"
      ]
     },
     "metadata": {},
     "output_type": "display_data"
    },
    {
     "name": "stdout",
     "output_type": "stream",
     "text": [
      "\n",
      " Процент пропусков от всего датасета\n"
     ]
    },
    {
     "data": {
      "text/plain": [
       "transactionId    0.0\n",
       "visitorId        0.0\n",
       "date             0.0\n",
       "revenue          0.0\n",
       "group            0.0\n",
       "dtype: float64"
      ]
     },
     "metadata": {},
     "output_type": "display_data"
    },
    {
     "name": "stdout",
     "output_type": "stream",
     "text": [
      "\n",
      " Дубликаты\n",
      "Дубликатов НЕТ\n"
     ]
    }
   ],
   "source": [
    "# датасет orders\n",
    "df_info(orders)"
   ]
  },
  {
   "cell_type": "markdown",
   "metadata": {},
   "source": [
    "Дубликатов и пропусков нет, нужно исправить название столбцов - привести к змеивидному и назначить корректный формат даты"
   ]
  },
  {
   "cell_type": "code",
   "execution_count": 7,
   "metadata": {},
   "outputs": [
    {
     "name": "stdout",
     "output_type": "stream",
     "text": [
      "<class 'pandas.core.frame.DataFrame'>\n",
      "RangeIndex: 1197 entries, 0 to 1196\n",
      "Data columns (total 5 columns):\n",
      " #   Column          Non-Null Count  Dtype         \n",
      "---  ------          --------------  -----         \n",
      " 0   transaction_id  1197 non-null   int64         \n",
      " 1   visitor_id      1197 non-null   int64         \n",
      " 2   date            1197 non-null   datetime64[ns]\n",
      " 3   revenue         1197 non-null   int64         \n",
      " 4   group           1197 non-null   object        \n",
      "dtypes: datetime64[ns](1), int64(3), object(1)\n",
      "memory usage: 46.9+ KB\n"
     ]
    }
   ],
   "source": [
    "#приведём к нижнему регистру и добавим нужнее подчёркивание для удобства чтения\n",
    "orders.columns = orders.columns.str.replace('Id', '_id') \n",
    "#приведём столбцы с датой к типу datetime\n",
    "orders['date'] = pd.to_datetime(orders['date'], format = '%Y-%m-%d')\n",
    "orders.info()"
   ]
  },
  {
   "cell_type": "markdown",
   "metadata": {},
   "source": [
    " "
   ]
  },
  {
   "cell_type": "code",
   "execution_count": 8,
   "metadata": {},
   "outputs": [
    {
     "name": "stdout",
     "output_type": "stream",
     "text": [
      "\n",
      " Первые 10 строк\n"
     ]
    },
    {
     "data": {
      "text/html": [
       "<div>\n",
       "<style scoped>\n",
       "    .dataframe tbody tr th:only-of-type {\n",
       "        vertical-align: middle;\n",
       "    }\n",
       "\n",
       "    .dataframe tbody tr th {\n",
       "        vertical-align: top;\n",
       "    }\n",
       "\n",
       "    .dataframe thead th {\n",
       "        text-align: right;\n",
       "    }\n",
       "</style>\n",
       "<table border=\"1\" class=\"dataframe\">\n",
       "  <thead>\n",
       "    <tr style=\"text-align: right;\">\n",
       "      <th></th>\n",
       "      <th>date</th>\n",
       "      <th>group</th>\n",
       "      <th>visitors</th>\n",
       "    </tr>\n",
       "  </thead>\n",
       "  <tbody>\n",
       "    <tr>\n",
       "      <th>0</th>\n",
       "      <td>2019-08-01</td>\n",
       "      <td>A</td>\n",
       "      <td>719</td>\n",
       "    </tr>\n",
       "    <tr>\n",
       "      <th>1</th>\n",
       "      <td>2019-08-02</td>\n",
       "      <td>A</td>\n",
       "      <td>619</td>\n",
       "    </tr>\n",
       "    <tr>\n",
       "      <th>2</th>\n",
       "      <td>2019-08-03</td>\n",
       "      <td>A</td>\n",
       "      <td>507</td>\n",
       "    </tr>\n",
       "    <tr>\n",
       "      <th>3</th>\n",
       "      <td>2019-08-04</td>\n",
       "      <td>A</td>\n",
       "      <td>717</td>\n",
       "    </tr>\n",
       "    <tr>\n",
       "      <th>4</th>\n",
       "      <td>2019-08-05</td>\n",
       "      <td>A</td>\n",
       "      <td>756</td>\n",
       "    </tr>\n",
       "    <tr>\n",
       "      <th>5</th>\n",
       "      <td>2019-08-06</td>\n",
       "      <td>A</td>\n",
       "      <td>667</td>\n",
       "    </tr>\n",
       "    <tr>\n",
       "      <th>6</th>\n",
       "      <td>2019-08-07</td>\n",
       "      <td>A</td>\n",
       "      <td>644</td>\n",
       "    </tr>\n",
       "    <tr>\n",
       "      <th>7</th>\n",
       "      <td>2019-08-08</td>\n",
       "      <td>A</td>\n",
       "      <td>610</td>\n",
       "    </tr>\n",
       "    <tr>\n",
       "      <th>8</th>\n",
       "      <td>2019-08-09</td>\n",
       "      <td>A</td>\n",
       "      <td>617</td>\n",
       "    </tr>\n",
       "    <tr>\n",
       "      <th>9</th>\n",
       "      <td>2019-08-10</td>\n",
       "      <td>A</td>\n",
       "      <td>406</td>\n",
       "    </tr>\n",
       "  </tbody>\n",
       "</table>\n",
       "</div>"
      ],
      "text/plain": [
       "         date group  visitors\n",
       "0  2019-08-01     A       719\n",
       "1  2019-08-02     A       619\n",
       "2  2019-08-03     A       507\n",
       "3  2019-08-04     A       717\n",
       "4  2019-08-05     A       756\n",
       "5  2019-08-06     A       667\n",
       "6  2019-08-07     A       644\n",
       "7  2019-08-08     A       610\n",
       "8  2019-08-09     A       617\n",
       "9  2019-08-10     A       406"
      ]
     },
     "metadata": {},
     "output_type": "display_data"
    },
    {
     "name": "stdout",
     "output_type": "stream",
     "text": [
      "\n",
      " Последние 10 строк\n"
     ]
    },
    {
     "data": {
      "text/html": [
       "<div>\n",
       "<style scoped>\n",
       "    .dataframe tbody tr th:only-of-type {\n",
       "        vertical-align: middle;\n",
       "    }\n",
       "\n",
       "    .dataframe tbody tr th {\n",
       "        vertical-align: top;\n",
       "    }\n",
       "\n",
       "    .dataframe thead th {\n",
       "        text-align: right;\n",
       "    }\n",
       "</style>\n",
       "<table border=\"1\" class=\"dataframe\">\n",
       "  <thead>\n",
       "    <tr style=\"text-align: right;\">\n",
       "      <th></th>\n",
       "      <th>date</th>\n",
       "      <th>group</th>\n",
       "      <th>visitors</th>\n",
       "    </tr>\n",
       "  </thead>\n",
       "  <tbody>\n",
       "    <tr>\n",
       "      <th>52</th>\n",
       "      <td>2019-08-22</td>\n",
       "      <td>B</td>\n",
       "      <td>650</td>\n",
       "    </tr>\n",
       "    <tr>\n",
       "      <th>53</th>\n",
       "      <td>2019-08-23</td>\n",
       "      <td>B</td>\n",
       "      <td>546</td>\n",
       "    </tr>\n",
       "    <tr>\n",
       "      <th>54</th>\n",
       "      <td>2019-08-24</td>\n",
       "      <td>B</td>\n",
       "      <td>378</td>\n",
       "    </tr>\n",
       "    <tr>\n",
       "      <th>55</th>\n",
       "      <td>2019-08-25</td>\n",
       "      <td>B</td>\n",
       "      <td>679</td>\n",
       "    </tr>\n",
       "    <tr>\n",
       "      <th>56</th>\n",
       "      <td>2019-08-26</td>\n",
       "      <td>B</td>\n",
       "      <td>676</td>\n",
       "    </tr>\n",
       "    <tr>\n",
       "      <th>57</th>\n",
       "      <td>2019-08-27</td>\n",
       "      <td>B</td>\n",
       "      <td>720</td>\n",
       "    </tr>\n",
       "    <tr>\n",
       "      <th>58</th>\n",
       "      <td>2019-08-28</td>\n",
       "      <td>B</td>\n",
       "      <td>654</td>\n",
       "    </tr>\n",
       "    <tr>\n",
       "      <th>59</th>\n",
       "      <td>2019-08-29</td>\n",
       "      <td>B</td>\n",
       "      <td>531</td>\n",
       "    </tr>\n",
       "    <tr>\n",
       "      <th>60</th>\n",
       "      <td>2019-08-30</td>\n",
       "      <td>B</td>\n",
       "      <td>490</td>\n",
       "    </tr>\n",
       "    <tr>\n",
       "      <th>61</th>\n",
       "      <td>2019-08-31</td>\n",
       "      <td>B</td>\n",
       "      <td>718</td>\n",
       "    </tr>\n",
       "  </tbody>\n",
       "</table>\n",
       "</div>"
      ],
      "text/plain": [
       "          date group  visitors\n",
       "52  2019-08-22     B       650\n",
       "53  2019-08-23     B       546\n",
       "54  2019-08-24     B       378\n",
       "55  2019-08-25     B       679\n",
       "56  2019-08-26     B       676\n",
       "57  2019-08-27     B       720\n",
       "58  2019-08-28     B       654\n",
       "59  2019-08-29     B       531\n",
       "60  2019-08-30     B       490\n",
       "61  2019-08-31     B       718"
      ]
     },
     "metadata": {},
     "output_type": "display_data"
    },
    {
     "name": "stdout",
     "output_type": "stream",
     "text": [
      "\n",
      " Типы данных \n",
      "\n",
      "<class 'pandas.core.frame.DataFrame'>\n",
      "RangeIndex: 62 entries, 0 to 61\n",
      "Data columns (total 3 columns):\n",
      " #   Column    Non-Null Count  Dtype \n",
      "---  ------    --------------  ----- \n",
      " 0   date      62 non-null     object\n",
      " 1   group     62 non-null     object\n",
      " 2   visitors  62 non-null     int64 \n",
      "dtypes: int64(1), object(2)\n",
      "memory usage: 1.6+ KB\n"
     ]
    },
    {
     "data": {
      "text/plain": [
       "None"
      ]
     },
     "metadata": {},
     "output_type": "display_data"
    },
    {
     "name": "stdout",
     "output_type": "stream",
     "text": [
      "\n",
      " Статистическая сводка\n"
     ]
    },
    {
     "data": {
      "text/html": [
       "<div>\n",
       "<style scoped>\n",
       "    .dataframe tbody tr th:only-of-type {\n",
       "        vertical-align: middle;\n",
       "    }\n",
       "\n",
       "    .dataframe tbody tr th {\n",
       "        vertical-align: top;\n",
       "    }\n",
       "\n",
       "    .dataframe thead th {\n",
       "        text-align: right;\n",
       "    }\n",
       "</style>\n",
       "<table border=\"1\" class=\"dataframe\">\n",
       "  <thead>\n",
       "    <tr style=\"text-align: right;\">\n",
       "      <th></th>\n",
       "      <th>visitors</th>\n",
       "    </tr>\n",
       "  </thead>\n",
       "  <tbody>\n",
       "    <tr>\n",
       "      <th>count</th>\n",
       "      <td>62.000000</td>\n",
       "    </tr>\n",
       "    <tr>\n",
       "      <th>mean</th>\n",
       "      <td>607.290323</td>\n",
       "    </tr>\n",
       "    <tr>\n",
       "      <th>std</th>\n",
       "      <td>114.400560</td>\n",
       "    </tr>\n",
       "    <tr>\n",
       "      <th>min</th>\n",
       "      <td>361.000000</td>\n",
       "    </tr>\n",
       "    <tr>\n",
       "      <th>25%</th>\n",
       "      <td>534.000000</td>\n",
       "    </tr>\n",
       "    <tr>\n",
       "      <th>50%</th>\n",
       "      <td>624.500000</td>\n",
       "    </tr>\n",
       "    <tr>\n",
       "      <th>75%</th>\n",
       "      <td>710.500000</td>\n",
       "    </tr>\n",
       "    <tr>\n",
       "      <th>max</th>\n",
       "      <td>770.000000</td>\n",
       "    </tr>\n",
       "  </tbody>\n",
       "</table>\n",
       "</div>"
      ],
      "text/plain": [
       "         visitors\n",
       "count   62.000000\n",
       "mean   607.290323\n",
       "std    114.400560\n",
       "min    361.000000\n",
       "25%    534.000000\n",
       "50%    624.500000\n",
       "75%    710.500000\n",
       "max    770.000000"
      ]
     },
     "metadata": {},
     "output_type": "display_data"
    },
    {
     "name": "stdout",
     "output_type": "stream",
     "text": [
      "\n",
      " Пропуски\n"
     ]
    },
    {
     "data": {
      "text/plain": [
       "date        0\n",
       "group       0\n",
       "visitors    0\n",
       "dtype: int64"
      ]
     },
     "metadata": {},
     "output_type": "display_data"
    },
    {
     "name": "stdout",
     "output_type": "stream",
     "text": [
      "\n",
      " Процент пропусков от всего датасета\n"
     ]
    },
    {
     "data": {
      "text/plain": [
       "date        0.0\n",
       "group       0.0\n",
       "visitors    0.0\n",
       "dtype: float64"
      ]
     },
     "metadata": {},
     "output_type": "display_data"
    },
    {
     "name": "stdout",
     "output_type": "stream",
     "text": [
      "\n",
      " Дубликаты\n",
      "Дубликатов НЕТ\n"
     ]
    }
   ],
   "source": [
    "# датасет visitors\n",
    "df_info(visitors)"
   ]
  },
  {
   "cell_type": "markdown",
   "metadata": {},
   "source": [
    "Пропусков и дубликатов нет, меняем формат даты"
   ]
  },
  {
   "cell_type": "code",
   "execution_count": 9,
   "metadata": {},
   "outputs": [
    {
     "name": "stdout",
     "output_type": "stream",
     "text": [
      "<class 'pandas.core.frame.DataFrame'>\n",
      "RangeIndex: 62 entries, 0 to 61\n",
      "Data columns (total 3 columns):\n",
      " #   Column    Non-Null Count  Dtype         \n",
      "---  ------    --------------  -----         \n",
      " 0   date      62 non-null     datetime64[ns]\n",
      " 1   group     62 non-null     object        \n",
      " 2   visitors  62 non-null     int64         \n",
      "dtypes: datetime64[ns](1), int64(1), object(1)\n",
      "memory usage: 1.6+ KB\n"
     ]
    }
   ],
   "source": [
    "visitors['date'] = pd.to_datetime(visitors['date'], format = '%Y-%m-%d')\n",
    "visitors.info()"
   ]
  },
  {
   "cell_type": "markdown",
   "metadata": {},
   "source": [
    " "
   ]
  },
  {
   "cell_type": "markdown",
   "metadata": {},
   "source": [
    "Скачали и сохранили датасеты, проверили корректность данных. Пропусков и дубликатов нигде нет, колонки с датами были приведены к формату datetime64, исправлено написание названий столбцов - приедено к общепринятой форме.\n",
    "\n",
    "Датасет orders содержит 1196 записей, датасет visitors - 61 запись.\n"
   ]
  },
  {
   "cell_type": "markdown",
   "metadata": {},
   "source": [
    "\n",
    "Посмотрим на распределение пользователей по группам в таблице orders\n"
   ]
  },
  {
   "cell_type": "code",
   "execution_count": 10,
   "metadata": {},
   "outputs": [
    {
     "data": {
      "text/html": [
       "<div>\n",
       "<style scoped>\n",
       "    .dataframe tbody tr th:only-of-type {\n",
       "        vertical-align: middle;\n",
       "    }\n",
       "\n",
       "    .dataframe tbody tr th {\n",
       "        vertical-align: top;\n",
       "    }\n",
       "\n",
       "    .dataframe thead th {\n",
       "        text-align: right;\n",
       "    }\n",
       "</style>\n",
       "<table border=\"1\" class=\"dataframe\">\n",
       "  <thead>\n",
       "    <tr style=\"text-align: right;\">\n",
       "      <th></th>\n",
       "      <th>group</th>\n",
       "      <th>visitor_id</th>\n",
       "    </tr>\n",
       "  </thead>\n",
       "  <tbody>\n",
       "    <tr>\n",
       "      <th>0</th>\n",
       "      <td>A</td>\n",
       "      <td>503</td>\n",
       "    </tr>\n",
       "    <tr>\n",
       "      <th>1</th>\n",
       "      <td>B</td>\n",
       "      <td>586</td>\n",
       "    </tr>\n",
       "  </tbody>\n",
       "</table>\n",
       "</div>"
      ],
      "text/plain": [
       "  group  visitor_id\n",
       "0     A         503\n",
       "1     B         586"
      ]
     },
     "execution_count": 10,
     "metadata": {},
     "output_type": "execute_result"
    }
   ],
   "source": [
    "users_qntty = orders.groupby('group')['visitor_id'].nunique().reset_index()\n",
    "users_qntty"
   ]
  },
  {
   "cell_type": "markdown",
   "metadata": {},
   "source": [
    "Видим, что в группу B попало больше пользователей, чего быть не должно. В реальной работе, при проведении А/В теста используются специальные калькуляторы, которые высчитывают необходимое количество участников в каждой группе, а также проводят АА тест, чтобы проверить корректность работы A/B-тестирования.\n",
    "\n",
    "Проверим, нет ли пользователей, попавших и в группу А, и в группу В."
   ]
  },
  {
   "cell_type": "code",
   "execution_count": 11,
   "metadata": {},
   "outputs": [
    {
     "data": {
      "text/plain": [
       "58"
      ]
     },
     "execution_count": 11,
     "metadata": {},
     "output_type": "execute_result"
    }
   ],
   "source": [
    "both_groups = orders.groupby('visitor_id')['group'].nunique().reset_index()\n",
    "both_groups[both_groups['group']>1]['visitor_id'].count()"
   ]
  },
  {
   "cell_type": "markdown",
   "metadata": {},
   "source": [
    "Получаем, что 58 пользователей попали и в группу А, и в группу В. Удалим их."
   ]
  },
  {
   "cell_type": "code",
   "execution_count": 12,
   "metadata": {},
   "outputs": [],
   "source": [
    "# сохраним id пользователей, оказавшихся в двух группах\n",
    "double_groups = both_groups[both_groups['group']>1]['visitor_id']\n",
    "\n",
    "# и удалим записи с их id из таблицы orders\n",
    "orders = orders.query('visitor_id not in @double_groups').reset_index(drop=True)"
   ]
  },
  {
   "cell_type": "code",
   "execution_count": 13,
   "metadata": {},
   "outputs": [
    {
     "name": "stdout",
     "output_type": "stream",
     "text": [
      "<class 'pandas.core.frame.DataFrame'>\n",
      "RangeIndex: 1016 entries, 0 to 1015\n",
      "Data columns (total 5 columns):\n",
      " #   Column          Non-Null Count  Dtype         \n",
      "---  ------          --------------  -----         \n",
      " 0   transaction_id  1016 non-null   int64         \n",
      " 1   visitor_id      1016 non-null   int64         \n",
      " 2   date            1016 non-null   datetime64[ns]\n",
      " 3   revenue         1016 non-null   int64         \n",
      " 4   group           1016 non-null   object        \n",
      "dtypes: datetime64[ns](1), int64(3), object(1)\n",
      "memory usage: 39.8+ KB\n"
     ]
    }
   ],
   "source": [
    "orders.info()"
   ]
  },
  {
   "cell_type": "markdown",
   "metadata": {},
   "source": [
    "### Часть 1. Приоритизация гипотез."
   ]
  },
  {
   "cell_type": "markdown",
   "metadata": {},
   "source": [
    "В датасете hypothesis имеем 9 гипотез по увеличению выручки интернет-магазина с указанными параметрами Reach, Impact, Confidence, Effort. "
   ]
  },
  {
   "cell_type": "markdown",
   "metadata": {},
   "source": [
    "<b>Применим фреймворк ICE</b> для приоритизации гипотез и отсортируем их по убыванию приоритета. Расчтёт проведём по формуле (impact * confidense)/effort "
   ]
  },
  {
   "cell_type": "code",
   "execution_count": 14,
   "metadata": {},
   "outputs": [
    {
     "data": {
      "text/html": [
       "<div>\n",
       "<style scoped>\n",
       "    .dataframe tbody tr th:only-of-type {\n",
       "        vertical-align: middle;\n",
       "    }\n",
       "\n",
       "    .dataframe tbody tr th {\n",
       "        vertical-align: top;\n",
       "    }\n",
       "\n",
       "    .dataframe thead th {\n",
       "        text-align: right;\n",
       "    }\n",
       "</style>\n",
       "<table border=\"1\" class=\"dataframe\">\n",
       "  <thead>\n",
       "    <tr style=\"text-align: right;\">\n",
       "      <th></th>\n",
       "      <th>hypothesis</th>\n",
       "      <th>ice_score</th>\n",
       "    </tr>\n",
       "  </thead>\n",
       "  <tbody>\n",
       "    <tr>\n",
       "      <th>8</th>\n",
       "      <td>Запустить акцию, дающую скидку на товар в день рождения</td>\n",
       "      <td>16.20</td>\n",
       "    </tr>\n",
       "    <tr>\n",
       "      <th>0</th>\n",
       "      <td>Добавить два новых канала привлечения трафика, что позволит привлекать на 30% больше пользователей</td>\n",
       "      <td>13.33</td>\n",
       "    </tr>\n",
       "    <tr>\n",
       "      <th>7</th>\n",
       "      <td>Добавить форму подписки на все основные страницы, чтобы собрать базу клиентов для email-рассылок</td>\n",
       "      <td>11.20</td>\n",
       "    </tr>\n",
       "    <tr>\n",
       "      <th>6</th>\n",
       "      <td>Показать на главной странице баннеры с актуальными акциями и распродажами, чтобы увеличить конверсию</td>\n",
       "      <td>8.00</td>\n",
       "    </tr>\n",
       "    <tr>\n",
       "      <th>2</th>\n",
       "      <td>Добавить блоки рекомендаций товаров на сайт интернет магазина, чтобы повысить конверсию и средний чек заказа</td>\n",
       "      <td>7.00</td>\n",
       "    </tr>\n",
       "    <tr>\n",
       "      <th>1</th>\n",
       "      <td>Запустить собственную службу доставки, что сократит срок доставки заказов</td>\n",
       "      <td>2.00</td>\n",
       "    </tr>\n",
       "    <tr>\n",
       "      <th>5</th>\n",
       "      <td>Добавить страницу отзывов клиентов о магазине, что позволит увеличить количество заказов</td>\n",
       "      <td>1.33</td>\n",
       "    </tr>\n",
       "    <tr>\n",
       "      <th>3</th>\n",
       "      <td>Изменить структура категорий, что увеличит конверсию, т.к. пользователи быстрее найдут нужный товар</td>\n",
       "      <td>1.12</td>\n",
       "    </tr>\n",
       "    <tr>\n",
       "      <th>4</th>\n",
       "      <td>Изменить цвет фона главной страницы, чтобы увеличить вовлеченность пользователей</td>\n",
       "      <td>1.00</td>\n",
       "    </tr>\n",
       "  </tbody>\n",
       "</table>\n",
       "</div>"
      ],
      "text/plain": [
       "                                                                                                     hypothesis  \\\n",
       "8                                                       Запустить акцию, дающую скидку на товар в день рождения   \n",
       "0            Добавить два новых канала привлечения трафика, что позволит привлекать на 30% больше пользователей   \n",
       "7              Добавить форму подписки на все основные страницы, чтобы собрать базу клиентов для email-рассылок   \n",
       "6          Показать на главной странице баннеры с актуальными акциями и распродажами, чтобы увеличить конверсию   \n",
       "2  Добавить блоки рекомендаций товаров на сайт интернет магазина, чтобы повысить конверсию и средний чек заказа   \n",
       "1                                     Запустить собственную службу доставки, что сократит срок доставки заказов   \n",
       "5                      Добавить страницу отзывов клиентов о магазине, что позволит увеличить количество заказов   \n",
       "3           Изменить структура категорий, что увеличит конверсию, т.к. пользователи быстрее найдут нужный товар   \n",
       "4                              Изменить цвет фона главной страницы, чтобы увеличить вовлеченность пользователей   \n",
       "\n",
       "   ice_score  \n",
       "8      16.20  \n",
       "0      13.33  \n",
       "7      11.20  \n",
       "6       8.00  \n",
       "2       7.00  \n",
       "1       2.00  \n",
       "5       1.33  \n",
       "3       1.12  \n",
       "4       1.00  "
      ]
     },
     "execution_count": 14,
     "metadata": {},
     "output_type": "execute_result"
    }
   ],
   "source": [
    "hypothesis['ice_score'] = round((hypothesis['impact'] * hypothesis['confidence']) / hypothesis['efforts'],2)\n",
    "hypothesis[['hypothesis', 'ice_score']].sort_values(by='ice_score', ascending=False)"
   ]
  },
  {
   "cell_type": "markdown",
   "metadata": {},
   "source": [
    "На первом месте по ICE у нас гипотеза под номером 8 - \"Запустить акцию, дающую скидку на товар в день рождения\". Подарки - это всегда хорошо, даже без повода. А на день рождения - тем более! Именно поэтому здесь высокие показатели impact и confidence, которые отвечают за удовлетворение от продукта и насколько мы можем быть в этом уверены. Средний показатель efforts (5 баллов), думаю, связан со стоимостью смс-рассылки, что гораздо эффективнее, чем рассылка на почту или тематические баннеры на сайте."
   ]
  },
  {
   "cell_type": "markdown",
   "metadata": {},
   "source": [
    " "
   ]
  },
  {
   "cell_type": "markdown",
   "metadata": {},
   "source": [
    "<b>Далее рассмотрим модель RICE</b> применительно к нашему датасету. Расчтёт проведём по формуле (reach * impact * confidense)/effort"
   ]
  },
  {
   "cell_type": "code",
   "execution_count": 15,
   "metadata": {},
   "outputs": [
    {
     "data": {
      "text/html": [
       "<div>\n",
       "<style scoped>\n",
       "    .dataframe tbody tr th:only-of-type {\n",
       "        vertical-align: middle;\n",
       "    }\n",
       "\n",
       "    .dataframe tbody tr th {\n",
       "        vertical-align: top;\n",
       "    }\n",
       "\n",
       "    .dataframe thead th {\n",
       "        text-align: right;\n",
       "    }\n",
       "</style>\n",
       "<table border=\"1\" class=\"dataframe\">\n",
       "  <thead>\n",
       "    <tr style=\"text-align: right;\">\n",
       "      <th></th>\n",
       "      <th>hypothesis</th>\n",
       "      <th>reach</th>\n",
       "      <th>impact</th>\n",
       "      <th>confidence</th>\n",
       "      <th>efforts</th>\n",
       "      <th>ice_score</th>\n",
       "      <th>rice_score</th>\n",
       "    </tr>\n",
       "  </thead>\n",
       "  <tbody>\n",
       "    <tr>\n",
       "      <th>7</th>\n",
       "      <td>Добавить форму подписки на все основные страницы, чтобы собрать базу клиентов для email-рассылок</td>\n",
       "      <td>10</td>\n",
       "      <td>7</td>\n",
       "      <td>8</td>\n",
       "      <td>5</td>\n",
       "      <td>11.20</td>\n",
       "      <td>112.00</td>\n",
       "    </tr>\n",
       "    <tr>\n",
       "      <th>2</th>\n",
       "      <td>Добавить блоки рекомендаций товаров на сайт интернет магазина, чтобы повысить конверсию и средний чек заказа</td>\n",
       "      <td>8</td>\n",
       "      <td>3</td>\n",
       "      <td>7</td>\n",
       "      <td>3</td>\n",
       "      <td>7.00</td>\n",
       "      <td>56.00</td>\n",
       "    </tr>\n",
       "    <tr>\n",
       "      <th>6</th>\n",
       "      <td>Показать на главной странице баннеры с актуальными акциями и распродажами, чтобы увеличить конверсию</td>\n",
       "      <td>5</td>\n",
       "      <td>3</td>\n",
       "      <td>8</td>\n",
       "      <td>3</td>\n",
       "      <td>8.00</td>\n",
       "      <td>40.00</td>\n",
       "    </tr>\n",
       "    <tr>\n",
       "      <th>0</th>\n",
       "      <td>Добавить два новых канала привлечения трафика, что позволит привлекать на 30% больше пользователей</td>\n",
       "      <td>3</td>\n",
       "      <td>10</td>\n",
       "      <td>8</td>\n",
       "      <td>6</td>\n",
       "      <td>13.33</td>\n",
       "      <td>39.99</td>\n",
       "    </tr>\n",
       "    <tr>\n",
       "      <th>8</th>\n",
       "      <td>Запустить акцию, дающую скидку на товар в день рождения</td>\n",
       "      <td>1</td>\n",
       "      <td>9</td>\n",
       "      <td>9</td>\n",
       "      <td>5</td>\n",
       "      <td>16.20</td>\n",
       "      <td>16.20</td>\n",
       "    </tr>\n",
       "    <tr>\n",
       "      <th>3</th>\n",
       "      <td>Изменить структура категорий, что увеличит конверсию, т.к. пользователи быстрее найдут нужный товар</td>\n",
       "      <td>8</td>\n",
       "      <td>3</td>\n",
       "      <td>3</td>\n",
       "      <td>8</td>\n",
       "      <td>1.12</td>\n",
       "      <td>8.96</td>\n",
       "    </tr>\n",
       "    <tr>\n",
       "      <th>1</th>\n",
       "      <td>Запустить собственную службу доставки, что сократит срок доставки заказов</td>\n",
       "      <td>2</td>\n",
       "      <td>5</td>\n",
       "      <td>4</td>\n",
       "      <td>10</td>\n",
       "      <td>2.00</td>\n",
       "      <td>4.00</td>\n",
       "    </tr>\n",
       "    <tr>\n",
       "      <th>5</th>\n",
       "      <td>Добавить страницу отзывов клиентов о магазине, что позволит увеличить количество заказов</td>\n",
       "      <td>3</td>\n",
       "      <td>2</td>\n",
       "      <td>2</td>\n",
       "      <td>3</td>\n",
       "      <td>1.33</td>\n",
       "      <td>3.99</td>\n",
       "    </tr>\n",
       "    <tr>\n",
       "      <th>4</th>\n",
       "      <td>Изменить цвет фона главной страницы, чтобы увеличить вовлеченность пользователей</td>\n",
       "      <td>3</td>\n",
       "      <td>1</td>\n",
       "      <td>1</td>\n",
       "      <td>1</td>\n",
       "      <td>1.00</td>\n",
       "      <td>3.00</td>\n",
       "    </tr>\n",
       "  </tbody>\n",
       "</table>\n",
       "</div>"
      ],
      "text/plain": [
       "                                                                                                     hypothesis  \\\n",
       "7              Добавить форму подписки на все основные страницы, чтобы собрать базу клиентов для email-рассылок   \n",
       "2  Добавить блоки рекомендаций товаров на сайт интернет магазина, чтобы повысить конверсию и средний чек заказа   \n",
       "6          Показать на главной странице баннеры с актуальными акциями и распродажами, чтобы увеличить конверсию   \n",
       "0            Добавить два новых канала привлечения трафика, что позволит привлекать на 30% больше пользователей   \n",
       "8                                                       Запустить акцию, дающую скидку на товар в день рождения   \n",
       "3           Изменить структура категорий, что увеличит конверсию, т.к. пользователи быстрее найдут нужный товар   \n",
       "1                                     Запустить собственную службу доставки, что сократит срок доставки заказов   \n",
       "5                      Добавить страницу отзывов клиентов о магазине, что позволит увеличить количество заказов   \n",
       "4                              Изменить цвет фона главной страницы, чтобы увеличить вовлеченность пользователей   \n",
       "\n",
       "   reach  impact  confidence  efforts  ice_score  rice_score  \n",
       "7     10       7           8        5      11.20      112.00  \n",
       "2      8       3           7        3       7.00       56.00  \n",
       "6      5       3           8        3       8.00       40.00  \n",
       "0      3      10           8        6      13.33       39.99  \n",
       "8      1       9           9        5      16.20       16.20  \n",
       "3      8       3           3        8       1.12        8.96  \n",
       "1      2       5           4       10       2.00        4.00  \n",
       "5      3       2           2        3       1.33        3.99  \n",
       "4      3       1           1        1       1.00        3.00  "
      ]
     },
     "execution_count": 15,
     "metadata": {},
     "output_type": "execute_result"
    }
   ],
   "source": [
    "hypothesis['rice_score'] = hypothesis['ice_score']* hypothesis['reach'] \n",
    "hypothesis.sort_values(by='rice_score', ascending=False)  "
   ]
  },
  {
   "cell_type": "markdown",
   "metadata": {},
   "source": [
    " "
   ]
  },
  {
   "cell_type": "markdown",
   "metadata": {},
   "source": [
    "В этой формуле используется ещё один показатель - reach, т.е, охват аудитории. У гипотезы номер 8 этот показатель самый низкий, т.к. коэффициент reach здесь равен 1, ведь день рождения, как известно, лишь раз в году.\n",
    "\n",
    "Напротив, гипотеза <i>\"Добавить форму подписки на все основные страницы, чтобы собрать базу клиентов для email-рассылок\"</i>, имеющая охват 10, заняла первое место, опередив вторую гипотезу ровно в 2 раза."
   ]
  },
  {
   "cell_type": "markdown",
   "metadata": {},
   "source": [
    " "
   ]
  },
  {
   "cell_type": "markdown",
   "metadata": {},
   "source": [
    "<b>Вывод</b>\n",
    "\n",
    "Модель ICE, основанная на удовлетворённости от продукта и нашей в этом уверенности, может быть очень эффеткивной, если не важен максимальный охват аудитории. В случае же, если охват важен - модель RICE оказывается наиболее приоритетной, что и показали наши расчёты.\n",
    "\n",
    "Для А/В тестов будем основываться на гипотезе №7 \"Добавить форму подписки на все основные страницы, чтобы собрать базу клиентов для email-рассылок\"."
   ]
  },
  {
   "cell_type": "markdown",
   "metadata": {},
   "source": [
    "### Часть 2. Анализ A/B-теста"
   ]
  },
  {
   "cell_type": "markdown",
   "metadata": {},
   "source": [
    "#### Построим график кумулятивной выручки по группам"
   ]
  },
  {
   "cell_type": "markdown",
   "metadata": {},
   "source": [
    "Создадим датафреймы с уникальными агрегироваными кумулятивными данными по каждый таблице:"
   ]
  },
  {
   "cell_type": "code",
   "execution_count": 16,
   "metadata": {},
   "outputs": [],
   "source": [
    "#создаем массив уникальных пар значений дат и групп теста\n",
    "dt_groups = orders[['date', 'group']].drop_duplicates()  \n",
    "\n",
    "#получаем агрегированные кумулятивные по дням данные о заказах \n",
    "orders_aggregated = dt_groups.apply(\n",
    "    lambda x: orders[\n",
    "        np.logical_and(\n",
    "            orders['date'] <= x['date'], orders['group'] == x['group']\n",
    "        )\n",
    "    ].agg({\n",
    "            'date': 'max',\n",
    "            'group': 'max',\n",
    "            'transaction_id': 'nunique',\n",
    "            'visitor_id': 'nunique',\n",
    "            'revenue': 'sum',\n",
    "        }\n",
    "    ),\n",
    "    axis=1,\n",
    ").sort_values(by=['date', 'group'])\n",
    "\n",
    "# получаем агрегированные кумулятивные по дням данные о посетителях интернет-магазина \n",
    "visitors_aggregated = dt_groups.apply(\n",
    "    lambda x: visitors[\n",
    "        np.logical_and(\n",
    "            visitors['date'] <= x['date'], visitors['group'] == x['group']\n",
    "        )\n",
    "    ].agg({\n",
    "        'date': 'max',\n",
    "        'group': 'max', \n",
    "        'visitors': 'sum'\n",
    "    }\n",
    "    ),\n",
    "    axis=1,\n",
    ").sort_values(by=['date', 'group']) "
   ]
  },
  {
   "cell_type": "code",
   "execution_count": 17,
   "metadata": {},
   "outputs": [
    {
     "data": {
      "text/html": [
       "<div>\n",
       "<style scoped>\n",
       "    .dataframe tbody tr th:only-of-type {\n",
       "        vertical-align: middle;\n",
       "    }\n",
       "\n",
       "    .dataframe tbody tr th {\n",
       "        vertical-align: top;\n",
       "    }\n",
       "\n",
       "    .dataframe thead th {\n",
       "        text-align: right;\n",
       "    }\n",
       "</style>\n",
       "<table border=\"1\" class=\"dataframe\">\n",
       "  <thead>\n",
       "    <tr style=\"text-align: right;\">\n",
       "      <th></th>\n",
       "      <th>date</th>\n",
       "      <th>group</th>\n",
       "      <th>transaction_id</th>\n",
       "      <th>visitor_id</th>\n",
       "      <th>revenue</th>\n",
       "    </tr>\n",
       "  </thead>\n",
       "  <tbody>\n",
       "    <tr>\n",
       "      <th>45</th>\n",
       "      <td>2019-08-01</td>\n",
       "      <td>A</td>\n",
       "      <td>23</td>\n",
       "      <td>19</td>\n",
       "      <td>142779</td>\n",
       "    </tr>\n",
       "    <tr>\n",
       "      <th>54</th>\n",
       "      <td>2019-08-01</td>\n",
       "      <td>B</td>\n",
       "      <td>17</td>\n",
       "      <td>17</td>\n",
       "      <td>59758</td>\n",
       "    </tr>\n",
       "    <tr>\n",
       "      <th>149</th>\n",
       "      <td>2019-08-02</td>\n",
       "      <td>A</td>\n",
       "      <td>42</td>\n",
       "      <td>36</td>\n",
       "      <td>234381</td>\n",
       "    </tr>\n",
       "    <tr>\n",
       "      <th>147</th>\n",
       "      <td>2019-08-02</td>\n",
       "      <td>B</td>\n",
       "      <td>40</td>\n",
       "      <td>39</td>\n",
       "      <td>221801</td>\n",
       "    </tr>\n",
       "    <tr>\n",
       "      <th>245</th>\n",
       "      <td>2019-08-03</td>\n",
       "      <td>A</td>\n",
       "      <td>66</td>\n",
       "      <td>60</td>\n",
       "      <td>346854</td>\n",
       "    </tr>\n",
       "  </tbody>\n",
       "</table>\n",
       "</div>"
      ],
      "text/plain": [
       "          date group  transaction_id  visitor_id  revenue\n",
       "45  2019-08-01     A              23          19   142779\n",
       "54  2019-08-01     B              17          17    59758\n",
       "149 2019-08-02     A              42          36   234381\n",
       "147 2019-08-02     B              40          39   221801\n",
       "245 2019-08-03     A              66          60   346854"
      ]
     },
     "metadata": {},
     "output_type": "display_data"
    },
    {
     "name": "stdout",
     "output_type": "stream",
     "text": [
      "\n"
     ]
    },
    {
     "data": {
      "text/html": [
       "<div>\n",
       "<style scoped>\n",
       "    .dataframe tbody tr th:only-of-type {\n",
       "        vertical-align: middle;\n",
       "    }\n",
       "\n",
       "    .dataframe tbody tr th {\n",
       "        vertical-align: top;\n",
       "    }\n",
       "\n",
       "    .dataframe thead th {\n",
       "        text-align: right;\n",
       "    }\n",
       "</style>\n",
       "<table border=\"1\" class=\"dataframe\">\n",
       "  <thead>\n",
       "    <tr style=\"text-align: right;\">\n",
       "      <th></th>\n",
       "      <th>date</th>\n",
       "      <th>group</th>\n",
       "      <th>visitors</th>\n",
       "    </tr>\n",
       "  </thead>\n",
       "  <tbody>\n",
       "    <tr>\n",
       "      <th>45</th>\n",
       "      <td>2019-08-01</td>\n",
       "      <td>A</td>\n",
       "      <td>719</td>\n",
       "    </tr>\n",
       "    <tr>\n",
       "      <th>54</th>\n",
       "      <td>2019-08-01</td>\n",
       "      <td>B</td>\n",
       "      <td>713</td>\n",
       "    </tr>\n",
       "    <tr>\n",
       "      <th>149</th>\n",
       "      <td>2019-08-02</td>\n",
       "      <td>A</td>\n",
       "      <td>1338</td>\n",
       "    </tr>\n",
       "    <tr>\n",
       "      <th>147</th>\n",
       "      <td>2019-08-02</td>\n",
       "      <td>B</td>\n",
       "      <td>1294</td>\n",
       "    </tr>\n",
       "    <tr>\n",
       "      <th>245</th>\n",
       "      <td>2019-08-03</td>\n",
       "      <td>A</td>\n",
       "      <td>1845</td>\n",
       "    </tr>\n",
       "  </tbody>\n",
       "</table>\n",
       "</div>"
      ],
      "text/plain": [
       "          date group  visitors\n",
       "45  2019-08-01     A       719\n",
       "54  2019-08-01     B       713\n",
       "149 2019-08-02     A      1338\n",
       "147 2019-08-02     B      1294\n",
       "245 2019-08-03     A      1845"
      ]
     },
     "metadata": {},
     "output_type": "display_data"
    }
   ],
   "source": [
    "# выведем полученные таблицы на экран\n",
    "display(orders_aggregated.head()) \n",
    "print('')\n",
    "display(visitors_aggregated.head())  "
   ]
  },
  {
   "cell_type": "markdown",
   "metadata": {},
   "source": [
    "Объединим таблицы"
   ]
  },
  {
   "cell_type": "code",
   "execution_count": 18,
   "metadata": {},
   "outputs": [
    {
     "data": {
      "text/html": [
       "<div>\n",
       "<style scoped>\n",
       "    .dataframe tbody tr th:only-of-type {\n",
       "        vertical-align: middle;\n",
       "    }\n",
       "\n",
       "    .dataframe tbody tr th {\n",
       "        vertical-align: top;\n",
       "    }\n",
       "\n",
       "    .dataframe thead th {\n",
       "        text-align: right;\n",
       "    }\n",
       "</style>\n",
       "<table border=\"1\" class=\"dataframe\">\n",
       "  <thead>\n",
       "    <tr style=\"text-align: right;\">\n",
       "      <th></th>\n",
       "      <th>date</th>\n",
       "      <th>group</th>\n",
       "      <th>orders</th>\n",
       "      <th>buyers</th>\n",
       "      <th>revenue</th>\n",
       "      <th>visitors</th>\n",
       "    </tr>\n",
       "  </thead>\n",
       "  <tbody>\n",
       "    <tr>\n",
       "      <th>0</th>\n",
       "      <td>2019-08-01</td>\n",
       "      <td>A</td>\n",
       "      <td>23</td>\n",
       "      <td>19</td>\n",
       "      <td>142779</td>\n",
       "      <td>719</td>\n",
       "    </tr>\n",
       "    <tr>\n",
       "      <th>1</th>\n",
       "      <td>2019-08-01</td>\n",
       "      <td>B</td>\n",
       "      <td>17</td>\n",
       "      <td>17</td>\n",
       "      <td>59758</td>\n",
       "      <td>713</td>\n",
       "    </tr>\n",
       "    <tr>\n",
       "      <th>2</th>\n",
       "      <td>2019-08-02</td>\n",
       "      <td>A</td>\n",
       "      <td>42</td>\n",
       "      <td>36</td>\n",
       "      <td>234381</td>\n",
       "      <td>1338</td>\n",
       "    </tr>\n",
       "    <tr>\n",
       "      <th>3</th>\n",
       "      <td>2019-08-02</td>\n",
       "      <td>B</td>\n",
       "      <td>40</td>\n",
       "      <td>39</td>\n",
       "      <td>221801</td>\n",
       "      <td>1294</td>\n",
       "    </tr>\n",
       "    <tr>\n",
       "      <th>4</th>\n",
       "      <td>2019-08-03</td>\n",
       "      <td>A</td>\n",
       "      <td>66</td>\n",
       "      <td>60</td>\n",
       "      <td>346854</td>\n",
       "      <td>1845</td>\n",
       "    </tr>\n",
       "  </tbody>\n",
       "</table>\n",
       "</div>"
      ],
      "text/plain": [
       "        date group  orders  buyers  revenue  visitors\n",
       "0 2019-08-01     A      23      19   142779       719\n",
       "1 2019-08-01     B      17      17    59758       713\n",
       "2 2019-08-02     A      42      36   234381      1338\n",
       "3 2019-08-02     B      40      39   221801      1294\n",
       "4 2019-08-03     A      66      60   346854      1845"
      ]
     },
     "execution_count": 18,
     "metadata": {},
     "output_type": "execute_result"
    }
   ],
   "source": [
    "# объединям полученные таблицы по дате и группе \n",
    "cumulative_df = orders_aggregated.merge(\n",
    "    visitors_aggregated, left_on=['date', 'group'], right_on=['date', 'group']\n",
    ")\n",
    "# переименум столбцы \n",
    "cumulative_df.columns = [\n",
    "    'date',\n",
    "    'group',\n",
    "    'orders',\n",
    "    'buyers',\n",
    "    'revenue',\n",
    "    'visitors',\n",
    "] \n",
    "# выведем полученную таблицу\n",
    "cumulative_df.head()"
   ]
  },
  {
   "cell_type": "markdown",
   "metadata": {},
   "source": [
    "Построим график"
   ]
  },
  {
   "cell_type": "code",
   "execution_count": 19,
   "metadata": {},
   "outputs": [
    {
     "data": {
      "image/png": "[encoded data removed]",
      "text/plain": [
       "<Figure size 864x576 with 1 Axes>"
      ]
     },
     "metadata": {
      "needs_background": "light"
     },
     "output_type": "display_data"
    }
   ],
   "source": [
    "# зададим размеры графика \n",
    "plt.figure(figsize=(12,8))  \n",
    "\n",
    "# датафрейм с кумулятивным количеством заказов и кумулятивной выручкой по дням в группе А\n",
    "cumulative_revenue_a = cumulative_df[cumulative_df['group']=='A'][['date','revenue', 'orders']]\n",
    "\n",
    "# датафрейм с кумулятивным количеством заказов и кумулятивной выручкой по дням в группе B\n",
    "cumulative_revenue_b = cumulative_df[cumulative_df['group']=='B'][['date','revenue', 'orders']]\n",
    "\n",
    "# строим график выручки группы А\n",
    "plt.plot(cumulative_revenue_a['date'], cumulative_revenue_a['revenue'], label='A')\n",
    "\n",
    "# строим график выручки группы B\n",
    "plt.plot(cumulative_revenue_b['date'], cumulative_revenue_b['revenue'], label='B')\n",
    "\n",
    "# зададим описание графика\n",
    "plt.legend(['Группа А', 'Группа B']) \n",
    "plt.xlabel('Дата')\n",
    "plt.ylabel('Выручка') \n",
    "plt.title('Кумулятивная выручка по дням и группам A/B-тестирования')\n",
    "plt.grid()\n",
    "plt.show() "
   ]
  },
  {
   "cell_type": "markdown",
   "metadata": {},
   "source": [
    "Группа В практически сразу вышла в лидеры, а примерно 19 августа произошёл резкий рост, что можно объяснить двумя причинами:\n",
    "- либо очень дорогие покупки, одна или несколько,\n",
    "- либо очень большое количество обычных покупок\n",
    "\n"
   ]
  },
  {
   "cell_type": "markdown",
   "metadata": {},
   "source": [
    "Посмотрим динамику для группы B с изменение кол-ва заказов и выручки:\n",
    "\n"
   ]
  },
  {
   "cell_type": "code",
   "execution_count": 20,
   "metadata": {},
   "outputs": [
    {
     "data": {
      "image/png": "[encoded data removed]",
      "text/plain": [
       "<Figure size 864x576 with 1 Axes>"
      ]
     },
     "metadata": {
      "needs_background": "light"
     },
     "output_type": "display_data"
    }
   ],
   "source": [
    "# построим график по количеству заказов \n",
    "plt.figure(figsize=(12,8)) \n",
    "plt.plot(cumulative_revenue_b['date'], cumulative_revenue_b['orders'])  \n",
    "# зададим описание графика\n",
    "plt.xlabel('Дата')\n",
    "plt.ylabel('Кол-во заказов') \n",
    "plt.title('Кумулятивное кол-во заказов по дням в группе B')\n",
    "plt.grid()\n",
    "plt.show() "
   ]
  },
  {
   "cell_type": "code",
   "execution_count": 21,
   "metadata": {},
   "outputs": [
    {
     "data": {
      "image/png": "[encoded data removed]",
      "text/plain": [
       "<Figure size 864x576 with 1 Axes>"
      ]
     },
     "metadata": {
      "needs_background": "light"
     },
     "output_type": "display_data"
    }
   ],
   "source": [
    "# построим график с выручкой \n",
    "plt.figure(figsize=(12,8)) \n",
    "plt.plot(cumulative_revenue_b['date'], cumulative_revenue_b['revenue'])  \n",
    "# зададим описание графика\n",
    "plt.xlabel('Дата')\n",
    "plt.ylabel('Выручка') \n",
    "plt.title('Кумулятивная выручка в группе B')\n",
    "plt.grid()\n",
    "plt.show() "
   ]
  },
  {
   "cell_type": "markdown",
   "metadata": {},
   "source": [
    "Как видим, в группе В 19 августа был 1 или несколько очень крупных заказов"
   ]
  },
  {
   "cell_type": "markdown",
   "metadata": {},
   "source": [
    "#### Построим график кумулятивного среднего чека по группам."
   ]
  },
  {
   "cell_type": "code",
   "execution_count": 22,
   "metadata": {},
   "outputs": [
    {
     "data": {
      "image/png": "[encoded data removed]",
      "text/plain": [
       "<Figure size 864x576 with 1 Axes>"
      ]
     },
     "metadata": {
      "needs_background": "light"
     },
     "output_type": "display_data"
    }
   ],
   "source": [
    "# зададим размеры графика  \n",
    "plt.figure(figsize=(12,8)) \n",
    "\n",
    "# построим графики, что бы получить средний чек, разделим выручку на число заказов\n",
    "plt.plot(cumulative_revenue_a['date'], cumulative_revenue_a['revenue']/cumulative_revenue_a['orders'], label='A')\n",
    "plt.plot(cumulative_revenue_b['date'], cumulative_revenue_b['revenue']/cumulative_revenue_b['orders'], label='B')\n",
    "plt.legend()  \n",
    "\n",
    "# зададим описание графика\n",
    "plt.legend(['Группа А', 'Группа B']) \n",
    "plt.xlabel('Дата')\n",
    "plt.ylabel('Средний чек') \n",
    "plt.title('Кумулятивный средний чек по дням и группам A/B-тестирования')\n",
    "plt.grid()\n",
    "plt.show()  "
   ]
  },
  {
   "cell_type": "markdown",
   "metadata": {},
   "source": [
    "Как видим, в первой половине грифика кривые ведут себя ожидаемо - средний чек то увеличивается, то уменьшается в обоих группах. есть сильные повышения, есть сильные падения, но в целом, группы находятся на сопоставимом уровне - к середине графика показывают одинаковую тенденцию к росту. 19-го августа средний чек группы В очень резко вырос чуть меньше, чем на 50% с последующим откатом прмерно на 1000 вниз в течение следующих 10 дней. Группа А, в свою очередь, постепенно увеличивает показатель среднего чека."
   ]
  },
  {
   "cell_type": "markdown",
   "metadata": {},
   "source": [
    "#### Построим график относительного изменения кумулятивного среднего чека группы B к группе A"
   ]
  },
  {
   "cell_type": "markdown",
   "metadata": {},
   "source": [
    "Объединим данные в однин датафрейм"
   ]
  },
  {
   "cell_type": "code",
   "execution_count": 23,
   "metadata": {},
   "outputs": [],
   "source": [
    "# объединим по столбцу с датой и зададим суффиксы для каждый группы \n",
    "merged_revenue = cumulative_revenue_a.merge(\n",
    "    cumulative_revenue_b, \n",
    "    left_on='date', right_on='date', \n",
    "    how='left',\n",
    "    suffixes=['_a', '_b']\n",
    ")"
   ]
  },
  {
   "cell_type": "code",
   "execution_count": 24,
   "metadata": {
    "scrolled": true
   },
   "outputs": [
    {
     "data": {
      "text/html": [
       "<div>\n",
       "<style scoped>\n",
       "    .dataframe tbody tr th:only-of-type {\n",
       "        vertical-align: middle;\n",
       "    }\n",
       "\n",
       "    .dataframe tbody tr th {\n",
       "        vertical-align: top;\n",
       "    }\n",
       "\n",
       "    .dataframe thead th {\n",
       "        text-align: right;\n",
       "    }\n",
       "</style>\n",
       "<table border=\"1\" class=\"dataframe\">\n",
       "  <thead>\n",
       "    <tr style=\"text-align: right;\">\n",
       "      <th></th>\n",
       "      <th>date</th>\n",
       "      <th>revenue_a</th>\n",
       "      <th>orders_a</th>\n",
       "      <th>revenue_b</th>\n",
       "      <th>orders_b</th>\n",
       "    </tr>\n",
       "  </thead>\n",
       "  <tbody>\n",
       "    <tr>\n",
       "      <th>0</th>\n",
       "      <td>2019-08-01</td>\n",
       "      <td>142779</td>\n",
       "      <td>23</td>\n",
       "      <td>59758</td>\n",
       "      <td>17</td>\n",
       "    </tr>\n",
       "    <tr>\n",
       "      <th>1</th>\n",
       "      <td>2019-08-02</td>\n",
       "      <td>234381</td>\n",
       "      <td>42</td>\n",
       "      <td>221801</td>\n",
       "      <td>40</td>\n",
       "    </tr>\n",
       "    <tr>\n",
       "      <th>2</th>\n",
       "      <td>2019-08-03</td>\n",
       "      <td>346854</td>\n",
       "      <td>66</td>\n",
       "      <td>288850</td>\n",
       "      <td>54</td>\n",
       "    </tr>\n",
       "    <tr>\n",
       "      <th>3</th>\n",
       "      <td>2019-08-04</td>\n",
       "      <td>388030</td>\n",
       "      <td>77</td>\n",
       "      <td>385740</td>\n",
       "      <td>68</td>\n",
       "    </tr>\n",
       "    <tr>\n",
       "      <th>4</th>\n",
       "      <td>2019-08-05</td>\n",
       "      <td>474413</td>\n",
       "      <td>99</td>\n",
       "      <td>475648</td>\n",
       "      <td>89</td>\n",
       "    </tr>\n",
       "  </tbody>\n",
       "</table>\n",
       "</div>"
      ],
      "text/plain": [
       "        date  revenue_a  orders_a  revenue_b  orders_b\n",
       "0 2019-08-01     142779        23      59758        17\n",
       "1 2019-08-02     234381        42     221801        40\n",
       "2 2019-08-03     346854        66     288850        54\n",
       "3 2019-08-04     388030        77     385740        68\n",
       "4 2019-08-05     474413        99     475648        89"
      ]
     },
     "execution_count": 24,
     "metadata": {},
     "output_type": "execute_result"
    }
   ],
   "source": [
    "merged_revenue.head()"
   ]
  },
  {
   "cell_type": "code",
   "execution_count": 25,
   "metadata": {},
   "outputs": [
    {
     "data": {
      "image/png": "[encoded data removed]",
      "text/plain": [
       "<Figure size 864x576 with 1 Axes>"
      ]
     },
     "metadata": {
      "needs_background": "light"
     },
     "output_type": "display_data"
    }
   ],
   "source": [
    "# и построим график\n",
    "plt.figure(figsize=(12,8))   \n",
    "# cтроим отношение средних чеков\n",
    "plt.plot(\n",
    "    merged_revenue['date'],\n",
    "    (merged_revenue['revenue_b']/\n",
    "     merged_revenue['orders_b'])/\n",
    "    (merged_revenue['revenue_a']/\n",
    "     merged_revenue['orders_a'])\n",
    "    -1\n",
    ")\n",
    "\n",
    "# добавляем ось X\n",
    "plt.axhline(y=0, color='black', linestyle='--')  \n",
    "# зададим описание графика \n",
    "plt.xlabel('Дата')\n",
    "plt.ylabel('Отношение') \n",
    "plt.title('Относительное изменение кумулятивного среднего чека группы B к группе A')\n",
    "plt.grid()\n",
    "plt.show()"
   ]
  },
  {
   "cell_type": "markdown",
   "metadata": {},
   "source": [
    "Видим несколько пиков, что указывает на крупные покупки"
   ]
  },
  {
   "cell_type": "markdown",
   "metadata": {},
   "source": [
    "\n",
    "Первый пик можно объяснить падением среднего чека в группе А. В целом группа А начала график с падения, а групп В - с роста. Но далее наметилась одинаковая тенденция - однодневное сильное падение с быстрым ростом в течение последующих нескольких дней. Вот только все эти зеркальные процессы в группе В прошли на день раньше, что в итоге отразилось на графике как рост В.\n"
   ]
  },
  {
   "cell_type": "markdown",
   "metadata": {},
   "source": [
    "#### Построим график кумулятивного среднего количества заказов на посетителя по группам"
   ]
  },
  {
   "cell_type": "code",
   "execution_count": 26,
   "metadata": {},
   "outputs": [
    {
     "data": {
      "image/png": "[encoded data removed]",
      "text/plain": [
       "<Figure size 864x576 with 1 Axes>"
      ]
     },
     "metadata": {
      "needs_background": "light"
     },
     "output_type": "display_data"
    }
   ],
   "source": [
    "# считаем кумулятивную конверсию\n",
    "cumulative_df['conversion'] = cumulative_df['orders']/cumulative_df['visitors']\n",
    "\n",
    "# отделяем данные по группе A\n",
    "cumulative_df_a = cumulative_df[cumulative_df['group']=='A']\n",
    "\n",
    "# отделяем данные по группе B\n",
    "cumulative_df_b = cumulative_df[cumulative_df['group']=='B']\n",
    "\n",
    "# зададим размеры графика  \n",
    "plt.figure(figsize=(12,8))   \n",
    "\n",
    "# строим графики\n",
    "plt.plot(cumulative_df_a['date'], cumulative_df_a['conversion'], label='A')\n",
    "plt.plot(cumulative_df_b['date'], cumulative_df_b['conversion'], label='B')\n",
    "\n",
    "\n",
    "# зададим описание графика\n",
    "plt.legend(['Группа А', 'Группа B']) \n",
    "# задаем масштаб осей\n",
    "plt.xlabel('Дата')\n",
    "plt.ylabel('Конверсия') \n",
    "plt.title('Кумулятивная конверсии по группам')\n",
    "plt.grid()\n",
    "plt.show()"
   ]
  },
  {
   "cell_type": "markdown",
   "metadata": {},
   "source": [
    "По графику видно, что первые 4 дня конверсия гля 2 групп имела общую тенденцию с большими скачками, но после резко поменялась: \n",
    "- группа В очень сильно увеличила конверсию и скорректировалась на уровне 0.028-0.030, \n",
    "- группа А просела и установилась на уровне 0.024-0.026"
   ]
  },
  {
   "cell_type": "markdown",
   "metadata": {},
   "source": [
    "#### Построим график относительного изменения кумулятивного среднего количества заказов на посетителя группы B к группе A"
   ]
  },
  {
   "cell_type": "markdown",
   "metadata": {},
   "source": [
    "Объединим таблицы конверсий"
   ]
  },
  {
   "cell_type": "code",
   "execution_count": 27,
   "metadata": {},
   "outputs": [],
   "source": [
    "# объединим по столбцу с датой и зададим суффиксы для каждый группы  \n",
    "merged_сonversion = cumulative_df_a[['date','conversion']].merge(\n",
    "    cumulative_df_b[['date','conversion']], \n",
    "    left_on='date',\n",
    "    right_on='date', \n",
    "    how='left',\n",
    "    suffixes=['_a', '_b']\n",
    ")"
   ]
  },
  {
   "cell_type": "code",
   "execution_count": 28,
   "metadata": {},
   "outputs": [
    {
     "data": {
      "text/html": [
       "<div>\n",
       "<style scoped>\n",
       "    .dataframe tbody tr th:only-of-type {\n",
       "        vertical-align: middle;\n",
       "    }\n",
       "\n",
       "    .dataframe tbody tr th {\n",
       "        vertical-align: top;\n",
       "    }\n",
       "\n",
       "    .dataframe thead th {\n",
       "        text-align: right;\n",
       "    }\n",
       "</style>\n",
       "<table border=\"1\" class=\"dataframe\">\n",
       "  <thead>\n",
       "    <tr style=\"text-align: right;\">\n",
       "      <th></th>\n",
       "      <th>date</th>\n",
       "      <th>conversion_a</th>\n",
       "      <th>conversion_b</th>\n",
       "    </tr>\n",
       "  </thead>\n",
       "  <tbody>\n",
       "    <tr>\n",
       "      <th>0</th>\n",
       "      <td>2019-08-01</td>\n",
       "      <td>0.031989</td>\n",
       "      <td>0.023843</td>\n",
       "    </tr>\n",
       "    <tr>\n",
       "      <th>1</th>\n",
       "      <td>2019-08-02</td>\n",
       "      <td>0.031390</td>\n",
       "      <td>0.030912</td>\n",
       "    </tr>\n",
       "    <tr>\n",
       "      <th>2</th>\n",
       "      <td>2019-08-03</td>\n",
       "      <td>0.035772</td>\n",
       "      <td>0.029950</td>\n",
       "    </tr>\n",
       "    <tr>\n",
       "      <th>3</th>\n",
       "      <td>2019-08-04</td>\n",
       "      <td>0.030055</td>\n",
       "      <td>0.026428</td>\n",
       "    </tr>\n",
       "    <tr>\n",
       "      <th>4</th>\n",
       "      <td>2019-08-05</td>\n",
       "      <td>0.029837</td>\n",
       "      <td>0.027134</td>\n",
       "    </tr>\n",
       "  </tbody>\n",
       "</table>\n",
       "</div>"
      ],
      "text/plain": [
       "        date  conversion_a  conversion_b\n",
       "0 2019-08-01      0.031989      0.023843\n",
       "1 2019-08-02      0.031390      0.030912\n",
       "2 2019-08-03      0.035772      0.029950\n",
       "3 2019-08-04      0.030055      0.026428\n",
       "4 2019-08-05      0.029837      0.027134"
      ]
     },
     "execution_count": 28,
     "metadata": {},
     "output_type": "execute_result"
    }
   ],
   "source": [
    "merged_сonversion.head()"
   ]
  },
  {
   "cell_type": "code",
   "execution_count": 29,
   "metadata": {},
   "outputs": [
    {
     "data": {
      "image/png": "[encoded data removed]",
      "text/plain": [
       "<Figure size 864x576 with 1 Axes>"
      ]
     },
     "metadata": {
      "needs_background": "light"
     },
     "output_type": "display_data"
    }
   ],
   "source": [
    "# и построим график  \n",
    "plt.figure(figsize=(12,8))   \n",
    "\n",
    "plt.plot(merged_сonversion['date'],\n",
    "         merged_сonversion['conversion_b']/\n",
    "         merged_сonversion['conversion_a']-1,\n",
    "        )\n",
    "# добавляем ось X c нулевым приростом и отметку в 20% \n",
    "plt.axhline(y=0, color='black', linestyle='--')  \n",
    "plt.axhline(y=0.2, color='grey', linestyle='--') \n",
    "# зададим описание графика \n",
    "plt.ylabel('Конверсия') \n",
    "plt.xlabel('Дата') \n",
    "plt.title('Относительный прирост конверсии группы B относительно группы A') \n",
    "plt.grid()\n",
    "plt.show()"
   ]
  },
  {
   "cell_type": "markdown",
   "metadata": {},
   "source": [
    "На этом графике видим, что прирост конверсии группы В относительно группы А практически всегда положителен за исключением сильного падения 3 августа с откатом к 6 августа в плюсовые значения и дальнейшим значительным ростом со стабилизацией на уровне 10-15%"
   ]
  },
  {
   "cell_type": "markdown",
   "metadata": {},
   "source": [
    "#### Построим точечный график количества заказов по пользователям"
   ]
  },
  {
   "cell_type": "code",
   "execution_count": 30,
   "metadata": {},
   "outputs": [],
   "source": [
    "# создадим сводную таблицу с количеством закзазов для каждого пользователя \n",
    "orders_count = (\n",
    "    orders.groupby('visitor_id', as_index=False)\n",
    "    .agg({'transaction_id': 'nunique'})\n",
    ")\n",
    "# переименуем столбцы \n",
    "orders_count.columns = ['user_id', 'orders']"
   ]
  },
  {
   "cell_type": "code",
   "execution_count": 31,
   "metadata": {},
   "outputs": [
    {
     "data": {
      "text/html": [
       "<div>\n",
       "<style scoped>\n",
       "    .dataframe tbody tr th:only-of-type {\n",
       "        vertical-align: middle;\n",
       "    }\n",
       "\n",
       "    .dataframe tbody tr th {\n",
       "        vertical-align: top;\n",
       "    }\n",
       "\n",
       "    .dataframe thead th {\n",
       "        text-align: right;\n",
       "    }\n",
       "</style>\n",
       "<table border=\"1\" class=\"dataframe\">\n",
       "  <thead>\n",
       "    <tr style=\"text-align: right;\">\n",
       "      <th></th>\n",
       "      <th>user_id</th>\n",
       "      <th>orders</th>\n",
       "    </tr>\n",
       "  </thead>\n",
       "  <tbody>\n",
       "    <tr>\n",
       "      <th>908</th>\n",
       "      <td>3967698036</td>\n",
       "      <td>3</td>\n",
       "    </tr>\n",
       "    <tr>\n",
       "      <th>55</th>\n",
       "      <td>249864742</td>\n",
       "      <td>3</td>\n",
       "    </tr>\n",
       "    <tr>\n",
       "      <th>478</th>\n",
       "      <td>2108163459</td>\n",
       "      <td>3</td>\n",
       "    </tr>\n",
       "    <tr>\n",
       "      <th>687</th>\n",
       "      <td>2988190573</td>\n",
       "      <td>3</td>\n",
       "    </tr>\n",
       "    <tr>\n",
       "      <th>890</th>\n",
       "      <td>3908431265</td>\n",
       "      <td>3</td>\n",
       "    </tr>\n",
       "  </tbody>\n",
       "</table>\n",
       "</div>"
      ],
      "text/plain": [
       "        user_id  orders\n",
       "908  3967698036       3\n",
       "55    249864742       3\n",
       "478  2108163459       3\n",
       "687  2988190573       3\n",
       "890  3908431265       3"
      ]
     },
     "execution_count": 31,
     "metadata": {},
     "output_type": "execute_result"
    }
   ],
   "source": [
    "orders_count.sort_values(by='orders', ascending=False).head()"
   ]
  },
  {
   "cell_type": "code",
   "execution_count": 32,
   "metadata": {},
   "outputs": [
    {
     "data": {
      "image/png": "[encoded data removed]",
      "text/plain": [
       "<Figure size 864x576 with 1 Axes>"
      ]
     },
     "metadata": {
      "needs_background": "light"
     },
     "output_type": "display_data"
    }
   ],
   "source": [
    "# серия из чисел от 0 до количества наблюдений в orders_count \n",
    "x_values = pd.Series(range(0, len(orders_count)))\n",
    "# построим график  \n",
    "plt.figure(figsize=(12,8)) \n",
    "plt.scatter(x_values, orders_count['orders'])  \n",
    "# зададим описание графика \n",
    "plt.ylabel('Кол-во заказов') \n",
    "plt.xlabel('Кол-во пользователей') \n",
    "plt.title('Распределение по кол-ву сделанных заказов') \n",
    "plt.grid()\n",
    "plt.show()"
   ]
  },
  {
   "cell_type": "markdown",
   "metadata": {},
   "source": [
    "Видим, что пользователи с 1 заказом преобладают над доставльными - их подавляющее большинство, но также достаточно моного пользователей с 2 заказами. От 3 до 5 заказов гораздо меньше, причём, пользователей с 5 заказами больше, чем пользователей с 4-мя. И есть несколько гиперактивыных пользователей с количеством заказов до 11 за отчётный период. Скорее всего, это выбросы и нужно будет от них избавляться."
   ]
  },
  {
   "cell_type": "markdown",
   "metadata": {},
   "source": [
    "Очень сильно повлияло удаление задвоенных пользователей! Видим, что максимальное количество заказов - 3 и таких пользователей очень мало. Чуть больше пользователей с 2 заказами, а основная масса - 1 заказ. Посмотрим, что даст подсчёт перцентилей."
   ]
  },
  {
   "cell_type": "markdown",
   "metadata": {},
   "source": [
    "#### Посчитаем 95-й и 99-й перцентили количества заказов на пользователя и выберем границу для определения аномальных пользователей."
   ]
  },
  {
   "cell_type": "code",
   "execution_count": 33,
   "metadata": {},
   "outputs": [
    {
     "name": "stdout",
     "output_type": "stream",
     "text": [
      "[1. 2.]\n"
     ]
    }
   ],
   "source": [
    "print(np.percentile(orders_count['orders'], [95, 99]))"
   ]
  },
  {
   "cell_type": "markdown",
   "metadata": {},
   "source": [
    "Как видим, 2 заказа сделали не более 95% пользователей, а 4 заказа - не более 99%, что подтверило наше предыдущее наблюдение.\n",
    "\n",
    "Устанавливаем границу по колличеству заказов на пользователя в 3 шт."
   ]
  },
  {
   "cell_type": "markdown",
   "metadata": {},
   "source": [
    "1 заказ сделали не более 95% пользователей, а 2 заказа - не более 99%. Устанавливаем границу в 2 заказа."
   ]
  },
  {
   "cell_type": "code",
   "execution_count": 34,
   "metadata": {},
   "outputs": [],
   "source": [
    "too_much_orders = 2"
   ]
  },
  {
   "cell_type": "markdown",
   "metadata": {},
   "source": [
    "#### Построим точечный график стоимостей заказов"
   ]
  },
  {
   "cell_type": "code",
   "execution_count": 35,
   "metadata": {},
   "outputs": [
    {
     "data": {
      "image/png": "[encoded data removed]",
      "text/plain": [
       "<Figure size 864x576 with 1 Axes>"
      ]
     },
     "metadata": {
      "needs_background": "light"
     },
     "output_type": "display_data"
    }
   ],
   "source": [
    "# построим график\n",
    "x_values = pd.Series(range(0, len(orders['revenue'])))\n",
    "# зададим размеры графика  \n",
    "plt.figure(figsize=(12,8)) \n",
    "scattter_plot = plt.scatter(x_values, orders['revenue'])  \n",
    "# зададим описание графика \n",
    "plt.ylabel('Стоимость заказов') \n",
    "plt.xlabel('Кол-во пользователей') \n",
    "plt.title('Распределение по сумме сделанных заказов') \n",
    "plt.grid()\n",
    "plt.show()"
   ]
  },
  {
   "cell_type": "markdown",
   "metadata": {},
   "source": [
    "Явно выбиваются 2 значения, посмотрим топ 5 заказов по сумме"
   ]
  },
  {
   "cell_type": "code",
   "execution_count": 36,
   "metadata": {},
   "outputs": [
    {
     "data": {
      "text/html": [
       "<div>\n",
       "<style scoped>\n",
       "    .dataframe tbody tr th:only-of-type {\n",
       "        vertical-align: middle;\n",
       "    }\n",
       "\n",
       "    .dataframe tbody tr th {\n",
       "        vertical-align: top;\n",
       "    }\n",
       "\n",
       "    .dataframe thead th {\n",
       "        text-align: right;\n",
       "    }\n",
       "</style>\n",
       "<table border=\"1\" class=\"dataframe\">\n",
       "  <thead>\n",
       "    <tr style=\"text-align: right;\">\n",
       "      <th></th>\n",
       "      <th>visitor_id</th>\n",
       "      <th>revenue</th>\n",
       "    </tr>\n",
       "  </thead>\n",
       "  <tbody>\n",
       "    <tr>\n",
       "      <th>365</th>\n",
       "      <td>1920142716</td>\n",
       "      <td>1294500</td>\n",
       "    </tr>\n",
       "    <tr>\n",
       "      <th>1015</th>\n",
       "      <td>2108080724</td>\n",
       "      <td>202740</td>\n",
       "    </tr>\n",
       "    <tr>\n",
       "      <th>971</th>\n",
       "      <td>1307669133</td>\n",
       "      <td>92550</td>\n",
       "    </tr>\n",
       "    <tr>\n",
       "      <th>632</th>\n",
       "      <td>888512513</td>\n",
       "      <td>86620</td>\n",
       "    </tr>\n",
       "    <tr>\n",
       "      <th>631</th>\n",
       "      <td>4133034833</td>\n",
       "      <td>67990</td>\n",
       "    </tr>\n",
       "  </tbody>\n",
       "</table>\n",
       "</div>"
      ],
      "text/plain": [
       "      visitor_id  revenue\n",
       "365   1920142716  1294500\n",
       "1015  2108080724   202740\n",
       "971   1307669133    92550\n",
       "632    888512513    86620\n",
       "631   4133034833    67990"
      ]
     },
     "execution_count": 36,
     "metadata": {},
     "output_type": "execute_result"
    }
   ],
   "source": [
    "orders[['visitor_id', 'revenue']].sort_values(by='revenue', ascending=False).head()"
   ]
  },
  {
   "cell_type": "markdown",
   "metadata": {},
   "source": [
    "Сделаем ограничение суммы в 100000 и построим график"
   ]
  },
  {
   "cell_type": "code",
   "execution_count": 37,
   "metadata": {},
   "outputs": [
    {
     "data": {
      "image/png": "[encoded data removed]",
      "text/plain": [
       "<Figure size 864x576 with 1 Axes>"
      ]
     },
     "metadata": {
      "needs_background": "light"
     },
     "output_type": "display_data"
    }
   ],
   "source": [
    "# построим график \n",
    "x_values = pd.Series(range(0, len(orders['revenue'])))\n",
    "# зададим размеры графика  \n",
    "plt.figure(figsize=(12,8))\n",
    "plt.scatter(x_values, orders['revenue'])\n",
    "# задаем ограничение\n",
    "plt.ylim(0, 100000) \n",
    "# зададим описание графика \n",
    "plt.ylabel('Стоимость заказов') \n",
    "plt.xlabel('Кол-во пользователей') \n",
    "plt.title('Распределение по сумме сделанных заказов') \n",
    "plt.grid()\n",
    "plt.show()"
   ]
  },
  {
   "cell_type": "markdown",
   "metadata": {},
   "source": [
    "Видим, что основная масса заказов помещается в размер 10000 - 20000, но точнее сказать сложно"
   ]
  },
  {
   "cell_type": "markdown",
   "metadata": {},
   "source": [
    "#### Посчитаем 95-й и 99-й перцентили стоимости заказов и выберем границу для определения аномальных заказов"
   ]
  },
  {
   "cell_type": "code",
   "execution_count": 38,
   "metadata": {},
   "outputs": [
    {
     "name": "stdout",
     "output_type": "stream",
     "text": [
      "[26785. 53904.]\n"
     ]
    }
   ],
   "source": [
    "print(np.percentile(orders['revenue'], [95, 99]))"
   ]
  },
  {
   "cell_type": "markdown",
   "metadata": {},
   "source": [
    "Получаем, что заказы более 26785 делают не более 5% пользователей, а заказы больше 53904 - не более 1%\n",
    "\n",
    "Установим границу по стоимости заказов в 28000 рублей"
   ]
  },
  {
   "cell_type": "code",
   "execution_count": 39,
   "metadata": {},
   "outputs": [],
   "source": [
    "too_expensive_order  = 28000"
   ]
  },
  {
   "cell_type": "markdown",
   "metadata": {},
   "source": [
    "#### Посчитаем статистическую значимость различий в среднем количестве заказов на посетителя между группами по «сырым» данным"
   ]
  },
  {
   "cell_type": "markdown",
   "metadata": {},
   "source": [
    "Сформулируем гипотезы.\n",
    "\n",
    "<u>Нулевая</u>: статистически значимых различий в среднем количестве заказов на посетителя между группами нет.\n",
    "<br><u>Альтернативная</u>: статистически значимые различия в среднем количестве заказов на посетителя между группами есть.\n",
    "\n",
    "Для проверки предположения о нормальности распределения данных используем критерий Манна-Уитни, так как в данных, как мы уже заметили, есть выбросы, а иные методы существенно повлияют на результат."
   ]
  },
  {
   "cell_type": "code",
   "execution_count": 40,
   "metadata": {},
   "outputs": [
    {
     "name": "stdout",
     "output_type": "stream",
     "text": [
      "Значение P-value: 0.011\n",
      "Отвергаем нулевую гипотезу: статистически значимые отличия есть\n",
      "Относительная разница между группами: 15.98%\n"
     ]
    }
   ],
   "source": [
    "orders_by_users_A = (\n",
    "    orders[orders['group'] == 'A']\n",
    "    .groupby('visitor_id', as_index=False)\n",
    "    .agg({'transaction_id': pd.Series.nunique})\n",
    ")\n",
    "orders_by_users_A.columns = ['user_id', 'orders']\n",
    "\n",
    "orders_by_users_B = (\n",
    "    orders[orders['group'] == 'B']\n",
    "    .groupby('visitor_id', as_index=False)\n",
    "    .agg({'transaction_id': pd.Series.nunique})\n",
    ")\n",
    "orders_by_users_B.columns = ['user_id', 'orders'] \n",
    "\n",
    "sampleA = pd.concat([orders_by_users_A['orders'],pd.Series(0, index=np.arange(visitors[visitors['group'] == 'A']['visitors'].sum() - len(orders_by_users_A['orders'])), name='orders')],axis=0)\n",
    "\n",
    "sampleB = pd.concat([orders_by_users_B['orders'],pd.Series(0, index=np.arange(visitors[visitors['group'] == 'B']['visitors'].sum() - len(orders_by_users_B['orders'])), name='orders')],axis=0)\n",
    "\n",
    "orders_by_users_A = (\n",
    "    orders[orders['group'] == 'A']\n",
    "    .groupby('visitor_id', as_index=False)\n",
    "    .agg({'transaction_id': pd.Series.nunique})\n",
    ")\n",
    "orders_by_users_A.columns = ['user_id', 'orders']\n",
    "\n",
    "orders_by_users_B = (\n",
    "    orders[orders['group'] == 'B']\n",
    "    .groupby('visitor_id', as_index=False)\n",
    "    .agg({'transaction_id': pd.Series.nunique})\n",
    ")\n",
    "orders_by_users_B.columns = ['user_id', 'orders']\n",
    "\n",
    "sample_A = pd.concat(\n",
    "    [\n",
    "        orders_by_users_A['orders'],\n",
    "        pd.Series(\n",
    "            0,\n",
    "            index=np.arange(\n",
    "                visitors[visitors['group'] == 'A']['visitors'].sum() - len(orders_by_users_A['orders'])\n",
    "            ),\n",
    "            name='orders',\n",
    "        ),\n",
    "    ],\n",
    "    axis=0,\n",
    ")\n",
    "\n",
    "sample_B = pd.concat(\n",
    "    [\n",
    "        orders_by_users_B['orders'],\n",
    "        pd.Series(\n",
    "            0,\n",
    "            index=np.arange(\n",
    "                visitors[visitors['group'] == 'B']['visitors'].sum() - len(orders_by_users_B['orders'])\n",
    "            ),\n",
    "            name='orders',\n",
    "        ),\n",
    "    ],\n",
    "    axis=0,\n",
    ")\n",
    "\n",
    "\n",
    "alpha = 0.05\n",
    "result_1 = stats.mannwhitneyu(sample_A, sample_B)[1]\n",
    "\n",
    "print('Значение P-value:', \"{0:.3f}\".format(result_1))\n",
    "\n",
    "if result_1 < alpha:\n",
    "    print('Отвергаем нулевую гипотезу: статистически значимые отличия есть')\n",
    "else:\n",
    "    print('Не получилось отвергнуть нулевую гипотезу, статистически значимых отличий нет') \n",
    "\n",
    "print('Относительная разница между группами:',\"{0:.2%}\".format((sample_B.mean()/sample_A.mean()-1)))\n"
   ]
  },
  {
   "cell_type": "markdown",
   "metadata": {},
   "source": [
    "P-value меньше 0.05 - значит нулевую гипотезу отвергаем, статистически значимые отличия есть, относительный прирост среднего количества заказов группы В к группе А равен 15.98%."
   ]
  },
  {
   "cell_type": "markdown",
   "metadata": {},
   "source": [
    "#### Посчитаем статистическую значимость различий в среднем чеке заказа между группами по «сырым» данным"
   ]
  },
  {
   "cell_type": "markdown",
   "metadata": {},
   "source": [
    "Сформулируем гипотезы.\n",
    "\n",
    "<u>Нулевая</u>: статистически значимых различий в среднем чеке заказа между группами нет.\n",
    "<br><u>Альтернативная</u>: статистически значимые различия в среднем чеке заказа между группами есть.\n",
    "\n",
    "Здесь также используем критерий Манна-Уитни"
   ]
  },
  {
   "cell_type": "code",
   "execution_count": 41,
   "metadata": {},
   "outputs": [
    {
     "name": "stdout",
     "output_type": "stream",
     "text": [
      "Значение P-value: 0.829\n",
      "Не получилось отвергнуть нулевую гипотезу: статистически значимых отличий нет\n",
      "Относительная разница между группами: 28.66%\n"
     ]
    }
   ],
   "source": [
    "\n",
    "result_2 = stats.mannwhitneyu(orders[orders['group']=='A']['revenue'], orders[orders['group']=='B']['revenue'])[1]\n",
    "\n",
    "print('Значение P-value:','{0:.3f}'.format(result_2))\n",
    "\n",
    "if result_2 < alpha:\n",
    "    print('Отвергаем нулевую гипотезу: статистически значимые отличия есть')\n",
    "else:\n",
    "    print('Не получилось отвергнуть нулевую гипотезу: статистически значимых отличий нет') \n",
    "      \n",
    "print('Относительная разница между группами:','{0:.2%}'.format(orders[orders['group']=='B']['revenue'].mean()/orders[orders['group']=='A']['revenue'].mean()-1))"
   ]
  },
  {
   "cell_type": "markdown",
   "metadata": {},
   "source": [
    "P-value больше 0.05 - значит нулевую гипотезу не отвергаем, статистически значимых отличий между группамми в среднем чеке нет, но относительный прирост среднего чека группы В к А равен 28.66%, это очень много."
   ]
  },
  {
   "cell_type": "markdown",
   "metadata": {},
   "source": [
    "#### Посчитаем статистическую значимость различий в среднем количестве заказов на посетителя между группами по «очищенным» данным."
   ]
  },
  {
   "cell_type": "markdown",
   "metadata": {},
   "source": [
    "Сформулируем гипотезы.\n",
    "\n",
    "<u>Нулевая</u>: статистически значимых различий в среднем количестве заказов на посетителя между группами нет.\n",
    "<br><u>Альтернативная</u>: статистически значимые различия в среднем количестве заказов на посетителя между группами есть.\n",
    "\n",
    "Здесь также используем критерий Манна-Уитни"
   ]
  },
  {
   "cell_type": "code",
   "execution_count": null,
   "metadata": {},
   "outputs": [],
   "source": []
  },
  {
   "cell_type": "code",
   "execution_count": 42,
   "metadata": {},
   "outputs": [
    {
     "name": "stdout",
     "output_type": "stream",
     "text": [
      "Абсолютные потери(количество аномальных пользователей): 83\n",
      "Относительные потери: 0.085\n"
     ]
    }
   ],
   "source": [
    "multiple_buyers = pd.concat(\n",
    "    [\n",
    "        orders_by_users_A[orders_by_users_A['orders'] > np.percentile(orders_count['orders'], 95)]['user_id'],\n",
    "        orders_by_users_B[orders_by_users_B['orders'] > np.percentile(orders_count['orders'], 95)]['user_id'],\n",
    "    ],\n",
    "    axis=0,\n",
    ")\n",
    "expensive_buyers = orders[orders['revenue'] > too_expensive_order]['visitor_id']\n",
    "abnormal_users = (\n",
    "    pd.concat([multiple_buyers, expensive_buyers], axis=0)\n",
    "    .drop_duplicates()\n",
    "    .sort_values()\n",
    ")\n",
    "print('Абсолютные потери(количество аномальных пользователей):' ,len(abnormal_users)) \n",
    "print('Относительные потери:', round(len(abnormal_users)/orders['visitor_id'].nunique(),3))"
   ]
  },
  {
   "cell_type": "code",
   "execution_count": 43,
   "metadata": {},
   "outputs": [
    {
     "name": "stdout",
     "output_type": "stream",
     "text": [
      "Значение P-value: 0.012\n",
      "Отвергаем нулевую гипотезу: статистически значимые отличия есть\n",
      "Относительная разница между группами: 18.11%\n"
     ]
    }
   ],
   "source": [
    "sample_A_filtered = pd.concat(\n",
    "    [\n",
    "        orders_by_users_A[\n",
    "            np.logical_not(orders_by_users_A['user_id'].isin(abnormal_users))\n",
    "        ]['orders'],\n",
    "        pd.Series(\n",
    "            0,\n",
    "            index=np.arange(\n",
    "                visitors[visitors['group'] == 'A']['visitors'].sum() - len(orders_by_users_A['orders'])\n",
    "            ),\n",
    "            name='orders',\n",
    "        ),\n",
    "    ],\n",
    "    axis=0,\n",
    ")\n",
    "\n",
    "sample_B_filtered = pd.concat(\n",
    "    [\n",
    "        orders_by_users_B[\n",
    "            np.logical_not(orders_by_users_B['user_id'].isin(abnormal_users))\n",
    "        ]['orders'],\n",
    "        pd.Series(\n",
    "            0,\n",
    "            index=np.arange(\n",
    "                visitors[visitors['group'] == 'B']['visitors'].sum() - len(orders_by_users_B['orders'])\n",
    "            ),\n",
    "            name='orders',\n",
    "        ),\n",
    "    ],\n",
    "    axis=0,\n",
    ")\n",
    "\n",
    "result_3 = stats.mannwhitneyu(sample_A_filtered, sample_B_filtered)[1]\n",
    "\n",
    "alpha = 0.05\n",
    "\n",
    "print('Значение P-value:','{0:.3f}'.format(result_3))\n",
    "\n",
    "if result_3 < alpha:\n",
    "    print('Отвергаем нулевую гипотезу: статистически значимые отличия есть')\n",
    "else:\n",
    "    print('Не получилось отвергнуть нулевую гипотезу: статистически значимых отличий нет') \n",
    "      \n",
    "print('Относительная разница между группами:','{0:.2%}'.format(sample_B_filtered.mean()/sample_A_filtered.mean()-1))"
   ]
  },
  {
   "cell_type": "markdown",
   "metadata": {},
   "source": [
    "P-value больше 0.05, следовательно статистическая значимость в среднем количестве заказов на посетителя достигнута, выборка В лучше выборки А."
   ]
  },
  {
   "cell_type": "markdown",
   "metadata": {},
   "source": [
    "#### Посчитаем статистическую значимость различий в среднем чеке заказа между группами по «очищенным» данным"
   ]
  },
  {
   "cell_type": "markdown",
   "metadata": {},
   "source": [
    "Сформулируем гипотезы.\n",
    "\n",
    "<u>Нулевая</u>: статистически значимых различий в среднем чеке заказа между группами нет.\n",
    "<br><u>Альтернативная</u>: статистически значимые различия в среднем чеке заказа между группами есть.\n",
    "\n",
    "Здесь также используем критерий Манна-Уитни"
   ]
  },
  {
   "cell_type": "code",
   "execution_count": 44,
   "metadata": {},
   "outputs": [
    {
     "name": "stdout",
     "output_type": "stream",
     "text": [
      "Значение P-value: 0.851\n",
      "Отвергаем нулевую гипотезу: статистически значимые отличия есть\n",
      "Относительная разница между группами: -0.57%\n"
     ]
    }
   ],
   "source": [
    "result_4 = stats.mannwhitneyu(\n",
    "            orders[\n",
    "                np.logical_and(orders['group'] == 'A',\n",
    "                    np.logical_not(orders['visitor_id'].isin(abnormal_users)),\n",
    "                )\n",
    "            ]['revenue'],\n",
    "            orders[\n",
    "                np.logical_and(\n",
    "                    orders['group'] == 'B',\n",
    "                    np.logical_not(orders['visitor_id'].isin(abnormal_users)),\n",
    "                )\n",
    "            ]['revenue'],\n",
    "        )[1]\n",
    "\n",
    "\n",
    "alpha = 0.05\n",
    "\n",
    "print('Значение P-value:', '{0:.3f}'.format(result_4))\n",
    "\n",
    "if result_3 < alpha:\n",
    "    print('Отвергаем нулевую гипотезу: статистически значимые отличия есть')\n",
    "else:\n",
    "    print('Не получилось отвергнуть нулевую гипотезу: статистически значимых отличий нет') \n",
    "\n",
    "print('Относительная разница между группами:',\n",
    "    \"{0:.2%}\".format(\n",
    "        orders[\n",
    "            np.logical_and(\n",
    "                orders['group'] == 'B',\n",
    "                np.logical_not(orders['visitor_id'].isin(abnormal_users)),\n",
    "            )\n",
    "        ]['revenue'].mean()\n",
    "        / orders[\n",
    "            np.logical_and(\n",
    "                orders['group'] == 'A',\n",
    "                np.logical_not(orders['visitor_id'].isin(abnormal_users)),\n",
    "            )\n",
    "        ]['revenue'].mean()\n",
    "        - 1\n",
    "    )\n",
    ")"
   ]
  },
  {
   "cell_type": "markdown",
   "metadata": {},
   "source": [
    "P-value больше 0.05 - значит нулевую гипотезу не отвергаем, статистически значимых отличий между группамми в среднем чеке нет. \n",
    "\n",
    "Однако, из теста видим, что средний чек группы B ниже среднего чека группы А на -0.57%, в то время как по \"сырым\" данным, он был больше почти в 20 раз, что показывает вляние дорогих заказов."
   ]
  },
  {
   "cell_type": "markdown",
   "metadata": {},
   "source": [
    "Вывод:\n",
    "На стадии предобработки данные были проверены на корректность: пропусков и дубликатов не обнаружено, колонки с датами были приведены к формату datetime64, исправлено написание названий столбцов - приедено к общепринятой форме. Датасет orders содержит 1196 записей, датасет visitors - 61 запись.\n",
    "\n",
    "Провели коррекцию попадания пользователей в обе группы и очистили датафрейм orders от данных с id этих пользователей. Датафрейм содержит 108\n",
    "\n",
    "Приоритезация тестов выявила предпочтительность гипотезы №7 \"Добавить форму подписки на все основные страницы, чтобы собрать базу клиентов для email-рассылок\", т.к. модель ICE, основанная на удовлетворённости от продукта и нашей в этом уверенности, может быть очень эффеткивной, если не важен максимальный охват аудитории. В случае же, если охват важен - модель RICE оказывается наиболее приоритетной, что и показали наши расчёты.\n",
    "\n",
    "Однако, здесь можно дать рекомендацию доработать находящуюся на 1 месте по по ICE гипотезу под номером 8 - \"Запустить акцию, дающую скидку на товар в день рождения\". Подарки - это всегда хорошо, тем более без повода.\n",
    "\n",
    "Если говорить про гипотезу №7 \"Добавить форму подписки на все основные страницы, чтобы собрать базу клиентов для email-рассылок\", то, основываясь на результатах А/В тестов можно сказать, что по среднему количеству заказов и по \"сырым\" данным (+15.98%), и по \"очищенным\" (+17.27%) лидирует группа В. По среднему чеку статистические различия между группами отсутсвуют.\n",
    "\n",
    "Можно остановить тест и зафиксировать рост показателей группы В по среднему количеству заказов, передать данные в отдел маркетинга и/или разработки для работы над увеличением среднего чека. Также могу порекомендовать передать данные с выбросами в отдел работы с клиентами для того, чтобы повысить лояльность клиентов, которые совершают такие крупные покупки и, возможно, увеличить подобные заказы от этих клиентов либо знакомых / деловых партнёров этих клиентов.\n",
    "\n",
    "Также, могу порекомендовать продолжать собирать аналитику и выяснить, являются ли отсеянные нами крупные заказы выбросами или они будут посторяться с какой-то периодичностью либо сезонностью. Возможно, эти сверхкрупные выбросы на самом деле не выбросы, а клиенты, которые будут с некоторой периодичностью к нам возвращаться (как, например, клиенты, покупающие домашнюю технику не каждый месяц покупают холодильник, но кроме него могут купить и телевизор, и новую модель телефона, и т.д. Либо это могут быть специалисты отдела закупок, раз в определённый период делающие закупки для своих организаций или клиентских мероприятий).\n",
    "\n",
    "Тем более, что средний чек и количество заказов - это не главные показатели эффективности бизнеса год к году, важна ещё и маржа, и возврат на инвестиции, а здесь имеет значение каждый чек, независимо от того, признан он выбросом или нет."
   ]
  }
 ],
 "metadata": {
  "ExecuteTimeLog": [
   {
    "duration": 1396,
    "start_time": "2025-01-26T11:45:45.032Z"
   },
   {
    "duration": 59,
    "start_time": "2025-01-26T11:48:29.334Z"
   },
   {
    "duration": 102,
    "start_time": "2025-01-26T11:48:46.150Z"
   },
   {
    "duration": 7,
    "start_time": "2025-01-26T11:49:07.989Z"
   },
   {
    "duration": 8,
    "start_time": "2025-01-26T11:49:38.225Z"
   },
   {
    "duration": 49,
    "start_time": "2025-01-26T11:55:15.834Z"
   },
   {
    "duration": 5,
    "start_time": "2025-01-26T11:56:20.414Z"
   },
   {
    "duration": 77,
    "start_time": "2025-01-26T11:56:28.840Z"
   },
   {
    "duration": 5,
    "start_time": "2025-01-26T11:56:52.942Z"
   },
   {
    "duration": 48,
    "start_time": "2025-01-26T11:56:54.065Z"
   },
   {
    "duration": 5,
    "start_time": "2025-01-26T11:57:31.989Z"
   },
   {
    "duration": 51,
    "start_time": "2025-01-26T11:57:32.333Z"
   },
   {
    "duration": 5,
    "start_time": "2025-01-26T11:57:53.150Z"
   },
   {
    "duration": 54,
    "start_time": "2025-01-26T11:57:53.576Z"
   },
   {
    "duration": 5,
    "start_time": "2025-01-26T11:58:30.369Z"
   },
   {
    "duration": 50,
    "start_time": "2025-01-26T11:58:32.152Z"
   },
   {
    "duration": 95,
    "start_time": "2025-01-26T12:01:39.564Z"
   },
   {
    "duration": 3,
    "start_time": "2025-01-26T12:01:56.586Z"
   },
   {
    "duration": 12,
    "start_time": "2025-01-26T12:02:16.526Z"
   },
   {
    "duration": 10,
    "start_time": "2025-01-26T12:02:21.687Z"
   },
   {
    "duration": 9,
    "start_time": "2025-01-26T12:02:38.193Z"
   },
   {
    "duration": 60,
    "start_time": "2025-01-26T12:04:10.356Z"
   },
   {
    "duration": 5,
    "start_time": "2025-01-26T12:04:11.311Z"
   },
   {
    "duration": 51,
    "start_time": "2025-01-26T12:04:11.997Z"
   },
   {
    "duration": 9,
    "start_time": "2025-01-26T12:04:13.491Z"
   },
   {
    "duration": 9,
    "start_time": "2025-01-26T12:04:23.425Z"
   },
   {
    "duration": 8,
    "start_time": "2025-01-26T12:04:31.149Z"
   },
   {
    "duration": 9,
    "start_time": "2025-01-26T12:04:37.953Z"
   },
   {
    "duration": 9,
    "start_time": "2025-01-26T12:04:55.750Z"
   },
   {
    "duration": 52,
    "start_time": "2025-01-26T12:07:19.893Z"
   },
   {
    "duration": 88,
    "start_time": "2025-01-26T12:08:53.135Z"
   },
   {
    "duration": 6,
    "start_time": "2025-01-26T12:11:39.183Z"
   },
   {
    "duration": 12,
    "start_time": "2025-01-26T12:11:58.906Z"
   },
   {
    "duration": 17,
    "start_time": "2025-01-26T12:12:07.726Z"
   },
   {
    "duration": 40,
    "start_time": "2025-01-26T12:12:37.483Z"
   },
   {
    "duration": 16,
    "start_time": "2025-01-26T12:13:38.177Z"
   },
   {
    "duration": 118,
    "start_time": "2025-01-26T12:17:25.999Z"
   },
   {
    "duration": 12,
    "start_time": "2025-01-26T12:48:20.147Z"
   },
   {
    "duration": 11,
    "start_time": "2025-01-26T12:54:37.943Z"
   },
   {
    "duration": 11,
    "start_time": "2025-01-26T12:54:58.105Z"
   },
   {
    "duration": 3,
    "start_time": "2025-01-26T12:55:04.416Z"
   },
   {
    "duration": 94,
    "start_time": "2025-01-26T12:55:04.421Z"
   },
   {
    "duration": 5,
    "start_time": "2025-01-26T12:55:04.517Z"
   },
   {
    "duration": 80,
    "start_time": "2025-01-26T12:55:04.523Z"
   },
   {
    "duration": 8,
    "start_time": "2025-01-26T12:55:04.605Z"
   },
   {
    "duration": 100,
    "start_time": "2025-01-26T12:55:04.615Z"
   },
   {
    "duration": 28,
    "start_time": "2025-01-26T12:55:04.717Z"
   },
   {
    "duration": 82,
    "start_time": "2025-01-26T12:55:04.748Z"
   },
   {
    "duration": 13,
    "start_time": "2025-01-26T12:55:04.832Z"
   },
   {
    "duration": 26,
    "start_time": "2025-01-26T12:55:04.847Z"
   },
   {
    "duration": 3,
    "start_time": "2025-01-26T12:55:17.666Z"
   },
   {
    "duration": 1191,
    "start_time": "2025-01-26T12:55:41.429Z"
   },
   {
    "duration": 62,
    "start_time": "2025-01-26T12:55:43.070Z"
   },
   {
    "duration": 62,
    "start_time": "2025-01-26T12:55:45.094Z"
   },
   {
    "duration": 7,
    "start_time": "2025-01-26T12:55:45.331Z"
   },
   {
    "duration": 63,
    "start_time": "2025-01-26T12:55:45.641Z"
   },
   {
    "duration": 9,
    "start_time": "2025-01-26T12:55:47.339Z"
   },
   {
    "duration": 51,
    "start_time": "2025-01-26T12:55:48.956Z"
   },
   {
    "duration": 13,
    "start_time": "2025-01-26T12:55:49.869Z"
   },
   {
    "duration": 42,
    "start_time": "2025-01-26T12:55:50.735Z"
   },
   {
    "duration": 13,
    "start_time": "2025-01-26T12:55:51.623Z"
   },
   {
    "duration": 13,
    "start_time": "2025-01-26T12:55:54.255Z"
   },
   {
    "duration": 3,
    "start_time": "2025-01-26T12:56:45.999Z"
   },
   {
    "duration": 65,
    "start_time": "2025-01-26T12:56:47.300Z"
   },
   {
    "duration": 5,
    "start_time": "2025-01-26T12:56:48.300Z"
   },
   {
    "duration": 49,
    "start_time": "2025-01-26T12:56:48.850Z"
   },
   {
    "duration": 8,
    "start_time": "2025-01-26T12:56:59.281Z"
   },
   {
    "duration": 56,
    "start_time": "2025-01-26T12:57:02.676Z"
   },
   {
    "duration": 14,
    "start_time": "2025-01-26T12:57:03.643Z"
   },
   {
    "duration": 46,
    "start_time": "2025-01-26T12:57:04.585Z"
   },
   {
    "duration": 12,
    "start_time": "2025-01-26T12:57:05.571Z"
   },
   {
    "duration": 12,
    "start_time": "2025-01-26T12:57:08.624Z"
   },
   {
    "duration": 13,
    "start_time": "2025-01-26T12:58:50.595Z"
   },
   {
    "duration": 15,
    "start_time": "2025-01-26T13:18:16.849Z"
   },
   {
    "duration": 14,
    "start_time": "2025-01-26T13:18:26.674Z"
   },
   {
    "duration": 14,
    "start_time": "2025-01-26T13:28:53.743Z"
   },
   {
    "duration": 125,
    "start_time": "2025-01-26T13:30:36.052Z"
   },
   {
    "duration": 12,
    "start_time": "2025-01-26T13:30:46.943Z"
   },
   {
    "duration": 10,
    "start_time": "2025-01-26T13:31:07.445Z"
   },
   {
    "duration": 12,
    "start_time": "2025-01-26T13:31:51.272Z"
   },
   {
    "duration": 96,
    "start_time": "2025-01-26T13:38:03.425Z"
   },
   {
    "duration": 3,
    "start_time": "2025-01-26T14:10:14.791Z"
   },
   {
    "duration": 306,
    "start_time": "2025-01-26T14:11:16.317Z"
   },
   {
    "duration": 15,
    "start_time": "2025-01-26T14:13:27.498Z"
   },
   {
    "duration": 296,
    "start_time": "2025-01-26T14:16:53.683Z"
   },
   {
    "duration": 10,
    "start_time": "2025-01-26T14:17:18.511Z"
   },
   {
    "duration": 9,
    "start_time": "2025-01-26T14:17:34.766Z"
   },
   {
    "duration": 15,
    "start_time": "2025-01-26T14:17:53.816Z"
   },
   {
    "duration": 350,
    "start_time": "2025-01-26T14:19:28.360Z"
   },
   {
    "duration": 206,
    "start_time": "2025-01-26T14:21:11.677Z"
   },
   {
    "duration": 238,
    "start_time": "2025-01-26T14:21:20.108Z"
   },
   {
    "duration": 204,
    "start_time": "2025-01-26T14:22:10.657Z"
   },
   {
    "duration": 211,
    "start_time": "2025-01-26T14:22:52.439Z"
   },
   {
    "duration": 208,
    "start_time": "2025-01-26T14:23:18.158Z"
   },
   {
    "duration": 89,
    "start_time": "2025-01-26T14:27:44.491Z"
   },
   {
    "duration": 241,
    "start_time": "2025-01-26T14:29:01.521Z"
   },
   {
    "duration": 17,
    "start_time": "2025-01-26T14:30:12.918Z"
   },
   {
    "duration": 245,
    "start_time": "2025-01-26T14:30:21.334Z"
   },
   {
    "duration": 330,
    "start_time": "2025-01-26T14:30:50.383Z"
   },
   {
    "duration": 215,
    "start_time": "2025-01-26T14:31:43.791Z"
   },
   {
    "duration": 244,
    "start_time": "2025-01-26T14:31:50.023Z"
   },
   {
    "duration": 247,
    "start_time": "2025-01-26T14:31:54.944Z"
   },
   {
    "duration": 213,
    "start_time": "2025-01-26T14:32:03.258Z"
   },
   {
    "duration": 220,
    "start_time": "2025-01-26T14:32:05.030Z"
   },
   {
    "duration": 220,
    "start_time": "2025-01-26T14:32:10.298Z"
   },
   {
    "duration": 256,
    "start_time": "2025-01-26T14:32:15.723Z"
   },
   {
    "duration": 13,
    "start_time": "2025-01-26T14:44:31.818Z"
   },
   {
    "duration": 7,
    "start_time": "2025-01-26T14:45:00.282Z"
   },
   {
    "duration": 9,
    "start_time": "2025-01-26T14:45:03.566Z"
   },
   {
    "duration": 318,
    "start_time": "2025-01-26T14:45:53.286Z"
   },
   {
    "duration": 260,
    "start_time": "2025-01-26T14:51:10.698Z"
   },
   {
    "duration": 8,
    "start_time": "2025-01-26T15:11:36.021Z"
   },
   {
    "duration": 9,
    "start_time": "2025-01-26T15:11:43.636Z"
   },
   {
    "duration": 349,
    "start_time": "2025-01-26T15:12:50.728Z"
   },
   {
    "duration": 8,
    "start_time": "2025-01-26T15:27:13.949Z"
   },
   {
    "duration": 9,
    "start_time": "2025-01-26T15:27:18.908Z"
   },
   {
    "duration": 261,
    "start_time": "2025-01-26T15:28:31.793Z"
   },
   {
    "duration": 210,
    "start_time": "2025-01-26T15:28:58.205Z"
   },
   {
    "duration": 5,
    "start_time": "2025-01-26T15:41:15.531Z"
   },
   {
    "duration": 110,
    "start_time": "2025-01-26T15:46:10.230Z"
   },
   {
    "duration": 3,
    "start_time": "2025-01-26T15:46:41.568Z"
   },
   {
    "duration": 85,
    "start_time": "2025-01-26T15:52:51.058Z"
   },
   {
    "duration": 190,
    "start_time": "2025-01-26T15:53:06.111Z"
   },
   {
    "duration": 195,
    "start_time": "2025-01-26T15:55:40.018Z"
   },
   {
    "duration": 72,
    "start_time": "2025-01-26T15:56:09.138Z"
   },
   {
    "duration": 195,
    "start_time": "2025-01-26T15:57:00.066Z"
   },
   {
    "duration": 187,
    "start_time": "2025-01-26T15:57:09.583Z"
   },
   {
    "duration": 9,
    "start_time": "2025-01-26T15:58:07.745Z"
   },
   {
    "duration": 12,
    "start_time": "2025-01-26T15:58:11.346Z"
   },
   {
    "duration": 112,
    "start_time": "2025-01-26T15:58:50.829Z"
   },
   {
    "duration": 180,
    "start_time": "2025-01-26T15:59:36.003Z"
   },
   {
    "duration": 184,
    "start_time": "2025-01-26T16:00:15.386Z"
   },
   {
    "duration": 100,
    "start_time": "2025-01-26T16:01:57.866Z"
   },
   {
    "duration": 6,
    "start_time": "2025-01-26T16:02:58.974Z"
   },
   {
    "duration": 5,
    "start_time": "2025-01-26T16:03:13.207Z"
   },
   {
    "duration": 5,
    "start_time": "2025-01-26T16:04:13.918Z"
   },
   {
    "duration": 3,
    "start_time": "2025-01-26T16:16:20.248Z"
   },
   {
    "duration": 17,
    "start_time": "2025-01-26T16:17:49.716Z"
   },
   {
    "duration": 17,
    "start_time": "2025-01-26T16:25:37.681Z"
   },
   {
    "duration": 15,
    "start_time": "2025-01-26T16:26:31.150Z"
   },
   {
    "duration": 13,
    "start_time": "2025-01-26T16:28:23.025Z"
   },
   {
    "duration": 15,
    "start_time": "2025-01-26T16:32:16.872Z"
   },
   {
    "duration": 1411,
    "start_time": "2025-01-26T16:32:48.650Z"
   },
   {
    "duration": 5,
    "start_time": "2025-01-26T16:33:20.901Z"
   },
   {
    "duration": 16,
    "start_time": "2025-01-26T16:33:58.205Z"
   },
   {
    "duration": 13,
    "start_time": "2025-01-26T16:35:11.977Z"
   },
   {
    "duration": 11,
    "start_time": "2025-01-26T16:35:56.726Z"
   },
   {
    "duration": 13,
    "start_time": "2025-01-26T16:36:16.039Z"
   },
   {
    "duration": 3,
    "start_time": "2025-01-26T16:36:38.279Z"
   },
   {
    "duration": 185,
    "start_time": "2025-01-26T16:36:39.154Z"
   },
   {
    "duration": 9,
    "start_time": "2025-01-26T16:36:39.945Z"
   },
   {
    "duration": 182,
    "start_time": "2025-01-26T16:36:40.210Z"
   },
   {
    "duration": 5,
    "start_time": "2025-01-26T16:36:41.369Z"
   },
   {
    "duration": 3,
    "start_time": "2025-01-26T16:36:42.151Z"
   },
   {
    "duration": 18,
    "start_time": "2025-01-26T16:36:43.005Z"
   },
   {
    "duration": 16,
    "start_time": "2025-01-26T16:36:44.810Z"
   },
   {
    "duration": 12,
    "start_time": "2025-01-26T16:36:46.958Z"
   },
   {
    "duration": 11,
    "start_time": "2025-01-26T16:46:31.893Z"
   },
   {
    "duration": 13,
    "start_time": "2025-01-26T16:46:36.410Z"
   },
   {
    "duration": 1166,
    "start_time": "2025-01-26T16:46:59.364Z"
   },
   {
    "duration": 72,
    "start_time": "2025-01-26T16:47:00.532Z"
   },
   {
    "duration": 7,
    "start_time": "2025-01-26T16:47:00.606Z"
   },
   {
    "duration": 62,
    "start_time": "2025-01-26T16:47:00.767Z"
   },
   {
    "duration": 10,
    "start_time": "2025-01-26T16:47:01.599Z"
   },
   {
    "duration": 52,
    "start_time": "2025-01-26T16:47:02.708Z"
   },
   {
    "duration": 15,
    "start_time": "2025-01-26T16:47:03.339Z"
   },
   {
    "duration": 46,
    "start_time": "2025-01-26T16:47:03.987Z"
   },
   {
    "duration": 12,
    "start_time": "2025-01-26T16:47:04.620Z"
   },
   {
    "duration": 12,
    "start_time": "2025-01-26T16:47:06.648Z"
   },
   {
    "duration": 15,
    "start_time": "2025-01-26T16:47:08.045Z"
   },
   {
    "duration": 284,
    "start_time": "2025-01-26T16:47:10.755Z"
   },
   {
    "duration": 14,
    "start_time": "2025-01-26T16:47:11.142Z"
   },
   {
    "duration": 13,
    "start_time": "2025-01-26T16:47:11.864Z"
   },
   {
    "duration": 336,
    "start_time": "2025-01-26T16:47:12.569Z"
   },
   {
    "duration": 209,
    "start_time": "2025-01-26T16:47:13.659Z"
   },
   {
    "duration": 212,
    "start_time": "2025-01-26T16:47:13.992Z"
   },
   {
    "duration": 248,
    "start_time": "2025-01-26T16:47:15.061Z"
   },
   {
    "duration": 7,
    "start_time": "2025-01-26T16:47:16.451Z"
   },
   {
    "duration": 9,
    "start_time": "2025-01-26T16:47:16.815Z"
   },
   {
    "duration": 341,
    "start_time": "2025-01-26T16:47:17.184Z"
   },
   {
    "duration": 296,
    "start_time": "2025-01-26T16:47:18.262Z"
   },
   {
    "duration": 8,
    "start_time": "2025-01-26T16:47:19.744Z"
   },
   {
    "duration": 9,
    "start_time": "2025-01-26T16:47:20.108Z"
   },
   {
    "duration": 322,
    "start_time": "2025-01-26T16:47:20.494Z"
   },
   {
    "duration": 7,
    "start_time": "2025-01-26T16:47:21.571Z"
   },
   {
    "duration": 8,
    "start_time": "2025-01-26T16:47:21.964Z"
   },
   {
    "duration": 170,
    "start_time": "2025-01-26T16:47:22.334Z"
   },
   {
    "duration": 4,
    "start_time": "2025-01-26T16:47:23.440Z"
   },
   {
    "duration": 3,
    "start_time": "2025-01-26T16:47:24.228Z"
   },
   {
    "duration": 269,
    "start_time": "2025-01-26T16:47:25.007Z"
   },
   {
    "duration": 9,
    "start_time": "2025-01-26T16:47:25.886Z"
   },
   {
    "duration": 181,
    "start_time": "2025-01-26T16:47:28.450Z"
   },
   {
    "duration": 6,
    "start_time": "2025-01-26T16:47:34.271Z"
   },
   {
    "duration": 2,
    "start_time": "2025-01-26T16:47:37.113Z"
   },
   {
    "duration": 19,
    "start_time": "2025-01-26T16:47:52.570Z"
   },
   {
    "duration": 3,
    "start_time": "2025-01-26T16:50:15.548Z"
   },
   {
    "duration": 11,
    "start_time": "2025-01-26T16:50:16.604Z"
   },
   {
    "duration": 3,
    "start_time": "2025-01-26T16:50:40.623Z"
   },
   {
    "duration": 186,
    "start_time": "2025-01-26T16:50:41.652Z"
   },
   {
    "duration": 9,
    "start_time": "2025-01-26T16:50:42.641Z"
   },
   {
    "duration": 182,
    "start_time": "2025-01-26T16:50:43.474Z"
   },
   {
    "duration": 5,
    "start_time": "2025-01-26T16:50:44.911Z"
   },
   {
    "duration": 10,
    "start_time": "2025-01-26T16:50:56.995Z"
   },
   {
    "duration": 121,
    "start_time": "2025-01-26T16:51:36.317Z"
   },
   {
    "duration": 17,
    "start_time": "2025-01-26T16:51:54.087Z"
   },
   {
    "duration": 22,
    "start_time": "2025-01-26T17:04:26.671Z"
   },
   {
    "duration": 328,
    "start_time": "2025-01-26T17:06:46.081Z"
   },
   {
    "duration": 10,
    "start_time": "2025-01-26T17:15:32.216Z"
   },
   {
    "duration": 314,
    "start_time": "2025-01-26T17:15:53.313Z"
   },
   {
    "duration": 23,
    "start_time": "2025-01-26T17:28:56.118Z"
   },
   {
    "duration": 10,
    "start_time": "2025-01-26T17:34:25.763Z"
   },
   {
    "duration": 10,
    "start_time": "2025-01-26T17:35:33.258Z"
   },
   {
    "duration": 83,
    "start_time": "2025-01-26T17:36:04.688Z"
   },
   {
    "duration": 11,
    "start_time": "2025-01-26T17:36:33.402Z"
   },
   {
    "duration": 54,
    "start_time": "2025-01-26T17:36:55.536Z"
   },
   {
    "duration": 20,
    "start_time": "2025-01-26T17:37:11.300Z"
   },
   {
    "duration": 61,
    "start_time": "2025-01-26T17:37:41.025Z"
   },
   {
    "duration": 24,
    "start_time": "2025-01-26T17:37:53.138Z"
   },
   {
    "duration": 58,
    "start_time": "2025-01-26T17:38:05.235Z"
   },
   {
    "duration": 37,
    "start_time": "2025-01-26T17:38:17.221Z"
   },
   {
    "duration": 168,
    "start_time": "2025-01-26T17:38:39.043Z"
   },
   {
    "duration": 158,
    "start_time": "2025-01-26T17:40:18.520Z"
   },
   {
    "duration": 1169,
    "start_time": "2025-01-26T17:40:54.863Z"
   },
   {
    "duration": 73,
    "start_time": "2025-01-26T17:40:56.034Z"
   },
   {
    "duration": 7,
    "start_time": "2025-01-26T17:40:56.108Z"
   },
   {
    "duration": 63,
    "start_time": "2025-01-26T17:40:56.267Z"
   },
   {
    "duration": 10,
    "start_time": "2025-01-26T17:40:56.942Z"
   },
   {
    "duration": 64,
    "start_time": "2025-01-26T17:40:57.762Z"
   },
   {
    "duration": 16,
    "start_time": "2025-01-26T17:40:57.828Z"
   },
   {
    "duration": 44,
    "start_time": "2025-01-26T17:40:57.861Z"
   },
   {
    "duration": 17,
    "start_time": "2025-01-26T17:40:57.929Z"
   },
   {
    "duration": 14,
    "start_time": "2025-01-26T17:40:58.109Z"
   },
   {
    "duration": 13,
    "start_time": "2025-01-26T17:40:58.222Z"
   },
   {
    "duration": 303,
    "start_time": "2025-01-26T17:40:58.473Z"
   },
   {
    "duration": 15,
    "start_time": "2025-01-26T17:40:58.777Z"
   },
   {
    "duration": 37,
    "start_time": "2025-01-26T17:40:58.794Z"
   },
   {
    "duration": 351,
    "start_time": "2025-01-26T17:40:58.833Z"
   },
   {
    "duration": 225,
    "start_time": "2025-01-26T17:40:59.186Z"
   },
   {
    "duration": 219,
    "start_time": "2025-01-26T17:40:59.413Z"
   },
   {
    "duration": 257,
    "start_time": "2025-01-26T17:40:59.634Z"
   },
   {
    "duration": 6,
    "start_time": "2025-01-26T17:40:59.892Z"
   },
   {
    "duration": 9,
    "start_time": "2025-01-26T17:40:59.900Z"
   },
   {
    "duration": 372,
    "start_time": "2025-01-26T17:40:59.910Z"
   },
   {
    "duration": 284,
    "start_time": "2025-01-26T17:41:00.284Z"
   },
   {
    "duration": 8,
    "start_time": "2025-01-26T17:41:00.571Z"
   },
   {
    "duration": 42,
    "start_time": "2025-01-26T17:41:00.581Z"
   },
   {
    "duration": 346,
    "start_time": "2025-01-26T17:41:00.625Z"
   },
   {
    "duration": 9,
    "start_time": "2025-01-26T17:41:01.407Z"
   },
   {
    "duration": 10,
    "start_time": "2025-01-26T17:41:01.709Z"
   },
   {
    "duration": 179,
    "start_time": "2025-01-26T17:41:02.095Z"
   },
   {
    "duration": 4,
    "start_time": "2025-01-26T17:41:03.231Z"
   },
   {
    "duration": 3,
    "start_time": "2025-01-26T17:41:03.965Z"
   },
   {
    "duration": 274,
    "start_time": "2025-01-26T17:41:04.756Z"
   },
   {
    "duration": 10,
    "start_time": "2025-01-26T17:41:05.556Z"
   },
   {
    "duration": 180,
    "start_time": "2025-01-26T17:41:06.266Z"
   },
   {
    "duration": 4,
    "start_time": "2025-01-26T17:41:07.390Z"
   },
   {
    "duration": 3,
    "start_time": "2025-01-26T17:41:08.116Z"
   },
   {
    "duration": 261,
    "start_time": "2025-01-26T17:41:11.127Z"
   },
   {
    "duration": 59,
    "start_time": "2025-01-26T17:41:59.525Z"
   },
   {
    "duration": 1218,
    "start_time": "2025-01-26T17:42:16.112Z"
   },
   {
    "duration": 71,
    "start_time": "2025-01-26T17:42:17.331Z"
   },
   {
    "duration": 7,
    "start_time": "2025-01-26T17:42:17.404Z"
   },
   {
    "duration": 61,
    "start_time": "2025-01-26T17:42:17.413Z"
   },
   {
    "duration": 9,
    "start_time": "2025-01-26T17:42:17.475Z"
   },
   {
    "duration": 83,
    "start_time": "2025-01-26T17:42:17.486Z"
   },
   {
    "duration": 15,
    "start_time": "2025-01-26T17:42:17.571Z"
   },
   {
    "duration": 81,
    "start_time": "2025-01-26T17:42:17.587Z"
   },
   {
    "duration": 13,
    "start_time": "2025-01-26T17:42:17.670Z"
   },
   {
    "duration": 48,
    "start_time": "2025-01-26T17:42:17.685Z"
   },
   {
    "duration": 13,
    "start_time": "2025-01-26T17:42:17.736Z"
   },
   {
    "duration": 300,
    "start_time": "2025-01-26T17:42:17.947Z"
   },
   {
    "duration": 15,
    "start_time": "2025-01-26T17:42:18.249Z"
   },
   {
    "duration": 14,
    "start_time": "2025-01-26T17:42:18.266Z"
   },
   {
    "duration": 398,
    "start_time": "2025-01-26T17:42:18.282Z"
   },
   {
    "duration": 229,
    "start_time": "2025-01-26T17:42:18.682Z"
   },
   {
    "duration": 228,
    "start_time": "2025-01-26T17:42:18.913Z"
   },
   {
    "duration": 262,
    "start_time": "2025-01-26T17:42:19.143Z"
   },
   {
    "duration": 6,
    "start_time": "2025-01-26T17:42:19.407Z"
   },
   {
    "duration": 23,
    "start_time": "2025-01-26T17:42:19.415Z"
   },
   {
    "duration": 344,
    "start_time": "2025-01-26T17:42:19.440Z"
   },
   {
    "duration": 270,
    "start_time": "2025-01-26T17:42:19.785Z"
   },
   {
    "duration": 8,
    "start_time": "2025-01-26T17:42:20.057Z"
   },
   {
    "duration": 15,
    "start_time": "2025-01-26T17:42:20.067Z"
   },
   {
    "duration": 328,
    "start_time": "2025-01-26T17:42:20.084Z"
   },
   {
    "duration": 16,
    "start_time": "2025-01-26T17:42:20.415Z"
   },
   {
    "duration": 10,
    "start_time": "2025-01-26T17:42:20.433Z"
   },
   {
    "duration": 187,
    "start_time": "2025-01-26T17:42:20.445Z"
   },
   {
    "duration": 6,
    "start_time": "2025-01-26T17:42:20.634Z"
   },
   {
    "duration": 14,
    "start_time": "2025-01-26T17:42:20.642Z"
   },
   {
    "duration": 298,
    "start_time": "2025-01-26T17:42:20.659Z"
   },
   {
    "duration": 9,
    "start_time": "2025-01-26T17:42:20.960Z"
   },
   {
    "duration": 201,
    "start_time": "2025-01-26T17:42:20.971Z"
   },
   {
    "duration": 5,
    "start_time": "2025-01-26T17:42:21.174Z"
   },
   {
    "duration": 15,
    "start_time": "2025-01-26T17:42:21.181Z"
   },
   {
    "duration": 83,
    "start_time": "2025-01-26T17:42:21.198Z"
   },
   {
    "duration": 295,
    "start_time": "2025-01-26T17:43:47.913Z"
   },
   {
    "duration": 293,
    "start_time": "2025-01-26T17:43:57.476Z"
   },
   {
    "duration": 318,
    "start_time": "2025-01-26T17:44:08.839Z"
   },
   {
    "duration": 287,
    "start_time": "2025-01-26T17:46:45.279Z"
   },
   {
    "duration": 325,
    "start_time": "2025-01-26T17:59:30.828Z"
   },
   {
    "duration": 10,
    "start_time": "2025-01-26T18:00:41.117Z"
   },
   {
    "duration": 87,
    "start_time": "2025-01-26T18:00:46.137Z"
   },
   {
    "duration": 291,
    "start_time": "2025-01-26T18:01:10.807Z"
   },
   {
    "duration": 319,
    "start_time": "2025-01-26T18:01:21.597Z"
   },
   {
    "duration": 298,
    "start_time": "2025-01-26T18:01:37.757Z"
   },
   {
    "duration": 293,
    "start_time": "2025-01-26T18:01:42.714Z"
   },
   {
    "duration": 308,
    "start_time": "2025-01-26T18:02:21.639Z"
   },
   {
    "duration": 300,
    "start_time": "2025-01-26T18:02:29.223Z"
   },
   {
    "duration": 302,
    "start_time": "2025-01-26T18:02:46.928Z"
   },
   {
    "duration": 327,
    "start_time": "2025-01-26T18:03:07.597Z"
   },
   {
    "duration": 302,
    "start_time": "2025-01-26T18:03:15.075Z"
   },
   {
    "duration": 299,
    "start_time": "2025-01-26T18:05:25.353Z"
   },
   {
    "duration": 1188,
    "start_time": "2025-01-26T18:08:19.035Z"
   },
   {
    "duration": 61,
    "start_time": "2025-01-26T18:08:20.229Z"
   },
   {
    "duration": 7,
    "start_time": "2025-01-26T18:08:20.292Z"
   },
   {
    "duration": 55,
    "start_time": "2025-01-26T18:08:20.510Z"
   },
   {
    "duration": 9,
    "start_time": "2025-01-26T18:08:20.791Z"
   },
   {
    "duration": 90,
    "start_time": "2025-01-26T18:08:21.640Z"
   },
   {
    "duration": 14,
    "start_time": "2025-01-26T18:08:22.184Z"
   },
   {
    "duration": 47,
    "start_time": "2025-01-26T18:08:22.745Z"
   },
   {
    "duration": 13,
    "start_time": "2025-01-26T18:08:23.282Z"
   },
   {
    "duration": 12,
    "start_time": "2025-01-26T18:08:24.872Z"
   },
   {
    "duration": 14,
    "start_time": "2025-01-26T18:08:26.103Z"
   },
   {
    "duration": 288,
    "start_time": "2025-01-26T18:08:27.715Z"
   },
   {
    "duration": 29,
    "start_time": "2025-01-26T18:08:28.005Z"
   },
   {
    "duration": 17,
    "start_time": "2025-01-26T18:08:28.398Z"
   },
   {
    "duration": 343,
    "start_time": "2025-01-26T18:08:28.910Z"
   },
   {
    "duration": 210,
    "start_time": "2025-01-26T18:08:29.541Z"
   },
   {
    "duration": 206,
    "start_time": "2025-01-26T18:08:29.770Z"
   },
   {
    "duration": 238,
    "start_time": "2025-01-26T18:08:30.462Z"
   },
   {
    "duration": 7,
    "start_time": "2025-01-26T18:08:31.378Z"
   },
   {
    "duration": 9,
    "start_time": "2025-01-26T18:08:31.612Z"
   },
   {
    "duration": 359,
    "start_time": "2025-01-26T18:08:31.839Z"
   },
   {
    "duration": 249,
    "start_time": "2025-01-26T18:08:32.555Z"
   },
   {
    "duration": 8,
    "start_time": "2025-01-26T18:08:33.488Z"
   },
   {
    "duration": 8,
    "start_time": "2025-01-26T18:08:33.723Z"
   },
   {
    "duration": 330,
    "start_time": "2025-01-26T18:08:33.961Z"
   },
   {
    "duration": 8,
    "start_time": "2025-01-26T18:08:34.680Z"
   },
   {
    "duration": 9,
    "start_time": "2025-01-26T18:08:34.909Z"
   },
   {
    "duration": 168,
    "start_time": "2025-01-26T18:08:35.147Z"
   },
   {
    "duration": 5,
    "start_time": "2025-01-26T18:08:35.937Z"
   },
   {
    "duration": 3,
    "start_time": "2025-01-26T18:08:36.457Z"
   },
   {
    "duration": 269,
    "start_time": "2025-01-26T18:08:36.984Z"
   },
   {
    "duration": 10,
    "start_time": "2025-01-26T18:08:37.432Z"
   },
   {
    "duration": 185,
    "start_time": "2025-01-26T18:08:37.929Z"
   },
   {
    "duration": 4,
    "start_time": "2025-01-26T18:08:38.660Z"
   },
   {
    "duration": 3,
    "start_time": "2025-01-26T18:08:39.556Z"
   },
   {
    "duration": 295,
    "start_time": "2025-01-26T18:08:40.821Z"
   },
   {
    "duration": 301,
    "start_time": "2025-01-26T18:10:10.699Z"
   },
   {
    "duration": 11,
    "start_time": "2025-01-26T18:12:45.497Z"
   },
   {
    "duration": 12,
    "start_time": "2025-01-26T18:13:20.553Z"
   },
   {
    "duration": 4,
    "start_time": "2025-01-26T18:17:27.384Z"
   },
   {
    "duration": 5,
    "start_time": "2025-01-26T18:17:34.471Z"
   },
   {
    "duration": 76,
    "start_time": "2025-01-26T18:17:39.305Z"
   },
   {
    "duration": 13,
    "start_time": "2025-01-26T18:17:47.746Z"
   },
   {
    "duration": 13,
    "start_time": "2025-01-26T18:21:32.521Z"
   },
   {
    "duration": 104,
    "start_time": "2025-01-26T18:22:32.918Z"
   },
   {
    "duration": 12,
    "start_time": "2025-01-26T18:28:11.434Z"
   },
   {
    "duration": 11,
    "start_time": "2025-01-26T18:32:53.667Z"
   },
   {
    "duration": 1560,
    "start_time": "2025-01-26T18:34:14.736Z"
   },
   {
    "duration": 17,
    "start_time": "2025-01-26T18:37:14.140Z"
   },
   {
    "duration": 10,
    "start_time": "2025-01-26T18:37:31.446Z"
   },
   {
    "duration": 11,
    "start_time": "2025-01-26T18:38:17.939Z"
   },
   {
    "duration": 1375,
    "start_time": "2025-01-26T18:39:16.139Z"
   },
   {
    "duration": 12,
    "start_time": "2025-01-26T18:41:03.840Z"
   },
   {
    "duration": 12,
    "start_time": "2025-01-26T18:41:22.089Z"
   },
   {
    "duration": 12,
    "start_time": "2025-01-26T18:43:02.002Z"
   },
   {
    "duration": 1514,
    "start_time": "2025-01-26T18:45:49.329Z"
   },
   {
    "duration": 34,
    "start_time": "2025-01-26T18:46:18.510Z"
   },
   {
    "duration": 37,
    "start_time": "2025-01-26T18:47:33.694Z"
   },
   {
    "duration": 34,
    "start_time": "2025-01-26T18:49:36.625Z"
   },
   {
    "duration": 35,
    "start_time": "2025-01-26T18:49:44.415Z"
   },
   {
    "duration": 34,
    "start_time": "2025-01-26T18:55:20.925Z"
   },
   {
    "duration": 77,
    "start_time": "2025-01-26T18:56:59.550Z"
   },
   {
    "duration": 1438,
    "start_time": "2025-01-26T18:59:50.611Z"
   },
   {
    "duration": 16,
    "start_time": "2025-01-26T19:00:58.918Z"
   },
   {
    "duration": 1221,
    "start_time": "2025-01-27T14:51:03.995Z"
   },
   {
    "duration": 65,
    "start_time": "2025-01-27T14:51:05.218Z"
   },
   {
    "duration": 7,
    "start_time": "2025-01-27T14:51:05.284Z"
   },
   {
    "duration": 46,
    "start_time": "2025-01-27T14:51:05.651Z"
   },
   {
    "duration": 11,
    "start_time": "2025-01-27T14:51:06.522Z"
   },
   {
    "duration": 44,
    "start_time": "2025-01-27T14:51:07.812Z"
   },
   {
    "duration": 13,
    "start_time": "2025-01-27T14:51:08.595Z"
   },
   {
    "duration": 34,
    "start_time": "2025-01-27T14:51:09.456Z"
   },
   {
    "duration": 11,
    "start_time": "2025-01-27T14:51:10.187Z"
   },
   {
    "duration": 11,
    "start_time": "2025-01-27T14:51:12.049Z"
   },
   {
    "duration": 12,
    "start_time": "2025-01-27T14:51:12.115Z"
   },
   {
    "duration": 256,
    "start_time": "2025-01-27T14:51:12.399Z"
   },
   {
    "duration": 14,
    "start_time": "2025-01-27T14:51:12.657Z"
   },
   {
    "duration": 11,
    "start_time": "2025-01-27T14:51:12.673Z"
   },
   {
    "duration": 317,
    "start_time": "2025-01-27T14:51:12.686Z"
   },
   {
    "duration": 189,
    "start_time": "2025-01-27T14:51:13.005Z"
   },
   {
    "duration": 184,
    "start_time": "2025-01-27T14:51:13.195Z"
   },
   {
    "duration": 209,
    "start_time": "2025-01-27T14:51:13.381Z"
   },
   {
    "duration": 5,
    "start_time": "2025-01-27T14:51:13.592Z"
   },
   {
    "duration": 9,
    "start_time": "2025-01-27T14:51:13.599Z"
   },
   {
    "duration": 400,
    "start_time": "2025-01-27T14:51:13.610Z"
   },
   {
    "duration": 222,
    "start_time": "2025-01-27T14:51:14.011Z"
   },
   {
    "duration": 7,
    "start_time": "2025-01-27T14:51:14.234Z"
   },
   {
    "duration": 8,
    "start_time": "2025-01-27T14:51:14.253Z"
   },
   {
    "duration": 315,
    "start_time": "2025-01-27T14:51:14.263Z"
   },
   {
    "duration": 7,
    "start_time": "2025-01-27T14:51:14.580Z"
   },
   {
    "duration": 6,
    "start_time": "2025-01-27T14:51:14.588Z"
   },
   {
    "duration": 153,
    "start_time": "2025-01-27T14:51:14.595Z"
   },
   {
    "duration": 4,
    "start_time": "2025-01-27T14:51:14.753Z"
   },
   {
    "duration": 3,
    "start_time": "2025-01-27T14:51:14.759Z"
   },
   {
    "duration": 302,
    "start_time": "2025-01-27T14:51:14.764Z"
   },
   {
    "duration": 7,
    "start_time": "2025-01-27T14:51:15.068Z"
   },
   {
    "duration": 173,
    "start_time": "2025-01-27T14:51:15.077Z"
   },
   {
    "duration": 4,
    "start_time": "2025-01-27T14:51:15.255Z"
   },
   {
    "duration": 8,
    "start_time": "2025-01-27T14:51:15.260Z"
   },
   {
    "duration": 312,
    "start_time": "2025-01-27T14:51:15.887Z"
   },
   {
    "duration": 11,
    "start_time": "2025-01-27T14:51:16.529Z"
   },
   {
    "duration": 11,
    "start_time": "2025-01-27T14:51:17.708Z"
   },
   {
    "duration": 29,
    "start_time": "2025-01-27T14:51:17.932Z"
   },
   {
    "duration": 13,
    "start_time": "2025-01-27T14:51:18.916Z"
   },
   {
    "duration": 13,
    "start_time": "2025-01-27T14:55:51.972Z"
   },
   {
    "duration": 14,
    "start_time": "2025-01-27T14:59:17.915Z"
   },
   {
    "duration": 14,
    "start_time": "2025-01-27T15:00:00.921Z"
   },
   {
    "duration": 76,
    "start_time": "2025-01-27T15:02:51.671Z"
   },
   {
    "duration": 96,
    "start_time": "2025-01-27T15:10:36.430Z"
   },
   {
    "duration": 1249,
    "start_time": "2025-01-27T17:13:22.723Z"
   },
   {
    "duration": 179,
    "start_time": "2025-01-27T17:13:23.974Z"
   },
   {
    "duration": 9,
    "start_time": "2025-01-27T17:13:24.155Z"
   },
   {
    "duration": 66,
    "start_time": "2025-01-27T17:13:24.169Z"
   },
   {
    "duration": 14,
    "start_time": "2025-01-27T17:13:24.259Z"
   },
   {
    "duration": 92,
    "start_time": "2025-01-27T17:13:24.275Z"
   },
   {
    "duration": 15,
    "start_time": "2025-01-27T17:13:24.376Z"
   },
   {
    "duration": 80,
    "start_time": "2025-01-27T17:13:24.393Z"
   },
   {
    "duration": 12,
    "start_time": "2025-01-27T17:13:24.475Z"
   },
   {
    "duration": 19,
    "start_time": "2025-01-27T17:13:24.489Z"
   },
   {
    "duration": 19,
    "start_time": "2025-01-27T17:13:24.510Z"
   },
   {
    "duration": 340,
    "start_time": "2025-01-27T17:13:24.531Z"
   },
   {
    "duration": 16,
    "start_time": "2025-01-27T17:13:24.874Z"
   },
   {
    "duration": 19,
    "start_time": "2025-01-27T17:13:24.895Z"
   },
   {
    "duration": 385,
    "start_time": "2025-01-27T17:13:24.917Z"
   },
   {
    "duration": 236,
    "start_time": "2025-01-27T17:13:25.304Z"
   },
   {
    "duration": 244,
    "start_time": "2025-01-27T17:13:25.542Z"
   },
   {
    "duration": 264,
    "start_time": "2025-01-27T17:13:25.788Z"
   },
   {
    "duration": 9,
    "start_time": "2025-01-27T17:13:26.054Z"
   },
   {
    "duration": 26,
    "start_time": "2025-01-27T17:13:26.065Z"
   },
   {
    "duration": 347,
    "start_time": "2025-01-27T17:13:26.093Z"
   },
   {
    "duration": 307,
    "start_time": "2025-01-27T17:13:26.442Z"
   },
   {
    "duration": 25,
    "start_time": "2025-01-27T17:13:26.751Z"
   },
   {
    "duration": 45,
    "start_time": "2025-01-27T17:13:26.778Z"
   },
   {
    "duration": 413,
    "start_time": "2025-01-27T17:13:26.825Z"
   },
   {
    "duration": 30,
    "start_time": "2025-01-27T17:13:27.240Z"
   },
   {
    "duration": 27,
    "start_time": "2025-01-27T17:13:27.272Z"
   },
   {
    "duration": 186,
    "start_time": "2025-01-27T17:13:27.301Z"
   },
   {
    "duration": 5,
    "start_time": "2025-01-27T17:13:27.488Z"
   },
   {
    "duration": 11,
    "start_time": "2025-01-27T17:13:27.495Z"
   },
   {
    "duration": 302,
    "start_time": "2025-01-27T17:13:27.508Z"
   },
   {
    "duration": 10,
    "start_time": "2025-01-27T17:13:27.812Z"
   },
   {
    "duration": 250,
    "start_time": "2025-01-27T17:13:27.824Z"
   },
   {
    "duration": 5,
    "start_time": "2025-01-27T17:13:28.077Z"
   },
   {
    "duration": 7,
    "start_time": "2025-01-27T17:13:28.084Z"
   },
   {
    "duration": 356,
    "start_time": "2025-01-27T17:13:28.093Z"
   },
   {
    "duration": 26,
    "start_time": "2025-01-27T17:13:28.451Z"
   },
   {
    "duration": 12,
    "start_time": "2025-01-27T17:13:28.479Z"
   },
   {
    "duration": 35,
    "start_time": "2025-01-27T17:13:28.493Z"
   },
   {
    "duration": 54,
    "start_time": "2025-01-27T17:13:28.530Z"
   },
   {
    "duration": 55,
    "start_time": "2025-01-27T17:54:53.821Z"
   },
   {
    "duration": 1430,
    "start_time": "2025-01-27T17:55:09.072Z"
   },
   {
    "duration": 78,
    "start_time": "2025-01-27T17:55:11.647Z"
   },
   {
    "duration": 6,
    "start_time": "2025-01-27T17:55:12.262Z"
   },
   {
    "duration": 59,
    "start_time": "2025-01-27T17:55:13.864Z"
   },
   {
    "duration": 9,
    "start_time": "2025-01-27T17:55:16.854Z"
   },
   {
    "duration": 68,
    "start_time": "2025-01-27T17:55:17.728Z"
   },
   {
    "duration": 10,
    "start_time": "2025-01-27T17:55:42.872Z"
   },
   {
    "duration": 9,
    "start_time": "2025-01-27T17:55:53.591Z"
   },
   {
    "duration": 6,
    "start_time": "2025-01-27T17:56:21.030Z"
   },
   {
    "duration": 9,
    "start_time": "2025-01-27T17:58:21.062Z"
   },
   {
    "duration": 16,
    "start_time": "2025-01-27T17:58:29.768Z"
   },
   {
    "duration": 8,
    "start_time": "2025-01-27T18:00:05.057Z"
   },
   {
    "duration": 1025,
    "start_time": "2025-01-27T18:00:15.712Z"
   },
   {
    "duration": 11,
    "start_time": "2025-01-27T18:03:46.183Z"
   },
   {
    "duration": 1359,
    "start_time": "2025-01-27T18:03:59.834Z"
   },
   {
    "duration": 67,
    "start_time": "2025-01-27T18:04:01.196Z"
   },
   {
    "duration": 8,
    "start_time": "2025-01-27T18:04:01.617Z"
   },
   {
    "duration": 60,
    "start_time": "2025-01-27T18:04:02.183Z"
   },
   {
    "duration": 9,
    "start_time": "2025-01-27T18:04:04.822Z"
   },
   {
    "duration": 15,
    "start_time": "2025-01-27T18:04:51.062Z"
   },
   {
    "duration": 108,
    "start_time": "2025-01-27T18:05:09.296Z"
   },
   {
    "duration": 17,
    "start_time": "2025-01-27T18:05:15.809Z"
   },
   {
    "duration": 15,
    "start_time": "2025-01-27T18:05:58.807Z"
   },
   {
    "duration": 15,
    "start_time": "2025-01-27T18:09:32.627Z"
   },
   {
    "duration": 22,
    "start_time": "2025-01-27T18:09:44.470Z"
   },
   {
    "duration": 13,
    "start_time": "2025-01-27T18:09:53.655Z"
   },
   {
    "duration": 56,
    "start_time": "2025-01-27T18:10:38.541Z"
   },
   {
    "duration": 3,
    "start_time": "2025-01-27T18:11:41.662Z"
   },
   {
    "duration": 14,
    "start_time": "2025-01-27T18:12:38.175Z"
   },
   {
    "duration": 17,
    "start_time": "2025-01-27T18:12:44.855Z"
   },
   {
    "duration": 20,
    "start_time": "2025-01-27T18:13:05.568Z"
   },
   {
    "duration": 180,
    "start_time": "2025-01-27T18:14:17.287Z"
   },
   {
    "duration": 129,
    "start_time": "2025-01-27T18:14:27.018Z"
   },
   {
    "duration": 18,
    "start_time": "2025-01-27T18:14:55.543Z"
   },
   {
    "duration": 14,
    "start_time": "2025-01-27T18:16:36.809Z"
   },
   {
    "duration": 1133,
    "start_time": "2025-01-27T18:17:41.711Z"
   },
   {
    "duration": 22,
    "start_time": "2025-01-27T18:18:02.528Z"
   },
   {
    "duration": 5,
    "start_time": "2025-01-27T18:18:57.735Z"
   },
   {
    "duration": 13,
    "start_time": "2025-01-27T18:19:10.375Z"
   },
   {
    "duration": 12,
    "start_time": "2025-01-27T18:19:25.745Z"
   },
   {
    "duration": 15,
    "start_time": "2025-01-27T18:19:41.551Z"
   },
   {
    "duration": 7,
    "start_time": "2025-01-27T18:31:42.410Z"
   },
   {
    "duration": 10,
    "start_time": "2025-01-27T18:32:11.052Z"
   },
   {
    "duration": 12,
    "start_time": "2025-01-27T18:32:20.743Z"
   },
   {
    "duration": 8,
    "start_time": "2025-01-27T18:32:24.244Z"
   },
   {
    "duration": 11,
    "start_time": "2025-01-27T18:32:26.657Z"
   },
   {
    "duration": 10,
    "start_time": "2025-01-27T18:33:16.937Z"
   },
   {
    "duration": 53,
    "start_time": "2025-01-27T18:33:18.249Z"
   },
   {
    "duration": 14,
    "start_time": "2025-01-27T18:33:19.162Z"
   },
   {
    "duration": 49,
    "start_time": "2025-01-27T18:33:20.161Z"
   },
   {
    "duration": 14,
    "start_time": "2025-01-27T18:33:21.092Z"
   },
   {
    "duration": 12,
    "start_time": "2025-01-27T18:33:25.361Z"
   },
   {
    "duration": 15,
    "start_time": "2025-01-27T18:33:27.007Z"
   },
   {
    "duration": 308,
    "start_time": "2025-01-27T18:33:29.970Z"
   },
   {
    "duration": 17,
    "start_time": "2025-01-27T18:33:30.303Z"
   },
   {
    "duration": 13,
    "start_time": "2025-01-27T18:33:30.971Z"
   },
   {
    "duration": 345,
    "start_time": "2025-01-27T18:33:32.202Z"
   },
   {
    "duration": 233,
    "start_time": "2025-01-27T18:33:32.550Z"
   },
   {
    "duration": 225,
    "start_time": "2025-01-27T18:33:32.785Z"
   },
   {
    "duration": 263,
    "start_time": "2025-01-27T18:33:33.012Z"
   },
   {
    "duration": 6,
    "start_time": "2025-01-27T18:33:33.277Z"
   },
   {
    "duration": 33,
    "start_time": "2025-01-27T18:33:33.285Z"
   },
   {
    "duration": 389,
    "start_time": "2025-01-27T18:33:33.319Z"
   },
   {
    "duration": 281,
    "start_time": "2025-01-27T18:33:33.711Z"
   },
   {
    "duration": 10,
    "start_time": "2025-01-27T18:33:33.994Z"
   },
   {
    "duration": 23,
    "start_time": "2025-01-27T18:33:34.008Z"
   },
   {
    "duration": 388,
    "start_time": "2025-01-27T18:33:34.033Z"
   },
   {
    "duration": 10,
    "start_time": "2025-01-27T18:33:34.424Z"
   },
   {
    "duration": 29,
    "start_time": "2025-01-27T18:33:34.436Z"
   },
   {
    "duration": 194,
    "start_time": "2025-01-27T18:33:34.468Z"
   },
   {
    "duration": 6,
    "start_time": "2025-01-27T18:33:34.665Z"
   },
   {
    "duration": 11,
    "start_time": "2025-01-27T18:33:34.673Z"
   },
   {
    "duration": 312,
    "start_time": "2025-01-27T18:33:34.687Z"
   },
   {
    "duration": 11,
    "start_time": "2025-01-27T18:33:35.002Z"
   },
   {
    "duration": 211,
    "start_time": "2025-01-27T18:33:35.016Z"
   },
   {
    "duration": 5,
    "start_time": "2025-01-27T18:33:35.230Z"
   },
   {
    "duration": 28,
    "start_time": "2025-01-27T18:33:35.238Z"
   },
   {
    "duration": 324,
    "start_time": "2025-01-27T18:33:35.268Z"
   },
   {
    "duration": 13,
    "start_time": "2025-01-27T18:33:35.597Z"
   },
   {
    "duration": 32,
    "start_time": "2025-01-27T18:33:35.612Z"
   },
   {
    "duration": 51,
    "start_time": "2025-01-27T18:33:35.646Z"
   },
   {
    "duration": 17,
    "start_time": "2025-01-27T18:33:35.698Z"
   },
   {
    "duration": 10,
    "start_time": "2025-01-27T19:01:52.721Z"
   },
   {
    "duration": 14,
    "start_time": "2025-01-27T19:07:18.249Z"
   },
   {
    "duration": 8,
    "start_time": "2025-01-27T19:07:31.601Z"
   },
   {
    "duration": 31,
    "start_time": "2025-01-27T19:08:55.720Z"
   },
   {
    "duration": 32,
    "start_time": "2025-01-27T19:13:22.081Z"
   },
   {
    "duration": 8,
    "start_time": "2025-01-27T19:13:55.067Z"
   },
   {
    "duration": 6,
    "start_time": "2025-01-27T19:14:20.617Z"
   },
   {
    "duration": 18,
    "start_time": "2025-01-27T19:14:31.709Z"
   },
   {
    "duration": 12,
    "start_time": "2025-01-27T19:15:35.858Z"
   },
   {
    "duration": 12,
    "start_time": "2025-01-27T19:16:54.784Z"
   },
   {
    "duration": 8,
    "start_time": "2025-01-27T19:16:55.961Z"
   },
   {
    "duration": 9,
    "start_time": "2025-01-27T19:16:57.409Z"
   },
   {
    "duration": 13,
    "start_time": "2025-01-27T19:16:58.089Z"
   },
   {
    "duration": 17,
    "start_time": "2025-01-27T19:21:29.212Z"
   },
   {
    "duration": 14,
    "start_time": "2025-01-27T19:21:33.610Z"
   },
   {
    "duration": 327,
    "start_time": "2025-01-27T19:21:41.484Z"
   },
   {
    "duration": 24,
    "start_time": "2025-01-27T19:21:47.170Z"
   },
   {
    "duration": 16,
    "start_time": "2025-01-27T19:21:50.209Z"
   },
   {
    "duration": 252,
    "start_time": "2025-01-27T19:21:53.137Z"
   },
   {
    "duration": 218,
    "start_time": "2025-01-27T19:22:00.769Z"
   },
   {
    "duration": 213,
    "start_time": "2025-01-27T19:22:01.297Z"
   },
   {
    "duration": 273,
    "start_time": "2025-01-27T19:22:02.583Z"
   },
   {
    "duration": 11,
    "start_time": "2025-01-27T19:22:03.770Z"
   },
   {
    "duration": 10,
    "start_time": "2025-01-27T19:22:04.009Z"
   },
   {
    "duration": 392,
    "start_time": "2025-01-27T19:22:04.242Z"
   },
   {
    "duration": 275,
    "start_time": "2025-01-27T19:22:05.441Z"
   },
   {
    "duration": 9,
    "start_time": "2025-01-27T19:22:06.581Z"
   },
   {
    "duration": 14,
    "start_time": "2025-01-27T19:22:06.778Z"
   },
   {
    "duration": 337,
    "start_time": "2025-01-27T19:22:07.026Z"
   },
   {
    "duration": 11,
    "start_time": "2025-01-27T19:22:07.929Z"
   },
   {
    "duration": 9,
    "start_time": "2025-01-27T19:22:08.120Z"
   },
   {
    "duration": 201,
    "start_time": "2025-01-27T19:22:08.365Z"
   },
   {
    "duration": 4,
    "start_time": "2025-01-27T19:22:09.049Z"
   },
   {
    "duration": 3,
    "start_time": "2025-01-27T19:22:09.468Z"
   },
   {
    "duration": 307,
    "start_time": "2025-01-27T19:22:10.231Z"
   },
   {
    "duration": 10,
    "start_time": "2025-01-27T19:22:10.740Z"
   },
   {
    "duration": 188,
    "start_time": "2025-01-27T19:22:11.253Z"
   },
   {
    "duration": 5,
    "start_time": "2025-01-27T19:22:12.280Z"
   },
   {
    "duration": 2,
    "start_time": "2025-01-27T19:22:12.721Z"
   },
   {
    "duration": 303,
    "start_time": "2025-01-27T19:22:13.933Z"
   },
   {
    "duration": 12,
    "start_time": "2025-01-27T19:22:18.224Z"
   },
   {
    "duration": 15,
    "start_time": "2025-01-27T19:22:20.579Z"
   },
   {
    "duration": 35,
    "start_time": "2025-01-27T19:22:21.387Z"
   },
   {
    "duration": 18,
    "start_time": "2025-01-27T19:22:23.425Z"
   },
   {
    "duration": 62,
    "start_time": "2025-01-27T19:36:48.337Z"
   },
   {
    "duration": 3,
    "start_time": "2025-01-27T19:36:59.857Z"
   },
   {
    "duration": 183,
    "start_time": "2025-01-27T19:37:03.031Z"
   },
   {
    "duration": 9,
    "start_time": "2025-01-27T19:37:10.693Z"
   },
   {
    "duration": 185,
    "start_time": "2025-01-27T19:37:13.047Z"
   },
   {
    "duration": 5,
    "start_time": "2025-01-27T19:37:16.255Z"
   },
   {
    "duration": 3,
    "start_time": "2025-01-27T19:37:17.726Z"
   },
   {
    "duration": 289,
    "start_time": "2025-01-27T19:37:20.072Z"
   },
   {
    "duration": 16,
    "start_time": "2025-01-27T19:37:22.157Z"
   },
   {
    "duration": 12,
    "start_time": "2025-01-27T19:37:24.645Z"
   },
   {
    "duration": 37,
    "start_time": "2025-01-27T19:37:25.865Z"
   },
   {
    "duration": 18,
    "start_time": "2025-01-27T19:37:27.012Z"
   },
   {
    "duration": 3,
    "start_time": "2025-01-27T19:39:34.208Z"
   },
   {
    "duration": 308,
    "start_time": "2025-01-27T19:39:37.561Z"
   },
   {
    "duration": 13,
    "start_time": "2025-01-27T19:41:18.840Z"
   },
   {
    "duration": 35,
    "start_time": "2025-01-27T19:41:22.391Z"
   },
   {
    "duration": 16,
    "start_time": "2025-01-27T19:41:27.211Z"
   },
   {
    "duration": 1151,
    "start_time": "2025-01-28T02:24:35.948Z"
   },
   {
    "duration": 69,
    "start_time": "2025-01-28T02:24:37.101Z"
   },
   {
    "duration": 6,
    "start_time": "2025-01-28T02:24:37.172Z"
   },
   {
    "duration": 141,
    "start_time": "2025-01-28T02:24:37.180Z"
   },
   {
    "duration": 9,
    "start_time": "2025-01-28T02:24:37.323Z"
   },
   {
    "duration": 81,
    "start_time": "2025-01-28T02:24:37.333Z"
   },
   {
    "duration": 15,
    "start_time": "2025-01-28T02:24:37.416Z"
   },
   {
    "duration": 83,
    "start_time": "2025-01-28T02:24:37.433Z"
   },
   {
    "duration": 11,
    "start_time": "2025-01-28T02:24:37.519Z"
   },
   {
    "duration": 33,
    "start_time": "2025-01-28T02:24:37.533Z"
   },
   {
    "duration": 20,
    "start_time": "2025-01-28T02:24:37.568Z"
   },
   {
    "duration": 21,
    "start_time": "2025-01-28T02:24:37.590Z"
   },
   {
    "duration": 31,
    "start_time": "2025-01-28T02:24:37.613Z"
   },
   {
    "duration": 29,
    "start_time": "2025-01-28T02:24:37.646Z"
   },
   {
    "duration": 14,
    "start_time": "2025-01-28T02:24:37.677Z"
   },
   {
    "duration": 371,
    "start_time": "2025-01-28T02:24:37.692Z"
   },
   {
    "duration": 14,
    "start_time": "2025-01-28T02:24:38.064Z"
   },
   {
    "duration": 129,
    "start_time": "2025-01-28T02:24:38.080Z"
   },
   {
    "duration": 345,
    "start_time": "2025-01-28T02:24:38.211Z"
   },
   {
    "duration": 215,
    "start_time": "2025-01-28T02:24:38.558Z"
   },
   {
    "duration": 211,
    "start_time": "2025-01-28T02:24:38.774Z"
   },
   {
    "duration": 251,
    "start_time": "2025-01-28T02:24:38.986Z"
   },
   {
    "duration": 6,
    "start_time": "2025-01-28T02:24:39.239Z"
   },
   {
    "duration": 29,
    "start_time": "2025-01-28T02:24:39.247Z"
   },
   {
    "duration": 341,
    "start_time": "2025-01-28T02:24:39.278Z"
   },
   {
    "duration": 255,
    "start_time": "2025-01-28T02:24:39.621Z"
   },
   {
    "duration": 8,
    "start_time": "2025-01-28T02:24:39.878Z"
   },
   {
    "duration": 22,
    "start_time": "2025-01-28T02:24:39.890Z"
   },
   {
    "duration": 338,
    "start_time": "2025-01-28T02:24:39.914Z"
   },
   {
    "duration": 7,
    "start_time": "2025-01-28T02:24:40.254Z"
   },
   {
    "duration": 10,
    "start_time": "2025-01-28T02:24:40.262Z"
   },
   {
    "duration": 206,
    "start_time": "2025-01-28T02:24:40.274Z"
   },
   {
    "duration": 5,
    "start_time": "2025-01-28T02:24:40.482Z"
   },
   {
    "duration": 19,
    "start_time": "2025-01-28T02:24:40.488Z"
   },
   {
    "duration": 265,
    "start_time": "2025-01-28T02:24:40.510Z"
   },
   {
    "duration": 8,
    "start_time": "2025-01-28T02:24:40.777Z"
   },
   {
    "duration": 189,
    "start_time": "2025-01-28T02:24:40.787Z"
   },
   {
    "duration": 4,
    "start_time": "2025-01-28T02:24:40.978Z"
   },
   {
    "duration": 17,
    "start_time": "2025-01-28T02:24:40.983Z"
   },
   {
    "duration": 286,
    "start_time": "2025-01-28T02:24:41.002Z"
   },
   {
    "duration": 21,
    "start_time": "2025-01-28T02:24:41.289Z"
   },
   {
    "duration": 11,
    "start_time": "2025-01-28T02:24:41.312Z"
   },
   {
    "duration": 35,
    "start_time": "2025-01-28T02:24:41.324Z"
   },
   {
    "duration": 18,
    "start_time": "2025-01-28T02:24:41.360Z"
   },
   {
    "duration": 1165,
    "start_time": "2025-01-28T02:31:13.328Z"
   },
   {
    "duration": 70,
    "start_time": "2025-01-28T02:31:14.495Z"
   },
   {
    "duration": 6,
    "start_time": "2025-01-28T02:31:14.567Z"
   },
   {
    "duration": 75,
    "start_time": "2025-01-28T02:31:14.575Z"
   },
   {
    "duration": 8,
    "start_time": "2025-01-28T02:31:14.653Z"
   },
   {
    "duration": 80,
    "start_time": "2025-01-28T02:31:14.663Z"
   },
   {
    "duration": 14,
    "start_time": "2025-01-28T02:31:14.745Z"
   },
   {
    "duration": 78,
    "start_time": "2025-01-28T02:31:14.760Z"
   },
   {
    "duration": 12,
    "start_time": "2025-01-28T02:31:14.840Z"
   },
   {
    "duration": 14,
    "start_time": "2025-01-28T02:31:14.853Z"
   },
   {
    "duration": 40,
    "start_time": "2025-01-28T02:31:14.869Z"
   },
   {
    "duration": 7,
    "start_time": "2025-01-28T02:31:14.911Z"
   },
   {
    "duration": 18,
    "start_time": "2025-01-28T02:31:14.919Z"
   },
   {
    "duration": 16,
    "start_time": "2025-01-28T02:31:14.941Z"
   },
   {
    "duration": 19,
    "start_time": "2025-01-28T02:31:14.959Z"
   },
   {
    "duration": 326,
    "start_time": "2025-01-28T02:31:14.979Z"
   },
   {
    "duration": 15,
    "start_time": "2025-01-28T02:31:15.308Z"
   },
   {
    "duration": 33,
    "start_time": "2025-01-28T02:31:15.325Z"
   },
   {
    "duration": 338,
    "start_time": "2025-01-28T02:31:15.360Z"
   },
   {
    "duration": 220,
    "start_time": "2025-01-28T02:31:15.701Z"
   },
   {
    "duration": 213,
    "start_time": "2025-01-28T02:31:15.923Z"
   },
   {
    "duration": 249,
    "start_time": "2025-01-28T02:31:16.138Z"
   },
   {
    "duration": 7,
    "start_time": "2025-01-28T02:31:16.389Z"
   },
   {
    "duration": 16,
    "start_time": "2025-01-28T02:31:16.398Z"
   },
   {
    "duration": 338,
    "start_time": "2025-01-28T02:31:16.416Z"
   },
   {
    "duration": 262,
    "start_time": "2025-01-28T02:31:16.756Z"
   },
   {
    "duration": 8,
    "start_time": "2025-01-28T02:31:17.020Z"
   },
   {
    "duration": 10,
    "start_time": "2025-01-28T02:31:17.029Z"
   },
   {
    "duration": 312,
    "start_time": "2025-01-28T02:31:17.041Z"
   },
   {
    "duration": 7,
    "start_time": "2025-01-28T02:31:17.354Z"
   },
   {
    "duration": 33,
    "start_time": "2025-01-28T02:31:17.363Z"
   },
   {
    "duration": 183,
    "start_time": "2025-01-28T02:31:17.398Z"
   },
   {
    "duration": 4,
    "start_time": "2025-01-28T02:31:17.583Z"
   },
   {
    "duration": 7,
    "start_time": "2025-01-28T02:31:17.589Z"
   },
   {
    "duration": 279,
    "start_time": "2025-01-28T02:31:17.598Z"
   },
   {
    "duration": 9,
    "start_time": "2025-01-28T02:31:17.879Z"
   },
   {
    "duration": 188,
    "start_time": "2025-01-28T02:31:17.890Z"
   },
   {
    "duration": 5,
    "start_time": "2025-01-28T02:31:18.080Z"
   },
   {
    "duration": 41,
    "start_time": "2025-01-28T02:31:18.086Z"
   },
   {
    "duration": 309,
    "start_time": "2025-01-28T02:31:18.129Z"
   },
   {
    "duration": 12,
    "start_time": "2025-01-28T02:31:18.442Z"
   },
   {
    "duration": 11,
    "start_time": "2025-01-28T02:31:18.455Z"
   },
   {
    "duration": 57,
    "start_time": "2025-01-28T02:31:18.468Z"
   },
   {
    "duration": 16,
    "start_time": "2025-01-28T02:31:18.526Z"
   }
  ],
  "kernelspec": {
   "display_name": "Python 3 (ipykernel)",
   "language": "python",
   "name": "python3"
  },
  "language_info": {
   "codemirror_mode": {
    "name": "ipython",
    "version": 3
   },
   "file_extension": ".py",
   "mimetype": "text/x-python",
   "name": "python",
   "nbconvert_exporter": "python",
   "pygments_lexer": "ipython3",
   "version": "3.9.7"
  },
  "toc": {
   "base_numbering": 1,
   "nav_menu": {},
   "number_sections": true,
   "sideBar": true,
   "skip_h1_title": true,
   "title_cell": "Table of Contents",
   "title_sidebar": "Contents",
   "toc_cell": false,
   "toc_position": {},
   "toc_section_display": true,
   "toc_window_display": false
  }
 },
 "nbformat": 4,
 "nbformat_minor": 2
}
