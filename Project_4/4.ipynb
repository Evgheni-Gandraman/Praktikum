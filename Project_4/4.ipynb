{
 "cells": [
  {
   "cell_type": "markdown",
   "metadata": {},
   "source": [
    "<div style=\"border:solid green 2px; padding: 20px\">\n",
    "    \n",
    "<b>Евгений, привет!</b> Мы рады тебя видеть на территории код-ревьюеров. Ты проделал большую работу над проектом, но давай познакомимся и сделаем его еще лучше! У нас тут своя атмосфера и несколько правил:\n",
    "\n",
    "\n",
    "1. Меня зовут Александр Матвеевский. Я работаю код-ревьюером, моя основная цель — не указать на совершенные тобою ошибки, а поделиться своим опытом и помочь тебе стать аналитиком данных.\n",
    "2. Общаемся на ты.\n",
    "3. Если хочешь написать, спросить - не нужно стесняться. Только выбери свой цвет для комментария.  \n",
    "4. Это учебный проект, тут можно не бояться сделать ошибку.  \n",
    "5. У тебя неограниченное количество попыток для сдачи проекта.  \n",
    "6. Let's Go!\n",
    "\n",
    "---\n",
    "\n",
    "Я буду красить комментарии цветом, пожалуйста, не удаляй их:\n",
    "\n",
    "<div class=\"alert alert-block alert-danger\">✍\n",
    "    \n",
    "\n",
    "__Комментарий от ревьюера №1__\n",
    "\n",
    "Такой комментарий нужно исправить обязательно, он критически влияет на удачное выполнение проекта.\n",
    "</div>\n",
    "    \n",
    "---\n",
    "\n",
    "<div class=\"alert alert-block alert-warning\">📝\n",
    "    \n",
    "\n",
    "__Комментарий от ревьюера №1__\n",
    "\n",
    "\n",
    "Такой комментарий является рекомендацией или советом. Можешь использовать их на своё усмотрение.\n",
    "</div>\n",
    "\n",
    "---\n",
    "\n",
    "<div class=\"alert alert-block alert-success\">✔️\n",
    "    \n",
    "\n",
    "__Комментарий от ревьюера №1__\n",
    "\n",
    "Такой комментарий  говорит о том, что было сделано что-то качественное и правильное =)\n",
    "</div>\n",
    "    \n",
    "---\n",
    "    \n",
    "Предлагаю работать над проектом в диалоге: если ты что-то меняешь в проекте или отвечаешь на мои комментарии — пиши об этом. Мне будет легче отследить изменения, если ты выделишь свои комментарии:   \n",
    "    \n",
    "<div class=\"alert alert-info\"> <b>Комментарии студента:</b> Например, вот так.</div>\n",
    "    \n",
    "Всё это поможет выполнить повторную проверку твоего проекта оперативнее. Если будут какие-нибудь вопросы по моим комментариям, пиши, будем разбираться вместе :)    \n",
    "    \n",
    "---"
   ]
  },
  {
   "cell_type": "markdown",
   "metadata": {},
   "source": [
    "<div class=\"alert alert-info\">  Привет, Александр!"
   ]
  },
  {
   "cell_type": "markdown",
   "metadata": {},
   "source": [
    "<div class=\"alert alert-block alert-success\">✔️\n",
    "    \n",
    "\n",
    "__Комментарий от ревьюера №2__\n",
    "\n",
    "Евгений, рад тебя видеть =)\n",
    "</div>"
   ]
  },
  {
   "cell_type": "markdown",
   "metadata": {},
   "source": [
    "# Исследование объявлений о продаже квартир\n",
    "\n",
    "<b>Цель исследования</b> - установить параметры, влияющие на рыночную стоимость объектов недвижимости.\n",
    "\n",
    "<b>Исходные данные</b> - данные сервиса «Яндекс.Недвижимость» (архив объявлений о продаже квартир в Санкт-Петербурге и соседних населённых пунктах за несколько лет).\n",
    "\n",
    "<b>Вопросы, интересующие заказчика:</b>\n",
    "\n",
    " - Сколько времени занимает продажа квартиры. Когда продажу можно назвать быстрой / долгой\n",
    " - Какие факторы больше всего влияют на стоимость квартиры\n",
    " - Какая средняя стоимость квартиры в 10 населённых пунктов с наибольшим числом объявлений\n",
    " - Какие факторы влияют на стоимость квартиры в центре Санкт-Петербурга. Насколько они отличаются от данных в целом по городу"
   ]
  },
  {
   "cell_type": "markdown",
   "metadata": {},
   "source": [
    "# Содержание"
   ]
  },
  {
   "cell_type": "markdown",
   "metadata": {},
   "source": [
    "\n",
    "\n",
    "  1.  Изучение данных из файла\n",
    "  2.  Предобработка данных\n",
    "  3.  Рассчёты и добавление результатов в таблицу\n",
    "  4.  Исследовательский анализ данных\n",
    "    - 4.1  Изучение основных параметров\n",
    "    - 4.2  Изучение времени продажи квартиры\n",
    "    - 4.3  Определение факторов, влияющих на стоимость квартиры\n",
    "    - 4.4  Сравнение средней стоимости квадратного метра в топ-10 городов\n",
    "    - 4.5  Определяем как стоимость объектов зависит от расстояния до центра города.\n",
    "  5.  Общий вывод"
   ]
  },
  {
   "cell_type": "markdown",
   "metadata": {},
   "source": [
    "<div class=\"alert alert-block alert-success\">✔️\n",
    "    \n",
    "\n",
    "__Комментарий от ревьюера №1__\n",
    "\n",
    "\n",
    "Отличная практика - расписывать цель и основные этапы своими словами (этот навык очень поможет на фильнальном проекте).\n",
    "</div>"
   ]
  },
  {
   "cell_type": "markdown",
   "metadata": {},
   "source": [
    "### Изучение данных из файла "
   ]
  },
  {
   "cell_type": "code",
   "execution_count": 1,
   "metadata": {
    "scrolled": false
   },
   "outputs": [
    {
     "name": "stdout",
     "output_type": "stream",
     "text": [
      "<class 'pandas.core.frame.DataFrame'>\n",
      "RangeIndex: 23699 entries, 0 to 23698\n",
      "Data columns (total 22 columns):\n",
      " #   Column                Non-Null Count  Dtype  \n",
      "---  ------                --------------  -----  \n",
      " 0   total_images          23699 non-null  int64  \n",
      " 1   last_price            23699 non-null  float64\n",
      " 2   total_area            23699 non-null  float64\n",
      " 3   first_day_exposition  23699 non-null  object \n",
      " 4   rooms                 23699 non-null  int64  \n",
      " 5   ceiling_height        14504 non-null  float64\n",
      " 6   floors_total          23613 non-null  float64\n",
      " 7   living_area           21796 non-null  float64\n",
      " 8   floor                 23699 non-null  int64  \n",
      " 9   is_apartment          2775 non-null   object \n",
      " 10  studio                23699 non-null  bool   \n",
      " 11  open_plan             23699 non-null  bool   \n",
      " 12  kitchen_area          21421 non-null  float64\n",
      " 13  balcony               12180 non-null  float64\n",
      " 14  locality_name         23650 non-null  object \n",
      " 15  airports_nearest      18157 non-null  float64\n",
      " 16  cityCenters_nearest   18180 non-null  float64\n",
      " 17  parks_around3000      18181 non-null  float64\n",
      " 18  parks_nearest         8079 non-null   float64\n",
      " 19  ponds_around3000      18181 non-null  float64\n",
      " 20  ponds_nearest         9110 non-null   float64\n",
      " 21  days_exposition       20518 non-null  float64\n",
      "dtypes: bool(2), float64(14), int64(3), object(3)\n",
      "memory usage: 3.7+ MB\n"
     ]
    }
   ],
   "source": [
    "import pandas as pd\n",
    "import seaborn as sns\n",
    "import matplotlib.pyplot as plt\n",
    "import numpy as np\n",
    "from datetime import datetime \n",
    "\n",
    "pd.options.display.float_format = '{:,.2f}'.format\n",
    "pd.options.display.max_columns = 100\n",
    "\n",
    "\n",
    "\n",
    "data = pd.read_csv('/datasets/real_estate_data.csv', sep = '\\t')\n",
    "\n",
    "data.info()\n"
   ]
  },
  {
   "cell_type": "markdown",
   "metadata": {},
   "source": [
    "В некоторых столбцах <b>неправильный формат данных и огромное количество пропусков:</b>\n",
    "\n",
    "first_day_exposition - object - должен быть тип datetime<br>\n",
    "ceiling_height - пропуски<br>\n",
    "floors_total - должен быть тип int, т.к. количество этажей - целое значение + пропуски<br>\n",
    "is_apartment - должен быть тип bool + пропуски<br>\n",
    "living_area - пропуски<br>\n",
    "kitchen_area - пропуски<br>\n",
    "balcony - пропуски<br>\n",
    "locality_name - пропуски<br>\n",
    "airports_nearest - пропуски<br>\n",
    "cityCenters_nearest - пропуски<br>\n",
    "parks_around3000 - тип должен быть int + пропуски<br>\n",
    "parks_nearest - пропуски<br>\n",
    "ponds_around3000 - тип должен быть int + пропуски<br>\n",
    "ponds_nearest - пропуски<br>\n",
    "days_exposition - тип должен быть int + пропуски"
   ]
  },
  {
   "cell_type": "code",
   "execution_count": 2,
   "metadata": {},
   "outputs": [
    {
     "data": {
      "image/png": "[encoded data removed]",
      "text/plain": [
       "<Figure size 1080x1440 with 20 Axes>"
      ]
     },
     "metadata": {
      "needs_background": "light"
     },
     "output_type": "display_data"
    }
   ],
   "source": [
    "data.hist(figsize=(15, 20));"
   ]
  },
  {
   "cell_type": "markdown",
   "metadata": {},
   "source": [
    "Очень много пропусков в таблице. Также в данных есть аномальные значения, например, высота потолков 100 метров, общая площадь 900 квадратных метров, кухня 112 метров."
   ]
  },
  {
   "cell_type": "markdown",
   "metadata": {},
   "source": [
    "<div class=\"alert alert-block alert-success\">✔️\n",
    "    \n",
    "__Комментарий от ревьюера №1__\n",
    "    \n",
    "Отлично! Первый взгляд на данные есть"
   ]
  },
  {
   "cell_type": "markdown",
   "metadata": {},
   "source": [
    "### Предобработка данных"
   ]
  },
  {
   "cell_type": "code",
   "execution_count": null,
   "metadata": {},
   "outputs": [],
   "source": []
  },
  {
   "cell_type": "markdown",
   "metadata": {},
   "source": [
    "<div class=\"alert alert-block alert-success\">✔️\n",
    "    \n",
    "\n",
    "__Комментарий от ревьюера №1__\n",
    "\n",
    "Проверить колличество пропусков в % можно вот так: \n",
    "    \n",
    "    \n",
    "    pd.DataFrame(round(df.isna().mean()*100,)).style.background_gradient('coolwarm')"
   ]
  },
  {
   "cell_type": "markdown",
   "metadata": {},
   "source": [
    "Приводим в целочисленный тип <b>стоимость квартиры"
   ]
  },
  {
   "cell_type": "code",
   "execution_count": 3,
   "metadata": {},
   "outputs": [],
   "source": [
    "data['last_price'] = data['last_price'].astype(int)"
   ]
  },
  {
   "cell_type": "markdown",
   "metadata": {},
   "source": [
    "  <br>"
   ]
  },
  {
   "cell_type": "markdown",
   "metadata": {},
   "source": [
    "Приводим к типу даты <b>дату публикации"
   ]
  },
  {
   "cell_type": "code",
   "execution_count": 4,
   "metadata": {},
   "outputs": [],
   "source": [
    "data['first_day_exposition'] = pd.to_datetime(data['first_day_exposition'], format='%Y-%m-%dT%H:%M:%S')"
   ]
  },
  {
   "cell_type": "markdown",
   "metadata": {},
   "source": [
    "  <br>"
   ]
  },
  {
   "cell_type": "markdown",
   "metadata": {},
   "source": [
    "<b>Апартаменты</b> - мало кому известная штука. Их владельцы точно знают, что это апартаменты, а у кого их нет, не станут указывать тип помещения - апартаменты. Поэтому, скорее всего, апартаментов действительно мало. Заполняем False."
   ]
  },
  {
   "cell_type": "code",
   "execution_count": 5,
   "metadata": {},
   "outputs": [],
   "source": [
    "data['is_apartment'] = data['is_apartment'].fillna(value=False)"
   ]
  },
  {
   "cell_type": "markdown",
   "metadata": {},
   "source": [
    "  <br>"
   ]
  },
  {
   "cell_type": "markdown",
   "metadata": {},
   "source": [
    "Приводим в целочисленный тип количество <b>балконов</b>. Заменяем пропущенные значения на 0, т.к. отсутствие в объявлении балкона - это явное его отсутствие в квартире."
   ]
  },
  {
   "cell_type": "code",
   "execution_count": 6,
   "metadata": {},
   "outputs": [],
   "source": [
    "data['balcony'] = data['balcony'].fillna(value=0).astype(int)"
   ]
  },
  {
   "cell_type": "markdown",
   "metadata": {},
   "source": [
    "<div class=\"alert alert-block alert-success\">✔️\n",
    "    \n",
    "\n",
    "__Комментарий от ревьюера №1__\n",
    "\n",
    "Согласен, если пропуск - вероятнее всего балкон отсутствует"
   ]
  },
  {
   "cell_type": "markdown",
   "metadata": {},
   "source": [
    "  <br> \n",
    " "
   ]
  },
  {
   "cell_type": "markdown",
   "metadata": {},
   "source": [
    "<b>Удаляем записи, где отсутствует локация и этажность"
   ]
  },
  {
   "cell_type": "code",
   "execution_count": 7,
   "metadata": {},
   "outputs": [],
   "source": [
    "data.dropna(subset=['locality_name'], inplace=True)\n",
    "data.dropna(subset=['floors_total'], inplace=True)"
   ]
  },
  {
   "cell_type": "markdown",
   "metadata": {},
   "source": [
    "<div class=\"alert alert-block alert-success\">✔️\n",
    "    \n",
    "\n",
    "__Комментарий от ревьюера №1__\n",
    "\n",
    "Верно, если пропусков меньше 5-10% их лучше сразу удалить, дабы сэкономить время"
   ]
  },
  {
   "cell_type": "markdown",
   "metadata": {},
   "source": [
    "  <br> \n",
    " "
   ]
  },
  {
   "cell_type": "markdown",
   "metadata": {},
   "source": [
    "Приводим <b>этажность</b> к целочисленному типу"
   ]
  },
  {
   "cell_type": "code",
   "execution_count": 8,
   "metadata": {},
   "outputs": [],
   "source": [
    "data['floors_total'] = data['floors_total'].astype(int)"
   ]
  },
  {
   "cell_type": "markdown",
   "metadata": {},
   "source": [
    "<div class=\"alert alert-block alert-success\">✔️\n",
    "    \n",
    "\n",
    "__Комментарий от ревьюера №1__\n",
    "\n",
    "Столбцы имеют корректный тип данных\n",
    "</div>"
   ]
  },
  {
   "cell_type": "markdown",
   "metadata": {},
   "source": [
    "  <br> \n",
    " "
   ]
  },
  {
   "cell_type": "markdown",
   "metadata": {},
   "source": [
    "Заполним пропуски в <b>высоте потолков</b> по медиане для типичной этажности. Для этого составим таблицу типичной этажности с медианой потолков."
   ]
  },
  {
   "cell_type": "code",
   "execution_count": 9,
   "metadata": {},
   "outputs": [
    {
     "data": {
      "text/html": [
       "<div>\n",
       "<style scoped>\n",
       "    .dataframe tbody tr th:only-of-type {\n",
       "        vertical-align: middle;\n",
       "    }\n",
       "\n",
       "    .dataframe tbody tr th {\n",
       "        vertical-align: top;\n",
       "    }\n",
       "\n",
       "    .dataframe thead th {\n",
       "        text-align: right;\n",
       "    }\n",
       "</style>\n",
       "<table border=\"1\" class=\"dataframe\">\n",
       "  <thead>\n",
       "    <tr style=\"text-align: right;\">\n",
       "      <th></th>\n",
       "      <th>median</th>\n",
       "      <th>count</th>\n",
       "    </tr>\n",
       "    <tr>\n",
       "      <th>floors_total</th>\n",
       "      <th></th>\n",
       "      <th></th>\n",
       "    </tr>\n",
       "  </thead>\n",
       "  <tbody>\n",
       "    <tr>\n",
       "      <th>1</th>\n",
       "      <td>2.80</td>\n",
       "      <td>10</td>\n",
       "    </tr>\n",
       "    <tr>\n",
       "      <th>2</th>\n",
       "      <td>2.70</td>\n",
       "      <td>213</td>\n",
       "    </tr>\n",
       "    <tr>\n",
       "      <th>3</th>\n",
       "      <td>2.80</td>\n",
       "      <td>399</td>\n",
       "    </tr>\n",
       "    <tr>\n",
       "      <th>4</th>\n",
       "      <td>3.00</td>\n",
       "      <td>787</td>\n",
       "    </tr>\n",
       "    <tr>\n",
       "      <th>5</th>\n",
       "      <td>2.55</td>\n",
       "      <td>3662</td>\n",
       "    </tr>\n",
       "  </tbody>\n",
       "</table>\n",
       "</div>"
      ],
      "text/plain": [
       "              median  count\n",
       "floors_total               \n",
       "1               2.80     10\n",
       "2               2.70    213\n",
       "3               2.80    399\n",
       "4               3.00    787\n",
       "5               2.55   3662"
      ]
     },
     "execution_count": 9,
     "metadata": {},
     "output_type": "execute_result"
    }
   ],
   "source": [
    "ceiling_medians = data.pivot_table(index='floors_total', values='ceiling_height', aggfunc=['median', 'count'])\n",
    "ceiling_medians.columns = ['median', 'count']\n",
    "ceiling_medians.head()"
   ]
  },
  {
   "cell_type": "markdown",
   "metadata": {},
   "source": [
    "Заменяем значения высоты потолков на общую медиану для отсутствующих значений этажности дома"
   ]
  },
  {
   "cell_type": "code",
   "execution_count": 10,
   "metadata": {},
   "outputs": [],
   "source": [
    "for floor in ceiling_medians.index:\n",
    "    data.loc[(data['floors_total'].isna()) | \n",
    "             ((data['floors_total'] == floor) & (ceiling_medians.loc[floor, 'count'] == 0)), \n",
    "             'ceiling_height'] = data['ceiling_height'].describe()[5]"
   ]
  },
  {
   "cell_type": "markdown",
   "metadata": {},
   "source": [
    "Медианы из сгруппированной таблицы вставляем на места пропущенных значений высоты потолков для дома соответствующей этажности"
   ]
  },
  {
   "cell_type": "code",
   "execution_count": 11,
   "metadata": {},
   "outputs": [],
   "source": [
    "for floor in ceiling_medians.index:\n",
    "    data.loc[(data['ceiling_height'].isna()) & \n",
    "             (data['floors_total'] == floor), \n",
    "             'ceiling_height'] = ceiling_medians.loc[floor, 'median']"
   ]
  },
  {
   "cell_type": "markdown",
   "metadata": {},
   "source": [
    "<div class=\"alert alert-block alert-success\">✔️\n",
    "    \n",
    "\n",
    "__Комментарий от ревьюера №1__\n",
    "\n",
    "Здорово, что используешь собственные функции"
   ]
  },
  {
   "cell_type": "markdown",
   "metadata": {},
   "source": [
    "  <br> \n",
    " "
   ]
  },
  {
   "cell_type": "markdown",
   "metadata": {},
   "source": [
    "Заменяем пустые значения <b>жилой площади</b> и <b>площади кухни</b>. Посчитаем соответствующие коэффициенты. Для жилой площади посчитаем медианное значение отношения жилой площади к общей, для кухни - площадь кухни к общей."
   ]
  },
  {
   "cell_type": "code",
   "execution_count": 12,
   "metadata": {},
   "outputs": [],
   "source": [
    "living_ratio = data['living_area'].median() / data['total_area'].median()\n",
    "kitchen_ratio = data['kitchen_area'].median() / data['total_area'].median()\n",
    "data['living_area'].fillna(living_ratio * data['total_area'], inplace=True)\n",
    "data['kitchen_area'].fillna(kitchen_ratio * data['total_area'], inplace=True)"
   ]
  },
  {
   "cell_type": "markdown",
   "metadata": {},
   "source": [
    "  <br> \n",
    " "
   ]
  },
  {
   "cell_type": "markdown",
   "metadata": {},
   "source": [
    "В <b>airports_nearest</b> (если оно будет не NaN) заполним все пропуски медианами значений из других строк где совпадает locality_name"
   ]
  },
  {
   "cell_type": "code",
   "execution_count": 13,
   "metadata": {},
   "outputs": [],
   "source": [
    "loc_median = data.groupby('locality_name')['airports_nearest'].median().sort_values()\n",
    "loc_median = loc_median.dropna()\n",
    "\n",
    "# функция для присваивания пропуску значения медианы\n",
    "def med_insert(loc_dist):\n",
    "    if loc_dist not in loc_median:\n",
    "        return np.nan\n",
    "    return loc_median[loc_dist]\n",
    "\n",
    "# заменяем\n",
    "data.loc[data['airports_nearest'].isna()==True, 'airports_nearest'] = data['locality_name'].apply(med_insert)"
   ]
  },
  {
   "cell_type": "markdown",
   "metadata": {},
   "source": [
    "  <br> \n",
    " "
   ]
  },
  {
   "cell_type": "markdown",
   "metadata": {},
   "source": [
    "Также все пропуски в <b>cityCenters_nearest</b> заполним медианами значений  (если оно будет не NaN) из других строк где совпадает locality_name"
   ]
  },
  {
   "cell_type": "code",
   "execution_count": 14,
   "metadata": {},
   "outputs": [],
   "source": [
    "loc_median = data.groupby('locality_name')['cityCenters_nearest'].median().sort_values()\n",
    "loc_median = loc_median.dropna()\n",
    "\n",
    "# функция для присваивания пропуску значения медианы\n",
    "def med_insert(loc_dist):\n",
    "    if loc_dist not in loc_median:\n",
    "        return np.nan\n",
    "    return loc_median[loc_dist]\n",
    "\n",
    "# заменяем\n",
    "data.loc[data['cityCenters_nearest'].isna()==True, 'cityCenters_nearest'] = data['locality_name'].apply(med_insert)"
   ]
  },
  {
   "cell_type": "code",
   "execution_count": 15,
   "metadata": {},
   "outputs": [
    {
     "data": {
      "text/plain": [
       "total_images                0\n",
       "last_price                  0\n",
       "total_area                  0\n",
       "first_day_exposition        0\n",
       "rooms                       0\n",
       "ceiling_height              0\n",
       "floors_total                0\n",
       "living_area                 0\n",
       "floor                       0\n",
       "is_apartment                0\n",
       "studio                      0\n",
       "open_plan                   0\n",
       "kitchen_area                0\n",
       "balcony                     0\n",
       "locality_name               0\n",
       "airports_nearest         5432\n",
       "cityCenters_nearest      5432\n",
       "parks_around3000         5500\n",
       "parks_nearest           15535\n",
       "ponds_around3000         5500\n",
       "ponds_nearest           14529\n",
       "days_exposition          3171\n",
       "dtype: int64"
      ]
     },
     "execution_count": 15,
     "metadata": {},
     "output_type": "execute_result"
    }
   ],
   "source": [
    "data.isnull().sum()"
   ]
  },
  {
   "cell_type": "markdown",
   "metadata": {},
   "source": [
    "Оставшиеся пропущенные значения (5432) в столбце cityCenters_nearest заполнить не представляется возможным, так как если заполнить медианой или средней по всему столбцу это очень сильно может повлиять на анализ и сильно исказить результаты и выводы. Поэтому оставим все как есть, и будем выполнять анализ с таким количеством пропусков."
   ]
  },
  {
   "cell_type": "markdown",
   "metadata": {},
   "source": [
    "  <br>"
   ]
  },
  {
   "cell_type": "markdown",
   "metadata": {},
   "source": [
    "Приводим в целочисленный тип <b>количество парков</b>. Заменяем пропущенные значения на 0"
   ]
  },
  {
   "cell_type": "code",
   "execution_count": 16,
   "metadata": {},
   "outputs": [],
   "source": [
    "data['parks_around3000'] = data['parks_around3000'].fillna(value=0).astype(int)"
   ]
  },
  {
   "cell_type": "markdown",
   "metadata": {},
   "source": [
    "  <br>"
   ]
  },
  {
   "cell_type": "markdown",
   "metadata": {},
   "source": [
    "Посмотрим на распределение данных в <b>parks_nearest"
   ]
  },
  {
   "cell_type": "code",
   "execution_count": 17,
   "metadata": {},
   "outputs": [
    {
     "data": {
      "image/png": "[encoded data removed]",
      "text/plain": [
       "<Figure size 1152x288 with 1 Axes>"
      ]
     },
     "metadata": {
      "needs_background": "light"
     },
     "output_type": "display_data"
    }
   ],
   "source": [
    "data['parks_nearest'].hist(figsize=(16,4), bins=100, range=(0,1000));"
   ]
  },
  {
   "cell_type": "code",
   "execution_count": 18,
   "metadata": {},
   "outputs": [
    {
     "data": {
      "image/png": "[encoded data removed]",
      "text/plain": [
       "<Figure size 1152x288 with 1 Axes>"
      ]
     },
     "metadata": {
      "needs_background": "light"
     },
     "output_type": "display_data"
    }
   ],
   "source": [
    "data['parks_nearest'].hist(figsize=(16,4), bins=100, range=(1000,3500));"
   ]
  },
  {
   "cell_type": "markdown",
   "metadata": {},
   "source": [
    "Значения распределены равномерно. Большая часть меньше 3000. Удалять ничего небудем.\n",
    "\n",
    "Будем заполнять пропуски по аналогии со столбцом cityCenters_nearest и airports_nearest по соответствию населенному пункту"
   ]
  },
  {
   "cell_type": "code",
   "execution_count": 19,
   "metadata": {},
   "outputs": [],
   "source": [
    "loc_median = data.groupby('locality_name')['parks_nearest'].median().sort_values()\n",
    "loc_median = loc_median.dropna()\n",
    "\n",
    "# функция для присваивания пропуску значения медианы\n",
    "def med_insert(loc_dist):\n",
    "    if loc_dist not in loc_median:\n",
    "        return np.nan\n",
    "    return loc_median[loc_dist]\n",
    "\n",
    "# заменяем\n",
    "data.loc[data['parks_nearest'].isna()==True, 'parks_nearest'] = data['locality_name'].apply(med_insert)"
   ]
  },
  {
   "cell_type": "markdown",
   "metadata": {},
   "source": [
    "Проверим сколько осталось пропусков"
   ]
  },
  {
   "cell_type": "code",
   "execution_count": 20,
   "metadata": {},
   "outputs": [
    {
     "data": {
      "text/plain": [
       "5986"
      ]
     },
     "execution_count": 20,
     "metadata": {},
     "output_type": "execute_result"
    }
   ],
   "source": [
    "data['parks_nearest'].isna().sum()"
   ]
  },
  {
   "cell_type": "markdown",
   "metadata": {},
   "source": [
    "Было пропусков 15535 осталось 5996 - большую часть значений заполнили, теперь со значениями около 18 тысяч. Остальные не заполняем по аналогии с другими столбцами с расстояниями."
   ]
  },
  {
   "cell_type": "markdown",
   "metadata": {},
   "source": [
    "<div class=\"alert alert-block alert-success\">✔️\n",
    "    \n",
    "\n",
    "__Комментарий от ревьюера №1__\n",
    "\n",
    "Да, верный подход"
   ]
  },
  {
   "cell_type": "markdown",
   "metadata": {},
   "source": [
    "  <br>"
   ]
  },
  {
   "cell_type": "markdown",
   "metadata": {},
   "source": [
    "Приводим в целочисленный тип <b>количество прудов</b>. Заменяем пропущенные значения на 0"
   ]
  },
  {
   "cell_type": "code",
   "execution_count": 21,
   "metadata": {},
   "outputs": [],
   "source": [
    "data['ponds_around3000'] = data['ponds_around3000'].fillna(value=0).astype(int)"
   ]
  },
  {
   "cell_type": "markdown",
   "metadata": {},
   "source": [
    "  <br>"
   ]
  },
  {
   "cell_type": "markdown",
   "metadata": {},
   "source": [
    "Посмотрим на распределение данных в <b>ponds_nearest"
   ]
  },
  {
   "cell_type": "code",
   "execution_count": 22,
   "metadata": {},
   "outputs": [
    {
     "data": {
      "image/png": "[encoded data removed]",
      "text/plain": [
       "<Figure size 1152x288 with 1 Axes>"
      ]
     },
     "metadata": {
      "needs_background": "light"
     },
     "output_type": "display_data"
    }
   ],
   "source": [
    "data['ponds_nearest'].hist(figsize=(16,4), bins=100, range=(0,100));"
   ]
  },
  {
   "cell_type": "code",
   "execution_count": 23,
   "metadata": {},
   "outputs": [
    {
     "data": {
      "image/png": "[encoded data removed]",
      "text/plain": [
       "<Figure size 1152x288 with 1 Axes>"
      ]
     },
     "metadata": {
      "needs_background": "light"
     },
     "output_type": "display_data"
    }
   ],
   "source": [
    "data['ponds_nearest'].hist(figsize=(16,4), bins=100, range=(100,900));"
   ]
  },
  {
   "cell_type": "markdown",
   "metadata": {},
   "source": [
    "Выбросов вообще нет. Заполняем по аналогии с airports_nearest , cityCenters_nearest и parks_nearest."
   ]
  },
  {
   "cell_type": "code",
   "execution_count": 24,
   "metadata": {},
   "outputs": [],
   "source": [
    "loc_median = data.groupby('locality_name')['ponds_nearest'].median().sort_values()\n",
    "loc_median = loc_median.dropna()\n",
    "\n",
    "# функция для присваивания пропуску значения медианы\n",
    "def med_insert(loc_dist):\n",
    "    if loc_dist not in loc_median:\n",
    "        return np.nan\n",
    "    return loc_median[loc_dist]\n",
    "\n",
    "# заменяем\n",
    "data.loc[data['ponds_nearest'].isna()==True, 'ponds_nearest'] = data['locality_name'].apply(med_insert)"
   ]
  },
  {
   "cell_type": "markdown",
   "metadata": {},
   "source": [
    "  <br>"
   ]
  },
  {
   "cell_type": "markdown",
   "metadata": {},
   "source": [
    "Обработаем данные в <b>days_exposition</b>, привязав пропуски к населённым пунктам. Попробуем заполнить пропуски медианами по каждому населенному пункту."
   ]
  },
  {
   "cell_type": "code",
   "execution_count": 25,
   "metadata": {},
   "outputs": [],
   "source": [
    "loc_median = data.groupby('locality_name')['days_exposition'].median().sort_values()\n",
    "loc_median = loc_median.dropna()\n",
    "\n",
    "# функция для присваивания пропуску значения медианы\n",
    "def loc_med_insert(loc_name):\n",
    "    if loc_name not in loc_median:\n",
    "        return np.nan\n",
    "    return loc_median[loc_name]\n",
    "\n",
    "# заменяем\n",
    "data.loc[data['days_exposition'].isna()==True, 'days_exposition'] = data['locality_name'].apply(loc_med_insert)"
   ]
  },
  {
   "cell_type": "markdown",
   "metadata": {},
   "source": [
    "Проверим сколько осталось пропусков и найдем медианцу столбца"
   ]
  },
  {
   "cell_type": "code",
   "execution_count": 26,
   "metadata": {},
   "outputs": [
    {
     "name": "stdout",
     "output_type": "stream",
     "text": [
      "Кол-во пропусков = 80\n",
      "\n",
      "Медиана всего столбца = 95.0\n"
     ]
    }
   ],
   "source": [
    "print(\"Кол-во пропусков =\", data['days_exposition'].isna().sum())\n",
    "print()\n",
    "med_day_exp = data['days_exposition'].median()\n",
    "print('Медиана всего столбца =', med_day_exp)"
   ]
  },
  {
   "cell_type": "markdown",
   "metadata": {},
   "source": [
    "Заполним оставшиеся пропуски медианой всего столбца и поменяем тип данных на int"
   ]
  },
  {
   "cell_type": "code",
   "execution_count": 27,
   "metadata": {},
   "outputs": [],
   "source": [
    "data['days_exposition'] = data['days_exposition'].fillna(med_day_exp)\n",
    "data['days_exposition'] = data['days_exposition'].astype(int)"
   ]
  },
  {
   "cell_type": "markdown",
   "metadata": {},
   "source": [
    "   <br>"
   ]
  },
  {
   "cell_type": "markdown",
   "metadata": {},
   "source": [
    "Определим неявные дубликаты в <b>locality_name"
   ]
  },
  {
   "cell_type": "markdown",
   "metadata": {},
   "source": [
    "Для начала выведем уникальные значения столбца в алфавитном порядке"
   ]
  },
  {
   "cell_type": "code",
   "execution_count": 28,
   "metadata": {},
   "outputs": [
    {
     "data": {
      "text/plain": [
       "array(['Бокситогорск', 'Волосово', 'Волхов', 'Всеволожск', 'Выборг',\n",
       "       'Высоцк', 'Гатчина', 'Зеленогорск', 'Ивангород', 'Каменногорск',\n",
       "       'Кингисепп', 'Кириши', 'Кировск', 'Колпино', 'Коммунар',\n",
       "       'Красное Село', 'Кронштадт', 'Кудрово', 'Лодейное Поле',\n",
       "       'Ломоносов', 'Луга', 'Любань', 'Мурино', 'Никольское',\n",
       "       'Новая Ладога', 'Отрадное', 'Павловск', 'Петергоф', 'Пикалёво',\n",
       "       'Подпорожье', 'Приморск', 'Приозерск', 'Пушкин', 'Санкт-Петербург',\n",
       "       'Светогорск', 'Сертолово', 'Сестрорецк', 'Сланцы', 'Сосновый Бор',\n",
       "       'Сясьстрой', 'Тихвин', 'Тосно', 'Шлиссельбург',\n",
       "       'городской поселок Большая Ижора', 'городской поселок Янино-1',\n",
       "       'городской посёлок Будогощь', 'городской посёлок Виллози',\n",
       "       'городской посёлок Лесогорский', 'городской посёлок Мга',\n",
       "       'городской посёлок Назия', 'городской посёлок Новоселье',\n",
       "       'городской посёлок Павлово', 'городской посёлок Рощино',\n",
       "       'городской посёлок Свирьстрой', 'городской посёлок Советский',\n",
       "       'городской посёлок Фёдоровское', 'городской посёлок Янино-1',\n",
       "       'деревня Агалатово', 'деревня Аро', 'деревня Батово',\n",
       "       'деревня Бегуницы', 'деревня Белогорка', 'деревня Большая Вруда',\n",
       "       'деревня Большая Пустомержа', 'деревня Большие Колпаны',\n",
       "       'деревня Большое Рейзино', 'деревня Большой Сабск', 'деревня Бор',\n",
       "       'деревня Борисова Грива', 'деревня Ваганово', 'деревня Вартемяги',\n",
       "       'деревня Вахнова Кара', 'деревня Выскатка', 'деревня Гарболово',\n",
       "       'деревня Глинка', 'деревня Горбунки', 'деревня Гостилицы',\n",
       "       'деревня Заклинье', 'деревня Заневка', 'деревня Зимитицы',\n",
       "       'деревня Извара', 'деревня Иссад', 'деревня Калитино',\n",
       "       'деревня Кальтино', 'деревня Камышовка', 'деревня Каськово',\n",
       "       'деревня Келози', 'деревня Кипень', 'деревня Кисельня',\n",
       "       'деревня Колтуши', 'деревня Коркино', 'деревня Котлы',\n",
       "       'деревня Кривко', 'деревня Кудрово', 'деревня Кузьмолово',\n",
       "       'деревня Курковицы', 'деревня Куровицы', 'деревня Куттузи',\n",
       "       'деревня Лаврики', 'деревня Лаголово', 'деревня Лампово',\n",
       "       'деревня Лесколово', 'деревня Лопухинка', 'деревня Лупполово',\n",
       "       'деревня Малая Романовка', 'деревня Малое Верево',\n",
       "       'деревня Малое Карлино', 'деревня Малые Колпаны',\n",
       "       'деревня Мануйлово', 'деревня Меньково', 'деревня Мины',\n",
       "       'деревня Мистолово', 'деревня Ненимяки', 'деревня Нижние Осельки',\n",
       "       'деревня Нижняя', 'деревня Низино', 'деревня Новое Девяткино',\n",
       "       'деревня Новолисино', 'деревня Нурма', 'деревня Оржицы',\n",
       "       'деревня Парицы', 'деревня Пельгора', 'деревня Пеники',\n",
       "       'деревня Пижма', 'деревня Пикколово', 'деревня Пудомяги',\n",
       "       'деревня Пустынка', 'деревня Пчева', 'деревня Рабитицы',\n",
       "       'деревня Разбегаево', 'деревня Раздолье', 'деревня Разметелево',\n",
       "       'деревня Рапполово', 'деревня Реброво', 'деревня Русско',\n",
       "       'деревня Сижно', 'деревня Снегирёвка', 'деревня Старая',\n",
       "       'деревня Старая Пустошь', 'деревня Старое Хинколово',\n",
       "       'деревня Старополье', 'деревня Старосиверская',\n",
       "       'деревня Старые Бегуницы', 'деревня Суоранда',\n",
       "       'деревня Сяськелево', 'деревня Тарасово', 'деревня Терпилицы',\n",
       "       'деревня Тихковицы', 'деревня Тойворово', 'деревня Торосово',\n",
       "       'деревня Торошковичи', 'деревня Трубников Бор',\n",
       "       'деревня Фалилеево', 'деревня Фёдоровское', 'деревня Хапо-Ое',\n",
       "       'деревня Хязельки', 'деревня Чудской Бор', 'деревня Шпаньково',\n",
       "       'деревня Щеглово', 'деревня Юкки', 'деревня Ялгино',\n",
       "       'деревня Яльгелево', 'деревня Ям-Тесово',\n",
       "       'коттеджный поселок Кивеннапа Север', 'коттеджный поселок Счастье',\n",
       "       'коттеджный посёлок Лесное', 'поселок Аннино', 'поселок Барышево',\n",
       "       'поселок Бугры', 'поселок Возрождение', 'поселок Войсковицы',\n",
       "       'поселок Володарское', 'поселок Гаврилово', 'поселок Гарболово',\n",
       "       'поселок Гладкое', 'поселок Глажево', 'поселок Глебычево',\n",
       "       'поселок Гончарово', 'поселок Громово', 'поселок Дружноселье',\n",
       "       'поселок Елизаветино', 'поселок Жилгородок', 'поселок Жилпосёлок',\n",
       "       'поселок Житково', 'поселок Заводской', 'поселок Запорожское',\n",
       "       'поселок Зимитицы', 'поселок Ильичёво', 'поселок Калитино',\n",
       "       'поселок Каложицы', 'поселок Кингисеппский', 'поселок Кирпичное',\n",
       "       'поселок Кобралово', 'поселок Кобринское', 'поселок Коммунары',\n",
       "       'поселок Коробицыно', 'поселок Котельский',\n",
       "       'поселок Красная Долина', 'поселок Красносельское',\n",
       "       'поселок Лесное', 'поселок Лисий Нос', 'поселок Лукаши',\n",
       "       'поселок Любань', 'поселок Мельниково', 'поселок Мичуринское',\n",
       "       'поселок Молодцово', 'поселок Мурино', 'поселок Новый Свет',\n",
       "       'поселок Новый Учхоз', 'поселок Оредеж',\n",
       "       'поселок Пансионат Зелёный Бор', 'поселок Первомайское',\n",
       "       'поселок Перово', 'поселок Петровское', 'поселок Победа',\n",
       "       'поселок Поляны', 'поселок Почап', 'поселок Починок',\n",
       "       'поселок Пушное', 'поселок Пчевжа', 'поселок Рабитицы',\n",
       "       'поселок Романовка', 'поселок Ромашки', 'поселок Рябово',\n",
       "       'поселок Севастьяново', 'поселок Селезнёво', 'поселок Сельцо',\n",
       "       'поселок Семиозерье', 'поселок Семрино', 'поселок Серебрянский',\n",
       "       'поселок Совхозный', 'поселок Старая Малукса',\n",
       "       'поселок Стеклянный', 'поселок Сумино', 'поселок Суходолье',\n",
       "       'поселок Тельмана', 'поселок Терволово', 'поселок Торковичи',\n",
       "       'поселок Тёсово-4', 'поселок Углово', 'поселок Усть-Луга',\n",
       "       'поселок Ушаки', 'поселок Цвелодубово', 'поселок Цвылёво',\n",
       "       'поселок городского типа Большая Ижора',\n",
       "       'поселок городского типа Вырица',\n",
       "       'поселок городского типа Дружная Горка',\n",
       "       'поселок городского типа Дубровка',\n",
       "       'поселок городского типа Ефимовский',\n",
       "       'поселок городского типа Кондратьево',\n",
       "       'поселок городского типа Красный Бор',\n",
       "       'поселок городского типа Кузьмоловский',\n",
       "       'поселок городского типа Лебяжье',\n",
       "       'поселок городского типа Лесогорский',\n",
       "       'поселок городского типа Назия',\n",
       "       'поселок городского типа Никольский',\n",
       "       'поселок городского типа Приладожский',\n",
       "       'поселок городского типа Рахья', 'поселок городского типа Рощино',\n",
       "       'поселок городского типа Рябово',\n",
       "       'поселок городского типа Синявино',\n",
       "       'поселок городского типа Советский',\n",
       "       'поселок городского типа Токсово',\n",
       "       'поселок городского типа Форносово',\n",
       "       'поселок городского типа имени Свердлова',\n",
       "       'поселок станции Вещево', 'поселок станции Корнево',\n",
       "       'поселок станции Лужайка', 'поселок станции Приветнинское',\n",
       "       'посёлок Александровская', 'посёлок Алексеевка', 'посёлок Аннино',\n",
       "       'посёлок Белоостров', 'посёлок Бугры', 'посёлок Возрождение',\n",
       "       'посёлок Войскорово', 'посёлок Высокоключевой',\n",
       "       'посёлок Гаврилово', 'посёлок Дзержинского', 'посёлок Жилгородок',\n",
       "       'посёлок Ильичёво', 'посёлок Кикерино', 'посёлок Кобралово',\n",
       "       'посёлок Коробицыно', 'посёлок Левашово', 'посёлок Ленинское',\n",
       "       'посёлок Лисий Нос', 'посёлок Мельниково', 'посёлок Металлострой',\n",
       "       'посёлок Мичуринское', 'посёлок Молодёжное', 'посёлок Мурино',\n",
       "       'посёлок Мыза-Ивановка', 'посёлок Новогорелово',\n",
       "       'посёлок Новый Свет', 'посёлок Пансионат Зелёный Бор',\n",
       "       'посёлок Парголово', 'посёлок Перово', 'посёлок Песочный',\n",
       "       'посёлок Петро-Славянка', 'посёлок Петровское',\n",
       "       'посёлок Платформа 69-й километр', 'посёлок Плодовое',\n",
       "       'посёлок Плоское', 'посёлок Победа', 'посёлок Поляны',\n",
       "       'посёлок Понтонный', 'посёлок Пригородный', 'посёлок Пудость',\n",
       "       'посёлок Репино', 'посёлок Ропша', 'посёлок Сапёрное',\n",
       "       'посёлок Сапёрный', 'посёлок Сосново', 'посёлок Старая Малукса',\n",
       "       'посёлок Стеклянный', 'посёлок Стрельна', 'посёлок Суйда',\n",
       "       'посёлок Сумино', 'посёлок Тельмана', 'посёлок Терволово',\n",
       "       'посёлок Торфяное', 'посёлок Усть-Ижора', 'посёлок Усть-Луга',\n",
       "       'посёлок Форт Красная Горка', 'посёлок Шугозеро', 'посёлок Шушары',\n",
       "       'посёлок Щеглово', 'посёлок городского типа Важины',\n",
       "       'посёлок городского типа Вознесенье',\n",
       "       'посёлок городского типа Вырица',\n",
       "       'посёлок городского типа Красный Бор',\n",
       "       'посёлок городского типа Кузнечное',\n",
       "       'посёлок городского типа Кузьмоловский',\n",
       "       'посёлок городского типа Лебяжье', 'посёлок городского типа Мга',\n",
       "       'посёлок городского типа Павлово',\n",
       "       'посёлок городского типа Рощино', 'посёлок городского типа Рябово',\n",
       "       'посёлок городского типа Сиверский',\n",
       "       'посёлок городского типа Тайцы', 'посёлок городского типа Токсово',\n",
       "       'посёлок городского типа Ульяновка',\n",
       "       'посёлок городского типа Форносово',\n",
       "       'посёлок городского типа имени Морозова',\n",
       "       'посёлок городского типа имени Свердлова',\n",
       "       'посёлок при железнодорожной станции Вещево',\n",
       "       'посёлок при железнодорожной станции Приветнинское',\n",
       "       'посёлок станции Громово', 'посёлок станции Свирь',\n",
       "       'садоводческое некоммерческое товарищество Лесная Поляна',\n",
       "       'садовое товарищество Новая Ропша',\n",
       "       'садовое товарищество Приладожский', 'садовое товарищество Рахья',\n",
       "       'садовое товарищество Садко', 'село Копорье', 'село Никольское',\n",
       "       'село Павлово', 'село Паша', 'село Путилово', 'село Рождествено',\n",
       "       'село Русско-Высоцкое', 'село Старая Ладога', 'село Шум'],\n",
       "      dtype=object)"
      ]
     },
     "execution_count": 28,
     "metadata": {},
     "output_type": "execute_result"
    }
   ],
   "source": [
    "data['locality_name'].sort_values().unique()"
   ]
  },
  {
   "cell_type": "markdown",
   "metadata": {},
   "source": [
    "Видно, что слово посёлок написано в 2 вариантах с \"ё\" и \"е\". Заменим все \"ё\" на \"е\" во всем столбце."
   ]
  },
  {
   "cell_type": "code",
   "execution_count": 29,
   "metadata": {},
   "outputs": [],
   "source": [
    "import re\n",
    "for ind_str in data.loc[(data['locality_name'].isna()==False),'locality_name'].index:    \n",
    "    loc_str = data.loc[ind_str, 'locality_name']\n",
    "    if ('ё' or 'Ё') in loc_str:\n",
    "        loc_str = re.sub('ё', 'е', loc_str)\n",
    "        loc_str = re.sub('Ё', 'Е', loc_str)\n",
    "    data.loc[ind_str, 'locality_name'] = loc_str"
   ]
  },
  {
   "cell_type": "markdown",
   "metadata": {},
   "source": [
    "<div class=\"alert alert-block alert-success\">✔️\n",
    "    \n",
    "\n",
    "__Комментарий от ревьюера №1__\n",
    "\n",
    "Отличный код"
   ]
  },
  {
   "cell_type": "markdown",
   "metadata": {},
   "source": [
    "Также в данных есть городской поселок и поселок городского типа. Приведём всё к поселок городского типа."
   ]
  },
  {
   "cell_type": "code",
   "execution_count": 30,
   "metadata": {},
   "outputs": [],
   "source": [
    "for ind_str in data.loc[(data['locality_name'].isna()==False),'locality_name'].index:    \n",
    "    loc_str = data.loc[ind_str, 'locality_name']\n",
    "    if 'городской поселок' in loc_str:\n",
    "        loc_str = re.sub('городской поселок', 'поселок городского типа', loc_str)\n",
    "        data.loc[ind_str, 'locality_name'] = loc_str\n",
    "        "
   ]
  },
  {
   "cell_type": "markdown",
   "metadata": {},
   "source": [
    "<div class=\"alert alert-block alert-success\">✔️\n",
    "    \n",
    "\n",
    "__Комментарий от ревьюера №1__\n",
    "\n",
    "Можно например вот так:\n",
    "    \n",
    "    df = df.apply(lambda x: x.replace({'поселок':'посёлок', 'городской посёлок': 'посёлок', 'посёлок городского типа': 'посёлок', 'коттеджный посёлок': 'посёлок', 'посёлок при железнодорожной станции': 'посёлок станции'}, regex=True))\n",
    "\n",
    "    len(df.locality_name.unique())\n",
    "    \n",
    "</div>"
   ]
  },
  {
   "cell_type": "code",
   "execution_count": 31,
   "metadata": {},
   "outputs": [
    {
     "name": "stdout",
     "output_type": "stream",
     "text": [
      "<class 'pandas.core.frame.DataFrame'>\n",
      "Int64Index: 23565 entries, 0 to 23698\n",
      "Data columns (total 22 columns):\n",
      " #   Column                Non-Null Count  Dtype         \n",
      "---  ------                --------------  -----         \n",
      " 0   total_images          23565 non-null  int64         \n",
      " 1   last_price            23565 non-null  int64         \n",
      " 2   total_area            23565 non-null  float64       \n",
      " 3   first_day_exposition  23565 non-null  datetime64[ns]\n",
      " 4   rooms                 23565 non-null  int64         \n",
      " 5   ceiling_height        23565 non-null  float64       \n",
      " 6   floors_total          23565 non-null  int64         \n",
      " 7   living_area           23565 non-null  float64       \n",
      " 8   floor                 23565 non-null  int64         \n",
      " 9   is_apartment          23565 non-null  bool          \n",
      " 10  studio                23565 non-null  bool          \n",
      " 11  open_plan             23565 non-null  bool          \n",
      " 12  kitchen_area          23565 non-null  float64       \n",
      " 13  balcony               23565 non-null  int64         \n",
      " 14  locality_name         23565 non-null  object        \n",
      " 15  airports_nearest      18133 non-null  float64       \n",
      " 16  cityCenters_nearest   18133 non-null  float64       \n",
      " 17  parks_around3000      23565 non-null  int64         \n",
      " 18  parks_nearest         17579 non-null  float64       \n",
      " 19  ponds_around3000      23565 non-null  int64         \n",
      " 20  ponds_nearest         18048 non-null  float64       \n",
      " 21  days_exposition       23565 non-null  int64         \n",
      "dtypes: bool(3), datetime64[ns](1), float64(8), int64(9), object(1)\n",
      "memory usage: 4.2+ MB\n"
     ]
    }
   ],
   "source": [
    "data.info()"
   ]
  },
  {
   "cell_type": "markdown",
   "metadata": {},
   "source": [
    "<br>"
   ]
  },
  {
   "cell_type": "markdown",
   "metadata": {},
   "source": [
    "<b>Обработаем аномальные значения высоты потолков"
   ]
  },
  {
   "cell_type": "code",
   "execution_count": 32,
   "metadata": {},
   "outputs": [
    {
     "data": {
      "text/plain": [
       "count   23,565.00\n",
       "mean         2.74\n",
       "std          1.00\n",
       "min          1.00\n",
       "25%          2.55\n",
       "50%          2.65\n",
       "75%          2.75\n",
       "max        100.00\n",
       "Name: ceiling_height, dtype: float64"
      ]
     },
     "execution_count": 32,
     "metadata": {},
     "output_type": "execute_result"
    }
   ],
   "source": [
    "data['ceiling_height'].describe()"
   ]
  },
  {
   "cell_type": "markdown",
   "metadata": {},
   "source": [
    "Отсортируем данные, удалив строки, где высота потолков более 5 метров и менее 2."
   ]
  },
  {
   "cell_type": "code",
   "execution_count": 33,
   "metadata": {},
   "outputs": [],
   "source": [
    "data = data.query('2 < ceiling_height <= 5')"
   ]
  },
  {
   "cell_type": "markdown",
   "metadata": {},
   "source": [
    "<div class=\"alert alert-block alert-danger\">✍\n",
    "    \n",
    "\n",
    "__Комментарий от ревьюера №1__\n",
    "\n",
    "Отсутствует проверка на явные дубликаты, поправишь, пожалуйста?\n",
    "    \n",
    "---\n",
    "    \n",
    "Так же отсутствует вывод после раздела. Поправишь, этот момент в проекте?\n",
    "</div>"
   ]
  },
  {
   "cell_type": "markdown",
   "metadata": {},
   "source": [
    "<div class=\"alert alert-info\">Проверим данные на явные дубликаты"
   ]
  },
  {
   "cell_type": "code",
   "execution_count": 34,
   "metadata": {
    "scrolled": true
   },
   "outputs": [
    {
     "data": {
      "text/plain": [
       "0"
      ]
     },
     "metadata": {},
     "output_type": "display_data"
    }
   ],
   "source": [
    "display(data.duplicated().sum())"
   ]
  },
  {
   "cell_type": "markdown",
   "metadata": {},
   "source": [
    "<div class=\"alert alert-block alert-success\">✔️\n",
    "    \n",
    "\n",
    "__Комментарий от ревьюера №2__\n",
    "\n",
    "Проверка на дубликаты - основа предобработки данных\n",
    "</div>"
   ]
  },
  {
   "cell_type": "markdown",
   "metadata": {},
   "source": [
    "<div class=\"alert alert-info\"> <b>ВЫВОД:</b><br><br> Полученные данные содержали очень большое количество пропусков, которые появились частично по вине заполнявших эти данные (как, например, высота потолков в 32 и 27 метров), частично, видимо, потерявшиеся при автоматической выгрузке из базы данных. <br><br>Данные были обработаны: пропуски, где возможно, заполнены, неявные дубликаты исправлены.<br><br>В дальнейшем, для получения более точных данных, рекомендуется доработать систему заполнения данных пользователями для того, чтобы было невозможно ввести некорректные данные. Например, сделать выпадающий список с типом населённого пункта и сделать его выбор обязательным. При указании типа помещения \"квартира\" сделать обязательным указание площади кухни, наличие балкона и высоты потолков, общей и жилой площади."
   ]
  },
  {
   "cell_type": "markdown",
   "metadata": {},
   "source": [
    "<div class=\"alert alert-block alert-success\">✔️\n",
    "    \n",
    "\n",
    "__Комментарий от ревьюера №2__\n",
    "    \n",
    "Второй раздел сделан хорошо. Проверены основные возможные проблемы в данных."
   ]
  },
  {
   "cell_type": "markdown",
   "metadata": {},
   "source": [
    "<br>\n",
    "\n"
   ]
  },
  {
   "cell_type": "markdown",
   "metadata": {},
   "source": [
    "### Рассчёты и добавление результатов в таблицу"
   ]
  },
  {
   "cell_type": "markdown",
   "metadata": {},
   "source": [
    "Добавляем столбец со стоимостью квадратного метра (sqm_price) и приводим его в целочисленный тип"
   ]
  },
  {
   "cell_type": "code",
   "execution_count": 35,
   "metadata": {},
   "outputs": [],
   "source": [
    "data['sqm_price'] = data['last_price'] / data['total_area']\n",
    "data['sqm_price'] = data['sqm_price'].astype(int)"
   ]
  },
  {
   "cell_type": "markdown",
   "metadata": {},
   "source": [
    "<br>"
   ]
  },
  {
   "cell_type": "markdown",
   "metadata": {},
   "source": [
    "Добавляем столбцы дня недели, месяца и года"
   ]
  },
  {
   "cell_type": "code",
   "execution_count": 36,
   "metadata": {},
   "outputs": [],
   "source": [
    "data['weekday'] = data['first_day_exposition'].dt.weekday\n",
    "data['month'] = data['first_day_exposition'].dt.month\n",
    "data['year'] = data['first_day_exposition'].dt.year"
   ]
  },
  {
   "cell_type": "markdown",
   "metadata": {},
   "source": [
    "<div class=\"alert alert-block alert-warning\">📝\n",
    "    \n",
    "\n",
    "__Комментарий от ревьюера №1__\n",
    "\n",
    "Совет на будущие работы: обычно в датафреймах содержатся данные за несколько лет. Важно выбрать корректный метод для вычленения месяца, иначе месяца разных годов могут стать одним месяцем. Обрати внимание на метод astype('datetime64[M]'). Для его использования не нужно обращаться к pd.DatetimeIndex. \n",
    "    \n",
    "Вот хорошая статья на этот счёт: \n",
    "    \n",
    "    https://pythobyte.com/how-to-work-with-dates-and-times-in-python-0a176355/\n",
    "    \n",
    "    и\n",
    "    \n",
    "    https://stackoverflow.com/questions/70901855/get-hour-and-minutes-and-seconds-from-numpy-datetime64\n",
    "</div>"
   ]
  },
  {
   "cell_type": "markdown",
   "metadata": {},
   "source": [
    "<div class=\"alert alert-info\"> Понял, спасибо!"
   ]
  },
  {
   "cell_type": "markdown",
   "metadata": {},
   "source": [
    "<div class=\"alert alert-block alert-success\">✔️\n",
    "    \n",
    "\n",
    "__Комментарий от ревьюера №2__\n",
    "\n",
    "Этот метод нужен для визуализации динамики по неделям, месяцам или годам (смотря какой метод выберешь)\n",
    "    \n",
    "Код выглядит так:\n",
    "    \n",
    "        df['first_day_exposition'].dt.date #приводим к временному формату\n",
    "        df['first_day_exposition'].astype('datetime64[M]') \n",
    "    \n",
    "Если года разные, то в новой колонке месяца у тебя отобразится первый день месяца ('2019-05-01')\n",
    "</div>"
   ]
  },
  {
   "cell_type": "markdown",
   "metadata": {},
   "source": [
    "<br>"
   ]
  },
  {
   "cell_type": "markdown",
   "metadata": {},
   "source": [
    "Создаём функцию для заполнения нового столбца с типом этажа"
   ]
  },
  {
   "cell_type": "code",
   "execution_count": 37,
   "metadata": {},
   "outputs": [],
   "source": [
    "def floor_group(row):\n",
    "    if row['floor'] == 1:\n",
    "        return 'первый'\n",
    "    elif row['floor'] == row['floors_total']:\n",
    "        return 'последний'\n",
    "    else:\n",
    "        return 'другой'\n",
    "\n",
    "# и выполняем     \n",
    "data['floor_type'] = data.apply(floor_group, axis=1)"
   ]
  },
  {
   "cell_type": "markdown",
   "metadata": {},
   "source": [
    "<br>"
   ]
  },
  {
   "cell_type": "markdown",
   "metadata": {},
   "source": [
    "Добавим столбец с расстоянием до центра города в километрах с округлением до целого."
   ]
  },
  {
   "cell_type": "code",
   "execution_count": 38,
   "metadata": {},
   "outputs": [],
   "source": [
    "data['cityCenters_km'] = (data['cityCenters_nearest']/1000).round()"
   ]
  },
  {
   "cell_type": "markdown",
   "metadata": {},
   "source": [
    "<br>"
   ]
  },
  {
   "cell_type": "markdown",
   "metadata": {},
   "source": [
    "Проверим данные:"
   ]
  },
  {
   "cell_type": "code",
   "execution_count": 39,
   "metadata": {
    "scrolled": true
   },
   "outputs": [
    {
     "data": {
      "text/html": [
       "<div>\n",
       "<style scoped>\n",
       "    .dataframe tbody tr th:only-of-type {\n",
       "        vertical-align: middle;\n",
       "    }\n",
       "\n",
       "    .dataframe tbody tr th {\n",
       "        vertical-align: top;\n",
       "    }\n",
       "\n",
       "    .dataframe thead th {\n",
       "        text-align: right;\n",
       "    }\n",
       "</style>\n",
       "<table border=\"1\" class=\"dataframe\">\n",
       "  <thead>\n",
       "    <tr style=\"text-align: right;\">\n",
       "      <th></th>\n",
       "      <th>total_images</th>\n",
       "      <th>last_price</th>\n",
       "      <th>total_area</th>\n",
       "      <th>first_day_exposition</th>\n",
       "      <th>rooms</th>\n",
       "      <th>ceiling_height</th>\n",
       "      <th>floors_total</th>\n",
       "      <th>living_area</th>\n",
       "      <th>floor</th>\n",
       "      <th>is_apartment</th>\n",
       "      <th>studio</th>\n",
       "      <th>open_plan</th>\n",
       "      <th>kitchen_area</th>\n",
       "      <th>balcony</th>\n",
       "      <th>locality_name</th>\n",
       "      <th>airports_nearest</th>\n",
       "      <th>cityCenters_nearest</th>\n",
       "      <th>parks_around3000</th>\n",
       "      <th>parks_nearest</th>\n",
       "      <th>ponds_around3000</th>\n",
       "      <th>ponds_nearest</th>\n",
       "      <th>days_exposition</th>\n",
       "      <th>sqm_price</th>\n",
       "      <th>weekday</th>\n",
       "      <th>month</th>\n",
       "      <th>year</th>\n",
       "      <th>floor_type</th>\n",
       "      <th>cityCenters_km</th>\n",
       "    </tr>\n",
       "  </thead>\n",
       "  <tbody>\n",
       "    <tr>\n",
       "      <th>0</th>\n",
       "      <td>20</td>\n",
       "      <td>13000000</td>\n",
       "      <td>108.00</td>\n",
       "      <td>2019-03-07</td>\n",
       "      <td>3</td>\n",
       "      <td>2.70</td>\n",
       "      <td>16</td>\n",
       "      <td>51.00</td>\n",
       "      <td>8</td>\n",
       "      <td>False</td>\n",
       "      <td>False</td>\n",
       "      <td>False</td>\n",
       "      <td>25.00</td>\n",
       "      <td>0</td>\n",
       "      <td>Санкт-Петербург</td>\n",
       "      <td>18,863.00</td>\n",
       "      <td>16,028.00</td>\n",
       "      <td>1</td>\n",
       "      <td>482.00</td>\n",
       "      <td>2</td>\n",
       "      <td>755.00</td>\n",
       "      <td>95</td>\n",
       "      <td>120370</td>\n",
       "      <td>3</td>\n",
       "      <td>3</td>\n",
       "      <td>2019</td>\n",
       "      <td>другой</td>\n",
       "      <td>16.00</td>\n",
       "    </tr>\n",
       "    <tr>\n",
       "      <th>1</th>\n",
       "      <td>7</td>\n",
       "      <td>3350000</td>\n",
       "      <td>40.40</td>\n",
       "      <td>2018-12-04</td>\n",
       "      <td>1</td>\n",
       "      <td>2.75</td>\n",
       "      <td>11</td>\n",
       "      <td>18.60</td>\n",
       "      <td>1</td>\n",
       "      <td>False</td>\n",
       "      <td>False</td>\n",
       "      <td>False</td>\n",
       "      <td>11.00</td>\n",
       "      <td>2</td>\n",
       "      <td>поселок Шушары</td>\n",
       "      <td>12,817.00</td>\n",
       "      <td>18,603.00</td>\n",
       "      <td>0</td>\n",
       "      <td>NaN</td>\n",
       "      <td>0</td>\n",
       "      <td>584.50</td>\n",
       "      <td>81</td>\n",
       "      <td>82920</td>\n",
       "      <td>1</td>\n",
       "      <td>12</td>\n",
       "      <td>2018</td>\n",
       "      <td>первый</td>\n",
       "      <td>19.00</td>\n",
       "    </tr>\n",
       "    <tr>\n",
       "      <th>2</th>\n",
       "      <td>10</td>\n",
       "      <td>5196000</td>\n",
       "      <td>56.00</td>\n",
       "      <td>2015-08-20</td>\n",
       "      <td>2</td>\n",
       "      <td>2.55</td>\n",
       "      <td>5</td>\n",
       "      <td>34.30</td>\n",
       "      <td>4</td>\n",
       "      <td>False</td>\n",
       "      <td>False</td>\n",
       "      <td>False</td>\n",
       "      <td>8.30</td>\n",
       "      <td>0</td>\n",
       "      <td>Санкт-Петербург</td>\n",
       "      <td>21,741.00</td>\n",
       "      <td>13,933.00</td>\n",
       "      <td>1</td>\n",
       "      <td>90.00</td>\n",
       "      <td>2</td>\n",
       "      <td>574.00</td>\n",
       "      <td>558</td>\n",
       "      <td>92785</td>\n",
       "      <td>3</td>\n",
       "      <td>8</td>\n",
       "      <td>2015</td>\n",
       "      <td>другой</td>\n",
       "      <td>14.00</td>\n",
       "    </tr>\n",
       "    <tr>\n",
       "      <th>3</th>\n",
       "      <td>0</td>\n",
       "      <td>64900000</td>\n",
       "      <td>159.00</td>\n",
       "      <td>2015-07-24</td>\n",
       "      <td>3</td>\n",
       "      <td>2.60</td>\n",
       "      <td>14</td>\n",
       "      <td>91.73</td>\n",
       "      <td>9</td>\n",
       "      <td>False</td>\n",
       "      <td>False</td>\n",
       "      <td>False</td>\n",
       "      <td>27.82</td>\n",
       "      <td>0</td>\n",
       "      <td>Санкт-Петербург</td>\n",
       "      <td>28,098.00</td>\n",
       "      <td>6,800.00</td>\n",
       "      <td>2</td>\n",
       "      <td>84.00</td>\n",
       "      <td>3</td>\n",
       "      <td>234.00</td>\n",
       "      <td>424</td>\n",
       "      <td>408176</td>\n",
       "      <td>4</td>\n",
       "      <td>7</td>\n",
       "      <td>2015</td>\n",
       "      <td>другой</td>\n",
       "      <td>7.00</td>\n",
       "    </tr>\n",
       "    <tr>\n",
       "      <th>4</th>\n",
       "      <td>2</td>\n",
       "      <td>10000000</td>\n",
       "      <td>100.00</td>\n",
       "      <td>2018-06-19</td>\n",
       "      <td>2</td>\n",
       "      <td>3.03</td>\n",
       "      <td>14</td>\n",
       "      <td>32.00</td>\n",
       "      <td>13</td>\n",
       "      <td>False</td>\n",
       "      <td>False</td>\n",
       "      <td>False</td>\n",
       "      <td>41.00</td>\n",
       "      <td>0</td>\n",
       "      <td>Санкт-Петербург</td>\n",
       "      <td>31,856.00</td>\n",
       "      <td>8,098.00</td>\n",
       "      <td>2</td>\n",
       "      <td>112.00</td>\n",
       "      <td>1</td>\n",
       "      <td>48.00</td>\n",
       "      <td>121</td>\n",
       "      <td>100000</td>\n",
       "      <td>1</td>\n",
       "      <td>6</td>\n",
       "      <td>2018</td>\n",
       "      <td>другой</td>\n",
       "      <td>8.00</td>\n",
       "    </tr>\n",
       "  </tbody>\n",
       "</table>\n",
       "</div>"
      ],
      "text/plain": [
       "   total_images  last_price  total_area first_day_exposition  rooms  \\\n",
       "0            20    13000000      108.00           2019-03-07      3   \n",
       "1             7     3350000       40.40           2018-12-04      1   \n",
       "2            10     5196000       56.00           2015-08-20      2   \n",
       "3             0    64900000      159.00           2015-07-24      3   \n",
       "4             2    10000000      100.00           2018-06-19      2   \n",
       "\n",
       "   ceiling_height  floors_total  living_area  floor  is_apartment  studio  \\\n",
       "0            2.70            16        51.00      8         False   False   \n",
       "1            2.75            11        18.60      1         False   False   \n",
       "2            2.55             5        34.30      4         False   False   \n",
       "3            2.60            14        91.73      9         False   False   \n",
       "4            3.03            14        32.00     13         False   False   \n",
       "\n",
       "   open_plan  kitchen_area  balcony    locality_name  airports_nearest  \\\n",
       "0      False         25.00        0  Санкт-Петербург         18,863.00   \n",
       "1      False         11.00        2   поселок Шушары         12,817.00   \n",
       "2      False          8.30        0  Санкт-Петербург         21,741.00   \n",
       "3      False         27.82        0  Санкт-Петербург         28,098.00   \n",
       "4      False         41.00        0  Санкт-Петербург         31,856.00   \n",
       "\n",
       "   cityCenters_nearest  parks_around3000  parks_nearest  ponds_around3000  \\\n",
       "0            16,028.00                 1         482.00                 2   \n",
       "1            18,603.00                 0            NaN                 0   \n",
       "2            13,933.00                 1          90.00                 2   \n",
       "3             6,800.00                 2          84.00                 3   \n",
       "4             8,098.00                 2         112.00                 1   \n",
       "\n",
       "   ponds_nearest  days_exposition  sqm_price  weekday  month  year floor_type  \\\n",
       "0         755.00               95     120370        3      3  2019     другой   \n",
       "1         584.50               81      82920        1     12  2018     первый   \n",
       "2         574.00              558      92785        3      8  2015     другой   \n",
       "3         234.00              424     408176        4      7  2015     другой   \n",
       "4          48.00              121     100000        1      6  2018     другой   \n",
       "\n",
       "   cityCenters_km  \n",
       "0           16.00  \n",
       "1           19.00  \n",
       "2           14.00  \n",
       "3            7.00  \n",
       "4            8.00  "
      ]
     },
     "execution_count": 39,
     "metadata": {},
     "output_type": "execute_result"
    }
   ],
   "source": [
    "data.head()"
   ]
  },
  {
   "cell_type": "markdown",
   "metadata": {},
   "source": [
    "<div class=\"alert alert-block alert-success\">✔️\n",
    "    \n",
    "\n",
    "__Комментарий от ревьюера №1__\n",
    "\n",
    "Этот раздел выполнен качественно\n",
    "</div>"
   ]
  },
  {
   "cell_type": "markdown",
   "metadata": {},
   "source": [
    "<br>"
   ]
  },
  {
   "cell_type": "markdown",
   "metadata": {},
   "source": [
    "### Исследовательский анализ данных"
   ]
  },
  {
   "cell_type": "markdown",
   "metadata": {},
   "source": [
    "   #### Изучение основных параметров"
   ]
  },
  {
   "cell_type": "markdown",
   "metadata": {},
   "source": [
    "Построим гистограмы основых параметров объектов"
   ]
  },
  {
   "cell_type": "code",
   "execution_count": 40,
   "metadata": {},
   "outputs": [
    {
     "data": {
      "image/png": "[encoded data removed]",
      "text/plain": [
       "<Figure size 432x288 with 1 Axes>"
      ]
     },
     "metadata": {
      "needs_background": "light"
     },
     "output_type": "display_data"
    },
    {
     "name": "stdout",
     "output_type": "stream",
     "text": [
      "Наибольшие по площади варианты:\n",
      "19540   900.00\n",
      "12859   631.20\n",
      "3117    631.00\n",
      "15651   618.00\n",
      "5358    590.00\n",
      "4237    517.00\n",
      "8018    507.00\n",
      "15016   500.00\n",
      "5893    500.00\n",
      "12401   495.00\n",
      "Name: total_area, dtype: float64\n",
      "Наибольшие по площади варианты:\n"
     ]
    }
   ],
   "source": [
    "plt.hist(data['total_area'], bins=50, range=(10,200))\n",
    "plt.title('Общая площадь квартир')\n",
    "plt.xlabel('Квадратные метры')\n",
    "plt.ylabel('Количество квартир')\n",
    "plt.show()\n",
    "print('Наибольшие по площади варианты:')\n",
    "print(data['total_area'].sort_values(ascending=False).head(10))\n",
    "print('Наибольшие по площади варианты:')"
   ]
  },
  {
   "cell_type": "markdown",
   "metadata": {},
   "source": [
    "<div class=\"alert alert-block alert-success\">✔️\n",
    "    \n",
    "\n",
    "__Комментарий от ревьюера №1__\n",
    "\n",
    "Здорово, что используешь метод range() для определения пиковых значений\n",
    "</div>"
   ]
  },
  {
   "cell_type": "markdown",
   "metadata": {},
   "source": [
    "Большинство квартир - менее 100 квадратных метров, больше площадь практически не встречается. В подборке есть несколько очень больших и странных вариантов с площадью более 200 квадратных метров - это, скорее всего, частные дома. При этом самая большая площадь равняется 900 квадратных метров, а самая маленькая - менее 15."
   ]
  },
  {
   "cell_type": "markdown",
   "metadata": {},
   "source": [
    "<br>"
   ]
  },
  {
   "cell_type": "code",
   "execution_count": 41,
   "metadata": {},
   "outputs": [
    {
     "data": {
      "image/png": "[encoded data removed]",
      "text/plain": [
       "<Figure size 432x288 with 1 Axes>"
      ]
     },
     "metadata": {
      "needs_background": "light"
     },
     "output_type": "display_data"
    },
    {
     "name": "stdout",
     "output_type": "stream",
     "text": [
      "Наибольшие по жилой площади варианты:\n",
      "19540   409.70\n",
      "5358    409.00\n",
      "3117    364.04\n",
      "12401   347.50\n",
      "4237    332.00\n",
      "12859   322.30\n",
      "660     312.50\n",
      "8018    301.50\n",
      "14088   300.00\n",
      "5893    288.46\n",
      "Name: living_area, dtype: float64\n"
     ]
    }
   ],
   "source": [
    "plt.hist(data['living_area'], bins=70, range=(10,80))\n",
    "plt.title('Жилая площадь')\n",
    "plt.xlabel('Квадратные метры')\n",
    "plt.ylabel('Количество квартир')\n",
    "plt.show()\n",
    "print('Наибольшие по жилой площади варианты:')\n",
    "print(data['living_area'].sort_values(ascending=False).head(10))"
   ]
  },
  {
   "cell_type": "markdown",
   "metadata": {},
   "source": [
    "Самые распространённые варианты с жилой площадью от 10 до 50 метров. После 80 метров встречаются единичные случаи с огромными значениями. Опять же, скорее всего, - это частные дома. Два пика графика вызваны, вероятно, тем, что это жилые площади для 1-комнатной, затем для 2-комнатной и после этого для 3-комнатной квартиры."
   ]
  },
  {
   "cell_type": "markdown",
   "metadata": {},
   "source": [
    "<br>"
   ]
  },
  {
   "cell_type": "code",
   "execution_count": 42,
   "metadata": {},
   "outputs": [
    {
     "data": {
      "image/png": "[encoded data removed]",
      "text/plain": [
       "<Figure size 432x288 with 1 Axes>"
      ]
     },
     "metadata": {
      "needs_background": "light"
     },
     "output_type": "display_data"
    },
    {
     "name": "stdout",
     "output_type": "stream",
     "text": [
      "Наибольшие по площади кухни варианты:\n",
      "19540   112.00\n",
      "20215   107.00\n",
      "2489    100.70\n",
      "5358    100.00\n",
      "16239    93.20\n",
      "16797    93.00\n",
      "15016    87.50\n",
      "10867    87.20\n",
      "9826     86.47\n",
      "492      77.00\n",
      "Name: kitchen_area, dtype: float64\n"
     ]
    }
   ],
   "source": [
    "plt.hist(data['kitchen_area'], bins=30, range=(0,30))\n",
    "plt.title('Площадь кухни')\n",
    "plt.xlabel('Квадратные метры')\n",
    "plt.ylabel('Количество квартир')\n",
    "plt.show()\n",
    "print('Наибольшие по площади кухни варианты:')\n",
    "print(data['kitchen_area'].sort_values(ascending=False).head(10))"
   ]
  },
  {
   "cell_type": "markdown",
   "metadata": {},
   "source": [
    "Самые распространённые кухни - от 5 до 15 метров. Больше 20 метров кухни практически не встречаются. Больше 30 - единичные случаи."
   ]
  },
  {
   "cell_type": "markdown",
   "metadata": {},
   "source": [
    "<br>"
   ]
  },
  {
   "cell_type": "code",
   "execution_count": 43,
   "metadata": {},
   "outputs": [
    {
     "data": {
      "image/png": "[encoded data removed]",
      "text/plain": [
       "<Figure size 432x288 with 1 Axes>"
      ]
     },
     "metadata": {
      "needs_background": "light"
     },
     "output_type": "display_data"
    },
    {
     "name": "stdout",
     "output_type": "stream",
     "text": [
      "Наибольшие по цене варианты:\n",
      "12971    763000000\n",
      "19540    420000000\n",
      "14706    401300000\n",
      "1436     330000000\n",
      "15651    300000000\n",
      "22831    289238400\n",
      "16461    245000000\n",
      "13749    240000000\n",
      "5893     230000000\n",
      "8900     190870000\n",
      "Name: last_price, dtype: int64\n"
     ]
    }
   ],
   "source": [
    "plt.hist(data['last_price'], bins=30, range=(0, 20000000))\n",
    "plt.title('Цена объекта')\n",
    "plt.xlabel('Стоимость')\n",
    "plt.ylabel('Количество квартир')\n",
    "plt.show()\n",
    "print('Наибольшие по цене варианты:')\n",
    "print(data['last_price'].sort_values(ascending=False).head(10))"
   ]
  },
  {
   "cell_type": "markdown",
   "metadata": {},
   "source": [
    "В основном стоимость квартир - порядка 5 миллионов. Больше 20 миллионов вариантов мало и они выглядят очень странно и некоторые - на порядок дороже."
   ]
  },
  {
   "cell_type": "markdown",
   "metadata": {},
   "source": [
    "<br>"
   ]
  },
  {
   "cell_type": "code",
   "execution_count": 44,
   "metadata": {},
   "outputs": [
    {
     "data": {
      "image/png": "[encoded data removed]",
      "text/plain": [
       "<Figure size 432x288 with 1 Axes>"
      ]
     },
     "metadata": {
      "needs_background": "light"
     },
     "output_type": "display_data"
    },
    {
     "name": "stdout",
     "output_type": "stream",
     "text": [
      "Наибольшие по числу комнат варианты:\n",
      "14498    19\n",
      "18848    16\n",
      "5358     15\n",
      "20829    14\n",
      "866      14\n",
      "19540    12\n",
      "9688     11\n",
      "648      11\n",
      "4149     10\n",
      "18891    10\n",
      "Name: rooms, dtype: int64\n"
     ]
    }
   ],
   "source": [
    "plt.hist(data['rooms'], bins=7, range=(1,7))\n",
    "plt.title('Количество комнат')\n",
    "plt.xlabel('Комнаты')\n",
    "plt.ylabel('Количество квартир')\n",
    "plt.show()\n",
    "print('Наибольшие по числу комнат варианты:')\n",
    "print(data['rooms'].sort_values(ascending=False).head(10))"
   ]
  },
  {
   "cell_type": "markdown",
   "metadata": {},
   "source": [
    "В основном квартиры состоят из 1, 2 и 3 комнат. Есть небольшая доля 4-комнатных квартир. Варианты, где больше 7 комнат выглядят странно и подозрительно. Даже при объединении нескольких квартир в одну это подозрительно. Возможно, это отдельный дом."
   ]
  },
  {
   "cell_type": "markdown",
   "metadata": {},
   "source": [
    "<br>"
   ]
  },
  {
   "cell_type": "code",
   "execution_count": 45,
   "metadata": {},
   "outputs": [
    {
     "data": {
      "image/png": "[encoded data removed]",
      "text/plain": [
       "<Figure size 432x288 with 1 Axes>"
      ]
     },
     "metadata": {
      "needs_background": "light"
     },
     "output_type": "display_data"
    },
    {
     "name": "stdout",
     "output_type": "stream",
     "text": [
      "Наибольшие по высоте потолков варианты:\n",
      "1053    5.00\n",
      "21923   4.90\n",
      "2802    4.80\n",
      "1300    4.70\n",
      "19142   4.70\n",
      "12401   4.65\n",
      "9783    4.50\n",
      "10159   4.50\n",
      "2823    4.50\n",
      "3067    4.50\n",
      "Name: ceiling_height, dtype: float64\n"
     ]
    }
   ],
   "source": [
    "plt.hist(data['ceiling_height'], bins=20)\n",
    "plt.title('Высота потолков')\n",
    "plt.xlabel('Метры')\n",
    "plt.ylabel('Количество квартир')\n",
    "plt.show()\n",
    "print('Наибольшие по высоте потолков варианты:')\n",
    "print(data['ceiling_height'].sort_values(ascending=False).head(10))"
   ]
  },
  {
   "cell_type": "markdown",
   "metadata": {},
   "source": [
    "Большинство вариантов имеют высоту потолков от 2,5 до 3 метров. Больше 4 метров высота потолков выглядит подозрительно. Есть значения в 27 метров (высота 9-этажного дома) - это может быть ошибкой данных и реальная высота 2,7 метра."
   ]
  },
  {
   "cell_type": "markdown",
   "metadata": {},
   "source": [
    "<br>"
   ]
  },
  {
   "cell_type": "code",
   "execution_count": 46,
   "metadata": {},
   "outputs": [
    {
     "data": {
      "image/png": "[encoded data removed]",
      "text/plain": [
       "<Figure size 432x288 with 1 Axes>"
      ]
     },
     "metadata": {
      "needs_background": "light"
     },
     "output_type": "display_data"
    },
    {
     "name": "stdout",
     "output_type": "stream",
     "text": [
      "Наибольшие по расположению на этаже варианты:\n",
      "18218    33\n",
      "11575    32\n",
      "18629    31\n",
      "1917     30\n",
      "11079    29\n",
      "6157     27\n",
      "8496     27\n",
      "2629     27\n",
      "4091     27\n",
      "13276    27\n",
      "Name: floor, dtype: int64\n"
     ]
    }
   ],
   "source": [
    "plt.hist(data['floor'], bins=30)\n",
    "plt.title('Этаж квартиры')\n",
    "plt.xlabel('Этаж')\n",
    "plt.ylabel('Количество квартир')\n",
    "plt.show()\n",
    "print('Наибольшие по расположению на этаже варианты:')\n",
    "print(data['floor'].sort_values(ascending=False).head(10))"
   ]
  },
  {
   "cell_type": "markdown",
   "metadata": {},
   "source": [
    "Основная масса квартир - до 10 этажа, что может говорить о преобладании объявлений на вторичном рынке, т.к. раньше не часто строили дома выше 10 этажей, особенно в Питере. Очень большое количество кварир - до 5 этажа, а лидеры по количеству продаж - 1 и 2 этажи."
   ]
  },
  {
   "cell_type": "markdown",
   "metadata": {},
   "source": [
    "<br>"
   ]
  },
  {
   "cell_type": "code",
   "execution_count": 47,
   "metadata": {},
   "outputs": [
    {
     "data": {
      "image/png": "[encoded data removed]",
      "text/plain": [
       "<Figure size 432x288 with 1 Axes>"
      ]
     },
     "metadata": {
      "needs_background": "light"
     },
     "output_type": "display_data"
    },
    {
     "name": "stdout",
     "output_type": "stream",
     "text": [
      "Наибольшие по этажности варианты:\n",
      "2253     60\n",
      "16731    52\n",
      "11079    36\n",
      "9186     35\n",
      "18218    35\n",
      "5749     35\n",
      "1060     35\n",
      "21599    35\n",
      "12888    35\n",
      "8496     35\n",
      "Name: floors_total, dtype: int64\n"
     ]
    }
   ],
   "source": [
    "plt.hist(data['floors_total'], bins=30)\n",
    "plt.title('Общее количество этажей')\n",
    "plt.xlabel('Этажи')\n",
    "plt.ylabel('Количество квартир')\n",
    "plt.show()\n",
    "print('Наибольшие по этажности варианты:')\n",
    "print(data['floors_total'].sort_values(ascending=False).head(10))"
   ]
  },
  {
   "cell_type": "markdown",
   "metadata": {},
   "source": [
    "Как и предполагалось, наиболее представленные квартиры находятся в старой застройке: пяти- и девяти-десятиэтажках. Однако есть и этажность выше 30, что является единичными случаями. Интересно, если ли в Питере 60-этажные дома? "
   ]
  },
  {
   "cell_type": "markdown",
   "metadata": {},
   "source": [
    "<br>"
   ]
  },
  {
   "cell_type": "code",
   "execution_count": 48,
   "metadata": {},
   "outputs": [
    {
     "data": {
      "image/png": "[encoded data removed]",
      "text/plain": [
       "<Figure size 432x288 with 1 Axes>"
      ]
     },
     "metadata": {
      "needs_background": "light"
     },
     "output_type": "display_data"
    },
    {
     "name": "stdout",
     "output_type": "stream",
     "text": [
      "Наибольшие по удалению варианты:\n",
      "9640    65,968.00\n",
      "5340    65,952.00\n",
      "577     65,764.00\n",
      "20746   65,105.00\n",
      "5218    64,857.00\n",
      "18884   62,706.00\n",
      "2974    62,454.00\n",
      "16569   61,495.00\n",
      "23123   60,223.00\n",
      "4441    59,626.00\n",
      "Name: cityCenters_nearest, dtype: float64\n"
     ]
    }
   ],
   "source": [
    "plt.hist(data['cityCenters_nearest'], bins=30)\n",
    "plt.title('Расстояние до центра города в метрах')\n",
    "plt.xlabel('Метры')\n",
    "plt.ylabel('Количество квартир')\n",
    "plt.show()\n",
    "print('Наибольшие по удалению варианты:')\n",
    "print(data['cityCenters_nearest'].sort_values(ascending=False).head(10))"
   ]
  },
  {
   "cell_type": "markdown",
   "metadata": {},
   "source": [
    "Квартир в центре населённых пунктов продаётся не так много, как более удалённых. При этом, границы Питера не такие большие, чтобы данные выходили за 20 и даже 30км от центра города. Что-то здесь неладно и явно необходимо доработать данные, превышающие 20км."
   ]
  },
  {
   "cell_type": "markdown",
   "metadata": {},
   "source": [
    "<br>"
   ]
  },
  {
   "cell_type": "code",
   "execution_count": 49,
   "metadata": {},
   "outputs": [
    {
     "data": {
      "image/png": "[encoded data removed]",
      "text/plain": [
       "<Figure size 432x288 with 1 Axes>"
      ]
     },
     "metadata": {
      "needs_background": "light"
     },
     "output_type": "display_data"
    },
    {
     "name": "stdout",
     "output_type": "stream",
     "text": [
      "Наибольшие по удалению от аэропорта варианты:\n",
      "9640    84,869.00\n",
      "5340    84,853.00\n",
      "577     84,665.00\n",
      "20746   84,006.00\n",
      "5218    83,758.00\n",
      "18884   81,607.00\n",
      "2974    81,355.00\n",
      "4441    78,527.00\n",
      "939     75,646.00\n",
      "376     73,827.00\n",
      "Name: airports_nearest, dtype: float64\n"
     ]
    }
   ],
   "source": [
    "plt.hist(data['airports_nearest'], bins=30)\n",
    "plt.title('Расстояние до ближайшего аэропорта')\n",
    "plt.xlabel('Метры')\n",
    "plt.ylabel('Количество квартир')\n",
    "plt.show()\n",
    "print('Наибольшие по удалению от аэропорта варианты:')\n",
    "print(data['airports_nearest'].sort_values(ascending=False).head(10))"
   ]
  },
  {
   "cell_type": "markdown",
   "metadata": {},
   "source": [
    "Здесь данные укладываются в нормальное распределение. Более 80км до аэропорта - вполне себе нормальное расстояние для областных населенных пунктов."
   ]
  },
  {
   "cell_type": "markdown",
   "metadata": {},
   "source": [
    "<br>"
   ]
  },
  {
   "cell_type": "code",
   "execution_count": 50,
   "metadata": {},
   "outputs": [
    {
     "data": {
      "image/png": "[encoded data removed]",
      "text/plain": [
       "<Figure size 432x288 with 1 Axes>"
      ]
     },
     "metadata": {
      "needs_background": "light"
     },
     "output_type": "display_data"
    },
    {
     "name": "stdout",
     "output_type": "stream",
     "text": [
      "Наибольшие по удалению от ближайшего парка варианты:\n",
      "19430   3,190.00\n",
      "10959   3,190.00\n",
      "1590    3,064.00\n",
      "19208   3,013.00\n",
      "23080   2,984.00\n",
      "2659    2,905.00\n",
      "1860    2,888.00\n",
      "7855    2,880.00\n",
      "3865    2,847.00\n",
      "22003   2,768.00\n",
      "Name: parks_nearest, dtype: float64\n"
     ]
    }
   ],
   "source": [
    "plt.hist(data['parks_nearest'], bins=30)\n",
    "plt.title('Расстояние до ближайшего парка')\n",
    "plt.xlabel('Метры')\n",
    "plt.ylabel('Количество квартир')\n",
    "plt.show()\n",
    "print('Наибольшие по удалению от ближайшего парка варианты:')\n",
    "print(data['parks_nearest'].sort_values(ascending=False).head(10))"
   ]
  },
  {
   "cell_type": "markdown",
   "metadata": {},
   "source": [
    "Подавляющее большинство квартир рядом с парком расположены в 1 километре от дома. Однако, есть и такие квартиры, где парки располагаются более чем в получасе ходьбы от дома."
   ]
  },
  {
   "cell_type": "markdown",
   "metadata": {},
   "source": [
    "<br>"
   ]
  },
  {
   "cell_type": "code",
   "execution_count": 51,
   "metadata": {},
   "outputs": [
    {
     "data": {
      "image/png": "[encoded data removed]",
      "text/plain": [
       "<Figure size 432x288 with 1 Axes>"
      ]
     },
     "metadata": {
      "needs_background": "light"
     },
     "output_type": "display_data"
    }
   ],
   "source": [
    "plt.hist(data['weekday'], bins=30)\n",
    "plt.title('День публикации объявления')\n",
    "plt.xlabel('Дни')\n",
    "plt.ylabel('Количество квартир')\n",
    "plt.show()\n"
   ]
  },
  {
   "cell_type": "markdown",
   "metadata": {},
   "source": [
    "Как видно, в субботу и особенно в воскресенье объявлений о продаже квартир подаётся гораздо меньше, чем в будние дни."
   ]
  },
  {
   "cell_type": "markdown",
   "metadata": {},
   "source": [
    "<br>"
   ]
  },
  {
   "cell_type": "code",
   "execution_count": 52,
   "metadata": {},
   "outputs": [
    {
     "data": {
      "image/png": "[encoded data removed]",
      "text/plain": [
       "<Figure size 432x288 with 1 Axes>"
      ]
     },
     "metadata": {
      "needs_background": "light"
     },
     "output_type": "display_data"
    }
   ],
   "source": [
    "plt.hist(data['month'], bins=30)\n",
    "plt.title('Месяц публикации объявления')\n",
    "plt.xlabel('Месяцы')\n",
    "plt.ylabel('Количество квартир')\n",
    "plt.show()"
   ]
  },
  {
   "cell_type": "markdown",
   "metadata": {},
   "source": [
    "Май, декабрь и январь - самые праздничные дни в нашей стране, поэтому и деловая активность гораздо ниже, чем в другие месяцы. Также видна просадка по летним месяцам - перидом отпусков."
   ]
  },
  {
   "cell_type": "markdown",
   "metadata": {},
   "source": [
    "<div class=\"alert alert-block alert-success\">✔️\n",
    "    \n",
    "\n",
    "__Комментарий от ревьюера №1__\n",
    "\n",
    "В мае не до продаж, все на огородах =)\n",
    "</div>"
   ]
  },
  {
   "cell_type": "markdown",
   "metadata": {},
   "source": [
    "<div class=\"alert alert-block alert-danger\">✍\n",
    "    \n",
    "\n",
    "__Комментарий от ревьюера №1__\n",
    "\n",
    "Нет решения по типу этажа. Поправь, пожалуйста\n",
    "</div>"
   ]
  },
  {
   "cell_type": "markdown",
   "metadata": {},
   "source": [
    "<div class=\"alert alert-info\">Новый столбец - категории этажа: первый, последний, другой \n"
   ]
  },
  {
   "cell_type": "code",
   "execution_count": 53,
   "metadata": {},
   "outputs": [],
   "source": [
    "data['cat_floor'] = np.nan \n",
    "\n",
    "def floor_insert(row):\n",
    "    if row['floor']==1:\n",
    "        return 'первый'\n",
    "    elif row['floor']==row['floors_total']:\n",
    "        return 'последний'\n",
    "    else:\n",
    "        return 'другой'\n",
    "\n",
    "data['cat_floor'] = data.apply(floor_insert, axis=1)\n"
   ]
  },
  {
   "cell_type": "markdown",
   "metadata": {},
   "source": [
    "<div class=\"alert alert-block alert-danger\">✍\n",
    "    \n",
    "\n",
    "__Комментарий от ревьюера №1__\n",
    "\n",
    "Немного не так, нам нужно визуализировать гистограммы по типу этажа.\n",
    "</div>"
   ]
  },
  {
   "cell_type": "markdown",
   "metadata": {},
   "source": [
    "#### Изучение времени продажи квартиры"
   ]
  },
  {
   "cell_type": "code",
   "execution_count": 54,
   "metadata": {},
   "outputs": [
    {
     "name": "stdout",
     "output_type": "stream",
     "text": [
      "Время продажи (медиана): 95\n",
      "Время продажи (среднее): 170\n"
     ]
    }
   ],
   "source": [
    "print('Время продажи (медиана):', round(data['days_exposition'].median()))\n",
    "print('Время продажи (среднее):', round(data['days_exposition'].mean()))"
   ]
  },
  {
   "cell_type": "markdown",
   "metadata": {},
   "source": [
    "Гистограма времени продажи"
   ]
  },
  {
   "cell_type": "code",
   "execution_count": 55,
   "metadata": {},
   "outputs": [
    {
     "data": {
      "image/png": "[encoded data removed]",
      "text/plain": [
       "<Figure size 432x288 with 1 Axes>"
      ]
     },
     "metadata": {
      "needs_background": "light"
     },
     "output_type": "display_data"
    }
   ],
   "source": [
    "plt.hist(data['days_exposition'], bins=100, range=(0, 200))\n",
    "plt.title('Время продажи')\n",
    "plt.xlabel('Дни')\n",
    "plt.ylabel('Количество квартир')\n",
    "plt.show()"
   ]
  },
  {
   "cell_type": "markdown",
   "metadata": {},
   "source": [
    "На графике видно несколько пиков, изучим данные"
   ]
  },
  {
   "cell_type": "code",
   "execution_count": 56,
   "metadata": {},
   "outputs": [
    {
     "data": {
      "text/plain": [
       "95      2211\n",
       "45       923\n",
       "60       544\n",
       "7        236\n",
       "90       221\n",
       "        ... \n",
       "1112       1\n",
       "1080       1\n",
       "1064       1\n",
       "1032       1\n",
       "1391       1\n",
       "Name: days_exposition, Length: 1139, dtype: int64"
      ]
     },
     "execution_count": 56,
     "metadata": {},
     "output_type": "execute_result"
    }
   ],
   "source": [
    "data['days_exposition'].value_counts()"
   ]
  },
  {
   "cell_type": "markdown",
   "metadata": {},
   "source": [
    "Изучаем значения срока продажи"
   ]
  },
  {
   "cell_type": "code",
   "execution_count": 57,
   "metadata": {},
   "outputs": [
    {
     "data": {
      "text/plain": [
       "count   23,514.00\n",
       "mean       169.96\n",
       "std        206.96\n",
       "min          1.00\n",
       "25%         45.00\n",
       "50%         95.00\n",
       "75%        200.00\n",
       "max      1,580.00\n",
       "Name: days_exposition, dtype: float64"
      ]
     },
     "execution_count": 57,
     "metadata": {},
     "output_type": "execute_result"
    }
   ],
   "source": [
    "data['days_exposition'].describe()"
   ]
  },
  {
   "cell_type": "markdown",
   "metadata": {},
   "source": [
    "Отфильтруем данные от аномалий и запишем их в новый датафрейм good_data"
   ]
  },
  {
   "cell_type": "code",
   "execution_count": 58,
   "metadata": {},
   "outputs": [],
   "source": [
    "good_data = data.query('days_exposition != 45 and days_exposition != 30 and days_exposition != 60 and days_exposition != 95')"
   ]
  },
  {
   "cell_type": "markdown",
   "metadata": {},
   "source": [
    "<div class=\"alert alert-block alert-warning\">📝\n",
    "    \n",
    "\n",
    "__Комментарий от ревьюера №1__\n",
    "\n",
    "Я бы не советовал удалить эти аномалии:\n",
    "    \n",
    "Тут важно порассуждать как аналитик, почему именно 45 и 60 дней? С чем это связано?\n",
    "    \n",
    "Эти аномалии очень похожи на техническую особенность самой платформы: вероятнее, в эти дни платформа автоматически убирает объявления, если пользователь его не продлил\n",
    "</div>"
   ]
  },
  {
   "cell_type": "markdown",
   "metadata": {},
   "source": [
    "<div class=\"alert alert-info\"> Понял"
   ]
  },
  {
   "cell_type": "markdown",
   "metadata": {},
   "source": [
    "Построим новую гистограмму"
   ]
  },
  {
   "cell_type": "code",
   "execution_count": 59,
   "metadata": {},
   "outputs": [
    {
     "data": {
      "image/png": "[encoded data removed]",
      "text/plain": [
       "<Figure size 432x288 with 1 Axes>"
      ]
     },
     "metadata": {
      "needs_background": "light"
     },
     "output_type": "display_data"
    }
   ],
   "source": [
    "plt.hist(good_data['days_exposition'], bins=100, range=(0, 200))\n",
    "plt.title('Время продажи')\n",
    "plt.xlabel('Дни')\n",
    "plt.ylabel('Количество квартир')\n",
    "plt.show()"
   ]
  },
  {
   "cell_type": "markdown",
   "metadata": {},
   "source": [
    "Данные стали гораздо более чистыми"
   ]
  },
  {
   "cell_type": "code",
   "execution_count": 60,
   "metadata": {},
   "outputs": [
    {
     "data": {
      "text/plain": [
       "count   19,629.00\n",
       "mean       188.80\n",
       "std        221.46\n",
       "min          1.00\n",
       "25%         46.00\n",
       "50%        109.00\n",
       "75%        242.00\n",
       "max      1,580.00\n",
       "Name: days_exposition, dtype: float64"
      ]
     },
     "execution_count": 60,
     "metadata": {},
     "output_type": "execute_result"
    }
   ],
   "source": [
    "good_data['days_exposition'].describe()"
   ]
  },
  {
   "cell_type": "code",
   "execution_count": 61,
   "metadata": {},
   "outputs": [
    {
     "data": {
      "text/plain": [
       "7       236\n",
       "90      221\n",
       "4       174\n",
       "3       160\n",
       "5       154\n",
       "       ... \n",
       "1112      1\n",
       "1080      1\n",
       "1064      1\n",
       "1032      1\n",
       "1391      1\n",
       "Name: days_exposition, Length: 1135, dtype: int64"
      ]
     },
     "execution_count": 61,
     "metadata": {},
     "output_type": "execute_result"
    }
   ],
   "source": [
    "good_data['days_exposition'].value_counts()"
   ]
  },
  {
   "cell_type": "markdown",
   "metadata": {},
   "source": [
    "<b>Вывод"
   ]
  },
  {
   "cell_type": "markdown",
   "metadata": {},
   "source": [
    "Медианное время продажи в очищенных данных выросло с 95 до 109 дней. Среднее время продажи было 169 дней, стало 188. А также есть варианты, которые продавались несколько десятков месяцев.\n",
    "\n",
    "Быстрой продажей можно назвать срок в 46 дней и меньше. Долгой продажей - 242 дня (8 месяцев) и дольше."
   ]
  },
  {
   "cell_type": "markdown",
   "metadata": {},
   "source": [
    "<div class=\"alert alert-block alert-success\">✔️\n",
    "    \n",
    "\n",
    "__Комментарий от ревьюера №1__\n",
    "\n",
    "Да, до 1.5 месяцев можно считать быстрой продажей\n",
    "</div>"
   ]
  },
  {
   "cell_type": "markdown",
   "metadata": {},
   "source": [
    "<br>"
   ]
  },
  {
   "cell_type": "markdown",
   "metadata": {},
   "source": [
    "<b> Какие факторы больше всего влияют на общую (полную) стоимость объекта?"
   ]
  },
  {
   "cell_type": "markdown",
   "metadata": {},
   "source": [
    "<div class=\"alert alert-block alert-danger\">✍\n",
    "    \n",
    "\n",
    "__Комментарий от ревьюера №1__\n",
    "\n",
    "Отсутствуют шаги 4.3 - 4.5 Ошибка при выгрузке, или ты не знаешь с чего начать? Если возникают трудности, то всегда можешь обратиться к наставнику по проектам, он обязательно поможет в режиме диалога\n",
    "</div>"
   ]
  },
  {
   "cell_type": "markdown",
   "metadata": {},
   "source": [
    "<div class=\"alert alert-info\">ВОт же задница.... Работа была полностью выполнена, финальный вывод оформлен... Прости, т.к. времени нет, особо заморачиваться с оформлением текста не буду - времени нет.... "
   ]
  },
  {
   "cell_type": "markdown",
   "metadata": {},
   "source": [
    "<div class=\"alert alert-block alert-success\">✔️\n",
    "    \n",
    "\n",
    "__Комментарий от ревьюера №2__\n",
    "\n",
    "Это нормальная практика. Лучше перед отправкой проекта сохранить ipynb файл\n",
    "</div>"
   ]
  },
  {
   "cell_type": "markdown",
   "metadata": {},
   "source": [
    "<div class=\"alert alert-info\"> Для вычисления зависимости цены от факторов, создадим функцию корреляции"
   ]
  },
  {
   "cell_type": "code",
   "execution_count": 62,
   "metadata": {},
   "outputs": [],
   "source": [
    "def corr1(column):\n",
    "    print('Корелляция цены от',column , data['last_price'].corr(data[column]))\n",
    "    data.plot(x=column, y='last_price', kind='scatter', grid=True, figsize=(14,7), alpha=0.5);\n"
   ]
  },
  {
   "cell_type": "markdown",
   "metadata": {},
   "source": [
    "Зависимость от общей площади"
   ]
  },
  {
   "cell_type": "code",
   "execution_count": 63,
   "metadata": {
    "scrolled": false
   },
   "outputs": [
    {
     "name": "stdout",
     "output_type": "stream",
     "text": [
      "Корелляция цены от total_area 0.6519978657739245\n"
     ]
    },
    {
     "data": {
      "image/png": "[encoded data removed]",
      "text/plain": [
       "<Figure size 1008x504 with 1 Axes>"
      ]
     },
     "metadata": {
      "needs_background": "light"
     },
     "output_type": "display_data"
    }
   ],
   "source": [
    "corr1('total_area')"
   ]
  },
  {
   "cell_type": "markdown",
   "metadata": {},
   "source": [
    "Из графика видно , что зависимость цены от площади есть, но она не такая уж сильная. При возрастании площади и цена возрастает"
   ]
  },
  {
   "cell_type": "markdown",
   "metadata": {},
   "source": [
    "<div class=\"alert alert-block alert-success\">✔️\n",
    "    \n",
    "\n",
    "__Комментарий от ревьюера №1__\n",
    "\n",
    "Верная интерпретация значений корреляции Пирсона. Ты молодец =)\n",
    "</div>"
   ]
  },
  {
   "cell_type": "markdown",
   "metadata": {},
   "source": [
    "Зависимость от жилой площади"
   ]
  },
  {
   "cell_type": "code",
   "execution_count": 64,
   "metadata": {
    "scrolled": false
   },
   "outputs": [
    {
     "name": "stdout",
     "output_type": "stream",
     "text": [
      "Корелляция цены от living_area 0.5830209552841431\n"
     ]
    },
    {
     "data": {
      "image/png": "[encoded data removed]",
      "text/plain": [
       "<Figure size 1008x504 with 1 Axes>"
      ]
     },
     "metadata": {
      "needs_background": "light"
     },
     "output_type": "display_data"
    }
   ],
   "source": [
    "corr1('living_area')"
   ]
  },
  {
   "cell_type": "markdown",
   "metadata": {},
   "source": [
    "Корреляция меньше"
   ]
  },
  {
   "cell_type": "code",
   "execution_count": null,
   "metadata": {},
   "outputs": [],
   "source": []
  },
  {
   "cell_type": "markdown",
   "metadata": {},
   "source": [
    "Зависимость от площади кухни"
   ]
  },
  {
   "cell_type": "code",
   "execution_count": 65,
   "metadata": {
    "scrolled": false
   },
   "outputs": [
    {
     "name": "stdout",
     "output_type": "stream",
     "text": [
      "Корелляция цены от kitchen_area 0.5121247717016023\n"
     ]
    },
    {
     "data": {
      "image/png": "[encoded data removed]",
      "text/plain": [
       "<Figure size 1008x504 with 1 Axes>"
      ]
     },
     "metadata": {
      "needs_background": "light"
     },
     "output_type": "display_data"
    }
   ],
   "source": [
    "corr1('kitchen_area')"
   ]
  },
  {
   "cell_type": "markdown",
   "metadata": {},
   "source": [
    "Корреляция еще меньше"
   ]
  },
  {
   "cell_type": "code",
   "execution_count": null,
   "metadata": {},
   "outputs": [],
   "source": []
  },
  {
   "cell_type": "markdown",
   "metadata": {},
   "source": [
    "Зависимость от количества комнат"
   ]
  },
  {
   "cell_type": "code",
   "execution_count": 66,
   "metadata": {
    "scrolled": false
   },
   "outputs": [
    {
     "name": "stdout",
     "output_type": "stream",
     "text": [
      "Корелляция цены от rooms 0.3624657642217075\n"
     ]
    },
    {
     "data": {
      "image/png": "[encoded data removed]",
      "text/plain": [
       "<Figure size 1008x504 with 1 Axes>"
      ]
     },
     "metadata": {
      "needs_background": "light"
     },
     "output_type": "display_data"
    }
   ],
   "source": [
    "corr1('rooms')"
   ]
  },
  {
   "cell_type": "markdown",
   "metadata": {},
   "source": [
    "Из графика видно , что зависимость цены от кол-ва комнат слабо прослеживается. Она увеличивается, при возрастании комнат от 1 до 5.  "
   ]
  },
  {
   "cell_type": "code",
   "execution_count": null,
   "metadata": {},
   "outputs": [],
   "source": []
  },
  {
   "cell_type": "markdown",
   "metadata": {},
   "source": [
    "Зависимость от этажа"
   ]
  },
  {
   "cell_type": "code",
   "execution_count": 67,
   "metadata": {},
   "outputs": [
    {
     "data": {
      "image/png": "[encoded data removed]",
      "text/plain": [
       "<Figure size 432x360 with 1 Axes>"
      ]
     },
     "metadata": {
      "needs_background": "light"
     },
     "output_type": "display_data"
    }
   ],
   "source": [
    "#Вычислим среднюю цену в каждой категории\n",
    "cat_fl_median = data.groupby('cat_floor')['last_price'].median();\n",
    "cat_fl_median.plot(x=cat_fl_median.index, y=cat_fl_median.values, kind='bar', grid=True, figsize=(6,5));"
   ]
  },
  {
   "cell_type": "markdown",
   "metadata": {},
   "source": [
    "Первый этаж любят меньше всего - поэтому средняя цена ниже всех(чем меньше спрос, тем меньше цена). Более предпочтителен другой этах - не первый и не последний - на него цена выше."
   ]
  },
  {
   "cell_type": "markdown",
   "metadata": {},
   "source": [
    "<div class=\"alert alert-block alert-success\">✔️\n",
    "    \n",
    "\n",
    "__Комментарий от ревьюера №2__\n",
    "\n",
    "Как в песне, \"первый и последний этаж не предлагать\". Традиционно, квартиры на первом и последнем этажах считаются самыми неудобными для жизни и это отражается на их стоимости.\n",
    "</div>"
   ]
  },
  {
   "cell_type": "markdown",
   "metadata": {},
   "source": [
    "Для сравнения посмотрим зависимость в центре Питера"
   ]
  },
  {
   "cell_type": "code",
   "execution_count": 68,
   "metadata": {},
   "outputs": [
    {
     "data": {
      "image/png": "[encoded data removed]",
      "text/plain": [
       "<Figure size 432x360 with 1 Axes>"
      ]
     },
     "metadata": {
      "needs_background": "light"
     },
     "output_type": "display_data"
    }
   ],
   "source": [
    "cat_center = data.query('cityCenters_km <= 8')\n",
    "cat_fl_median = cat_center.groupby('cat_floor')['last_price'].median();\n",
    "cat_fl_median.plot(x=cat_fl_median.index, y=cat_fl_median.values, kind='bar', grid=True, figsize=(6,5));"
   ]
  },
  {
   "cell_type": "markdown",
   "metadata": {},
   "source": [
    "Здесь уже не такая явная разница между последним и другим этажом."
   ]
  },
  {
   "cell_type": "code",
   "execution_count": null,
   "metadata": {},
   "outputs": [],
   "source": []
  },
  {
   "cell_type": "markdown",
   "metadata": {},
   "source": [
    "Зависимость от даты размещения (день недели, месяц, год)."
   ]
  },
  {
   "cell_type": "code",
   "execution_count": 69,
   "metadata": {},
   "outputs": [
    {
     "name": "stdout",
     "output_type": "stream",
     "text": [
      "Корелляция цены от weekday 0.0015551221223138985\n",
      "Корелляция цены от month 0.002369604456574788\n",
      "Корелляция цены от year -0.04235294897314374\n"
     ]
    },
    {
     "data": {
      "image/png": "[encoded data removed]",
      "text/plain": [
       "<Figure size 1008x504 with 1 Axes>"
      ]
     },
     "metadata": {
      "needs_background": "light"
     },
     "output_type": "display_data"
    },
    {
     "data": {
      "image/png": "[encoded data removed]",
      "text/plain": [
       "<Figure size 1008x504 with 1 Axes>"
      ]
     },
     "metadata": {
      "needs_background": "light"
     },
     "output_type": "display_data"
    },
    {
     "data": {
      "image/png": "[encoded data removed]",
      "text/plain": [
       "<Figure size 1008x504 with 1 Axes>"
      ]
     },
     "metadata": {
      "needs_background": "light"
     },
     "output_type": "display_data"
    }
   ],
   "source": [
    "corr1('weekday')\n",
    "corr1('month')\n",
    "corr1('year')"
   ]
  },
  {
   "cell_type": "code",
   "execution_count": null,
   "metadata": {},
   "outputs": [],
   "source": []
  },
  {
   "cell_type": "code",
   "execution_count": 70,
   "metadata": {},
   "outputs": [
    {
     "data": {
      "image/png": "[encoded data removed]",
      "text/plain": [
       "<Figure size 1152x288 with 2 Axes>"
      ]
     },
     "metadata": {
      "needs_background": "light"
     },
     "output_type": "display_data"
    }
   ],
   "source": [
    "data.plot(x='weekday', y='last_price', kind='hexbin', gridsize=50, sharex=False, grid=True, figsize=(16,4),ylim=(0,15000000));"
   ]
  },
  {
   "cell_type": "code",
   "execution_count": 71,
   "metadata": {},
   "outputs": [
    {
     "data": {
      "image/png": "[encoded data removed]",
      "text/plain": [
       "<Figure size 1152x288 with 2 Axes>"
      ]
     },
     "metadata": {
      "needs_background": "light"
     },
     "output_type": "display_data"
    }
   ],
   "source": [
    "data.plot(x='month', y='last_price', kind='hexbin', gridsize=50, sharex=False, grid=True, figsize=(16,4),ylim=(0,15000000));"
   ]
  },
  {
   "cell_type": "code",
   "execution_count": 72,
   "metadata": {},
   "outputs": [
    {
     "data": {
      "image/png": "[encoded data removed]",
      "text/plain": [
       "<Figure size 1152x288 with 2 Axes>"
      ]
     },
     "metadata": {
      "needs_background": "light"
     },
     "output_type": "display_data"
    }
   ],
   "source": [
    "data.plot(x='year', y='last_price', kind='hexbin', gridsize=50, sharex=False, grid=True, figsize=(16,4),ylim=(0,15000000));"
   ]
  },
  {
   "cell_type": "markdown",
   "metadata": {},
   "source": [
    "Цена не зависит от дня или месяца, чуть более коррелирует с годом (это и понятно - сказывается общее экономическое положение). Зато количество объявлений зависит и от дня недели, и от месяца, и от года."
   ]
  },
  {
   "cell_type": "markdown",
   "metadata": {},
   "source": [
    "<div class=\"alert alert-block alert-success\">✔️\n",
    "    \n",
    "\n",
    "__Комментарий от ревьюера №2__\n",
    "\n",
    "Верная интерпретация полученных данных\n",
    "</div>"
   ]
  },
  {
   "cell_type": "markdown",
   "metadata": {},
   "source": [
    "#### Посчитайте среднюю цену одного квадратного метра в 10 населённых пунктах с наибольшим числом объявлений. Выделите населённые пункты с самой высокой и низкой стоимостью квадратного метра. "
   ]
  },
  {
   "cell_type": "code",
   "execution_count": 73,
   "metadata": {},
   "outputs": [
    {
     "name": "stdout",
     "output_type": "stream",
     "text": [
      "       locality_name  flats  sqm_price\n",
      "0    Санкт-Петербург  15622 114,774.73\n",
      "1     поселок Мурино    550  85,603.19\n",
      "2     поселок Шушары    439  78,550.88\n",
      "3         Всеволожск    397  68,718.85\n",
      "4             Пушкин    369 103,125.37\n",
      "5            Колпино    338  75,424.15\n",
      "6  поселок Парголово    327  90,175.49\n",
      "7            Гатчина    306  68,757.23\n",
      "8    деревня Кудрово    299  92,473.09\n",
      "9             Выборг    235  58,237.72\n",
      "\n",
      "ВЫВОД:\n",
      "Населённый пункт, где cамая низкая стоимость жилья\n",
      "  locality_name  flats  sqm_price\n",
      "9        Выборг    235  58,237.72\n",
      "\n",
      "Населённый пункт, где cамая высокая стоимость жилья\n",
      "     locality_name  flats  sqm_price\n",
      "0  Санкт-Петербург  15622 114,774.73\n"
     ]
    }
   ],
   "source": [
    "loc10 = data.groupby('locality_name')['sqm_price'].agg(['count', 'mean']).sort_values(by='count', ascending=False).head(10)\n",
    "loc10.columns = ['flats', 'sqm_price']\n",
    "loc10.reset_index(inplace=True)\n",
    "\n",
    "print(loc10)\n",
    "print()\n",
    "print('ВЫВОД:')\n",
    "print('Населённый пункт, где cамая низкая стоимость жилья')\n",
    "print(loc10.loc[loc10['sqm_price']==loc10['sqm_price'].min()])\n",
    "print()\n",
    "print('Населённый пункт, где cамая высокая стоимость жилья')\n",
    "print(loc10.loc[loc10['sqm_price']==loc10['sqm_price'].max()])"
   ]
  },
  {
   "cell_type": "markdown",
   "metadata": {},
   "source": [
    "<div class=\"alert alert-block alert-warning\">📝\n",
    "    \n",
    "\n",
    "__Комментарий от ревьюера №2__\n",
    "\n",
    "Таблица верна. Совет: на общие продажи лучше смотреть через призму медианы. Она более устойчива к выбросам\n",
    "</div>"
   ]
  },
  {
   "cell_type": "markdown",
   "metadata": {},
   "source": [
    "#### Вычислите среднюю цену каждого километра. Опишите, как стоимость объектов зависит от расстояния до центра города."
   ]
  },
  {
   "cell_type": "code",
   "execution_count": 75,
   "metadata": {},
   "outputs": [
    {
     "data": {
      "text/html": [
       "<div>\n",
       "<style scoped>\n",
       "    .dataframe tbody tr th:only-of-type {\n",
       "        vertical-align: middle;\n",
       "    }\n",
       "\n",
       "    .dataframe tbody tr th {\n",
       "        vertical-align: top;\n",
       "    }\n",
       "\n",
       "    .dataframe thead th {\n",
       "        text-align: right;\n",
       "    }\n",
       "</style>\n",
       "<table border=\"1\" class=\"dataframe\">\n",
       "  <thead>\n",
       "    <tr style=\"text-align: right;\">\n",
       "      <th></th>\n",
       "      <th>sqm_price</th>\n",
       "    </tr>\n",
       "    <tr>\n",
       "      <th>cityCenters_km</th>\n",
       "      <th></th>\n",
       "    </tr>\n",
       "  </thead>\n",
       "  <tbody>\n",
       "    <tr>\n",
       "      <th>0.00</th>\n",
       "      <td>172,619.00</td>\n",
       "    </tr>\n",
       "    <tr>\n",
       "      <th>1.00</th>\n",
       "      <td>128,571.00</td>\n",
       "    </tr>\n",
       "    <tr>\n",
       "      <th>2.00</th>\n",
       "      <td>123,035.00</td>\n",
       "    </tr>\n",
       "    <tr>\n",
       "      <th>3.00</th>\n",
       "      <td>108,401.00</td>\n",
       "    </tr>\n",
       "    <tr>\n",
       "      <th>4.00</th>\n",
       "      <td>118,079.00</td>\n",
       "    </tr>\n",
       "    <tr>\n",
       "      <th>5.00</th>\n",
       "      <td>126,929.50</td>\n",
       "    </tr>\n",
       "    <tr>\n",
       "      <th>6.00</th>\n",
       "      <td>131,611.50</td>\n",
       "    </tr>\n",
       "    <tr>\n",
       "      <th>7.00</th>\n",
       "      <td>126,624.00</td>\n",
       "    </tr>\n",
       "    <tr>\n",
       "      <th>8.00</th>\n",
       "      <td>122,599.50</td>\n",
       "    </tr>\n",
       "    <tr>\n",
       "      <th>9.00</th>\n",
       "      <td>105,813.00</td>\n",
       "    </tr>\n",
       "    <tr>\n",
       "      <th>10.00</th>\n",
       "      <td>106,433.00</td>\n",
       "    </tr>\n",
       "    <tr>\n",
       "      <th>11.00</th>\n",
       "      <td>103,346.00</td>\n",
       "    </tr>\n",
       "    <tr>\n",
       "      <th>12.00</th>\n",
       "      <td>104,444.00</td>\n",
       "    </tr>\n",
       "    <tr>\n",
       "      <th>13.00</th>\n",
       "      <td>104,000.00</td>\n",
       "    </tr>\n",
       "    <tr>\n",
       "      <th>14.00</th>\n",
       "      <td>101,863.00</td>\n",
       "    </tr>\n",
       "    <tr>\n",
       "      <th>15.00</th>\n",
       "      <td>101,315.00</td>\n",
       "    </tr>\n",
       "    <tr>\n",
       "      <th>16.00</th>\n",
       "      <td>97,559.50</td>\n",
       "    </tr>\n",
       "    <tr>\n",
       "      <th>17.00</th>\n",
       "      <td>94,660.00</td>\n",
       "    </tr>\n",
       "    <tr>\n",
       "      <th>18.00</th>\n",
       "      <td>95,000.00</td>\n",
       "    </tr>\n",
       "    <tr>\n",
       "      <th>19.00</th>\n",
       "      <td>97,117.50</td>\n",
       "    </tr>\n",
       "    <tr>\n",
       "      <th>20.00</th>\n",
       "      <td>103,851.50</td>\n",
       "    </tr>\n",
       "    <tr>\n",
       "      <th>21.00</th>\n",
       "      <td>89,705.00</td>\n",
       "    </tr>\n",
       "    <tr>\n",
       "      <th>22.00</th>\n",
       "      <td>88,781.00</td>\n",
       "    </tr>\n",
       "    <tr>\n",
       "      <th>23.00</th>\n",
       "      <td>89,965.00</td>\n",
       "    </tr>\n",
       "    <tr>\n",
       "      <th>24.00</th>\n",
       "      <td>86,352.50</td>\n",
       "    </tr>\n",
       "    <tr>\n",
       "      <th>25.00</th>\n",
       "      <td>93,612.00</td>\n",
       "    </tr>\n",
       "    <tr>\n",
       "      <th>26.00</th>\n",
       "      <td>87,368.00</td>\n",
       "    </tr>\n",
       "    <tr>\n",
       "      <th>27.00</th>\n",
       "      <td>132,115.00</td>\n",
       "    </tr>\n",
       "    <tr>\n",
       "      <th>28.00</th>\n",
       "      <td>79,372.00</td>\n",
       "    </tr>\n",
       "    <tr>\n",
       "      <th>29.00</th>\n",
       "      <td>76,084.00</td>\n",
       "    </tr>\n",
       "  </tbody>\n",
       "</table>\n",
       "</div>"
      ],
      "text/plain": [
       "                sqm_price\n",
       "cityCenters_km           \n",
       "0.00           172,619.00\n",
       "1.00           128,571.00\n",
       "2.00           123,035.00\n",
       "3.00           108,401.00\n",
       "4.00           118,079.00\n",
       "5.00           126,929.50\n",
       "6.00           131,611.50\n",
       "7.00           126,624.00\n",
       "8.00           122,599.50\n",
       "9.00           105,813.00\n",
       "10.00          106,433.00\n",
       "11.00          103,346.00\n",
       "12.00          104,444.00\n",
       "13.00          104,000.00\n",
       "14.00          101,863.00\n",
       "15.00          101,315.00\n",
       "16.00           97,559.50\n",
       "17.00           94,660.00\n",
       "18.00           95,000.00\n",
       "19.00           97,117.50\n",
       "20.00          103,851.50\n",
       "21.00           89,705.00\n",
       "22.00           88,781.00\n",
       "23.00           89,965.00\n",
       "24.00           86,352.50\n",
       "25.00           93,612.00\n",
       "26.00           87,368.00\n",
       "27.00          132,115.00\n",
       "28.00           79,372.00\n",
       "29.00           76,084.00"
      ]
     },
     "execution_count": 75,
     "metadata": {},
     "output_type": "execute_result"
    },
    {
     "data": {
      "image/png": "[encoded data removed]",
      "text/plain": [
       "<Figure size 432x288 with 1 Axes>"
      ]
     },
     "metadata": {
      "needs_background": "light"
     },
     "output_type": "display_data"
    }
   ],
   "source": [
    "pivot_table_km = data.query('locality_name == \"Санкт-Петербург\" and cityCenters_km !=\"nan\"').pivot_table(index = 'cityCenters_km', values = 'sqm_price', aggfunc = 'median')\n",
    "pivot_table_km.plot(grid = True, title = 'Заголовок')\n",
    "pivot_table_km"
   ]
  },
  {
   "cell_type": "markdown",
   "metadata": {},
   "source": [
    "По графику и по числам можно выделить 2 центральные зоны: центр (до 8км) и самый центр (1-2 км). Достаточно странно, что в зоне перехода из самого центра в центр цены очень резко снижаются. Возможно, это особенность застройки(промышленные зоны). Далее, до 26км цены плавно опускаются с небольшими пиками, а на 27км, видимо, расположена элитная застройка, т.к. цены на квартиры (или дома) в эом районе достигают цен на квартиры в центре. "
   ]
  },
  {
   "cell_type": "markdown",
   "metadata": {},
   "source": [
    "<div class=\"alert alert-block alert-success\">✔️\n",
    "    \n",
    "\n",
    "__Комментарий от ревьюера №2__\n",
    "\n",
    "Отличная визуализация. В твой код добавил заголовок и сетку, посмотри, пожалуйста, этот момент. Очень важно оформлять графики\n",
    "</div>"
   ]
  },
  {
   "cell_type": "markdown",
   "metadata": {},
   "source": [
    "### Общий вывод"
   ]
  },
  {
   "cell_type": "markdown",
   "metadata": {},
   "source": [
    "<div class=\"alert alert-block alert-danger\">✍\n",
    "    \n",
    "\n",
    "__Комментарий от ревьюера №1__\n",
    "\n",
    "Отсутствует финальный вывод\n",
    "</div>"
   ]
  },
  {
   "cell_type": "markdown",
   "metadata": {},
   "source": [
    "<b>Срок продажи квартиры</b><br>\n",
    "\n",
    "Чаще всего квартиру продают за 109 дней. Если меньше 46 дней, то это быстро, если дольше 242 дней - это долго.\n",
    "Есть большое число квартир, проданных всего за несколько дней после публикации.\n",
    "Также есть варианты, которые продавались несколько десятков месяцев.<br>\n",
    "\n",
    "<b>Факторы, влияющие на стоимость</b><br>\n",
    "На стоимость больше влияет площадь квартиры, нежели число комнат. Т.е. могут быть дорогие квартиры с малым числом комнат, но где комнаты просторные.\n",
    "Первый этаж значительно дешевле остальных вариантов. Также стоимость квартиры на последнем этаже ниже, чем на остальных, кроме первого.\n",
    "\n",
    "<b>Стоимость квадратного метра в топ-10 населённых пунктов</b><br>\n",
    "Дороже всего квадратный метр в Санкт-Петербурге - 114775\n",
    "Дешевле всего квадратный метр в Выборге - 58237\n",
    "\n",
    "<b>Факторы, влияющие на стоимость в центре Санкт-Петербурга</b><br>\n",
    "В центре города практически нет разницы, насколько квартира удалена от условного центра города. \n",
    "В центре есть очень дорогие однокомнатные квартиры. Расположение квартиры на последнем этаже в центре города практически не влияет на цену.\n",
    "Экономическая ситуация в стране мало влияла на элитную недвижимость в центре. "
   ]
  },
  {
   "cell_type": "markdown",
   "metadata": {},
   "source": [
    "<div class=\"alert alert-block alert-warning\">📝\n",
    "Комментарий от ревьюера №1 </b> \n",
    "\n",
    "\n",
    "\n",
    "У тебя получилась очень сильная и хорошая работа. Здорово, что расчеты ты сопровождаешь иллюстрациями, а так же не забываешь про комментарии, твой проект интересно проверять. \n",
    "\n",
    "---\n",
    "\n",
    "Нужно поправить:\n",
    "\n",
    "\n",
    "1) Проверка на дубликаты\n",
    "\n",
    "2) Гистограмма по типу этажа\n",
    "\n",
    "3) Отсутствует часть проекта: шаги 4.3 / 4.4 / 4.5\n",
    "\n",
    "4) После каждого раздела / графика (или серии тестов) писать вывод по полученным данным с учетом поставленной бизнес задачи\n",
    "\n",
    "5) Финальный вывод\n",
    "\n",
    "6) Подправить выводы, после изменений\n",
    "\n",
    "----\n",
    "\n",
    "\n",
    "Если у тебя будут какие-то вопросы по моим комментариям - обязательно пиши! Буду ждать работу на повторное ревью :)</div>"
   ]
  },
  {
   "cell_type": "markdown",
   "metadata": {},
   "source": [
    "<div class=\"alert alert-info\"> Так, вроде бы всё сохранил. :)"
   ]
  },
  {
   "cell_type": "markdown",
   "metadata": {},
   "source": [
    "<div style=\"border:solid blue 3px; padding: 20px\">\n",
    "<div class=\"alert alert-block alert-success\">✔️\n",
    "    \n",
    "\n",
    "__Коментарий от ревьюера №2__\n",
    "\n",
    "\n",
    "В остальном всё чудно😊. Твой проект так и просится на github =)   \n",
    "    \n",
    "Поздравляю с успешным завершением проекта 😊👍\n",
    "И желаю успехов в новых работах 😊\n",
    "    \n",
    "---\n",
    "    \n",
    "От себя хочу порекомендовать тебе отличную книгу про язык Python. Она очень классная (можно купить как новую, так и на Авито попадается. Вот ссылка на pdf этой книги)\n",
    "    \n",
    "https://monster-book.com/avtomatizaciya-zadach-s-python\n",
    "</div>"
   ]
  },
  {
   "cell_type": "markdown",
   "metadata": {},
   "source": [
    "<div class=\"alert alert-info\"> Александр, спасибо за ссылку! Про гитхаб тоже зашло, спасибо!))"
   ]
  },
  {
   "cell_type": "markdown",
   "metadata": {},
   "source": [
    "**Чек-лист готовности проекта**\n",
    "\n",
    "Поставьте 'x' в выполненных пунктах. Далее нажмите Shift+Enter."
   ]
  },
  {
   "cell_type": "markdown",
   "metadata": {},
   "source": [
    "- [x]  открыт файл\n",
    "- [ ]  файлы изучены (выведены первые строки, метод `info()`, гистограммы и т.д.)\n",
    "- [ ]  определены пропущенные значения\n",
    "- [ ]  заполнены пропущенные значения там, где это возможно\n",
    "- [ ]  есть пояснение, какие пропущенные значения обнаружены\n",
    "- [ ]  изменены типы данных\n",
    "- [ ]  есть пояснение, в каких столбцах изменены типы и почему\n",
    "- [ ]  устранены неявные дубликаты в названиях населённых пунктов\n",
    "- [ ]  устранены редкие и выбивающиеся значения (аномалии) во всех столбцах\n",
    "- [ ]  посчитано и добавлено в таблицу: цена одного квадратного метра\n",
    "- [ ]  посчитано и добавлено в таблицу: день публикации объявления (0 - понедельник, 1 - вторник и т.д.)\n",
    "- [ ]  посчитано и добавлено в таблицу: месяц публикации объявления\n",
    "- [ ]  посчитано и добавлено в таблицу: год публикации объявления\n",
    "- [ ]  посчитано и добавлено в таблицу: тип этажа квартиры (значения — «первый», «последний», «другой»)\n",
    "- [ ]  посчитано и добавлено в таблицу: расстояние в км до центра города\n",
    "- [ ]  изучены и описаны следующие параметры:\n",
    "        - общая площадь;\n",
    "        - жилая площадь;\n",
    "        - площадь кухни;\n",
    "        - цена объекта;\n",
    "        - количество комнат;\n",
    "        - высота потолков;\n",
    "        - этаж квартиры;\n",
    "        - тип этажа квартиры («первый», «последний», «другой»);\n",
    "        - общее количество этажей в доме;\n",
    "        - расстояние до центра города в метрах;\n",
    "        - расстояние до ближайшего аэропорта;\n",
    "        - расстояние до ближайшего парка;\n",
    "        - день и месяц публикации объявления\n",
    "- [ ]  построены гистограммы для каждого параметра\n",
    "- [ ]  выполнено задание: \"Изучите, как быстро продавались квартиры (столбец days_exposition). Этот параметр показывает, сколько дней «висело» каждое объявление.\n",
    "    - Постройте гистограмму.\n",
    "    - Посчитайте среднее и медиану.\n",
    "    - В ячейке типа markdown опишите, сколько обычно занимает продажа. Какие продажи можно считать быстрыми, а какие — необычно долгими?\"\n",
    "- [ ]  выполнено задание: \"Какие факторы больше всего влияют на общую (полную) стоимость объекта? Постройте графики, которые покажут зависимость цены от указанных ниже параметров. Для подготовки данных перед визуализацией вы можете использовать сводные таблицы.\"\n",
    "        - общей площади;\n",
    "        - жилой площади;\n",
    "        - площади кухни;\n",
    "        - количество комнат;\n",
    "        - типа этажа, на котором расположена квартира (первый, последний, другой);\n",
    "        - даты размещения (день недели, месяц, год);\n",
    "- [ ]  выполнено задание: \"Посчитайте среднюю цену одного квадратного метра в 10 населённых пунктах с наибольшим числом объявлений. Выделите населённые пункты с самой высокой и низкой стоимостью квадратного метра. Эти данные можно найти по имени в столбце `locality_name`.\"\n",
    "- [ ]  выполнено задание: \"Ранее вы посчитали расстояние до центра в километрах. Теперь выделите квартиры в Санкт-Петербурге с помощью столбца `locality_name` и вычислите среднюю цену каждого километра. Опишите, как стоимость объектов зависит от расстояния до центра города.\"\n",
    "- [ ]  в каждом этапе есть промежуточные выводы\n",
    "- [ ]  есть общий вывод"
   ]
  }
 ],
 "metadata": {
  "ExecuteTimeLog": [
   {
    "duration": 53,
    "start_time": "2022-11-21T16:55:59.570Z"
   },
   {
    "duration": 1163,
    "start_time": "2022-11-21T16:56:29.517Z"
   },
   {
    "duration": 102,
    "start_time": "2022-11-21T16:56:40.014Z"
   },
   {
    "duration": 2483,
    "start_time": "2022-11-21T17:04:03.458Z"
   },
   {
    "duration": 1963,
    "start_time": "2022-11-21T17:09:03.776Z"
   },
   {
    "duration": 38,
    "start_time": "2022-11-21T17:42:39.076Z"
   },
   {
    "duration": 9,
    "start_time": "2022-11-21T17:42:54.786Z"
   },
   {
    "duration": 17,
    "start_time": "2022-11-21T17:43:06.058Z"
   },
   {
    "duration": 16,
    "start_time": "2022-11-21T17:43:35.450Z"
   },
   {
    "duration": 17,
    "start_time": "2022-11-21T17:43:59.577Z"
   },
   {
    "duration": 6,
    "start_time": "2022-11-21T17:56:22.558Z"
   },
   {
    "duration": 7,
    "start_time": "2022-11-21T17:57:19.075Z"
   },
   {
    "duration": 6,
    "start_time": "2022-11-21T17:57:27.716Z"
   },
   {
    "duration": 6,
    "start_time": "2022-11-21T17:57:49.027Z"
   },
   {
    "duration": 8,
    "start_time": "2022-11-21T17:58:10.770Z"
   },
   {
    "duration": 5,
    "start_time": "2022-11-21T17:58:22.979Z"
   },
   {
    "duration": 6,
    "start_time": "2022-11-21T17:58:52.122Z"
   },
   {
    "duration": 4,
    "start_time": "2022-11-21T18:02:17.133Z"
   },
   {
    "duration": 6,
    "start_time": "2022-11-21T18:03:45.413Z"
   },
   {
    "duration": 15,
    "start_time": "2022-11-21T18:03:55.347Z"
   },
   {
    "duration": 3,
    "start_time": "2022-11-21T18:06:01.403Z"
   },
   {
    "duration": 3,
    "start_time": "2022-11-21T18:09:15.530Z"
   },
   {
    "duration": 4,
    "start_time": "2022-11-21T18:09:23.417Z"
   },
   {
    "duration": 20,
    "start_time": "2022-11-21T18:09:32.458Z"
   },
   {
    "duration": 4,
    "start_time": "2022-11-21T18:38:02.917Z"
   },
   {
    "duration": 74,
    "start_time": "2022-11-21T18:51:51.196Z"
   },
   {
    "duration": 7,
    "start_time": "2022-11-21T19:27:54.958Z"
   },
   {
    "duration": 8,
    "start_time": "2022-11-21T19:29:51.736Z"
   },
   {
    "duration": 100,
    "start_time": "2022-11-21T19:30:17.750Z"
   },
   {
    "duration": 71,
    "start_time": "2022-11-21T19:30:17.852Z"
   },
   {
    "duration": 2103,
    "start_time": "2022-11-21T19:30:17.935Z"
   },
   {
    "duration": 6,
    "start_time": "2022-11-21T19:30:20.040Z"
   },
   {
    "duration": 16,
    "start_time": "2022-11-21T19:30:20.048Z"
   },
   {
    "duration": 22,
    "start_time": "2022-11-21T19:30:20.066Z"
   },
   {
    "duration": 10,
    "start_time": "2022-11-21T19:30:20.090Z"
   },
   {
    "duration": 18,
    "start_time": "2022-11-21T19:30:20.102Z"
   },
   {
    "duration": 7,
    "start_time": "2022-11-21T19:32:17.865Z"
   },
   {
    "duration": 4,
    "start_time": "2022-11-21T19:35:27.113Z"
   },
   {
    "duration": 98,
    "start_time": "2022-11-21T19:36:10.844Z"
   },
   {
    "duration": 14,
    "start_time": "2022-11-21T19:36:29.467Z"
   },
   {
    "duration": 108,
    "start_time": "2022-11-21T19:36:52.601Z"
   },
   {
    "duration": 77,
    "start_time": "2022-11-21T19:36:52.711Z"
   },
   {
    "duration": 1957,
    "start_time": "2022-11-21T19:36:52.790Z"
   },
   {
    "duration": 5,
    "start_time": "2022-11-21T19:36:54.749Z"
   },
   {
    "duration": 8,
    "start_time": "2022-11-21T19:36:54.756Z"
   },
   {
    "duration": 10,
    "start_time": "2022-11-21T19:36:54.766Z"
   },
   {
    "duration": 23,
    "start_time": "2022-11-21T19:36:54.777Z"
   },
   {
    "duration": 11,
    "start_time": "2022-11-21T19:39:42.694Z"
   },
   {
    "duration": 8,
    "start_time": "2022-11-21T19:40:06.398Z"
   },
   {
    "duration": 8,
    "start_time": "2022-11-21T19:40:54.350Z"
   },
   {
    "duration": 1432,
    "start_time": "2022-11-22T03:37:36.117Z"
   },
   {
    "duration": 91,
    "start_time": "2022-11-22T03:50:27.205Z"
   },
   {
    "duration": 9,
    "start_time": "2022-11-22T03:51:00.830Z"
   },
   {
    "duration": 5,
    "start_time": "2022-11-22T03:51:41.780Z"
   },
   {
    "duration": 8,
    "start_time": "2022-11-22T03:52:42.955Z"
   },
   {
    "duration": 4,
    "start_time": "2022-11-22T04:22:40.870Z"
   },
   {
    "duration": 15,
    "start_time": "2022-11-22T04:36:13.672Z"
   },
   {
    "duration": 2,
    "start_time": "2022-11-22T04:36:54.954Z"
   },
   {
    "duration": 11,
    "start_time": "2022-11-22T04:37:05.369Z"
   },
   {
    "duration": 12,
    "start_time": "2022-11-22T04:37:30.120Z"
   },
   {
    "duration": 4,
    "start_time": "2022-11-22T04:59:02.833Z"
   },
   {
    "duration": 10,
    "start_time": "2022-11-22T05:02:03.376Z"
   },
   {
    "duration": 4,
    "start_time": "2022-11-22T05:02:16.680Z"
   },
   {
    "duration": 363,
    "start_time": "2022-11-22T05:02:18.159Z"
   },
   {
    "duration": 13,
    "start_time": "2022-11-22T05:02:51.222Z"
   },
   {
    "duration": 12,
    "start_time": "2022-11-22T05:03:02.855Z"
   },
   {
    "duration": 12,
    "start_time": "2022-11-22T05:03:45.654Z"
   },
   {
    "duration": 3,
    "start_time": "2022-11-22T05:05:53.808Z"
   },
   {
    "duration": 326,
    "start_time": "2022-11-22T05:05:55.279Z"
   },
   {
    "duration": 12,
    "start_time": "2022-11-22T05:06:00.848Z"
   },
   {
    "duration": 9,
    "start_time": "2022-11-22T05:08:27.884Z"
   },
   {
    "duration": 3,
    "start_time": "2022-11-22T05:08:30.685Z"
   },
   {
    "duration": 318,
    "start_time": "2022-11-22T05:08:31.915Z"
   },
   {
    "duration": 12,
    "start_time": "2022-11-22T05:08:45.294Z"
   },
   {
    "duration": 10,
    "start_time": "2022-11-22T05:09:27.726Z"
   },
   {
    "duration": 8,
    "start_time": "2022-11-22T05:15:14.483Z"
   },
   {
    "duration": 3,
    "start_time": "2022-11-22T05:17:38.770Z"
   },
   {
    "duration": 332,
    "start_time": "2022-11-22T05:17:39.713Z"
   },
   {
    "duration": 9,
    "start_time": "2022-11-22T05:17:45.905Z"
   },
   {
    "duration": 9,
    "start_time": "2022-11-22T05:17:52.957Z"
   },
   {
    "duration": 6,
    "start_time": "2022-11-22T05:18:34.457Z"
   },
   {
    "duration": 10,
    "start_time": "2022-11-22T05:18:40.834Z"
   },
   {
    "duration": 7,
    "start_time": "2022-11-22T05:18:44.474Z"
   },
   {
    "duration": 3,
    "start_time": "2022-11-22T05:19:08.152Z"
   },
   {
    "duration": 352,
    "start_time": "2022-11-22T05:19:12.732Z"
   },
   {
    "duration": 9,
    "start_time": "2022-11-22T05:19:18.847Z"
   },
   {
    "duration": 7,
    "start_time": "2022-11-22T05:19:20.680Z"
   },
   {
    "duration": 12,
    "start_time": "2022-11-22T05:19:34.838Z"
   },
   {
    "duration": 11,
    "start_time": "2022-11-22T05:20:56.764Z"
   },
   {
    "duration": 10,
    "start_time": "2022-11-22T05:23:49.399Z"
   },
   {
    "duration": 10,
    "start_time": "2022-11-22T05:24:10.223Z"
   },
   {
    "duration": 11,
    "start_time": "2022-11-22T05:26:29.851Z"
   },
   {
    "duration": 9,
    "start_time": "2022-11-22T05:26:45.746Z"
   },
   {
    "duration": 8,
    "start_time": "2022-11-22T05:26:55.577Z"
   },
   {
    "duration": 12,
    "start_time": "2022-11-22T05:27:10.673Z"
   },
   {
    "duration": 13,
    "start_time": "2022-11-22T05:28:05.947Z"
   },
   {
    "duration": 8,
    "start_time": "2022-11-22T05:28:33.440Z"
   },
   {
    "duration": 12,
    "start_time": "2022-11-22T05:28:54.744Z"
   },
   {
    "duration": 2,
    "start_time": "2022-11-22T05:30:00.388Z"
   },
   {
    "duration": 13,
    "start_time": "2022-11-22T05:43:39.433Z"
   },
   {
    "duration": 70,
    "start_time": "2022-11-22T05:44:42.936Z"
   },
   {
    "duration": 82,
    "start_time": "2022-11-22T05:49:13.703Z"
   },
   {
    "duration": 3,
    "start_time": "2022-11-22T05:53:06.434Z"
   },
   {
    "duration": 3,
    "start_time": "2022-11-22T05:53:09.321Z"
   },
   {
    "duration": 5,
    "start_time": "2022-11-22T05:53:17.505Z"
   },
   {
    "duration": 5,
    "start_time": "2022-11-22T05:56:22.517Z"
   },
   {
    "duration": 43,
    "start_time": "2022-11-22T05:56:29.309Z"
   },
   {
    "duration": 17,
    "start_time": "2022-11-22T05:56:39.253Z"
   },
   {
    "duration": 18,
    "start_time": "2022-11-22T05:56:50.064Z"
   },
   {
    "duration": 6,
    "start_time": "2022-11-22T05:57:53.275Z"
   },
   {
    "duration": 66,
    "start_time": "2022-11-22T10:56:22.830Z"
   },
   {
    "duration": 1719,
    "start_time": "2022-11-22T11:02:22.060Z"
   },
   {
    "duration": 108,
    "start_time": "2022-11-22T11:08:24.929Z"
   },
   {
    "duration": 54,
    "start_time": "2022-11-22T11:11:16.229Z"
   },
   {
    "duration": 8,
    "start_time": "2022-11-22T11:12:04.525Z"
   },
   {
    "duration": 4,
    "start_time": "2022-11-22T11:14:13.910Z"
   },
   {
    "duration": 12,
    "start_time": "2022-11-22T11:14:15.382Z"
   },
   {
    "duration": 5,
    "start_time": "2022-11-22T11:14:16.390Z"
   },
   {
    "duration": 4,
    "start_time": "2022-11-22T11:14:17.205Z"
   },
   {
    "duration": 4,
    "start_time": "2022-11-22T11:14:18.037Z"
   },
   {
    "duration": 5,
    "start_time": "2022-11-22T11:14:19.228Z"
   },
   {
    "duration": 9,
    "start_time": "2022-11-22T11:14:20.077Z"
   },
   {
    "duration": 10,
    "start_time": "2022-11-22T11:16:12.381Z"
   },
   {
    "duration": 8,
    "start_time": "2022-11-22T11:16:31.438Z"
   },
   {
    "duration": 4,
    "start_time": "2022-11-22T11:17:06.832Z"
   },
   {
    "duration": 4,
    "start_time": "2022-11-22T11:17:12.461Z"
   },
   {
    "duration": 6,
    "start_time": "2022-11-22T11:17:30.285Z"
   },
   {
    "duration": 3,
    "start_time": "2022-11-22T11:19:51.655Z"
   },
   {
    "duration": 14,
    "start_time": "2022-11-22T11:24:44.576Z"
   },
   {
    "duration": 4,
    "start_time": "2022-11-22T11:24:45.624Z"
   },
   {
    "duration": 466,
    "start_time": "2022-11-22T11:24:46.693Z"
   },
   {
    "duration": 236,
    "start_time": "2022-11-22T11:39:38.155Z"
   },
   {
    "duration": 1912,
    "start_time": "2022-11-22T11:39:38.394Z"
   },
   {
    "duration": 4,
    "start_time": "2022-11-22T11:39:40.307Z"
   },
   {
    "duration": 17,
    "start_time": "2022-11-22T11:39:40.313Z"
   },
   {
    "duration": 10,
    "start_time": "2022-11-22T11:39:40.332Z"
   },
   {
    "duration": 15,
    "start_time": "2022-11-22T11:39:40.344Z"
   },
   {
    "duration": 4,
    "start_time": "2022-11-22T11:39:40.376Z"
   },
   {
    "duration": 7,
    "start_time": "2022-11-22T11:39:40.382Z"
   },
   {
    "duration": 6,
    "start_time": "2022-11-22T11:39:40.391Z"
   },
   {
    "duration": 14,
    "start_time": "2022-11-22T11:39:40.400Z"
   },
   {
    "duration": 11,
    "start_time": "2022-11-22T11:39:40.415Z"
   },
   {
    "duration": 4,
    "start_time": "2022-11-22T11:39:40.427Z"
   },
   {
    "duration": 503,
    "start_time": "2022-11-22T11:39:40.432Z"
   },
   {
    "duration": 8,
    "start_time": "2022-11-22T11:39:40.937Z"
   },
   {
    "duration": 10,
    "start_time": "2022-11-22T11:39:40.946Z"
   },
   {
    "duration": 5,
    "start_time": "2022-11-22T11:39:40.975Z"
   },
   {
    "duration": 374,
    "start_time": "2022-11-22T11:39:40.981Z"
   },
   {
    "duration": 24,
    "start_time": "2022-11-22T11:39:41.357Z"
   },
   {
    "duration": 14,
    "start_time": "2022-11-22T11:39:41.382Z"
   },
   {
    "duration": 183,
    "start_time": "2022-11-22T11:41:41.021Z"
   },
   {
    "duration": 178,
    "start_time": "2022-11-22T11:41:45.859Z"
   },
   {
    "duration": 2101,
    "start_time": "2022-11-22T11:41:46.038Z"
   },
   {
    "duration": 4,
    "start_time": "2022-11-22T11:41:48.141Z"
   },
   {
    "duration": 13,
    "start_time": "2022-11-22T11:41:48.146Z"
   },
   {
    "duration": 21,
    "start_time": "2022-11-22T11:41:48.160Z"
   },
   {
    "duration": 8,
    "start_time": "2022-11-22T11:41:48.182Z"
   },
   {
    "duration": 6,
    "start_time": "2022-11-22T11:41:48.192Z"
   },
   {
    "duration": 3,
    "start_time": "2022-11-22T11:41:48.200Z"
   },
   {
    "duration": 7,
    "start_time": "2022-11-22T11:41:48.205Z"
   },
   {
    "duration": 8,
    "start_time": "2022-11-22T11:41:48.214Z"
   },
   {
    "duration": 12,
    "start_time": "2022-11-22T11:41:48.223Z"
   },
   {
    "duration": 3,
    "start_time": "2022-11-22T11:41:48.236Z"
   },
   {
    "duration": 462,
    "start_time": "2022-11-22T11:41:48.275Z"
   },
   {
    "duration": 6,
    "start_time": "2022-11-22T11:41:48.739Z"
   },
   {
    "duration": 11,
    "start_time": "2022-11-22T11:41:48.747Z"
   },
   {
    "duration": 18,
    "start_time": "2022-11-22T11:41:48.759Z"
   },
   {
    "duration": 457,
    "start_time": "2022-11-22T11:41:48.779Z"
   },
   {
    "duration": 11,
    "start_time": "2022-11-22T11:41:49.237Z"
   },
   {
    "duration": 29,
    "start_time": "2022-11-22T11:41:49.249Z"
   },
   {
    "duration": 314,
    "start_time": "2022-11-22T11:42:35.525Z"
   },
   {
    "duration": 303,
    "start_time": "2022-11-22T11:42:40.900Z"
   },
   {
    "duration": 6,
    "start_time": "2022-11-22T11:42:48.093Z"
   },
   {
    "duration": 6,
    "start_time": "2022-11-22T11:48:39.539Z"
   },
   {
    "duration": 11,
    "start_time": "2022-11-22T11:48:40.824Z"
   },
   {
    "duration": 5,
    "start_time": "2022-11-22T11:48:42.052Z"
   },
   {
    "duration": 5,
    "start_time": "2022-11-22T11:48:43.354Z"
   },
   {
    "duration": 284,
    "start_time": "2022-11-22T11:48:45.755Z"
   },
   {
    "duration": 4,
    "start_time": "2022-11-22T11:48:47.195Z"
   },
   {
    "duration": 17,
    "start_time": "2022-11-22T11:50:54.555Z"
   },
   {
    "duration": 4,
    "start_time": "2022-11-22T11:51:30.492Z"
   },
   {
    "duration": 16,
    "start_time": "2022-11-22T11:51:32.124Z"
   },
   {
    "duration": 184,
    "start_time": "2022-11-22T11:51:43.373Z"
   },
   {
    "duration": 2175,
    "start_time": "2022-11-22T11:51:43.559Z"
   },
   {
    "duration": 5,
    "start_time": "2022-11-22T11:51:45.736Z"
   },
   {
    "duration": 11,
    "start_time": "2022-11-22T11:51:45.743Z"
   },
   {
    "duration": 27,
    "start_time": "2022-11-22T11:51:45.755Z"
   },
   {
    "duration": 7,
    "start_time": "2022-11-22T11:51:45.784Z"
   },
   {
    "duration": 7,
    "start_time": "2022-11-22T11:51:45.792Z"
   },
   {
    "duration": 9,
    "start_time": "2022-11-22T11:51:45.801Z"
   },
   {
    "duration": 12,
    "start_time": "2022-11-22T11:51:45.811Z"
   },
   {
    "duration": 11,
    "start_time": "2022-11-22T11:51:45.825Z"
   },
   {
    "duration": 11,
    "start_time": "2022-11-22T11:51:45.837Z"
   },
   {
    "duration": 5,
    "start_time": "2022-11-22T11:51:45.850Z"
   },
   {
    "duration": 434,
    "start_time": "2022-11-22T11:51:45.876Z"
   },
   {
    "duration": 6,
    "start_time": "2022-11-22T11:51:46.311Z"
   },
   {
    "duration": 18,
    "start_time": "2022-11-22T11:51:46.318Z"
   },
   {
    "duration": 5,
    "start_time": "2022-11-22T11:51:46.338Z"
   },
   {
    "duration": 16,
    "start_time": "2022-11-22T11:51:46.344Z"
   },
   {
    "duration": 18,
    "start_time": "2022-11-22T11:51:46.362Z"
   },
   {
    "duration": 20,
    "start_time": "2022-11-22T11:51:46.381Z"
   },
   {
    "duration": 379,
    "start_time": "2022-11-22T11:51:46.403Z"
   },
   {
    "duration": 16,
    "start_time": "2022-11-22T11:51:46.783Z"
   },
   {
    "duration": 0,
    "start_time": "2022-11-22T11:51:46.800Z"
   },
   {
    "duration": 0,
    "start_time": "2022-11-22T11:51:46.801Z"
   },
   {
    "duration": 0,
    "start_time": "2022-11-22T11:51:46.802Z"
   },
   {
    "duration": 0,
    "start_time": "2022-11-22T11:51:46.803Z"
   },
   {
    "duration": 1,
    "start_time": "2022-11-22T11:51:46.804Z"
   },
   {
    "duration": 15,
    "start_time": "2022-11-22T11:51:59.677Z"
   },
   {
    "duration": 5,
    "start_time": "2022-11-22T11:52:27.948Z"
   },
   {
    "duration": 20,
    "start_time": "2022-11-22T11:52:30.045Z"
   },
   {
    "duration": 15,
    "start_time": "2022-11-22T12:05:08.588Z"
   },
   {
    "duration": 53,
    "start_time": "2022-11-22T12:07:03.029Z"
   },
   {
    "duration": 337,
    "start_time": "2022-11-22T12:07:17.083Z"
   },
   {
    "duration": 7,
    "start_time": "2022-11-22T12:07:19.299Z"
   },
   {
    "duration": 11,
    "start_time": "2022-11-22T12:07:27.586Z"
   },
   {
    "duration": 219,
    "start_time": "2022-11-22T12:22:41.442Z"
   },
   {
    "duration": 190,
    "start_time": "2022-11-22T12:22:56.880Z"
   },
   {
    "duration": 171,
    "start_time": "2022-11-22T12:24:31.610Z"
   },
   {
    "duration": 173,
    "start_time": "2022-11-22T12:24:44.968Z"
   },
   {
    "duration": 196,
    "start_time": "2022-11-22T12:24:56.463Z"
   },
   {
    "duration": 206,
    "start_time": "2022-11-22T12:25:16.378Z"
   },
   {
    "duration": 306,
    "start_time": "2022-11-22T12:25:36.471Z"
   },
   {
    "duration": 208,
    "start_time": "2022-11-22T12:25:45.752Z"
   },
   {
    "duration": 231,
    "start_time": "2022-11-22T12:25:57.256Z"
   },
   {
    "duration": 235,
    "start_time": "2022-11-22T12:26:01.648Z"
   },
   {
    "duration": 236,
    "start_time": "2022-11-22T12:26:18.347Z"
   },
   {
    "duration": 172,
    "start_time": "2022-11-22T13:10:35.699Z"
   },
   {
    "duration": 198,
    "start_time": "2022-11-22T13:10:45.636Z"
   },
   {
    "duration": 185,
    "start_time": "2022-11-22T13:30:10.891Z"
   },
   {
    "duration": 252,
    "start_time": "2022-11-22T13:30:15.808Z"
   },
   {
    "duration": 222,
    "start_time": "2022-11-22T13:30:19.081Z"
   },
   {
    "duration": 18,
    "start_time": "2022-11-22T13:48:20.017Z"
   },
   {
    "duration": 352,
    "start_time": "2022-11-22T13:48:22.232Z"
   },
   {
    "duration": 14,
    "start_time": "2022-11-22T13:48:46.582Z"
   },
   {
    "duration": 50,
    "start_time": "2022-11-22T13:51:11.184Z"
   },
   {
    "duration": 619,
    "start_time": "2022-11-22T13:57:49.560Z"
   },
   {
    "duration": 11,
    "start_time": "2022-11-22T14:01:08.183Z"
   },
   {
    "duration": 84,
    "start_time": "2022-11-22T14:01:11.450Z"
   },
   {
    "duration": 511,
    "start_time": "2022-11-22T14:01:17.047Z"
   },
   {
    "duration": 653,
    "start_time": "2022-11-22T14:01:45.495Z"
   },
   {
    "duration": 510,
    "start_time": "2022-11-22T14:01:54.023Z"
   },
   {
    "duration": 545,
    "start_time": "2022-11-22T14:01:58.737Z"
   },
   {
    "duration": 7,
    "start_time": "2022-11-22T14:02:27.513Z"
   },
   {
    "duration": 7,
    "start_time": "2022-11-22T14:02:32.439Z"
   },
   {
    "duration": 2011,
    "start_time": "2022-11-23T11:08:58.302Z"
   },
   {
    "duration": 114,
    "start_time": "2022-11-23T11:24:15.898Z"
   },
   {
    "duration": 134,
    "start_time": "2022-11-23T11:26:57.593Z"
   },
   {
    "duration": 103,
    "start_time": "2022-11-23T11:44:11.174Z"
   },
   {
    "duration": 13,
    "start_time": "2022-11-23T11:44:14.659Z"
   },
   {
    "duration": 5,
    "start_time": "2022-11-23T11:45:17.176Z"
   },
   {
    "duration": 7,
    "start_time": "2022-11-23T11:45:26.016Z"
   },
   {
    "duration": 3,
    "start_time": "2022-11-23T11:56:55.666Z"
   },
   {
    "duration": 30,
    "start_time": "2022-11-23T11:57:01.307Z"
   },
   {
    "duration": 195,
    "start_time": "2022-11-23T11:58:50.005Z"
   },
   {
    "duration": 17,
    "start_time": "2022-11-23T11:59:11.127Z"
   },
   {
    "duration": 2,
    "start_time": "2022-11-23T12:03:43.911Z"
   },
   {
    "duration": 16,
    "start_time": "2022-11-23T12:05:07.141Z"
   },
   {
    "duration": 16,
    "start_time": "2022-11-23T12:05:17.907Z"
   },
   {
    "duration": 18,
    "start_time": "2022-11-23T12:05:30.500Z"
   },
   {
    "duration": 18,
    "start_time": "2022-11-23T12:05:47.874Z"
   },
   {
    "duration": 120,
    "start_time": "2022-11-23T12:07:11.121Z"
   },
   {
    "duration": 34,
    "start_time": "2022-11-23T12:07:13.480Z"
   },
   {
    "duration": 6,
    "start_time": "2022-11-23T12:07:15.279Z"
   },
   {
    "duration": 9,
    "start_time": "2022-11-23T12:16:29.789Z"
   },
   {
    "duration": 8,
    "start_time": "2022-11-23T12:19:13.480Z"
   },
   {
    "duration": 10,
    "start_time": "2022-11-23T12:19:56.903Z"
   },
   {
    "duration": 99,
    "start_time": "2022-11-23T12:20:28.258Z"
   },
   {
    "duration": 2023,
    "start_time": "2022-11-23T12:20:28.359Z"
   },
   {
    "duration": 5,
    "start_time": "2022-11-23T12:20:30.383Z"
   },
   {
    "duration": 75,
    "start_time": "2022-11-23T12:20:30.389Z"
   },
   {
    "duration": 63,
    "start_time": "2022-11-23T12:20:30.466Z"
   },
   {
    "duration": 30,
    "start_time": "2022-11-23T12:20:30.530Z"
   },
   {
    "duration": 24,
    "start_time": "2022-11-23T12:20:30.561Z"
   },
   {
    "duration": 34,
    "start_time": "2022-11-23T12:20:30.586Z"
   },
   {
    "duration": 37,
    "start_time": "2022-11-23T12:20:30.622Z"
   },
   {
    "duration": 33,
    "start_time": "2022-11-23T12:20:30.662Z"
   },
   {
    "duration": 27,
    "start_time": "2022-11-23T12:20:30.697Z"
   },
   {
    "duration": 137,
    "start_time": "2022-11-23T12:20:30.726Z"
   },
   {
    "duration": 153,
    "start_time": "2022-11-23T12:20:30.865Z"
   },
   {
    "duration": 38,
    "start_time": "2022-11-23T12:20:31.020Z"
   },
   {
    "duration": 7,
    "start_time": "2022-11-23T12:20:31.060Z"
   },
   {
    "duration": 11,
    "start_time": "2022-11-23T12:20:31.069Z"
   },
   {
    "duration": 5,
    "start_time": "2022-11-23T12:20:31.082Z"
   },
   {
    "duration": 26,
    "start_time": "2022-11-23T12:20:31.088Z"
   },
   {
    "duration": 5,
    "start_time": "2022-11-23T12:20:31.115Z"
   },
   {
    "duration": 14,
    "start_time": "2022-11-23T12:20:31.121Z"
   },
   {
    "duration": 298,
    "start_time": "2022-11-23T12:20:31.137Z"
   },
   {
    "duration": 4,
    "start_time": "2022-11-23T12:20:31.437Z"
   },
   {
    "duration": 18,
    "start_time": "2022-11-23T12:20:31.442Z"
   },
   {
    "duration": 2,
    "start_time": "2022-11-23T12:20:31.462Z"
   },
   {
    "duration": 8,
    "start_time": "2022-11-23T12:20:31.466Z"
   },
   {
    "duration": 12,
    "start_time": "2022-11-23T12:20:31.475Z"
   },
   {
    "duration": 6,
    "start_time": "2022-11-23T12:20:31.488Z"
   },
   {
    "duration": 7,
    "start_time": "2022-11-23T12:20:31.496Z"
   },
   {
    "duration": 6,
    "start_time": "2022-11-23T12:20:31.504Z"
   },
   {
    "duration": 224,
    "start_time": "2022-11-23T12:20:31.511Z"
   },
   {
    "duration": 210,
    "start_time": "2022-11-23T12:20:31.737Z"
   },
   {
    "duration": 192,
    "start_time": "2022-11-23T12:20:31.949Z"
   },
   {
    "duration": 210,
    "start_time": "2022-11-23T12:20:32.143Z"
   },
   {
    "duration": 266,
    "start_time": "2022-11-23T12:20:32.354Z"
   },
   {
    "duration": 269,
    "start_time": "2022-11-23T12:20:32.624Z"
   },
   {
    "duration": 226,
    "start_time": "2022-11-23T12:20:32.895Z"
   },
   {
    "duration": 27,
    "start_time": "2022-11-23T12:20:33.122Z"
   },
   {
    "duration": 348,
    "start_time": "2022-11-23T12:20:33.150Z"
   },
   {
    "duration": 12,
    "start_time": "2022-11-23T12:20:33.499Z"
   },
   {
    "duration": 23,
    "start_time": "2022-11-23T12:20:33.512Z"
   },
   {
    "duration": 99,
    "start_time": "2022-11-23T12:20:33.536Z"
   },
   {
    "duration": 521,
    "start_time": "2022-11-23T12:20:33.637Z"
   },
   {
    "duration": 6,
    "start_time": "2022-11-23T12:20:34.160Z"
   },
   {
    "duration": 14,
    "start_time": "2022-11-23T12:20:34.167Z"
   },
   {
    "duration": 20,
    "start_time": "2022-11-23T12:34:10.599Z"
   },
   {
    "duration": 18,
    "start_time": "2022-11-23T12:34:29.274Z"
   },
   {
    "duration": 49,
    "start_time": "2022-11-23T12:36:09.428Z"
   },
   {
    "duration": 9978,
    "start_time": "2022-11-23T12:39:17.991Z"
   },
   {
    "duration": 20,
    "start_time": "2022-11-23T12:39:32.054Z"
   },
   {
    "duration": 35,
    "start_time": "2022-11-23T12:49:34.124Z"
   },
   {
    "duration": 10788,
    "start_time": "2022-11-23T12:49:42.410Z"
   },
   {
    "duration": 9,
    "start_time": "2022-11-23T12:57:00.037Z"
   },
   {
    "duration": 221,
    "start_time": "2022-11-23T13:03:55.283Z"
   },
   {
    "duration": 18,
    "start_time": "2022-11-23T13:05:04.057Z"
   },
   {
    "duration": 13,
    "start_time": "2022-11-23T13:10:26.366Z"
   },
   {
    "duration": 51,
    "start_time": "2022-11-23T13:13:39.754Z"
   },
   {
    "duration": 82,
    "start_time": "2022-11-23T13:21:49.296Z"
   },
   {
    "duration": 80,
    "start_time": "2022-11-23T13:22:03.372Z"
   },
   {
    "duration": 8,
    "start_time": "2022-11-23T13:25:16.861Z"
   },
   {
    "duration": 112,
    "start_time": "2022-11-23T13:25:42.406Z"
   },
   {
    "duration": 106,
    "start_time": "2022-11-23T13:25:48.678Z"
   },
   {
    "duration": 2452,
    "start_time": "2022-11-23T13:25:48.786Z"
   },
   {
    "duration": 5,
    "start_time": "2022-11-23T13:25:51.240Z"
   },
   {
    "duration": 29,
    "start_time": "2022-11-23T13:25:51.247Z"
   },
   {
    "duration": 13,
    "start_time": "2022-11-23T13:25:51.278Z"
   },
   {
    "duration": 9,
    "start_time": "2022-11-23T13:25:51.293Z"
   },
   {
    "duration": 8,
    "start_time": "2022-11-23T13:25:51.304Z"
   },
   {
    "duration": 22,
    "start_time": "2022-11-23T13:25:51.314Z"
   },
   {
    "duration": 23,
    "start_time": "2022-11-23T13:25:51.338Z"
   },
   {
    "duration": 36,
    "start_time": "2022-11-23T13:25:51.365Z"
   },
   {
    "duration": 8,
    "start_time": "2022-11-23T13:25:51.404Z"
   },
   {
    "duration": 62,
    "start_time": "2022-11-23T13:25:51.414Z"
   },
   {
    "duration": 167,
    "start_time": "2022-11-23T13:25:51.478Z"
   },
   {
    "duration": 34,
    "start_time": "2022-11-23T13:25:51.647Z"
   },
   {
    "duration": 18,
    "start_time": "2022-11-23T13:25:51.683Z"
   },
   {
    "duration": 90,
    "start_time": "2022-11-23T13:25:51.702Z"
   },
   {
    "duration": 86,
    "start_time": "2022-11-23T13:25:51.794Z"
   },
   {
    "duration": 10,
    "start_time": "2022-11-23T13:25:51.882Z"
   },
   {
    "duration": 48,
    "start_time": "2022-11-23T13:25:51.894Z"
   },
   {
    "duration": 10328,
    "start_time": "2022-11-23T13:25:51.944Z"
   },
   {
    "duration": 298,
    "start_time": "2022-11-23T13:26:02.274Z"
   },
   {
    "duration": 18,
    "start_time": "2022-11-23T13:26:02.574Z"
   },
   {
    "duration": 15,
    "start_time": "2022-11-23T13:26:02.594Z"
   },
   {
    "duration": 30,
    "start_time": "2022-11-23T13:26:02.611Z"
   },
   {
    "duration": 6,
    "start_time": "2022-11-23T13:26:02.643Z"
   },
   {
    "duration": 24,
    "start_time": "2022-11-23T13:26:02.651Z"
   },
   {
    "duration": 363,
    "start_time": "2022-11-23T13:26:02.677Z"
   },
   {
    "duration": 5,
    "start_time": "2022-11-23T13:26:03.044Z"
   },
   {
    "duration": 20,
    "start_time": "2022-11-23T13:26:03.051Z"
   },
   {
    "duration": 3,
    "start_time": "2022-11-23T13:26:03.073Z"
   },
   {
    "duration": 14,
    "start_time": "2022-11-23T13:26:03.077Z"
   },
   {
    "duration": 7,
    "start_time": "2022-11-23T13:26:03.093Z"
   },
   {
    "duration": 33,
    "start_time": "2022-11-23T13:26:03.102Z"
   },
   {
    "duration": 3,
    "start_time": "2022-11-23T13:26:03.137Z"
   },
   {
    "duration": 10,
    "start_time": "2022-11-23T13:26:03.143Z"
   },
   {
    "duration": 246,
    "start_time": "2022-11-23T13:26:03.155Z"
   },
   {
    "duration": 232,
    "start_time": "2022-11-23T13:26:03.403Z"
   },
   {
    "duration": 200,
    "start_time": "2022-11-23T13:26:03.638Z"
   },
   {
    "duration": 329,
    "start_time": "2022-11-23T13:26:03.840Z"
   },
   {
    "duration": 213,
    "start_time": "2022-11-23T13:26:04.170Z"
   },
   {
    "duration": 283,
    "start_time": "2022-11-23T13:26:04.385Z"
   },
   {
    "duration": 240,
    "start_time": "2022-11-23T13:26:04.670Z"
   },
   {
    "duration": 30,
    "start_time": "2022-11-23T13:26:04.912Z"
   },
   {
    "duration": 277,
    "start_time": "2022-11-23T13:26:04.946Z"
   },
   {
    "duration": 22,
    "start_time": "2022-11-23T13:26:05.225Z"
   },
   {
    "duration": 20,
    "start_time": "2022-11-23T13:26:05.248Z"
   },
   {
    "duration": 114,
    "start_time": "2022-11-23T13:26:05.270Z"
   },
   {
    "duration": 611,
    "start_time": "2022-11-23T13:26:05.386Z"
   },
   {
    "duration": 8,
    "start_time": "2022-11-23T13:26:05.999Z"
   },
   {
    "duration": 32,
    "start_time": "2022-11-23T13:26:06.009Z"
   },
   {
    "duration": 10,
    "start_time": "2022-11-23T13:29:50.782Z"
   },
   {
    "duration": 376,
    "start_time": "2022-11-23T15:16:54.841Z"
   },
   {
    "duration": 299,
    "start_time": "2022-11-23T15:17:05.079Z"
   },
   {
    "duration": 326,
    "start_time": "2022-11-23T15:17:16.495Z"
   },
   {
    "duration": 90,
    "start_time": "2022-11-23T15:18:52.974Z"
   },
   {
    "duration": 292,
    "start_time": "2022-11-23T15:19:22.943Z"
   },
   {
    "duration": 282,
    "start_time": "2022-11-23T15:19:34.292Z"
   },
   {
    "duration": 329,
    "start_time": "2022-11-23T15:19:55.076Z"
   },
   {
    "duration": 14,
    "start_time": "2022-11-23T15:21:13.138Z"
   },
   {
    "duration": 76,
    "start_time": "2022-11-23T15:22:06.264Z"
   },
   {
    "duration": 73,
    "start_time": "2022-11-23T15:22:18.455Z"
   },
   {
    "duration": 56,
    "start_time": "2022-11-23T15:22:22.951Z"
   },
   {
    "duration": 60,
    "start_time": "2022-11-23T15:22:36.526Z"
   },
   {
    "duration": 82,
    "start_time": "2022-11-23T15:22:42.102Z"
   },
   {
    "duration": 5,
    "start_time": "2022-11-23T15:23:25.204Z"
   },
   {
    "duration": 6,
    "start_time": "2022-11-23T15:25:20.336Z"
   },
   {
    "duration": 303,
    "start_time": "2022-11-23T15:26:06.280Z"
   },
   {
    "duration": 59,
    "start_time": "2022-11-23T15:26:45.430Z"
   },
   {
    "duration": 338,
    "start_time": "2022-11-23T15:27:05.878Z"
   },
   {
    "duration": 94,
    "start_time": "2022-11-23T15:28:25.675Z"
   },
   {
    "duration": 85,
    "start_time": "2022-11-23T15:28:37.205Z"
   },
   {
    "duration": 14,
    "start_time": "2022-11-23T15:29:27.194Z"
   },
   {
    "duration": 109,
    "start_time": "2022-11-23T15:31:58.416Z"
   },
   {
    "duration": 2376,
    "start_time": "2022-11-23T15:31:58.527Z"
   },
   {
    "duration": 4,
    "start_time": "2022-11-23T15:32:00.905Z"
   },
   {
    "duration": 25,
    "start_time": "2022-11-23T15:32:00.911Z"
   },
   {
    "duration": 47,
    "start_time": "2022-11-23T15:32:00.939Z"
   },
   {
    "duration": 25,
    "start_time": "2022-11-23T15:32:00.988Z"
   },
   {
    "duration": 29,
    "start_time": "2022-11-23T15:32:01.015Z"
   },
   {
    "duration": 34,
    "start_time": "2022-11-23T15:32:01.048Z"
   },
   {
    "duration": 43,
    "start_time": "2022-11-23T15:32:01.084Z"
   },
   {
    "duration": 46,
    "start_time": "2022-11-23T15:32:01.129Z"
   },
   {
    "duration": 153,
    "start_time": "2022-11-23T15:32:01.176Z"
   },
   {
    "duration": 47,
    "start_time": "2022-11-23T15:32:01.330Z"
   },
   {
    "duration": 8,
    "start_time": "2022-11-23T15:32:01.379Z"
   },
   {
    "duration": 112,
    "start_time": "2022-11-23T15:32:01.390Z"
   },
   {
    "duration": 94,
    "start_time": "2022-11-23T15:32:01.503Z"
   },
   {
    "duration": 8,
    "start_time": "2022-11-23T15:32:01.598Z"
   },
   {
    "duration": 10,
    "start_time": "2022-11-23T15:32:01.607Z"
   },
   {
    "duration": 310,
    "start_time": "2022-11-23T15:32:01.618Z"
   },
   {
    "duration": 331,
    "start_time": "2022-11-23T15:32:01.937Z"
   },
   {
    "duration": 90,
    "start_time": "2022-11-23T15:32:02.269Z"
   },
   {
    "duration": 5,
    "start_time": "2022-11-23T15:32:02.361Z"
   },
   {
    "duration": 10,
    "start_time": "2022-11-23T15:32:02.367Z"
   },
   {
    "duration": 390,
    "start_time": "2022-11-23T15:32:02.379Z"
   },
   {
    "duration": 337,
    "start_time": "2022-11-23T15:32:02.771Z"
   },
   {
    "duration": 95,
    "start_time": "2022-11-23T15:32:03.110Z"
   },
   {
    "duration": 12,
    "start_time": "2022-11-23T15:32:03.207Z"
   },
   {
    "duration": 57,
    "start_time": "2022-11-23T15:32:03.220Z"
   },
   {
    "duration": 11456,
    "start_time": "2022-11-23T15:32:03.279Z"
   },
   {
    "duration": 261,
    "start_time": "2022-11-23T15:32:14.738Z"
   },
   {
    "duration": 13,
    "start_time": "2022-11-23T15:32:15.001Z"
   },
   {
    "duration": 25,
    "start_time": "2022-11-23T15:32:15.015Z"
   },
   {
    "duration": 33,
    "start_time": "2022-11-23T15:32:15.043Z"
   },
   {
    "duration": 12,
    "start_time": "2022-11-23T15:32:15.078Z"
   },
   {
    "duration": 8,
    "start_time": "2022-11-23T15:32:15.091Z"
   },
   {
    "duration": 315,
    "start_time": "2022-11-23T15:32:15.101Z"
   },
   {
    "duration": 4,
    "start_time": "2022-11-23T15:32:15.418Z"
   },
   {
    "duration": 23,
    "start_time": "2022-11-23T15:32:15.423Z"
   },
   {
    "duration": 8,
    "start_time": "2022-11-23T15:32:15.448Z"
   },
   {
    "duration": 16,
    "start_time": "2022-11-23T15:32:15.458Z"
   },
   {
    "duration": 19,
    "start_time": "2022-11-23T15:32:15.476Z"
   },
   {
    "duration": 4,
    "start_time": "2022-11-23T15:32:15.499Z"
   },
   {
    "duration": 11,
    "start_time": "2022-11-23T15:32:15.505Z"
   },
   {
    "duration": 15,
    "start_time": "2022-11-23T15:32:15.517Z"
   },
   {
    "duration": 253,
    "start_time": "2022-11-23T15:32:15.533Z"
   },
   {
    "duration": 264,
    "start_time": "2022-11-23T15:32:15.788Z"
   },
   {
    "duration": 208,
    "start_time": "2022-11-23T15:32:16.054Z"
   },
   {
    "duration": 242,
    "start_time": "2022-11-23T15:32:16.264Z"
   },
   {
    "duration": 242,
    "start_time": "2022-11-23T15:32:16.507Z"
   },
   {
    "duration": 295,
    "start_time": "2022-11-23T15:32:16.751Z"
   },
   {
    "duration": 258,
    "start_time": "2022-11-23T15:32:17.048Z"
   },
   {
    "duration": 35,
    "start_time": "2022-11-23T15:32:17.308Z"
   },
   {
    "duration": 393,
    "start_time": "2022-11-23T15:32:17.345Z"
   },
   {
    "duration": 13,
    "start_time": "2022-11-23T15:32:17.740Z"
   },
   {
    "duration": 30,
    "start_time": "2022-11-23T15:32:17.755Z"
   },
   {
    "duration": 109,
    "start_time": "2022-11-23T15:32:17.787Z"
   },
   {
    "duration": 567,
    "start_time": "2022-11-23T15:32:17.897Z"
   },
   {
    "duration": 5,
    "start_time": "2022-11-23T15:32:18.467Z"
   },
   {
    "duration": 13,
    "start_time": "2022-11-23T15:32:18.474Z"
   },
   {
    "duration": 10,
    "start_time": "2022-11-23T15:32:50.588Z"
   },
   {
    "duration": 14,
    "start_time": "2022-11-23T15:33:18.483Z"
   },
   {
    "duration": 111,
    "start_time": "2022-11-23T15:33:31.600Z"
   },
   {
    "duration": 2411,
    "start_time": "2022-11-23T15:33:31.714Z"
   },
   {
    "duration": 9,
    "start_time": "2022-11-23T15:33:34.126Z"
   },
   {
    "duration": 13,
    "start_time": "2022-11-23T15:33:34.137Z"
   },
   {
    "duration": 12,
    "start_time": "2022-11-23T15:33:34.153Z"
   },
   {
    "duration": 16,
    "start_time": "2022-11-23T15:33:34.166Z"
   },
   {
    "duration": 14,
    "start_time": "2022-11-23T15:33:34.184Z"
   },
   {
    "duration": 35,
    "start_time": "2022-11-23T15:33:34.200Z"
   },
   {
    "duration": 5,
    "start_time": "2022-11-23T15:33:34.237Z"
   },
   {
    "duration": 37,
    "start_time": "2022-11-23T15:33:34.244Z"
   },
   {
    "duration": 175,
    "start_time": "2022-11-23T15:33:34.283Z"
   },
   {
    "duration": 36,
    "start_time": "2022-11-23T15:33:34.460Z"
   },
   {
    "duration": 10,
    "start_time": "2022-11-23T15:33:34.497Z"
   },
   {
    "duration": 109,
    "start_time": "2022-11-23T15:33:34.508Z"
   },
   {
    "duration": 97,
    "start_time": "2022-11-23T15:33:34.619Z"
   },
   {
    "duration": 19,
    "start_time": "2022-11-23T15:33:34.718Z"
   },
   {
    "duration": 15,
    "start_time": "2022-11-23T15:33:34.739Z"
   },
   {
    "duration": 328,
    "start_time": "2022-11-23T15:33:34.757Z"
   },
   {
    "duration": 311,
    "start_time": "2022-11-23T15:33:35.087Z"
   },
   {
    "duration": 98,
    "start_time": "2022-11-23T15:33:35.399Z"
   },
   {
    "duration": 4,
    "start_time": "2022-11-23T15:33:35.499Z"
   },
   {
    "duration": 7,
    "start_time": "2022-11-23T15:33:35.505Z"
   },
   {
    "duration": 326,
    "start_time": "2022-11-23T15:33:35.513Z"
   },
   {
    "duration": 344,
    "start_time": "2022-11-23T15:33:35.842Z"
   },
   {
    "duration": 101,
    "start_time": "2022-11-23T15:33:36.188Z"
   },
   {
    "duration": 13,
    "start_time": "2022-11-23T15:33:36.290Z"
   },
   {
    "duration": 37,
    "start_time": "2022-11-23T15:33:36.305Z"
   },
   {
    "duration": 10591,
    "start_time": "2022-11-23T15:33:36.350Z"
   },
   {
    "duration": 266,
    "start_time": "2022-11-23T15:33:46.943Z"
   },
   {
    "duration": 14,
    "start_time": "2022-11-23T15:33:47.211Z"
   },
   {
    "duration": 6,
    "start_time": "2022-11-23T15:33:47.237Z"
   },
   {
    "duration": 38,
    "start_time": "2022-11-23T15:33:47.246Z"
   },
   {
    "duration": 6,
    "start_time": "2022-11-23T15:33:47.286Z"
   },
   {
    "duration": 14,
    "start_time": "2022-11-23T15:33:47.294Z"
   },
   {
    "duration": 305,
    "start_time": "2022-11-23T15:33:47.309Z"
   },
   {
    "duration": 5,
    "start_time": "2022-11-23T15:33:47.616Z"
   },
   {
    "duration": 23,
    "start_time": "2022-11-23T15:33:47.635Z"
   },
   {
    "duration": 8,
    "start_time": "2022-11-23T15:33:47.660Z"
   },
   {
    "duration": 20,
    "start_time": "2022-11-23T15:33:47.670Z"
   },
   {
    "duration": 21,
    "start_time": "2022-11-23T15:33:47.691Z"
   },
   {
    "duration": 41,
    "start_time": "2022-11-23T15:33:47.714Z"
   },
   {
    "duration": 18,
    "start_time": "2022-11-23T15:33:47.758Z"
   },
   {
    "duration": 11,
    "start_time": "2022-11-23T15:33:47.778Z"
   },
   {
    "duration": 290,
    "start_time": "2022-11-23T15:33:47.790Z"
   },
   {
    "duration": 243,
    "start_time": "2022-11-23T15:33:48.082Z"
   },
   {
    "duration": 197,
    "start_time": "2022-11-23T15:33:48.326Z"
   },
   {
    "duration": 242,
    "start_time": "2022-11-23T15:33:48.537Z"
   },
   {
    "duration": 227,
    "start_time": "2022-11-23T15:33:48.781Z"
   },
   {
    "duration": 321,
    "start_time": "2022-11-23T15:33:49.010Z"
   },
   {
    "duration": 369,
    "start_time": "2022-11-23T15:33:49.336Z"
   },
   {
    "duration": 14,
    "start_time": "2022-11-23T15:33:49.707Z"
   },
   {
    "duration": 334,
    "start_time": "2022-11-23T15:33:49.738Z"
   },
   {
    "duration": 14,
    "start_time": "2022-11-23T15:33:50.073Z"
   },
   {
    "duration": 22,
    "start_time": "2022-11-23T15:33:50.089Z"
   },
   {
    "duration": 142,
    "start_time": "2022-11-23T15:33:50.113Z"
   },
   {
    "duration": 608,
    "start_time": "2022-11-23T15:33:50.258Z"
   },
   {
    "duration": 6,
    "start_time": "2022-11-23T15:33:50.868Z"
   },
   {
    "duration": 33,
    "start_time": "2022-11-23T15:33:50.875Z"
   },
   {
    "duration": 86,
    "start_time": "2022-11-23T15:41:31.197Z"
   },
   {
    "duration": 5,
    "start_time": "2022-11-23T15:42:11.797Z"
   },
   {
    "duration": 105,
    "start_time": "2022-11-23T15:43:33.557Z"
   },
   {
    "duration": 2177,
    "start_time": "2022-11-23T15:43:33.664Z"
   },
   {
    "duration": 5,
    "start_time": "2022-11-23T15:43:35.842Z"
   },
   {
    "duration": 14,
    "start_time": "2022-11-23T15:43:35.848Z"
   },
   {
    "duration": 20,
    "start_time": "2022-11-23T15:43:35.863Z"
   },
   {
    "duration": 12,
    "start_time": "2022-11-23T15:43:35.885Z"
   },
   {
    "duration": 19,
    "start_time": "2022-11-23T15:43:35.898Z"
   },
   {
    "duration": 19,
    "start_time": "2022-11-23T15:43:35.918Z"
   },
   {
    "duration": 4,
    "start_time": "2022-11-23T15:43:35.939Z"
   },
   {
    "duration": 29,
    "start_time": "2022-11-23T15:43:35.946Z"
   },
   {
    "duration": 170,
    "start_time": "2022-11-23T15:43:35.977Z"
   },
   {
    "duration": 35,
    "start_time": "2022-11-23T15:43:36.148Z"
   },
   {
    "duration": 9,
    "start_time": "2022-11-23T15:43:36.185Z"
   },
   {
    "duration": 94,
    "start_time": "2022-11-23T15:43:36.195Z"
   },
   {
    "duration": 87,
    "start_time": "2022-11-23T15:43:36.291Z"
   },
   {
    "duration": 7,
    "start_time": "2022-11-23T15:43:36.380Z"
   },
   {
    "duration": 5,
    "start_time": "2022-11-23T15:43:36.389Z"
   },
   {
    "duration": 300,
    "start_time": "2022-11-23T15:43:36.396Z"
   },
   {
    "duration": 291,
    "start_time": "2022-11-23T15:43:36.697Z"
   },
   {
    "duration": 87,
    "start_time": "2022-11-23T15:43:36.990Z"
   },
   {
    "duration": 5,
    "start_time": "2022-11-23T15:43:37.079Z"
   },
   {
    "duration": 10,
    "start_time": "2022-11-23T15:43:37.086Z"
   },
   {
    "duration": 282,
    "start_time": "2022-11-23T15:43:37.097Z"
   },
   {
    "duration": 405,
    "start_time": "2022-11-23T15:43:37.381Z"
   },
   {
    "duration": 91,
    "start_time": "2022-11-23T15:43:37.787Z"
   },
   {
    "duration": 104,
    "start_time": "2022-11-23T15:43:37.880Z"
   },
   {
    "duration": 6,
    "start_time": "2022-11-23T15:43:37.986Z"
   },
   {
    "duration": 41,
    "start_time": "2022-11-23T15:43:37.995Z"
   },
   {
    "duration": 10144,
    "start_time": "2022-11-23T15:43:38.038Z"
   },
   {
    "duration": 262,
    "start_time": "2022-11-23T15:43:48.183Z"
   },
   {
    "duration": 12,
    "start_time": "2022-11-23T15:43:48.447Z"
   },
   {
    "duration": 5,
    "start_time": "2022-11-23T15:43:48.460Z"
   },
   {
    "duration": 19,
    "start_time": "2022-11-23T15:43:48.467Z"
   },
   {
    "duration": 28,
    "start_time": "2022-11-23T15:43:48.487Z"
   },
   {
    "duration": 28,
    "start_time": "2022-11-23T15:43:48.517Z"
   },
   {
    "duration": 353,
    "start_time": "2022-11-23T15:43:48.547Z"
   },
   {
    "duration": 2,
    "start_time": "2022-11-23T15:43:48.902Z"
   },
   {
    "duration": 30,
    "start_time": "2022-11-23T15:43:48.905Z"
   },
   {
    "duration": 3,
    "start_time": "2022-11-23T15:43:48.937Z"
   },
   {
    "duration": 28,
    "start_time": "2022-11-23T15:43:48.941Z"
   },
   {
    "duration": 22,
    "start_time": "2022-11-23T15:43:48.971Z"
   },
   {
    "duration": 14,
    "start_time": "2022-11-23T15:43:48.995Z"
   },
   {
    "duration": 14,
    "start_time": "2022-11-23T15:43:49.011Z"
   },
   {
    "duration": 16,
    "start_time": "2022-11-23T15:43:49.027Z"
   },
   {
    "duration": 260,
    "start_time": "2022-11-23T15:43:49.045Z"
   },
   {
    "duration": 237,
    "start_time": "2022-11-23T15:43:49.307Z"
   },
   {
    "duration": 208,
    "start_time": "2022-11-23T15:43:49.547Z"
   },
   {
    "duration": 218,
    "start_time": "2022-11-23T15:43:49.757Z"
   },
   {
    "duration": 214,
    "start_time": "2022-11-23T15:43:49.977Z"
   },
   {
    "duration": 344,
    "start_time": "2022-11-23T15:43:50.192Z"
   },
   {
    "duration": 234,
    "start_time": "2022-11-23T15:43:50.538Z"
   },
   {
    "duration": 16,
    "start_time": "2022-11-23T15:43:50.774Z"
   },
   {
    "duration": 282,
    "start_time": "2022-11-23T15:43:50.792Z"
   },
   {
    "duration": 13,
    "start_time": "2022-11-23T15:43:51.076Z"
   },
   {
    "duration": 25,
    "start_time": "2022-11-23T15:43:51.091Z"
   },
   {
    "duration": 104,
    "start_time": "2022-11-23T15:43:51.117Z"
   },
   {
    "duration": 528,
    "start_time": "2022-11-23T15:43:51.223Z"
   },
   {
    "duration": 7,
    "start_time": "2022-11-23T15:43:51.753Z"
   },
   {
    "duration": 18,
    "start_time": "2022-11-23T15:43:51.761Z"
   },
   {
    "duration": 6,
    "start_time": "2022-11-23T15:46:23.740Z"
   },
   {
    "duration": 4,
    "start_time": "2022-11-23T15:47:18.138Z"
   },
   {
    "duration": 4,
    "start_time": "2022-11-23T15:47:59.818Z"
   },
   {
    "duration": 606,
    "start_time": "2022-11-23T16:04:02.903Z"
   },
   {
    "duration": 794,
    "start_time": "2022-11-23T16:04:32.033Z"
   },
   {
    "duration": 5,
    "start_time": "2022-11-23T16:07:21.921Z"
   },
   {
    "duration": 5,
    "start_time": "2022-11-23T16:13:25.325Z"
   },
   {
    "duration": 6,
    "start_time": "2022-11-23T16:13:31.724Z"
   },
   {
    "duration": 7,
    "start_time": "2022-11-23T16:15:45.601Z"
   },
   {
    "duration": 6,
    "start_time": "2022-11-23T16:26:24.200Z"
   },
   {
    "duration": 8,
    "start_time": "2022-11-23T16:30:56.065Z"
   },
   {
    "duration": 15,
    "start_time": "2022-11-23T16:31:09.870Z"
   },
   {
    "duration": 6,
    "start_time": "2022-11-23T16:32:49.787Z"
   },
   {
    "duration": 10,
    "start_time": "2022-11-23T16:33:14.081Z"
   },
   {
    "duration": 10,
    "start_time": "2022-11-23T16:33:57.332Z"
   },
   {
    "duration": 14,
    "start_time": "2022-11-23T16:34:09.024Z"
   },
   {
    "duration": 8,
    "start_time": "2022-11-23T16:34:27.404Z"
   },
   {
    "duration": 9,
    "start_time": "2022-11-23T16:34:41.159Z"
   },
   {
    "duration": 8,
    "start_time": "2022-11-23T16:34:41.767Z"
   },
   {
    "duration": 8,
    "start_time": "2022-11-23T16:34:47.689Z"
   },
   {
    "duration": 49,
    "start_time": "2022-11-23T16:35:39.343Z"
   },
   {
    "duration": 5,
    "start_time": "2022-11-23T16:38:25.242Z"
   },
   {
    "duration": 47,
    "start_time": "2022-11-23T16:38:47.408Z"
   },
   {
    "duration": 2,
    "start_time": "2022-11-23T16:39:15.176Z"
   },
   {
    "duration": 3,
    "start_time": "2022-11-23T16:41:29.363Z"
   },
   {
    "duration": 18,
    "start_time": "2022-11-23T16:44:04.878Z"
   },
   {
    "duration": 105,
    "start_time": "2022-11-23T16:44:41.467Z"
   },
   {
    "duration": 2269,
    "start_time": "2022-11-23T16:44:41.574Z"
   },
   {
    "duration": 4,
    "start_time": "2022-11-23T16:44:43.845Z"
   },
   {
    "duration": 10,
    "start_time": "2022-11-23T16:44:43.851Z"
   },
   {
    "duration": 11,
    "start_time": "2022-11-23T16:44:43.862Z"
   },
   {
    "duration": 5,
    "start_time": "2022-11-23T16:44:43.875Z"
   },
   {
    "duration": 18,
    "start_time": "2022-11-23T16:44:43.881Z"
   },
   {
    "duration": 3,
    "start_time": "2022-11-23T16:44:43.901Z"
   },
   {
    "duration": 43,
    "start_time": "2022-11-23T16:44:43.905Z"
   },
   {
    "duration": 171,
    "start_time": "2022-11-23T16:44:43.951Z"
   },
   {
    "duration": 41,
    "start_time": "2022-11-23T16:44:44.124Z"
   },
   {
    "duration": 12,
    "start_time": "2022-11-23T16:44:44.169Z"
   },
   {
    "duration": 95,
    "start_time": "2022-11-23T16:44:44.183Z"
   },
   {
    "duration": 84,
    "start_time": "2022-11-23T16:44:44.280Z"
   },
   {
    "duration": 7,
    "start_time": "2022-11-23T16:44:44.366Z"
   },
   {
    "duration": 42,
    "start_time": "2022-11-23T16:44:44.375Z"
   },
   {
    "duration": 279,
    "start_time": "2022-11-23T16:44:44.419Z"
   },
   {
    "duration": 282,
    "start_time": "2022-11-23T16:44:44.700Z"
   },
   {
    "duration": 82,
    "start_time": "2022-11-23T16:44:44.983Z"
   },
   {
    "duration": 5,
    "start_time": "2022-11-23T16:44:45.067Z"
   },
   {
    "duration": 20,
    "start_time": "2022-11-23T16:44:45.074Z"
   },
   {
    "duration": 269,
    "start_time": "2022-11-23T16:44:45.096Z"
   },
   {
    "duration": 301,
    "start_time": "2022-11-23T16:44:45.367Z"
   },
   {
    "duration": 88,
    "start_time": "2022-11-23T16:44:45.670Z"
   },
   {
    "duration": 102,
    "start_time": "2022-11-23T16:44:45.760Z"
   },
   {
    "duration": 7,
    "start_time": "2022-11-23T16:44:45.864Z"
   },
   {
    "duration": 19,
    "start_time": "2022-11-23T16:44:45.873Z"
   },
   {
    "duration": 29,
    "start_time": "2022-11-23T16:44:45.897Z"
   },
   {
    "duration": 11134,
    "start_time": "2022-11-23T16:44:45.935Z"
   },
   {
    "duration": 269,
    "start_time": "2022-11-23T16:44:57.070Z"
   },
   {
    "duration": 19,
    "start_time": "2022-11-23T16:44:57.341Z"
   },
   {
    "duration": 12,
    "start_time": "2022-11-23T16:44:57.362Z"
   },
   {
    "duration": 20,
    "start_time": "2022-11-23T16:44:57.376Z"
   },
   {
    "duration": 12,
    "start_time": "2022-11-23T16:44:57.398Z"
   },
   {
    "duration": 34,
    "start_time": "2022-11-23T16:44:57.412Z"
   },
   {
    "duration": 456,
    "start_time": "2022-11-23T16:44:57.448Z"
   },
   {
    "duration": 24,
    "start_time": "2022-11-23T16:44:57.937Z"
   },
   {
    "duration": 4,
    "start_time": "2022-11-23T17:17:47.571Z"
   },
   {
    "duration": 18,
    "start_time": "2022-11-23T17:17:53.187Z"
   },
   {
    "duration": 45,
    "start_time": "2022-11-23T17:18:14.793Z"
   },
   {
    "duration": 4,
    "start_time": "2022-11-23T17:18:24.370Z"
   },
   {
    "duration": 17,
    "start_time": "2022-11-23T17:18:27.367Z"
   },
   {
    "duration": 198,
    "start_time": "2022-11-23T17:27:59.144Z"
   },
   {
    "duration": 780,
    "start_time": "2022-11-23T17:28:59.234Z"
   },
   {
    "duration": 1126,
    "start_time": "2022-11-23T17:29:06.328Z"
   },
   {
    "duration": 245,
    "start_time": "2022-11-23T17:29:15.854Z"
   },
   {
    "duration": 238,
    "start_time": "2022-11-23T17:32:33.721Z"
   },
   {
    "duration": 230,
    "start_time": "2022-11-23T17:41:53.016Z"
   },
   {
    "duration": 247,
    "start_time": "2022-11-23T17:42:08.952Z"
   },
   {
    "duration": 291,
    "start_time": "2022-11-23T17:42:22.529Z"
   },
   {
    "duration": 261,
    "start_time": "2022-11-23T17:42:32.761Z"
   },
   {
    "duration": 214,
    "start_time": "2022-11-23T17:42:39.268Z"
   },
   {
    "duration": 411,
    "start_time": "2022-11-23T17:43:05.455Z"
   },
   {
    "duration": 270,
    "start_time": "2022-11-23T17:45:33.995Z"
   },
   {
    "duration": 256,
    "start_time": "2022-11-23T17:45:46.332Z"
   },
   {
    "duration": 47,
    "start_time": "2022-11-23T17:47:44.631Z"
   },
   {
    "duration": 272,
    "start_time": "2022-11-23T17:49:52.244Z"
   },
   {
    "duration": 284,
    "start_time": "2022-11-23T17:51:45.788Z"
   },
   {
    "duration": 264,
    "start_time": "2022-11-23T17:53:14.590Z"
   },
   {
    "duration": 3,
    "start_time": "2022-11-23T17:56:49.160Z"
   },
   {
    "duration": 207,
    "start_time": "2022-11-23T17:58:13.030Z"
   },
   {
    "duration": 215,
    "start_time": "2022-11-23T17:59:49.212Z"
   },
   {
    "duration": 216,
    "start_time": "2022-11-23T18:02:21.151Z"
   },
   {
    "duration": 202,
    "start_time": "2022-11-23T18:02:36.294Z"
   },
   {
    "duration": 316,
    "start_time": "2022-11-23T18:02:40.694Z"
   },
   {
    "duration": 200,
    "start_time": "2022-11-23T18:03:14.796Z"
   },
   {
    "duration": 253,
    "start_time": "2022-11-23T18:07:32.544Z"
   },
   {
    "duration": 206,
    "start_time": "2022-11-23T18:08:03.808Z"
   },
   {
    "duration": 214,
    "start_time": "2022-11-23T18:12:41.979Z"
   },
   {
    "duration": 215,
    "start_time": "2022-11-23T18:18:41.496Z"
   },
   {
    "duration": 193,
    "start_time": "2022-11-23T18:22:14.588Z"
   },
   {
    "duration": 160,
    "start_time": "2022-11-23T18:23:33.568Z"
   },
   {
    "duration": 185,
    "start_time": "2022-11-23T18:23:41.525Z"
   },
   {
    "duration": 179,
    "start_time": "2022-11-23T18:26:34.211Z"
   },
   {
    "duration": 195,
    "start_time": "2022-11-23T18:26:41.972Z"
   },
   {
    "duration": 357,
    "start_time": "2022-11-23T18:27:56.914Z"
   },
   {
    "duration": 217,
    "start_time": "2022-11-23T18:28:21.111Z"
   },
   {
    "duration": 227,
    "start_time": "2022-11-23T18:29:46.610Z"
   },
   {
    "duration": 184,
    "start_time": "2022-11-23T18:30:07.552Z"
   },
   {
    "duration": 17,
    "start_time": "2022-11-23T18:37:59.007Z"
   },
   {
    "duration": 12,
    "start_time": "2022-11-23T18:38:15.408Z"
   },
   {
    "duration": 349,
    "start_time": "2022-11-23T18:38:41.527Z"
   },
   {
    "duration": 252,
    "start_time": "2022-11-23T18:38:54.149Z"
   },
   {
    "duration": 277,
    "start_time": "2022-11-23T18:39:13.246Z"
   },
   {
    "duration": 9,
    "start_time": "2022-11-23T18:39:37.508Z"
   },
   {
    "duration": 113,
    "start_time": "2022-11-23T18:40:24.053Z"
   },
   {
    "duration": 2536,
    "start_time": "2022-11-23T18:40:24.169Z"
   },
   {
    "duration": 5,
    "start_time": "2022-11-23T18:40:26.708Z"
   },
   {
    "duration": 60,
    "start_time": "2022-11-23T18:40:26.715Z"
   },
   {
    "duration": 30,
    "start_time": "2022-11-23T18:40:26.778Z"
   },
   {
    "duration": 22,
    "start_time": "2022-11-23T18:40:26.810Z"
   },
   {
    "duration": 46,
    "start_time": "2022-11-23T18:40:26.837Z"
   },
   {
    "duration": 6,
    "start_time": "2022-11-23T18:40:26.885Z"
   },
   {
    "duration": 26,
    "start_time": "2022-11-23T18:40:26.893Z"
   },
   {
    "duration": 180,
    "start_time": "2022-11-23T18:40:26.922Z"
   },
   {
    "duration": 56,
    "start_time": "2022-11-23T18:40:27.106Z"
   },
   {
    "duration": 10,
    "start_time": "2022-11-23T18:40:27.164Z"
   },
   {
    "duration": 98,
    "start_time": "2022-11-23T18:40:27.176Z"
   },
   {
    "duration": 103,
    "start_time": "2022-11-23T18:40:27.276Z"
   },
   {
    "duration": 10,
    "start_time": "2022-11-23T18:40:27.381Z"
   },
   {
    "duration": 17,
    "start_time": "2022-11-23T18:40:27.393Z"
   },
   {
    "duration": 309,
    "start_time": "2022-11-23T18:40:27.412Z"
   },
   {
    "duration": 403,
    "start_time": "2022-11-23T18:40:27.723Z"
   },
   {
    "duration": 89,
    "start_time": "2022-11-23T18:40:28.128Z"
   },
   {
    "duration": 7,
    "start_time": "2022-11-23T18:40:28.235Z"
   },
   {
    "duration": 34,
    "start_time": "2022-11-23T18:40:28.244Z"
   },
   {
    "duration": 329,
    "start_time": "2022-11-23T18:40:28.280Z"
   },
   {
    "duration": 345,
    "start_time": "2022-11-23T18:40:28.611Z"
   },
   {
    "duration": 90,
    "start_time": "2022-11-23T18:40:28.958Z"
   },
   {
    "duration": 102,
    "start_time": "2022-11-23T18:40:29.051Z"
   },
   {
    "duration": 8,
    "start_time": "2022-11-23T18:40:29.155Z"
   },
   {
    "duration": 10,
    "start_time": "2022-11-23T18:40:29.165Z"
   },
   {
    "duration": 21,
    "start_time": "2022-11-23T18:40:29.176Z"
   },
   {
    "duration": 11428,
    "start_time": "2022-11-23T18:40:29.201Z"
   },
   {
    "duration": 264,
    "start_time": "2022-11-23T18:40:40.631Z"
   },
   {
    "duration": 13,
    "start_time": "2022-11-23T18:40:40.897Z"
   },
   {
    "duration": 27,
    "start_time": "2022-11-23T18:40:40.912Z"
   },
   {
    "duration": 17,
    "start_time": "2022-11-23T18:40:40.941Z"
   },
   {
    "duration": 5,
    "start_time": "2022-11-23T18:40:40.961Z"
   },
   {
    "duration": 17,
    "start_time": "2022-11-23T18:40:40.968Z"
   },
   {
    "duration": 353,
    "start_time": "2022-11-23T18:40:40.986Z"
   },
   {
    "duration": 4,
    "start_time": "2022-11-23T18:40:41.341Z"
   },
   {
    "duration": 32,
    "start_time": "2022-11-23T18:40:41.347Z"
   },
   {
    "duration": 258,
    "start_time": "2022-11-23T18:40:41.381Z"
   },
   {
    "duration": 329,
    "start_time": "2022-11-23T18:40:41.641Z"
   },
   {
    "duration": 331,
    "start_time": "2022-11-23T18:40:41.972Z"
   },
   {
    "duration": 324,
    "start_time": "2022-11-23T18:40:42.305Z"
   },
   {
    "duration": 261,
    "start_time": "2022-11-23T18:40:42.634Z"
   },
   {
    "duration": 196,
    "start_time": "2022-11-23T18:40:42.896Z"
   },
   {
    "duration": 249,
    "start_time": "2022-11-23T18:40:43.095Z"
   },
   {
    "duration": 219,
    "start_time": "2022-11-23T18:40:43.346Z"
   },
   {
    "duration": 228,
    "start_time": "2022-11-23T18:40:43.567Z"
   },
   {
    "duration": 217,
    "start_time": "2022-11-23T18:40:43.797Z"
   },
   {
    "duration": 219,
    "start_time": "2022-11-23T18:40:44.017Z"
   },
   {
    "duration": 235,
    "start_time": "2022-11-23T18:40:44.239Z"
   },
   {
    "duration": 225,
    "start_time": "2022-11-23T18:40:44.476Z"
   },
   {
    "duration": 6,
    "start_time": "2022-11-23T18:40:44.703Z"
   },
   {
    "duration": 402,
    "start_time": "2022-11-23T18:40:44.711Z"
   },
   {
    "duration": 22,
    "start_time": "2022-11-23T18:40:45.115Z"
   },
   {
    "duration": 16,
    "start_time": "2022-11-23T18:40:45.139Z"
   },
   {
    "duration": 131,
    "start_time": "2022-11-23T18:40:45.158Z"
   },
   {
    "duration": 543,
    "start_time": "2022-11-23T18:40:45.292Z"
   },
   {
    "duration": 7,
    "start_time": "2022-11-23T18:40:45.837Z"
   },
   {
    "duration": 26,
    "start_time": "2022-11-23T18:40:45.847Z"
   },
   {
    "duration": 825,
    "start_time": "2022-11-23T18:40:45.875Z"
   },
   {
    "duration": 3,
    "start_time": "2022-11-23T18:40:46.702Z"
   },
   {
    "duration": 42,
    "start_time": "2022-11-23T18:40:46.707Z"
   },
   {
    "duration": 94,
    "start_time": "2022-11-23T18:40:46.754Z"
   },
   {
    "duration": 45,
    "start_time": "2022-11-23T18:40:46.851Z"
   },
   {
    "duration": 56,
    "start_time": "2022-11-23T18:40:46.898Z"
   },
   {
    "duration": 59,
    "start_time": "2022-11-23T18:40:46.956Z"
   },
   {
    "duration": 27,
    "start_time": "2022-11-23T18:40:47.018Z"
   },
   {
    "duration": 6,
    "start_time": "2022-11-23T18:41:28.429Z"
   },
   {
    "duration": 6,
    "start_time": "2022-11-23T18:42:33.061Z"
   },
   {
    "duration": 6,
    "start_time": "2022-11-23T18:42:54.153Z"
   },
   {
    "duration": 10,
    "start_time": "2022-11-23T18:45:28.285Z"
   },
   {
    "duration": 102,
    "start_time": "2022-11-23T18:45:31.967Z"
   },
   {
    "duration": 607,
    "start_time": "2022-11-23T18:45:39.787Z"
   },
   {
    "duration": 9,
    "start_time": "2022-11-23T18:46:04.889Z"
   },
   {
    "duration": 89,
    "start_time": "2022-11-23T18:46:08.905Z"
   },
   {
    "duration": 587,
    "start_time": "2022-11-23T18:46:12.268Z"
   },
   {
    "duration": 6,
    "start_time": "2022-11-23T18:46:34.584Z"
   },
   {
    "duration": 13,
    "start_time": "2022-11-23T18:46:58.010Z"
   },
   {
    "duration": 7,
    "start_time": "2022-11-23T18:47:03.095Z"
   },
   {
    "duration": 9,
    "start_time": "2022-11-23T18:47:27.062Z"
   },
   {
    "duration": 96,
    "start_time": "2022-11-23T18:47:29.951Z"
   },
   {
    "duration": 606,
    "start_time": "2022-11-23T18:47:32.247Z"
   },
   {
    "duration": 6,
    "start_time": "2022-11-23T18:47:36.702Z"
   },
   {
    "duration": 7,
    "start_time": "2022-11-23T18:48:26.373Z"
   },
   {
    "duration": 10,
    "start_time": "2022-11-23T18:51:32.000Z"
   },
   {
    "duration": 663,
    "start_time": "2022-11-23T18:54:05.915Z"
   },
   {
    "duration": 302,
    "start_time": "2022-11-23T18:54:20.109Z"
   },
   {
    "duration": 294,
    "start_time": "2022-11-23T18:54:26.811Z"
   },
   {
    "duration": 420,
    "start_time": "2022-11-23T18:55:15.820Z"
   },
   {
    "duration": 300,
    "start_time": "2022-11-23T18:55:45.991Z"
   },
   {
    "duration": 8,
    "start_time": "2022-11-23T18:56:39.785Z"
   },
   {
    "duration": 11,
    "start_time": "2022-11-23T18:56:48.593Z"
   },
   {
    "duration": 386,
    "start_time": "2022-11-23T18:56:50.817Z"
   },
   {
    "duration": 10,
    "start_time": "2022-11-23T18:56:52.598Z"
   },
   {
    "duration": 7,
    "start_time": "2022-11-23T18:56:59.051Z"
   },
   {
    "duration": 9,
    "start_time": "2022-11-23T18:57:14.541Z"
   },
   {
    "duration": 6,
    "start_time": "2022-11-23T18:57:31.915Z"
   },
   {
    "duration": 48,
    "start_time": "2022-11-23T19:02:32.431Z"
   },
   {
    "duration": 1209,
    "start_time": "2022-11-23T23:11:40.741Z"
   },
   {
    "duration": 1851,
    "start_time": "2022-11-23T23:11:41.952Z"
   },
   {
    "duration": 7,
    "start_time": "2022-11-23T23:11:43.805Z"
   },
   {
    "duration": 13,
    "start_time": "2022-11-23T23:11:43.814Z"
   },
   {
    "duration": 10,
    "start_time": "2022-11-23T23:11:43.828Z"
   },
   {
    "duration": 8,
    "start_time": "2022-11-23T23:11:43.839Z"
   },
   {
    "duration": 16,
    "start_time": "2022-11-23T23:11:43.849Z"
   },
   {
    "duration": 4,
    "start_time": "2022-11-23T23:11:43.867Z"
   },
   {
    "duration": 121,
    "start_time": "2022-11-23T23:11:43.898Z"
   },
   {
    "duration": 165,
    "start_time": "2022-11-23T23:11:44.021Z"
   },
   {
    "duration": 41,
    "start_time": "2022-11-23T23:11:44.187Z"
   },
   {
    "duration": 8,
    "start_time": "2022-11-23T23:11:44.230Z"
   },
   {
    "duration": 91,
    "start_time": "2022-11-23T23:11:44.240Z"
   },
   {
    "duration": 81,
    "start_time": "2022-11-23T23:11:44.332Z"
   },
   {
    "duration": 7,
    "start_time": "2022-11-23T23:11:44.415Z"
   },
   {
    "duration": 5,
    "start_time": "2022-11-23T23:11:44.423Z"
   },
   {
    "duration": 260,
    "start_time": "2022-11-23T23:11:44.429Z"
   },
   {
    "duration": 249,
    "start_time": "2022-11-23T23:11:44.691Z"
   },
   {
    "duration": 83,
    "start_time": "2022-11-23T23:11:44.941Z"
   },
   {
    "duration": 4,
    "start_time": "2022-11-23T23:11:45.026Z"
   },
   {
    "duration": 7,
    "start_time": "2022-11-23T23:11:45.032Z"
   },
   {
    "duration": 270,
    "start_time": "2022-11-23T23:11:45.041Z"
   },
   {
    "duration": 261,
    "start_time": "2022-11-23T23:11:45.312Z"
   },
   {
    "duration": 85,
    "start_time": "2022-11-23T23:11:45.574Z"
   },
   {
    "duration": 106,
    "start_time": "2022-11-23T23:11:45.661Z"
   },
   {
    "duration": 7,
    "start_time": "2022-11-23T23:11:45.769Z"
   },
   {
    "duration": 18,
    "start_time": "2022-11-23T23:11:45.778Z"
   },
   {
    "duration": 17,
    "start_time": "2022-11-23T23:11:45.808Z"
   },
   {
    "duration": 10461,
    "start_time": "2022-11-23T23:11:45.826Z"
   },
   {
    "duration": 250,
    "start_time": "2022-11-23T23:11:56.289Z"
   },
   {
    "duration": 13,
    "start_time": "2022-11-23T23:11:56.541Z"
   },
   {
    "duration": 9,
    "start_time": "2022-11-23T23:11:56.555Z"
   },
   {
    "duration": 35,
    "start_time": "2022-11-23T23:11:56.566Z"
   },
   {
    "duration": 7,
    "start_time": "2022-11-23T23:11:56.603Z"
   },
   {
    "duration": 16,
    "start_time": "2022-11-23T23:11:56.612Z"
   },
   {
    "duration": 429,
    "start_time": "2022-11-23T23:11:56.629Z"
   },
   {
    "duration": 4,
    "start_time": "2022-11-23T23:11:57.060Z"
   },
   {
    "duration": 19,
    "start_time": "2022-11-23T23:11:57.065Z"
   },
   {
    "duration": 193,
    "start_time": "2022-11-23T23:11:57.086Z"
   },
   {
    "duration": 245,
    "start_time": "2022-11-23T23:11:57.281Z"
   },
   {
    "duration": 184,
    "start_time": "2022-11-23T23:11:57.528Z"
   },
   {
    "duration": 182,
    "start_time": "2022-11-23T23:11:57.714Z"
   },
   {
    "duration": 152,
    "start_time": "2022-11-23T23:11:57.912Z"
   },
   {
    "duration": 155,
    "start_time": "2022-11-23T23:11:58.065Z"
   },
   {
    "duration": 168,
    "start_time": "2022-11-23T23:11:58.222Z"
   },
   {
    "duration": 172,
    "start_time": "2022-11-23T23:11:58.391Z"
   },
   {
    "duration": 187,
    "start_time": "2022-11-23T23:11:58.565Z"
   },
   {
    "duration": 263,
    "start_time": "2022-11-23T23:11:58.753Z"
   },
   {
    "duration": 168,
    "start_time": "2022-11-23T23:11:59.018Z"
   },
   {
    "duration": 169,
    "start_time": "2022-11-23T23:11:59.188Z"
   },
   {
    "duration": 178,
    "start_time": "2022-11-23T23:11:59.359Z"
   },
   {
    "duration": 7,
    "start_time": "2022-11-23T23:11:59.539Z"
   },
   {
    "duration": 279,
    "start_time": "2022-11-23T23:11:59.548Z"
   },
   {
    "duration": 7,
    "start_time": "2022-11-23T23:11:59.830Z"
   },
   {
    "duration": 9,
    "start_time": "2022-11-23T23:11:59.838Z"
   },
   {
    "duration": 10,
    "start_time": "2022-11-23T23:11:59.849Z"
   },
   {
    "duration": 300,
    "start_time": "2022-11-23T23:11:59.861Z"
   },
   {
    "duration": 8,
    "start_time": "2022-11-23T23:12:00.162Z"
   },
   {
    "duration": 18,
    "start_time": "2022-11-23T23:12:00.172Z"
   },
   {
    "duration": 637,
    "start_time": "2022-11-23T23:12:00.192Z"
   },
   {
    "duration": 3,
    "start_time": "2022-11-23T23:12:00.830Z"
   },
   {
    "duration": 23,
    "start_time": "2022-11-23T23:12:00.835Z"
   },
   {
    "duration": 8,
    "start_time": "2022-11-23T23:12:00.860Z"
   },
   {
    "duration": 9,
    "start_time": "2022-11-23T23:12:00.870Z"
   },
   {
    "duration": 9,
    "start_time": "2022-11-23T23:12:00.881Z"
   },
   {
    "duration": 8,
    "start_time": "2022-11-23T23:12:00.891Z"
   },
   {
    "duration": 7,
    "start_time": "2022-11-23T23:12:00.901Z"
   },
   {
    "duration": 21,
    "start_time": "2022-11-23T23:13:14.670Z"
   },
   {
    "duration": 6,
    "start_time": "2022-11-23T23:13:59.547Z"
   },
   {
    "duration": 14,
    "start_time": "2022-11-23T23:14:26.521Z"
   },
   {
    "duration": 116,
    "start_time": "2022-11-23T23:16:24.843Z"
   },
   {
    "duration": 43,
    "start_time": "2022-11-24T05:43:44.563Z"
   },
   {
    "duration": 1650,
    "start_time": "2022-11-24T05:43:54.378Z"
   },
   {
    "duration": 2097,
    "start_time": "2022-11-24T05:43:56.031Z"
   },
   {
    "duration": 6,
    "start_time": "2022-11-24T05:43:58.130Z"
   },
   {
    "duration": 17,
    "start_time": "2022-11-24T05:43:58.138Z"
   },
   {
    "duration": 7,
    "start_time": "2022-11-24T05:43:58.156Z"
   },
   {
    "duration": 6,
    "start_time": "2022-11-24T05:43:58.165Z"
   },
   {
    "duration": 13,
    "start_time": "2022-11-24T05:43:58.173Z"
   },
   {
    "duration": 4,
    "start_time": "2022-11-24T05:43:58.188Z"
   },
   {
    "duration": 145,
    "start_time": "2022-11-24T05:43:58.194Z"
   },
   {
    "duration": 179,
    "start_time": "2022-11-24T05:43:58.343Z"
   },
   {
    "duration": 36,
    "start_time": "2022-11-24T05:43:58.523Z"
   },
   {
    "duration": 9,
    "start_time": "2022-11-24T05:43:58.561Z"
   },
   {
    "duration": 107,
    "start_time": "2022-11-24T05:43:58.571Z"
   },
   {
    "duration": 87,
    "start_time": "2022-11-24T05:43:58.680Z"
   },
   {
    "duration": 8,
    "start_time": "2022-11-24T05:43:58.769Z"
   },
   {
    "duration": 4,
    "start_time": "2022-11-24T05:43:58.780Z"
   },
   {
    "duration": 326,
    "start_time": "2022-11-24T05:43:58.786Z"
   },
   {
    "duration": 273,
    "start_time": "2022-11-24T05:43:59.115Z"
   },
   {
    "duration": 81,
    "start_time": "2022-11-24T05:43:59.391Z"
   },
   {
    "duration": 4,
    "start_time": "2022-11-24T05:43:59.474Z"
   },
   {
    "duration": 6,
    "start_time": "2022-11-24T05:43:59.480Z"
   },
   {
    "duration": 268,
    "start_time": "2022-11-24T05:43:59.488Z"
   },
   {
    "duration": 296,
    "start_time": "2022-11-24T05:43:59.758Z"
   },
   {
    "duration": 85,
    "start_time": "2022-11-24T05:44:00.056Z"
   },
   {
    "duration": 90,
    "start_time": "2022-11-24T05:44:00.143Z"
   },
   {
    "duration": 6,
    "start_time": "2022-11-24T05:44:00.235Z"
   },
   {
    "duration": 13,
    "start_time": "2022-11-24T05:44:00.243Z"
   },
   {
    "duration": 28,
    "start_time": "2022-11-24T05:44:00.260Z"
   },
   {
    "duration": 10150,
    "start_time": "2022-11-24T05:44:00.290Z"
   },
   {
    "duration": 229,
    "start_time": "2022-11-24T05:44:10.441Z"
   },
   {
    "duration": 13,
    "start_time": "2022-11-24T05:44:10.671Z"
   },
   {
    "duration": 9,
    "start_time": "2022-11-24T05:44:10.685Z"
   },
   {
    "duration": 27,
    "start_time": "2022-11-24T05:44:10.695Z"
   },
   {
    "duration": 22,
    "start_time": "2022-11-24T05:44:10.724Z"
   },
   {
    "duration": 23,
    "start_time": "2022-11-24T05:44:41.260Z"
   },
   {
    "duration": 19,
    "start_time": "2022-11-24T05:45:37.930Z"
   },
   {
    "duration": 18,
    "start_time": "2022-11-24T05:48:12.869Z"
   },
   {
    "duration": 71,
    "start_time": "2022-11-24T06:02:45.802Z"
   },
   {
    "duration": 78,
    "start_time": "2022-11-24T06:22:44.205Z"
   },
   {
    "duration": 16,
    "start_time": "2022-11-24T06:23:14.805Z"
   },
   {
    "duration": 491,
    "start_time": "2022-11-24T06:25:38.458Z"
   },
   {
    "duration": 382,
    "start_time": "2022-11-24T06:29:40.600Z"
   },
   {
    "duration": 406,
    "start_time": "2022-11-24T06:30:15.066Z"
   },
   {
    "duration": 79,
    "start_time": "2022-11-24T06:30:25.311Z"
   },
   {
    "duration": 80,
    "start_time": "2022-11-24T06:33:04.521Z"
   },
   {
    "duration": 3,
    "start_time": "2022-11-24T06:34:36.182Z"
   },
   {
    "duration": 202,
    "start_time": "2022-11-24T06:35:03.174Z"
   },
   {
    "duration": 136,
    "start_time": "2022-11-24T06:35:51.909Z"
   },
   {
    "duration": 216,
    "start_time": "2022-11-24T06:36:53.370Z"
   },
   {
    "duration": 75,
    "start_time": "2022-11-24T06:38:02.703Z"
   },
   {
    "duration": 283,
    "start_time": "2022-11-24T06:39:15.191Z"
   },
   {
    "duration": 226,
    "start_time": "2022-11-24T06:40:29.924Z"
   },
   {
    "duration": 307,
    "start_time": "2022-11-24T06:45:08.325Z"
   },
   {
    "duration": 108,
    "start_time": "2022-11-24T06:45:32.379Z"
   },
   {
    "duration": 1131,
    "start_time": "2022-11-24T06:48:49.789Z"
   },
   {
    "duration": 96,
    "start_time": "2022-11-24T06:49:50.679Z"
   },
   {
    "duration": 1963,
    "start_time": "2022-11-24T06:49:50.777Z"
   },
   {
    "duration": 5,
    "start_time": "2022-11-24T06:49:52.742Z"
   },
   {
    "duration": 11,
    "start_time": "2022-11-24T06:49:52.749Z"
   },
   {
    "duration": 7,
    "start_time": "2022-11-24T06:49:52.762Z"
   },
   {
    "duration": 7,
    "start_time": "2022-11-24T06:49:52.771Z"
   },
   {
    "duration": 42,
    "start_time": "2022-11-24T06:49:52.780Z"
   },
   {
    "duration": 5,
    "start_time": "2022-11-24T06:49:52.824Z"
   },
   {
    "duration": 29,
    "start_time": "2022-11-24T06:49:52.832Z"
   },
   {
    "duration": 175,
    "start_time": "2022-11-24T06:49:52.864Z"
   },
   {
    "duration": 36,
    "start_time": "2022-11-24T06:49:53.041Z"
   },
   {
    "duration": 10,
    "start_time": "2022-11-24T06:49:53.078Z"
   },
   {
    "duration": 98,
    "start_time": "2022-11-24T06:49:53.090Z"
   },
   {
    "duration": 81,
    "start_time": "2022-11-24T06:49:53.190Z"
   },
   {
    "duration": 9,
    "start_time": "2022-11-24T06:49:53.273Z"
   },
   {
    "duration": 7,
    "start_time": "2022-11-24T06:49:53.283Z"
   },
   {
    "duration": 268,
    "start_time": "2022-11-24T06:49:53.292Z"
   },
   {
    "duration": 238,
    "start_time": "2022-11-24T06:49:53.562Z"
   },
   {
    "duration": 76,
    "start_time": "2022-11-24T06:49:53.801Z"
   },
   {
    "duration": 4,
    "start_time": "2022-11-24T06:49:53.879Z"
   },
   {
    "duration": 6,
    "start_time": "2022-11-24T06:49:53.885Z"
   },
   {
    "duration": 278,
    "start_time": "2022-11-24T06:49:53.893Z"
   },
   {
    "duration": 421,
    "start_time": "2022-11-24T06:49:54.173Z"
   },
   {
    "duration": 85,
    "start_time": "2022-11-24T06:49:54.595Z"
   },
   {
    "duration": 99,
    "start_time": "2022-11-24T06:49:54.682Z"
   },
   {
    "duration": 7,
    "start_time": "2022-11-24T06:49:54.783Z"
   },
   {
    "duration": 6,
    "start_time": "2022-11-24T06:49:54.791Z"
   },
   {
    "duration": 38,
    "start_time": "2022-11-24T06:49:54.802Z"
   },
   {
    "duration": 10146,
    "start_time": "2022-11-24T06:49:54.841Z"
   },
   {
    "duration": 238,
    "start_time": "2022-11-24T06:50:04.989Z"
   },
   {
    "duration": 13,
    "start_time": "2022-11-24T06:50:05.229Z"
   },
   {
    "duration": 9,
    "start_time": "2022-11-24T06:50:05.243Z"
   },
   {
    "duration": 9,
    "start_time": "2022-11-24T06:50:05.253Z"
   },
   {
    "duration": 23,
    "start_time": "2022-11-24T06:50:05.264Z"
   },
   {
    "duration": 5,
    "start_time": "2022-11-24T06:50:05.289Z"
   },
   {
    "duration": 38,
    "start_time": "2022-11-24T06:50:05.295Z"
   },
   {
    "duration": 296,
    "start_time": "2022-11-24T06:50:05.334Z"
   },
   {
    "duration": 5,
    "start_time": "2022-11-24T06:50:05.631Z"
   },
   {
    "duration": 19,
    "start_time": "2022-11-24T06:50:05.637Z"
   },
   {
    "duration": 214,
    "start_time": "2022-11-24T06:50:05.658Z"
   },
   {
    "duration": 231,
    "start_time": "2022-11-24T06:50:05.874Z"
   },
   {
    "duration": 166,
    "start_time": "2022-11-24T06:50:06.107Z"
   },
   {
    "duration": 181,
    "start_time": "2022-11-24T06:50:06.275Z"
   },
   {
    "duration": 145,
    "start_time": "2022-11-24T06:50:06.458Z"
   },
   {
    "duration": 151,
    "start_time": "2022-11-24T06:50:06.605Z"
   },
   {
    "duration": 255,
    "start_time": "2022-11-24T06:50:06.757Z"
   },
   {
    "duration": 171,
    "start_time": "2022-11-24T06:50:07.013Z"
   },
   {
    "duration": 167,
    "start_time": "2022-11-24T06:50:07.186Z"
   },
   {
    "duration": 168,
    "start_time": "2022-11-24T06:50:07.355Z"
   },
   {
    "duration": 159,
    "start_time": "2022-11-24T06:50:07.525Z"
   },
   {
    "duration": 167,
    "start_time": "2022-11-24T06:50:07.686Z"
   },
   {
    "duration": 169,
    "start_time": "2022-11-24T06:50:07.855Z"
   },
   {
    "duration": 291,
    "start_time": "2022-11-24T06:50:08.025Z"
   },
   {
    "duration": 7,
    "start_time": "2022-11-24T06:50:08.318Z"
   },
   {
    "duration": 342,
    "start_time": "2022-11-24T06:50:08.326Z"
   },
   {
    "duration": 6,
    "start_time": "2022-11-24T06:50:08.670Z"
   },
   {
    "duration": 13,
    "start_time": "2022-11-24T06:50:08.678Z"
   },
   {
    "duration": 19,
    "start_time": "2022-11-24T06:50:08.693Z"
   },
   {
    "duration": 244,
    "start_time": "2022-11-24T06:50:08.721Z"
   },
   {
    "duration": 8,
    "start_time": "2022-11-24T06:50:08.967Z"
   },
   {
    "duration": 12,
    "start_time": "2022-11-24T06:50:08.977Z"
   },
   {
    "duration": 5,
    "start_time": "2022-11-24T06:50:08.991Z"
   },
   {
    "duration": 215,
    "start_time": "2022-11-24T06:50:08.998Z"
   },
   {
    "duration": 223,
    "start_time": "2022-11-24T06:50:09.215Z"
   },
   {
    "duration": 207,
    "start_time": "2022-11-24T06:50:09.440Z"
   },
   {
    "duration": 220,
    "start_time": "2022-11-24T06:50:09.648Z"
   },
   {
    "duration": 121,
    "start_time": "2022-11-24T06:50:09.870Z"
   },
   {
    "duration": 621,
    "start_time": "2022-11-24T06:50:09.993Z"
   },
   {
    "duration": 1140,
    "start_time": "2022-11-24T06:51:08.153Z"
   },
   {
    "duration": 246,
    "start_time": "2022-11-24T06:51:17.256Z"
   },
   {
    "duration": 1153,
    "start_time": "2022-11-24T06:51:36.919Z"
   },
   {
    "duration": 328,
    "start_time": "2022-11-24T06:51:44.375Z"
   },
   {
    "duration": 224,
    "start_time": "2022-11-24T06:51:58.783Z"
   },
   {
    "duration": 2,
    "start_time": "2022-11-24T06:55:09.853Z"
   },
   {
    "duration": 18,
    "start_time": "2022-11-24T06:57:08.190Z"
   },
   {
    "duration": 16,
    "start_time": "2022-11-24T07:00:06.578Z"
   },
   {
    "duration": 12,
    "start_time": "2022-11-24T07:00:54.192Z"
   },
   {
    "duration": 33,
    "start_time": "2022-11-24T07:02:23.757Z"
   },
   {
    "duration": 163,
    "start_time": "2022-11-24T07:03:17.866Z"
   },
   {
    "duration": 72,
    "start_time": "2022-11-24T07:08:34.674Z"
   },
   {
    "duration": 116,
    "start_time": "2022-11-24T07:19:51.310Z"
   },
   {
    "duration": 105,
    "start_time": "2022-11-24T07:20:12.006Z"
   },
   {
    "duration": 21,
    "start_time": "2022-11-24T07:20:45.300Z"
   },
   {
    "duration": 24,
    "start_time": "2022-11-24T07:21:14.469Z"
   },
   {
    "duration": 104,
    "start_time": "2022-11-24T07:27:41.392Z"
   },
   {
    "duration": 108,
    "start_time": "2022-11-24T07:28:00.094Z"
   },
   {
    "duration": 86,
    "start_time": "2022-11-24T07:31:20.041Z"
   },
   {
    "duration": 90,
    "start_time": "2022-11-24T07:31:37.975Z"
   },
   {
    "duration": 1348,
    "start_time": "2022-11-24T13:05:56.162Z"
   },
   {
    "duration": 2080,
    "start_time": "2022-11-24T13:05:57.512Z"
   },
   {
    "duration": 4,
    "start_time": "2022-11-24T13:05:59.594Z"
   },
   {
    "duration": 15,
    "start_time": "2022-11-24T13:05:59.600Z"
   },
   {
    "duration": 7,
    "start_time": "2022-11-24T13:05:59.617Z"
   },
   {
    "duration": 8,
    "start_time": "2022-11-24T13:05:59.625Z"
   },
   {
    "duration": 14,
    "start_time": "2022-11-24T13:05:59.634Z"
   },
   {
    "duration": 4,
    "start_time": "2022-11-24T13:05:59.650Z"
   },
   {
    "duration": 114,
    "start_time": "2022-11-24T13:05:59.656Z"
   },
   {
    "duration": 162,
    "start_time": "2022-11-24T13:05:59.779Z"
   },
   {
    "duration": 41,
    "start_time": "2022-11-24T13:05:59.943Z"
   },
   {
    "duration": 8,
    "start_time": "2022-11-24T13:05:59.985Z"
   },
   {
    "duration": 71,
    "start_time": "2022-11-24T13:05:59.994Z"
   },
   {
    "duration": 72,
    "start_time": "2022-11-24T13:06:00.078Z"
   },
   {
    "duration": 8,
    "start_time": "2022-11-24T13:06:00.151Z"
   },
   {
    "duration": 19,
    "start_time": "2022-11-24T13:06:00.160Z"
   },
   {
    "duration": 254,
    "start_time": "2022-11-24T13:06:00.181Z"
   },
   {
    "duration": 230,
    "start_time": "2022-11-24T13:06:00.437Z"
   },
   {
    "duration": 73,
    "start_time": "2022-11-24T13:06:00.668Z"
   },
   {
    "duration": 4,
    "start_time": "2022-11-24T13:06:00.743Z"
   },
   {
    "duration": 63,
    "start_time": "2022-11-24T13:06:00.748Z"
   },
   {
    "duration": 269,
    "start_time": "2022-11-24T13:06:00.812Z"
   },
   {
    "duration": 267,
    "start_time": "2022-11-24T13:06:01.083Z"
   },
   {
    "duration": 73,
    "start_time": "2022-11-24T13:06:01.352Z"
   },
   {
    "duration": 89,
    "start_time": "2022-11-24T13:06:01.426Z"
   },
   {
    "duration": 5,
    "start_time": "2022-11-24T13:06:01.517Z"
   },
   {
    "duration": 16,
    "start_time": "2022-11-24T13:06:01.524Z"
   },
   {
    "duration": 28,
    "start_time": "2022-11-24T13:06:01.544Z"
   },
   {
    "duration": 9787,
    "start_time": "2022-11-24T13:06:01.574Z"
   },
   {
    "duration": 229,
    "start_time": "2022-11-24T13:06:11.363Z"
   },
   {
    "duration": 13,
    "start_time": "2022-11-24T13:06:11.594Z"
   },
   {
    "duration": 9,
    "start_time": "2022-11-24T13:06:11.609Z"
   },
   {
    "duration": 10,
    "start_time": "2022-11-24T13:06:11.620Z"
   },
   {
    "duration": 47,
    "start_time": "2022-11-24T13:06:11.632Z"
   },
   {
    "duration": 5,
    "start_time": "2022-11-24T13:06:11.681Z"
   },
   {
    "duration": 14,
    "start_time": "2022-11-24T13:06:11.687Z"
   },
   {
    "duration": 385,
    "start_time": "2022-11-24T13:06:11.702Z"
   },
   {
    "duration": 4,
    "start_time": "2022-11-24T13:06:12.089Z"
   },
   {
    "duration": 23,
    "start_time": "2022-11-24T13:06:12.094Z"
   },
   {
    "duration": 180,
    "start_time": "2022-11-24T13:06:12.119Z"
   },
   {
    "duration": 216,
    "start_time": "2022-11-24T13:06:12.300Z"
   },
   {
    "duration": 152,
    "start_time": "2022-11-24T13:06:12.518Z"
   },
   {
    "duration": 170,
    "start_time": "2022-11-24T13:06:12.672Z"
   },
   {
    "duration": 152,
    "start_time": "2022-11-24T13:06:12.844Z"
   },
   {
    "duration": 145,
    "start_time": "2022-11-24T13:06:12.997Z"
   },
   {
    "duration": 160,
    "start_time": "2022-11-24T13:06:13.143Z"
   },
   {
    "duration": 173,
    "start_time": "2022-11-24T13:06:13.305Z"
   },
   {
    "duration": 193,
    "start_time": "2022-11-24T13:06:13.480Z"
   },
   {
    "duration": 262,
    "start_time": "2022-11-24T13:06:13.677Z"
   },
   {
    "duration": 216,
    "start_time": "2022-11-24T13:06:13.941Z"
   },
   {
    "duration": 183,
    "start_time": "2022-11-24T13:06:14.159Z"
   },
   {
    "duration": 159,
    "start_time": "2022-11-24T13:06:14.344Z"
   },
   {
    "duration": 308,
    "start_time": "2022-11-24T13:06:14.505Z"
   },
   {
    "duration": 6,
    "start_time": "2022-11-24T13:06:14.815Z"
   },
   {
    "duration": 267,
    "start_time": "2022-11-24T13:06:14.823Z"
   },
   {
    "duration": 7,
    "start_time": "2022-11-24T13:06:15.092Z"
   },
   {
    "duration": 9,
    "start_time": "2022-11-24T13:06:15.101Z"
   },
   {
    "duration": 10,
    "start_time": "2022-11-24T13:06:15.112Z"
   },
   {
    "duration": 265,
    "start_time": "2022-11-24T13:06:15.123Z"
   },
   {
    "duration": 9,
    "start_time": "2022-11-24T13:06:15.390Z"
   },
   {
    "duration": 6,
    "start_time": "2022-11-24T13:06:15.400Z"
   },
   {
    "duration": 11,
    "start_time": "2022-11-24T13:06:15.407Z"
   },
   {
    "duration": 338,
    "start_time": "2022-11-24T13:06:15.419Z"
   },
   {
    "duration": 245,
    "start_time": "2022-11-24T13:06:15.760Z"
   },
   {
    "duration": 243,
    "start_time": "2022-11-24T13:06:16.007Z"
   },
   {
    "duration": 254,
    "start_time": "2022-11-24T13:06:16.252Z"
   },
   {
    "duration": 130,
    "start_time": "2022-11-24T13:06:16.508Z"
   },
   {
    "duration": 131,
    "start_time": "2022-11-24T13:06:16.639Z"
   },
   {
    "duration": 737,
    "start_time": "2022-11-24T13:06:16.772Z"
   },
   {
    "duration": 255,
    "start_time": "2022-11-24T13:06:17.511Z"
   },
   {
    "duration": 261,
    "start_time": "2022-11-24T13:06:17.768Z"
   },
   {
    "duration": 253,
    "start_time": "2022-11-24T13:06:18.031Z"
   },
   {
    "duration": 17,
    "start_time": "2022-11-24T13:06:18.286Z"
   },
   {
    "duration": 239,
    "start_time": "2022-11-24T13:06:18.305Z"
   },
   {
    "duration": 151,
    "start_time": "2022-11-24T13:10:14.101Z"
   }
  ],
  "kernelspec": {
   "display_name": "Python 3 (ipykernel)",
   "language": "python",
   "name": "python3"
  },
  "language_info": {
   "codemirror_mode": {
    "name": "ipython",
    "version": 3
   },
   "file_extension": ".py",
   "mimetype": "text/x-python",
   "name": "python",
   "nbconvert_exporter": "python",
   "pygments_lexer": "ipython3",
   "version": "3.9.5"
  },
  "toc": {
   "base_numbering": 1,
   "nav_menu": {},
   "number_sections": true,
   "sideBar": true,
   "skip_h1_title": true,
   "title_cell": "Table of Contents",
   "title_sidebar": "Contents",
   "toc_cell": false,
   "toc_position": {
    "height": "652px",
    "left": "28px",
    "top": "111.125px",
    "width": "238.188px"
   },
   "toc_section_display": true,
   "toc_window_display": true
  }
 },
 "nbformat": 4,
 "nbformat_minor": 2
}
